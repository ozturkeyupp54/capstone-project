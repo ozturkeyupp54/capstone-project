{
 "cells": [
  {
   "cell_type": "code",
   "execution_count": 1,
   "id": "1441acce",
   "metadata": {},
   "outputs": [],
   "source": [
    "import numpy as np\n",
    "import pandas as pd\n",
    "import matplotlib.pyplot as plt\n",
    "import seaborn as sns\n",
    "import re\n",
    "from scipy import stats\n",
    "\n",
    "import warnings\n",
    "warnings.filterwarnings(\"ignore\")\n",
    "warnings.warn(\"this will not show\")\n",
    "\n",
    "plt.rcParams[\"figure.figsize\"] = (10, 6)\n",
    "\n",
    "sns.set_style(\"whitegrid\")\n",
    "pd.set_option('display.float_format', lambda x: '%.3f' % x)\n",
    "\n",
    "# Set it None to display all rows in the dataframe\n",
    "# pd.set_option('display.max_rows', None)\n",
    "\n",
    "# Set it to None to display all columns in the dataframe\n",
    "pd.set_option('display.max_columns', None)"
   ]
  },
  {
   "cell_type": "code",
   "execution_count": 2,
   "id": "94ef3bdd",
   "metadata": {},
   "outputs": [
    {
     "data": {
      "text/html": [
       "<div>\n",
       "<style scoped>\n",
       "    .dataframe tbody tr th:only-of-type {\n",
       "        vertical-align: middle;\n",
       "    }\n",
       "\n",
       "    .dataframe tbody tr th {\n",
       "        vertical-align: top;\n",
       "    }\n",
       "\n",
       "    .dataframe thead th {\n",
       "        text-align: right;\n",
       "    }\n",
       "</style>\n",
       "<table border=\"1\" class=\"dataframe\">\n",
       "  <thead>\n",
       "    <tr style=\"text-align: right;\">\n",
       "      <th></th>\n",
       "      <th>url</th>\n",
       "      <th>make_model</th>\n",
       "      <th>short_description</th>\n",
       "      <th>body_type</th>\n",
       "      <th>price</th>\n",
       "      <th>vat</th>\n",
       "      <th>km</th>\n",
       "      <th>registration</th>\n",
       "      <th>prev_owner</th>\n",
       "      <th>kW</th>\n",
       "      <th>hp</th>\n",
       "      <th>Type</th>\n",
       "      <th>Previous Owners</th>\n",
       "      <th>Next Inspection</th>\n",
       "      <th>Inspection new</th>\n",
       "      <th>Warranty</th>\n",
       "      <th>Full Service</th>\n",
       "      <th>Non-smoking Vehicle</th>\n",
       "      <th>null</th>\n",
       "      <th>Make</th>\n",
       "      <th>Model</th>\n",
       "      <th>Offer Number</th>\n",
       "      <th>First Registration</th>\n",
       "      <th>Body Color</th>\n",
       "      <th>Paint Type</th>\n",
       "      <th>Body Color Original</th>\n",
       "      <th>Upholstery</th>\n",
       "      <th>Body</th>\n",
       "      <th>Nr. of Doors</th>\n",
       "      <th>Nr. of Seats</th>\n",
       "      <th>Model Code</th>\n",
       "      <th>Gearing Type</th>\n",
       "      <th>Displacement</th>\n",
       "      <th>Cylinders</th>\n",
       "      <th>Weight</th>\n",
       "      <th>Drive chain</th>\n",
       "      <th>Fuel</th>\n",
       "      <th>Consumption</th>\n",
       "      <th>CO2 Emission</th>\n",
       "      <th>Emission Class</th>\n",
       "      <th>\\nComfort &amp; Convenience\\n</th>\n",
       "      <th>\\nEntertainment &amp; Media\\n</th>\n",
       "      <th>\\nExtras\\n</th>\n",
       "      <th>\\nSafety &amp; Security\\n</th>\n",
       "      <th>description</th>\n",
       "      <th>Emission Label</th>\n",
       "      <th>Gears</th>\n",
       "      <th>Country version</th>\n",
       "      <th>Electricity consumption</th>\n",
       "      <th>Last Service Date</th>\n",
       "      <th>Other Fuel Types</th>\n",
       "      <th>Availability</th>\n",
       "      <th>Last Timing Belt Service Date</th>\n",
       "      <th>Available from</th>\n",
       "    </tr>\n",
       "  </thead>\n",
       "  <tbody>\n",
       "    <tr>\n",
       "      <th>0</th>\n",
       "      <td>https://www.autoscout24.com//offers/audi-a1-sp...</td>\n",
       "      <td>Audi A1</td>\n",
       "      <td>Sportback 1.4 TDI S-tronic Xenon Navi Klima</td>\n",
       "      <td>Sedans</td>\n",
       "      <td>15770</td>\n",
       "      <td>VAT deductible</td>\n",
       "      <td>56,013 km</td>\n",
       "      <td>01/2016</td>\n",
       "      <td>2 previous owners</td>\n",
       "      <td>NaN</td>\n",
       "      <td>66 kW</td>\n",
       "      <td>[, Used, , Diesel (Particulate Filter)]</td>\n",
       "      <td>\\n2\\n</td>\n",
       "      <td>[\\n06/2021\\n, \\n99 g CO2/km (comb)\\n]</td>\n",
       "      <td>[\\nYes\\n, \\nEuro 6\\n]</td>\n",
       "      <td>[\\n, \\n, \\n4 (Green)\\n]</td>\n",
       "      <td>[\\n, \\n]</td>\n",
       "      <td>[\\n, \\n]</td>\n",
       "      <td>[]</td>\n",
       "      <td>\\nAudi\\n</td>\n",
       "      <td>[\\n, A1, \\n]</td>\n",
       "      <td>[\\nLR-062483\\n]</td>\n",
       "      <td>[\\n, 2016, \\n]</td>\n",
       "      <td>[\\n, Black, \\n]</td>\n",
       "      <td>[\\nMetallic\\n]</td>\n",
       "      <td>[\\nMythosschwarz\\n]</td>\n",
       "      <td>[\\nCloth, Black\\n]</td>\n",
       "      <td>[\\n, Sedans, \\n]</td>\n",
       "      <td>[\\n5\\n]</td>\n",
       "      <td>[\\n5\\n]</td>\n",
       "      <td>[\\n0588/BDF\\n]</td>\n",
       "      <td>[\\n, Automatic, \\n]</td>\n",
       "      <td>[\\n1,422 cc\\n]</td>\n",
       "      <td>[\\n3\\n]</td>\n",
       "      <td>[\\n1,220 kg\\n]</td>\n",
       "      <td>[\\nfront\\n]</td>\n",
       "      <td>[\\n, Diesel (Particulate Filter), \\n]</td>\n",
       "      <td>[[3.8 l/100 km (comb)], [4.3 l/100 km (city)],...</td>\n",
       "      <td>[\\n99 g CO2/km (comb)\\n]</td>\n",
       "      <td>[\\nEuro 6\\n]</td>\n",
       "      <td>[Air conditioning, Armrest, Automatic climate ...</td>\n",
       "      <td>[Bluetooth, Hands-free equipment, On-board com...</td>\n",
       "      <td>[Alloy wheels, Catalytic Converter, Voice Cont...</td>\n",
       "      <td>[ABS, Central door lock, Daytime running light...</td>\n",
       "      <td>[\\n, Sicherheit:,  , Deaktivierung für Beifahr...</td>\n",
       "      <td>NaN</td>\n",
       "      <td>NaN</td>\n",
       "      <td>NaN</td>\n",
       "      <td>NaN</td>\n",
       "      <td>NaN</td>\n",
       "      <td>NaN</td>\n",
       "      <td>NaN</td>\n",
       "      <td>NaN</td>\n",
       "      <td>NaN</td>\n",
       "    </tr>\n",
       "    <tr>\n",
       "      <th>1</th>\n",
       "      <td>https://www.autoscout24.com//offers/audi-a1-1-...</td>\n",
       "      <td>Audi A1</td>\n",
       "      <td>1.8 TFSI sport</td>\n",
       "      <td>Sedans</td>\n",
       "      <td>14500</td>\n",
       "      <td>Price negotiable</td>\n",
       "      <td>80,000 km</td>\n",
       "      <td>03/2017</td>\n",
       "      <td>None</td>\n",
       "      <td>NaN</td>\n",
       "      <td>141 kW</td>\n",
       "      <td>[, Used, , Gasoline]</td>\n",
       "      <td>NaN</td>\n",
       "      <td>NaN</td>\n",
       "      <td>NaN</td>\n",
       "      <td>NaN</td>\n",
       "      <td>NaN</td>\n",
       "      <td>NaN</td>\n",
       "      <td>[]</td>\n",
       "      <td>\\nAudi\\n</td>\n",
       "      <td>[\\n, A1, \\n]</td>\n",
       "      <td>NaN</td>\n",
       "      <td>[\\n, 2017, \\n]</td>\n",
       "      <td>[\\n, Red, \\n]</td>\n",
       "      <td>NaN</td>\n",
       "      <td>NaN</td>\n",
       "      <td>[\\nCloth, Grey\\n]</td>\n",
       "      <td>[\\n, Sedans, \\n]</td>\n",
       "      <td>[\\n3\\n]</td>\n",
       "      <td>[\\n4\\n]</td>\n",
       "      <td>[\\n0588/BCY\\n]</td>\n",
       "      <td>[\\n, Automatic, \\n]</td>\n",
       "      <td>[\\n1,798 cc\\n]</td>\n",
       "      <td>[\\n4\\n]</td>\n",
       "      <td>[\\n1,255 kg\\n]</td>\n",
       "      <td>[\\nfront\\n]</td>\n",
       "      <td>[\\n, Gasoline, \\n]</td>\n",
       "      <td>[[5.6 l/100 km (comb)], [7.1 l/100 km (city)],...</td>\n",
       "      <td>[\\n129 g CO2/km (comb)\\n]</td>\n",
       "      <td>[\\nEuro 6\\n]</td>\n",
       "      <td>[Air conditioning, Automatic climate control, ...</td>\n",
       "      <td>[Bluetooth, Hands-free equipment, On-board com...</td>\n",
       "      <td>[Alloy wheels, Sport seats, Sport suspension, ...</td>\n",
       "      <td>[ABS, Central door lock, Central door lock wit...</td>\n",
       "      <td>[\\nLangstreckenfahrzeug daher die hohe Kilomet...</td>\n",
       "      <td>[\\n4 (Green)\\n]</td>\n",
       "      <td>[\\n7\\n]</td>\n",
       "      <td>NaN</td>\n",
       "      <td>NaN</td>\n",
       "      <td>NaN</td>\n",
       "      <td>NaN</td>\n",
       "      <td>NaN</td>\n",
       "      <td>NaN</td>\n",
       "      <td>NaN</td>\n",
       "    </tr>\n",
       "    <tr>\n",
       "      <th>2</th>\n",
       "      <td>https://www.autoscout24.com//offers/audi-a1-sp...</td>\n",
       "      <td>Audi A1</td>\n",
       "      <td>Sportback 1.6 TDI S tronic Einparkhilfe plus+m...</td>\n",
       "      <td>Sedans</td>\n",
       "      <td>14640</td>\n",
       "      <td>VAT deductible</td>\n",
       "      <td>83,450 km</td>\n",
       "      <td>02/2016</td>\n",
       "      <td>1 previous owner</td>\n",
       "      <td>NaN</td>\n",
       "      <td>85 kW</td>\n",
       "      <td>[, Used, , Diesel (Particulate Filter)]</td>\n",
       "      <td>\\n1\\n</td>\n",
       "      <td>NaN</td>\n",
       "      <td>NaN</td>\n",
       "      <td>[\\n, \\n, \\n99 g CO2/km (comb)\\n]</td>\n",
       "      <td>NaN</td>\n",
       "      <td>NaN</td>\n",
       "      <td>[]</td>\n",
       "      <td>\\nAudi\\n</td>\n",
       "      <td>[\\n, A1, \\n]</td>\n",
       "      <td>[\\nAM-95365\\n]</td>\n",
       "      <td>[\\n, 2016, \\n]</td>\n",
       "      <td>[\\n, Black, \\n]</td>\n",
       "      <td>[\\nMetallic\\n]</td>\n",
       "      <td>[\\nmythosschwarz metallic\\n]</td>\n",
       "      <td>[\\nCloth, Black\\n]</td>\n",
       "      <td>[\\n, Sedans, \\n]</td>\n",
       "      <td>[\\n4\\n]</td>\n",
       "      <td>[\\n4\\n]</td>\n",
       "      <td>NaN</td>\n",
       "      <td>[\\n, Automatic, \\n]</td>\n",
       "      <td>[\\n1,598 cc\\n]</td>\n",
       "      <td>NaN</td>\n",
       "      <td>NaN</td>\n",
       "      <td>[\\nfront\\n]</td>\n",
       "      <td>[\\n, Diesel (Particulate Filter), \\n]</td>\n",
       "      <td>[[3.8 l/100 km (comb)], [4.4 l/100 km (city)],...</td>\n",
       "      <td>[\\n99 g CO2/km (comb)\\n]</td>\n",
       "      <td>[\\nEuro 6\\n]</td>\n",
       "      <td>[Air conditioning, Cruise control, Electrical ...</td>\n",
       "      <td>[MP3, On-board computer]</td>\n",
       "      <td>[Alloy wheels, Voice Control]</td>\n",
       "      <td>[ABS, Central door lock, Daytime running light...</td>\n",
       "      <td>[\\n, Fahrzeug-Nummer: AM-95365,  , Ehem. UPE 2...</td>\n",
       "      <td>[\\n4 (Green)\\n]</td>\n",
       "      <td>NaN</td>\n",
       "      <td>NaN</td>\n",
       "      <td>NaN</td>\n",
       "      <td>NaN</td>\n",
       "      <td>NaN</td>\n",
       "      <td>NaN</td>\n",
       "      <td>NaN</td>\n",
       "      <td>NaN</td>\n",
       "    </tr>\n",
       "    <tr>\n",
       "      <th>3</th>\n",
       "      <td>https://www.autoscout24.com//offers/audi-a1-1-...</td>\n",
       "      <td>Audi A1</td>\n",
       "      <td>1.4 TDi Design S tronic</td>\n",
       "      <td>Sedans</td>\n",
       "      <td>14500</td>\n",
       "      <td>None</td>\n",
       "      <td>73,000 km</td>\n",
       "      <td>08/2016</td>\n",
       "      <td>1 previous owner</td>\n",
       "      <td>NaN</td>\n",
       "      <td>66 kW</td>\n",
       "      <td>[, Used, , Diesel (Particulate Filter)]</td>\n",
       "      <td>\\n1\\n</td>\n",
       "      <td>NaN</td>\n",
       "      <td>NaN</td>\n",
       "      <td>NaN</td>\n",
       "      <td>[\\n, \\n, \\n99 g CO2/km (comb)\\n]</td>\n",
       "      <td>[\\n, \\n, \\nEuro 6\\n]</td>\n",
       "      <td>[]</td>\n",
       "      <td>\\nAudi\\n</td>\n",
       "      <td>[\\n, A1, \\n]</td>\n",
       "      <td>NaN</td>\n",
       "      <td>[\\n, 2016, \\n]</td>\n",
       "      <td>[\\n, Brown, \\n]</td>\n",
       "      <td>[\\nMetallic\\n]</td>\n",
       "      <td>NaN</td>\n",
       "      <td>NaN</td>\n",
       "      <td>[\\n, Sedans, \\n]</td>\n",
       "      <td>[\\n3\\n]</td>\n",
       "      <td>[\\n4\\n]</td>\n",
       "      <td>NaN</td>\n",
       "      <td>[\\n, Automatic, \\n]</td>\n",
       "      <td>[\\n1,422 cc\\n]</td>\n",
       "      <td>[\\n3\\n]</td>\n",
       "      <td>[\\n1,195 kg\\n]</td>\n",
       "      <td>NaN</td>\n",
       "      <td>[\\n, Diesel (Particulate Filter), \\n]</td>\n",
       "      <td>[[3.8 l/100 km (comb)], [4.3 l/100 km (city)],...</td>\n",
       "      <td>[\\n99 g CO2/km (comb)\\n]</td>\n",
       "      <td>[\\nEuro 6\\n]</td>\n",
       "      <td>[Air suspension, Armrest, Auxiliary heating, E...</td>\n",
       "      <td>[Bluetooth, CD player, Hands-free equipment, M...</td>\n",
       "      <td>[Alloy wheels, Sport seats, Voice Control]</td>\n",
       "      <td>[ABS, Alarm system, Central door lock with rem...</td>\n",
       "      <td>[\\nAudi A1: , - 1e eigenaar , - Perfecte staat...</td>\n",
       "      <td>NaN</td>\n",
       "      <td>[\\n6\\n]</td>\n",
       "      <td>NaN</td>\n",
       "      <td>NaN</td>\n",
       "      <td>NaN</td>\n",
       "      <td>NaN</td>\n",
       "      <td>NaN</td>\n",
       "      <td>NaN</td>\n",
       "      <td>NaN</td>\n",
       "    </tr>\n",
       "    <tr>\n",
       "      <th>4</th>\n",
       "      <td>https://www.autoscout24.com//offers/audi-a1-sp...</td>\n",
       "      <td>Audi A1</td>\n",
       "      <td>Sportback 1.4 TDI S-Tronic S-Line Ext. admired...</td>\n",
       "      <td>Sedans</td>\n",
       "      <td>16790</td>\n",
       "      <td>None</td>\n",
       "      <td>16,200 km</td>\n",
       "      <td>05/2016</td>\n",
       "      <td>1 previous owner</td>\n",
       "      <td>NaN</td>\n",
       "      <td>66 kW</td>\n",
       "      <td>[, Used, , Diesel (Particulate Filter)]</td>\n",
       "      <td>\\n1\\n</td>\n",
       "      <td>NaN</td>\n",
       "      <td>[\\nYes\\n, \\n109 g CO2/km (comb)\\n]</td>\n",
       "      <td>[\\n, \\n, \\nEuro 6\\n]</td>\n",
       "      <td>[\\n, \\n, \\n4 (Green)\\n]</td>\n",
       "      <td>[\\n, \\n]</td>\n",
       "      <td>[]</td>\n",
       "      <td>\\nAudi\\n</td>\n",
       "      <td>[\\n, A1, \\n]</td>\n",
       "      <td>[\\nC1626\\n]</td>\n",
       "      <td>[\\n, 2016, \\n]</td>\n",
       "      <td>[\\n, Black, \\n]</td>\n",
       "      <td>[\\nMetallic\\n]</td>\n",
       "      <td>[\\nMythosschwarz Metallic\\n]</td>\n",
       "      <td>[\\nCloth, Black\\n]</td>\n",
       "      <td>[\\n, Sedans, \\n]</td>\n",
       "      <td>[\\n5\\n]</td>\n",
       "      <td>[\\n5\\n]</td>\n",
       "      <td>[\\n0588/BDF\\n]</td>\n",
       "      <td>[\\n, Automatic, \\n]</td>\n",
       "      <td>[\\n1,422 cc\\n]</td>\n",
       "      <td>[\\n3\\n]</td>\n",
       "      <td>NaN</td>\n",
       "      <td>[\\nfront\\n]</td>\n",
       "      <td>[\\n, Diesel (Particulate Filter), \\n]</td>\n",
       "      <td>[[4.1 l/100 km (comb)], [4.6 l/100 km (city)],...</td>\n",
       "      <td>[\\n109 g CO2/km (comb)\\n]</td>\n",
       "      <td>[\\nEuro 6\\n]</td>\n",
       "      <td>[Air conditioning, Armrest, Automatic climate ...</td>\n",
       "      <td>[Bluetooth, CD player, Hands-free equipment, M...</td>\n",
       "      <td>[Alloy wheels, Sport package, Sport suspension...</td>\n",
       "      <td>[ABS, Central door lock, Driver-side airbag, E...</td>\n",
       "      <td>[\\n, Technik &amp; Sicherheit:, Xenon plus, Klimaa...</td>\n",
       "      <td>NaN</td>\n",
       "      <td>NaN</td>\n",
       "      <td>[\\nGermany\\n]</td>\n",
       "      <td>NaN</td>\n",
       "      <td>NaN</td>\n",
       "      <td>NaN</td>\n",
       "      <td>NaN</td>\n",
       "      <td>NaN</td>\n",
       "      <td>NaN</td>\n",
       "    </tr>\n",
       "    <tr>\n",
       "      <th>...</th>\n",
       "      <td>...</td>\n",
       "      <td>...</td>\n",
       "      <td>...</td>\n",
       "      <td>...</td>\n",
       "      <td>...</td>\n",
       "      <td>...</td>\n",
       "      <td>...</td>\n",
       "      <td>...</td>\n",
       "      <td>...</td>\n",
       "      <td>...</td>\n",
       "      <td>...</td>\n",
       "      <td>...</td>\n",
       "      <td>...</td>\n",
       "      <td>...</td>\n",
       "      <td>...</td>\n",
       "      <td>...</td>\n",
       "      <td>...</td>\n",
       "      <td>...</td>\n",
       "      <td>...</td>\n",
       "      <td>...</td>\n",
       "      <td>...</td>\n",
       "      <td>...</td>\n",
       "      <td>...</td>\n",
       "      <td>...</td>\n",
       "      <td>...</td>\n",
       "      <td>...</td>\n",
       "      <td>...</td>\n",
       "      <td>...</td>\n",
       "      <td>...</td>\n",
       "      <td>...</td>\n",
       "      <td>...</td>\n",
       "      <td>...</td>\n",
       "      <td>...</td>\n",
       "      <td>...</td>\n",
       "      <td>...</td>\n",
       "      <td>...</td>\n",
       "      <td>...</td>\n",
       "      <td>...</td>\n",
       "      <td>...</td>\n",
       "      <td>...</td>\n",
       "      <td>...</td>\n",
       "      <td>...</td>\n",
       "      <td>...</td>\n",
       "      <td>...</td>\n",
       "      <td>...</td>\n",
       "      <td>...</td>\n",
       "      <td>...</td>\n",
       "      <td>...</td>\n",
       "      <td>...</td>\n",
       "      <td>...</td>\n",
       "      <td>...</td>\n",
       "      <td>...</td>\n",
       "      <td>...</td>\n",
       "      <td>...</td>\n",
       "    </tr>\n",
       "    <tr>\n",
       "      <th>15914</th>\n",
       "      <td>https://www.autoscout24.com//offers/renault-es...</td>\n",
       "      <td>Renault Espace</td>\n",
       "      <td>Blue dCi 200CV EDC Executive 4Control</td>\n",
       "      <td>Van</td>\n",
       "      <td>39950</td>\n",
       "      <td>VAT deductible</td>\n",
       "      <td>- km</td>\n",
       "      <td>-/-</td>\n",
       "      <td>None</td>\n",
       "      <td>NaN</td>\n",
       "      <td>147 kW</td>\n",
       "      <td>[, New, , Diesel (Particulate Filter)]</td>\n",
       "      <td>NaN</td>\n",
       "      <td>NaN</td>\n",
       "      <td>NaN</td>\n",
       "      <td>\\n24 months\\n</td>\n",
       "      <td>NaN</td>\n",
       "      <td>NaN</td>\n",
       "      <td>[]</td>\n",
       "      <td>\\nRenault\\n</td>\n",
       "      <td>[\\n, Espace, \\n]</td>\n",
       "      <td>[\\n10988301\\n]</td>\n",
       "      <td>NaN</td>\n",
       "      <td>[\\n, Grey, \\n]</td>\n",
       "      <td>[\\nMetallic\\n]</td>\n",
       "      <td>[\\nGrigio scuro\\n]</td>\n",
       "      <td>NaN</td>\n",
       "      <td>[\\n, Van, \\n]</td>\n",
       "      <td>[\\n5\\n]</td>\n",
       "      <td>[\\n5\\n]</td>\n",
       "      <td>NaN</td>\n",
       "      <td>[\\n, Automatic, \\n]</td>\n",
       "      <td>[\\n1,997 cc\\n]</td>\n",
       "      <td>[\\n4\\n]</td>\n",
       "      <td>[\\n1,758 kg\\n]</td>\n",
       "      <td>[\\nfront\\n]</td>\n",
       "      <td>[\\n, Diesel (Particulate Filter), \\n]</td>\n",
       "      <td>[[5.3 l/100 km (comb)], [6.2 l/100 km (city)],...</td>\n",
       "      <td>[\\n139 g CO2/km (comb)\\n]</td>\n",
       "      <td>NaN</td>\n",
       "      <td>[Air conditioning, Automatic climate control, ...</td>\n",
       "      <td>[Bluetooth, Digital radio, Hands-free equipmen...</td>\n",
       "      <td>[Alloy wheels, Touch screen]</td>\n",
       "      <td>[ABS, Central door lock, Central door lock wit...</td>\n",
       "      <td>[\\nVettura visionabile nella sede in Via Roma ...</td>\n",
       "      <td>NaN</td>\n",
       "      <td>[\\n6\\n]</td>\n",
       "      <td>NaN</td>\n",
       "      <td>NaN</td>\n",
       "      <td>NaN</td>\n",
       "      <td>NaN</td>\n",
       "      <td>NaN</td>\n",
       "      <td>NaN</td>\n",
       "      <td>NaN</td>\n",
       "    </tr>\n",
       "    <tr>\n",
       "      <th>15915</th>\n",
       "      <td>https://www.autoscout24.com//offers/renault-es...</td>\n",
       "      <td>Renault Espace</td>\n",
       "      <td>TCe 225 EDC GPF LIM Deluxe Pano,RFK</td>\n",
       "      <td>Van</td>\n",
       "      <td>39885</td>\n",
       "      <td>VAT deductible</td>\n",
       "      <td>9,900 km</td>\n",
       "      <td>01/2019</td>\n",
       "      <td>1 previous owner</td>\n",
       "      <td>NaN</td>\n",
       "      <td>165 kW</td>\n",
       "      <td>[, Used, , Super 95 / Super Plus 98 (Particula...</td>\n",
       "      <td>[\\n1\\n, \\n, 7.4 l/100 km (comb), \\n, 9.2 l/100...</td>\n",
       "      <td>[\\n01/2022\\n, \\n168 g CO2/km (comb)\\n]</td>\n",
       "      <td>NaN</td>\n",
       "      <td>[\\n, \\n, \\nEuro 6\\n]</td>\n",
       "      <td>NaN</td>\n",
       "      <td>[\\n, \\n, \\n4 (Green)\\n]</td>\n",
       "      <td>[]</td>\n",
       "      <td>\\nRenault\\n</td>\n",
       "      <td>[\\n, Espace, \\n]</td>\n",
       "      <td>[\\n507370_3223\\n]</td>\n",
       "      <td>[\\n, 2019, \\n]</td>\n",
       "      <td>[\\n, Grey, \\n]</td>\n",
       "      <td>[\\nMetallic\\n]</td>\n",
       "      <td>[\\nStahl-Grau Metallic\\n]</td>\n",
       "      <td>[\\nCloth\\n]</td>\n",
       "      <td>[\\n, Van, \\n]</td>\n",
       "      <td>[\\n5\\n]</td>\n",
       "      <td>[\\n5\\n]</td>\n",
       "      <td>[\\n0000/000\\n]</td>\n",
       "      <td>[\\n, Automatic, \\n]</td>\n",
       "      <td>[\\n1,798 cc\\n]</td>\n",
       "      <td>[\\n4\\n]</td>\n",
       "      <td>[\\n1,708 kg\\n]</td>\n",
       "      <td>[\\nfront\\n]</td>\n",
       "      <td>[\\n, Super 95 / Super Plus 98 (Particulate Fil...</td>\n",
       "      <td>[\\n, 7.4 l/100 km (comb), \\n, 9.2 l/100 km (ci...</td>\n",
       "      <td>[\\n168 g CO2/km (comb)\\n]</td>\n",
       "      <td>NaN</td>\n",
       "      <td>[Air conditioning, Automatic climate control, ...</td>\n",
       "      <td>[Bluetooth, Digital radio, Hands-free equipmen...</td>\n",
       "      <td>[Alloy wheels, Touch screen, Voice Control]</td>\n",
       "      <td>[ABS, Adaptive Cruise Control, Blind spot moni...</td>\n",
       "      <td>[\\nDach: Panorama-Glas-Schiebedach, Lackierung...</td>\n",
       "      <td>NaN</td>\n",
       "      <td>[\\n7\\n]</td>\n",
       "      <td>[\\nGermany\\n]</td>\n",
       "      <td>NaN</td>\n",
       "      <td>NaN</td>\n",
       "      <td>[[], [], []]</td>\n",
       "      <td>\\nin 5 days from ordering\\n</td>\n",
       "      <td>NaN</td>\n",
       "      <td>NaN</td>\n",
       "    </tr>\n",
       "    <tr>\n",
       "      <th>15916</th>\n",
       "      <td>https://www.autoscout24.com//offers/renault-es...</td>\n",
       "      <td>Renault Espace</td>\n",
       "      <td>Blue dCi 200 EDC Initiale Paris Leder LED Navi...</td>\n",
       "      <td>Van</td>\n",
       "      <td>39875</td>\n",
       "      <td>VAT deductible</td>\n",
       "      <td>15 km</td>\n",
       "      <td>03/2019</td>\n",
       "      <td>1 previous owner</td>\n",
       "      <td>NaN</td>\n",
       "      <td>146 kW</td>\n",
       "      <td>[, Pre-registered, , Diesel]</td>\n",
       "      <td>[\\n1\\n, \\n139 g CO2/km (comb)\\n]</td>\n",
       "      <td>NaN</td>\n",
       "      <td>[\\nYes\\n, \\nEuro 6d-TEMP\\n]</td>\n",
       "      <td>[\\n, \\n, \\n4 (Green)\\n]</td>\n",
       "      <td>[\\n, \\n]</td>\n",
       "      <td>[\\n, \\n]</td>\n",
       "      <td>[]</td>\n",
       "      <td>\\nRenault\\n</td>\n",
       "      <td>[\\n, Espace, \\n]</td>\n",
       "      <td>[\\nEspace16\\n]</td>\n",
       "      <td>[\\n, 2019, \\n]</td>\n",
       "      <td>[\\n, White, \\n]</td>\n",
       "      <td>NaN</td>\n",
       "      <td>[\\narktis-weiß\\n]</td>\n",
       "      <td>[\\nFull leather, Black\\n]</td>\n",
       "      <td>[\\n, Van, \\n]</td>\n",
       "      <td>[\\n5\\n]</td>\n",
       "      <td>[\\n7\\n]</td>\n",
       "      <td>NaN</td>\n",
       "      <td>[\\n, Automatic, \\n]</td>\n",
       "      <td>[\\n1,997 cc\\n]</td>\n",
       "      <td>[\\n4\\n]</td>\n",
       "      <td>NaN</td>\n",
       "      <td>[\\nfront\\n]</td>\n",
       "      <td>[\\n, Diesel, \\n]</td>\n",
       "      <td>[[5.3 l/100 km (comb)], [6.2 l/100 km (city)],...</td>\n",
       "      <td>[\\n139 g CO2/km (comb)\\n]</td>\n",
       "      <td>[\\nEuro 6d-TEMP\\n]</td>\n",
       "      <td>[Air conditioning, Armrest, Automatic climate ...</td>\n",
       "      <td>[Bluetooth, Hands-free equipment, On-board com...</td>\n",
       "      <td>[Alloy wheels]</td>\n",
       "      <td>[ABS, Adaptive Cruise Control, Blind spot moni...</td>\n",
       "      <td>[\\n, Getriebe:,  Automatik, Technik:,  Bordcom...</td>\n",
       "      <td>NaN</td>\n",
       "      <td>[\\n6\\n]</td>\n",
       "      <td>[\\nAustria\\n]</td>\n",
       "      <td>NaN</td>\n",
       "      <td>NaN</td>\n",
       "      <td>NaN</td>\n",
       "      <td>\\nin 120 days from ordering\\n</td>\n",
       "      <td>NaN</td>\n",
       "      <td>NaN</td>\n",
       "    </tr>\n",
       "    <tr>\n",
       "      <th>15917</th>\n",
       "      <td>https://www.autoscout24.com//offers/renault-es...</td>\n",
       "      <td>Renault Espace</td>\n",
       "      <td>Blue dCi 200CV EDC Business , NUOVA DA IMMATRI...</td>\n",
       "      <td>Van</td>\n",
       "      <td>39700</td>\n",
       "      <td>VAT deductible</td>\n",
       "      <td>10 km</td>\n",
       "      <td>06/2019</td>\n",
       "      <td>None</td>\n",
       "      <td>NaN</td>\n",
       "      <td>147 kW</td>\n",
       "      <td>[, Pre-registered, , Diesel]</td>\n",
       "      <td>NaN</td>\n",
       "      <td>NaN</td>\n",
       "      <td>NaN</td>\n",
       "      <td>\\n</td>\n",
       "      <td>NaN</td>\n",
       "      <td>NaN</td>\n",
       "      <td>[]</td>\n",
       "      <td>\\nRenault\\n</td>\n",
       "      <td>[\\n, Espace, \\n]</td>\n",
       "      <td>[\\n2691331\\n]</td>\n",
       "      <td>[\\n, 2019, \\n]</td>\n",
       "      <td>[\\n, Grey, \\n]</td>\n",
       "      <td>NaN</td>\n",
       "      <td>[\\nGrigio\\n]</td>\n",
       "      <td>[\\nPart leather\\n]</td>\n",
       "      <td>[\\n, Van, \\n]</td>\n",
       "      <td>[\\n5\\n]</td>\n",
       "      <td>[\\n7\\n]</td>\n",
       "      <td>NaN</td>\n",
       "      <td>[\\n, Automatic, \\n]</td>\n",
       "      <td>[\\n1,997 cc\\n]</td>\n",
       "      <td>[\\n4\\n]</td>\n",
       "      <td>[\\n1,758 kg\\n]</td>\n",
       "      <td>[\\nfront\\n]</td>\n",
       "      <td>[\\n, Diesel, \\n]</td>\n",
       "      <td>[[5.3 l/100 km (comb)], [6.2 l/100 km (city)],...</td>\n",
       "      <td>[\\n139 g CO2/km (comb)\\n]</td>\n",
       "      <td>[\\nEuro 6\\n]</td>\n",
       "      <td>[Air conditioning, Automatic climate control, ...</td>\n",
       "      <td>[Bluetooth, Digital radio, Radio, USB]</td>\n",
       "      <td>[Alloy wheels, Touch screen]</td>\n",
       "      <td>[ABS, Blind spot monitor, Driver-side airbag, ...</td>\n",
       "      <td>[\\nDEK:[2691331], Renault Espace Blue dCi 200C...</td>\n",
       "      <td>NaN</td>\n",
       "      <td>[\\n6\\n]</td>\n",
       "      <td>NaN</td>\n",
       "      <td>NaN</td>\n",
       "      <td>NaN</td>\n",
       "      <td>NaN</td>\n",
       "      <td>NaN</td>\n",
       "      <td>NaN</td>\n",
       "      <td>NaN</td>\n",
       "    </tr>\n",
       "    <tr>\n",
       "      <th>15918</th>\n",
       "      <td>https://www.autoscout24.com//offers/renault-es...</td>\n",
       "      <td>Renault Espace</td>\n",
       "      <td>INITIALE PARIS TCe 225 EDC GPF NAVI SHZ AUX</td>\n",
       "      <td>Van</td>\n",
       "      <td>40999</td>\n",
       "      <td>VAT deductible</td>\n",
       "      <td>- km</td>\n",
       "      <td>01/2019</td>\n",
       "      <td>1 previous owner</td>\n",
       "      <td>NaN</td>\n",
       "      <td>165 kW</td>\n",
       "      <td>[, Demonstration, , Super 95]</td>\n",
       "      <td>\\n1\\n</td>\n",
       "      <td>NaN</td>\n",
       "      <td>[\\nYes\\n, \\n153 g CO2/km (comb)\\n]</td>\n",
       "      <td>NaN</td>\n",
       "      <td>NaN</td>\n",
       "      <td>NaN</td>\n",
       "      <td>[]</td>\n",
       "      <td>\\nRenault\\n</td>\n",
       "      <td>[\\n, Espace, \\n]</td>\n",
       "      <td>[\\nRe_30000008029\\n]</td>\n",
       "      <td>[\\n, 2019, \\n]</td>\n",
       "      <td>[\\n, Grey, \\n]</td>\n",
       "      <td>[\\nMetallic\\n]</td>\n",
       "      <td>[\\nTitanium-Grau Metallic\\n]</td>\n",
       "      <td>[\\nFull leather, Brown\\n]</td>\n",
       "      <td>[\\n, Van, \\n]</td>\n",
       "      <td>[\\n5\\n]</td>\n",
       "      <td>[\\n5\\n]</td>\n",
       "      <td>[\\n3333/BHJ\\n]</td>\n",
       "      <td>[\\n, Automatic, \\n]</td>\n",
       "      <td>[\\n1,798 cc\\n]</td>\n",
       "      <td>[\\n4\\n]</td>\n",
       "      <td>[\\n1,685 kg\\n]</td>\n",
       "      <td>[\\n4WD\\n]</td>\n",
       "      <td>[\\n, Super 95, \\n]</td>\n",
       "      <td>[[6.8 l/100 km (comb)], [8.7 l/100 km (city)],...</td>\n",
       "      <td>[\\n153 g CO2/km (comb)\\n]</td>\n",
       "      <td>[\\nEuro 6\\n]</td>\n",
       "      <td>[Air conditioning, Automatic climate control, ...</td>\n",
       "      <td>[USB]</td>\n",
       "      <td>[Alloy wheels, Touch screen]</td>\n",
       "      <td>[ABS, Blind spot monitor, Daytime running ligh...</td>\n",
       "      <td>[\\n, Sicherheit Airbags:,  , Seitenairbag,  , ...</td>\n",
       "      <td>[\\n4 (Green)\\n]</td>\n",
       "      <td>NaN</td>\n",
       "      <td>[\\nGermany\\n]</td>\n",
       "      <td>NaN</td>\n",
       "      <td>NaN</td>\n",
       "      <td>NaN</td>\n",
       "      <td>NaN</td>\n",
       "      <td>NaN</td>\n",
       "      <td>NaN</td>\n",
       "    </tr>\n",
       "  </tbody>\n",
       "</table>\n",
       "<p>15919 rows × 54 columns</p>\n",
       "</div>"
      ],
      "text/plain": [
       "                                                     url      make_model  \\\n",
       "0      https://www.autoscout24.com//offers/audi-a1-sp...         Audi A1   \n",
       "1      https://www.autoscout24.com//offers/audi-a1-1-...         Audi A1   \n",
       "2      https://www.autoscout24.com//offers/audi-a1-sp...         Audi A1   \n",
       "3      https://www.autoscout24.com//offers/audi-a1-1-...         Audi A1   \n",
       "4      https://www.autoscout24.com//offers/audi-a1-sp...         Audi A1   \n",
       "...                                                  ...             ...   \n",
       "15914  https://www.autoscout24.com//offers/renault-es...  Renault Espace   \n",
       "15915  https://www.autoscout24.com//offers/renault-es...  Renault Espace   \n",
       "15916  https://www.autoscout24.com//offers/renault-es...  Renault Espace   \n",
       "15917  https://www.autoscout24.com//offers/renault-es...  Renault Espace   \n",
       "15918  https://www.autoscout24.com//offers/renault-es...  Renault Espace   \n",
       "\n",
       "                                       short_description body_type  price  \\\n",
       "0            Sportback 1.4 TDI S-tronic Xenon Navi Klima    Sedans  15770   \n",
       "1                                         1.8 TFSI sport    Sedans  14500   \n",
       "2      Sportback 1.6 TDI S tronic Einparkhilfe plus+m...    Sedans  14640   \n",
       "3                                1.4 TDi Design S tronic    Sedans  14500   \n",
       "4      Sportback 1.4 TDI S-Tronic S-Line Ext. admired...    Sedans  16790   \n",
       "...                                                  ...       ...    ...   \n",
       "15914              Blue dCi 200CV EDC Executive 4Control       Van  39950   \n",
       "15915                TCe 225 EDC GPF LIM Deluxe Pano,RFK       Van  39885   \n",
       "15916  Blue dCi 200 EDC Initiale Paris Leder LED Navi...       Van  39875   \n",
       "15917  Blue dCi 200CV EDC Business , NUOVA DA IMMATRI...       Van  39700   \n",
       "15918        INITIALE PARIS TCe 225 EDC GPF NAVI SHZ AUX       Van  40999   \n",
       "\n",
       "                    vat         km registration         prev_owner  kW  \\\n",
       "0        VAT deductible  56,013 km      01/2016  2 previous owners NaN   \n",
       "1      Price negotiable  80,000 km      03/2017               None NaN   \n",
       "2        VAT deductible  83,450 km      02/2016   1 previous owner NaN   \n",
       "3                  None  73,000 km      08/2016   1 previous owner NaN   \n",
       "4                  None  16,200 km      05/2016   1 previous owner NaN   \n",
       "...                 ...        ...          ...                ...  ..   \n",
       "15914    VAT deductible       - km          -/-               None NaN   \n",
       "15915    VAT deductible   9,900 km      01/2019   1 previous owner NaN   \n",
       "15916    VAT deductible      15 km      03/2019   1 previous owner NaN   \n",
       "15917    VAT deductible      10 km      06/2019               None NaN   \n",
       "15918    VAT deductible       - km      01/2019   1 previous owner NaN   \n",
       "\n",
       "           hp                                               Type  \\\n",
       "0       66 kW            [, Used, , Diesel (Particulate Filter)]   \n",
       "1      141 kW                               [, Used, , Gasoline]   \n",
       "2       85 kW            [, Used, , Diesel (Particulate Filter)]   \n",
       "3       66 kW            [, Used, , Diesel (Particulate Filter)]   \n",
       "4       66 kW            [, Used, , Diesel (Particulate Filter)]   \n",
       "...       ...                                                ...   \n",
       "15914  147 kW             [, New, , Diesel (Particulate Filter)]   \n",
       "15915  165 kW  [, Used, , Super 95 / Super Plus 98 (Particula...   \n",
       "15916  146 kW                       [, Pre-registered, , Diesel]   \n",
       "15917  147 kW                       [, Pre-registered, , Diesel]   \n",
       "15918  165 kW                      [, Demonstration, , Super 95]   \n",
       "\n",
       "                                         Previous Owners  \\\n",
       "0                                                  \\n2\\n   \n",
       "1                                                    NaN   \n",
       "2                                                  \\n1\\n   \n",
       "3                                                  \\n1\\n   \n",
       "4                                                  \\n1\\n   \n",
       "...                                                  ...   \n",
       "15914                                                NaN   \n",
       "15915  [\\n1\\n, \\n, 7.4 l/100 km (comb), \\n, 9.2 l/100...   \n",
       "15916                   [\\n1\\n, \\n139 g CO2/km (comb)\\n]   \n",
       "15917                                                NaN   \n",
       "15918                                              \\n1\\n   \n",
       "\n",
       "                              Next Inspection  \\\n",
       "0       [\\n06/2021\\n, \\n99 g CO2/km (comb)\\n]   \n",
       "1                                         NaN   \n",
       "2                                         NaN   \n",
       "3                                         NaN   \n",
       "4                                         NaN   \n",
       "...                                       ...   \n",
       "15914                                     NaN   \n",
       "15915  [\\n01/2022\\n, \\n168 g CO2/km (comb)\\n]   \n",
       "15916                                     NaN   \n",
       "15917                                     NaN   \n",
       "15918                                     NaN   \n",
       "\n",
       "                           Inspection new                          Warranty  \\\n",
       "0                   [\\nYes\\n, \\nEuro 6\\n]           [\\n, \\n, \\n4 (Green)\\n]   \n",
       "1                                     NaN                               NaN   \n",
       "2                                     NaN  [\\n, \\n, \\n99 g CO2/km (comb)\\n]   \n",
       "3                                     NaN                               NaN   \n",
       "4      [\\nYes\\n, \\n109 g CO2/km (comb)\\n]              [\\n, \\n, \\nEuro 6\\n]   \n",
       "...                                   ...                               ...   \n",
       "15914                                 NaN                     \\n24 months\\n   \n",
       "15915                                 NaN              [\\n, \\n, \\nEuro 6\\n]   \n",
       "15916         [\\nYes\\n, \\nEuro 6d-TEMP\\n]           [\\n, \\n, \\n4 (Green)\\n]   \n",
       "15917                                 NaN                                \\n   \n",
       "15918  [\\nYes\\n, \\n153 g CO2/km (comb)\\n]                               NaN   \n",
       "\n",
       "                           Full Service      Non-smoking Vehicle null  \\\n",
       "0                              [\\n, \\n]                 [\\n, \\n]   []   \n",
       "1                                   NaN                      NaN   []   \n",
       "2                                   NaN                      NaN   []   \n",
       "3      [\\n, \\n, \\n99 g CO2/km (comb)\\n]     [\\n, \\n, \\nEuro 6\\n]   []   \n",
       "4               [\\n, \\n, \\n4 (Green)\\n]                 [\\n, \\n]   []   \n",
       "...                                 ...                      ...  ...   \n",
       "15914                               NaN                      NaN   []   \n",
       "15915                               NaN  [\\n, \\n, \\n4 (Green)\\n]   []   \n",
       "15916                          [\\n, \\n]                 [\\n, \\n]   []   \n",
       "15917                               NaN                      NaN   []   \n",
       "15918                               NaN                      NaN   []   \n",
       "\n",
       "              Make             Model          Offer Number First Registration  \\\n",
       "0         \\nAudi\\n      [\\n, A1, \\n]       [\\nLR-062483\\n]     [\\n, 2016, \\n]   \n",
       "1         \\nAudi\\n      [\\n, A1, \\n]                   NaN     [\\n, 2017, \\n]   \n",
       "2         \\nAudi\\n      [\\n, A1, \\n]        [\\nAM-95365\\n]     [\\n, 2016, \\n]   \n",
       "3         \\nAudi\\n      [\\n, A1, \\n]                   NaN     [\\n, 2016, \\n]   \n",
       "4         \\nAudi\\n      [\\n, A1, \\n]           [\\nC1626\\n]     [\\n, 2016, \\n]   \n",
       "...            ...               ...                   ...                ...   \n",
       "15914  \\nRenault\\n  [\\n, Espace, \\n]        [\\n10988301\\n]                NaN   \n",
       "15915  \\nRenault\\n  [\\n, Espace, \\n]     [\\n507370_3223\\n]     [\\n, 2019, \\n]   \n",
       "15916  \\nRenault\\n  [\\n, Espace, \\n]        [\\nEspace16\\n]     [\\n, 2019, \\n]   \n",
       "15917  \\nRenault\\n  [\\n, Espace, \\n]         [\\n2691331\\n]     [\\n, 2019, \\n]   \n",
       "15918  \\nRenault\\n  [\\n, Espace, \\n]  [\\nRe_30000008029\\n]     [\\n, 2019, \\n]   \n",
       "\n",
       "            Body Color      Paint Type           Body Color Original  \\\n",
       "0      [\\n, Black, \\n]  [\\nMetallic\\n]           [\\nMythosschwarz\\n]   \n",
       "1        [\\n, Red, \\n]             NaN                           NaN   \n",
       "2      [\\n, Black, \\n]  [\\nMetallic\\n]  [\\nmythosschwarz metallic\\n]   \n",
       "3      [\\n, Brown, \\n]  [\\nMetallic\\n]                           NaN   \n",
       "4      [\\n, Black, \\n]  [\\nMetallic\\n]  [\\nMythosschwarz Metallic\\n]   \n",
       "...                ...             ...                           ...   \n",
       "15914   [\\n, Grey, \\n]  [\\nMetallic\\n]            [\\nGrigio scuro\\n]   \n",
       "15915   [\\n, Grey, \\n]  [\\nMetallic\\n]     [\\nStahl-Grau Metallic\\n]   \n",
       "15916  [\\n, White, \\n]             NaN             [\\narktis-weiß\\n]   \n",
       "15917   [\\n, Grey, \\n]             NaN                  [\\nGrigio\\n]   \n",
       "15918   [\\n, Grey, \\n]  [\\nMetallic\\n]  [\\nTitanium-Grau Metallic\\n]   \n",
       "\n",
       "                      Upholstery              Body Nr. of Doors Nr. of Seats  \\\n",
       "0             [\\nCloth, Black\\n]  [\\n, Sedans, \\n]      [\\n5\\n]      [\\n5\\n]   \n",
       "1              [\\nCloth, Grey\\n]  [\\n, Sedans, \\n]      [\\n3\\n]      [\\n4\\n]   \n",
       "2             [\\nCloth, Black\\n]  [\\n, Sedans, \\n]      [\\n4\\n]      [\\n4\\n]   \n",
       "3                            NaN  [\\n, Sedans, \\n]      [\\n3\\n]      [\\n4\\n]   \n",
       "4             [\\nCloth, Black\\n]  [\\n, Sedans, \\n]      [\\n5\\n]      [\\n5\\n]   \n",
       "...                          ...               ...          ...          ...   \n",
       "15914                        NaN     [\\n, Van, \\n]      [\\n5\\n]      [\\n5\\n]   \n",
       "15915                [\\nCloth\\n]     [\\n, Van, \\n]      [\\n5\\n]      [\\n5\\n]   \n",
       "15916  [\\nFull leather, Black\\n]     [\\n, Van, \\n]      [\\n5\\n]      [\\n7\\n]   \n",
       "15917         [\\nPart leather\\n]     [\\n, Van, \\n]      [\\n5\\n]      [\\n7\\n]   \n",
       "15918  [\\nFull leather, Brown\\n]     [\\n, Van, \\n]      [\\n5\\n]      [\\n5\\n]   \n",
       "\n",
       "           Model Code         Gearing Type    Displacement Cylinders  \\\n",
       "0      [\\n0588/BDF\\n]  [\\n, Automatic, \\n]  [\\n1,422 cc\\n]   [\\n3\\n]   \n",
       "1      [\\n0588/BCY\\n]  [\\n, Automatic, \\n]  [\\n1,798 cc\\n]   [\\n4\\n]   \n",
       "2                 NaN  [\\n, Automatic, \\n]  [\\n1,598 cc\\n]       NaN   \n",
       "3                 NaN  [\\n, Automatic, \\n]  [\\n1,422 cc\\n]   [\\n3\\n]   \n",
       "4      [\\n0588/BDF\\n]  [\\n, Automatic, \\n]  [\\n1,422 cc\\n]   [\\n3\\n]   \n",
       "...               ...                  ...             ...       ...   \n",
       "15914             NaN  [\\n, Automatic, \\n]  [\\n1,997 cc\\n]   [\\n4\\n]   \n",
       "15915  [\\n0000/000\\n]  [\\n, Automatic, \\n]  [\\n1,798 cc\\n]   [\\n4\\n]   \n",
       "15916             NaN  [\\n, Automatic, \\n]  [\\n1,997 cc\\n]   [\\n4\\n]   \n",
       "15917             NaN  [\\n, Automatic, \\n]  [\\n1,997 cc\\n]   [\\n4\\n]   \n",
       "15918  [\\n3333/BHJ\\n]  [\\n, Automatic, \\n]  [\\n1,798 cc\\n]   [\\n4\\n]   \n",
       "\n",
       "               Weight  Drive chain  \\\n",
       "0      [\\n1,220 kg\\n]  [\\nfront\\n]   \n",
       "1      [\\n1,255 kg\\n]  [\\nfront\\n]   \n",
       "2                 NaN  [\\nfront\\n]   \n",
       "3      [\\n1,195 kg\\n]          NaN   \n",
       "4                 NaN  [\\nfront\\n]   \n",
       "...               ...          ...   \n",
       "15914  [\\n1,758 kg\\n]  [\\nfront\\n]   \n",
       "15915  [\\n1,708 kg\\n]  [\\nfront\\n]   \n",
       "15916             NaN  [\\nfront\\n]   \n",
       "15917  [\\n1,758 kg\\n]  [\\nfront\\n]   \n",
       "15918  [\\n1,685 kg\\n]    [\\n4WD\\n]   \n",
       "\n",
       "                                                    Fuel  \\\n",
       "0                  [\\n, Diesel (Particulate Filter), \\n]   \n",
       "1                                     [\\n, Gasoline, \\n]   \n",
       "2                  [\\n, Diesel (Particulate Filter), \\n]   \n",
       "3                  [\\n, Diesel (Particulate Filter), \\n]   \n",
       "4                  [\\n, Diesel (Particulate Filter), \\n]   \n",
       "...                                                  ...   \n",
       "15914              [\\n, Diesel (Particulate Filter), \\n]   \n",
       "15915  [\\n, Super 95 / Super Plus 98 (Particulate Fil...   \n",
       "15916                                   [\\n, Diesel, \\n]   \n",
       "15917                                   [\\n, Diesel, \\n]   \n",
       "15918                                 [\\n, Super 95, \\n]   \n",
       "\n",
       "                                             Consumption  \\\n",
       "0      [[3.8 l/100 km (comb)], [4.3 l/100 km (city)],...   \n",
       "1      [[5.6 l/100 km (comb)], [7.1 l/100 km (city)],...   \n",
       "2      [[3.8 l/100 km (comb)], [4.4 l/100 km (city)],...   \n",
       "3      [[3.8 l/100 km (comb)], [4.3 l/100 km (city)],...   \n",
       "4      [[4.1 l/100 km (comb)], [4.6 l/100 km (city)],...   \n",
       "...                                                  ...   \n",
       "15914  [[5.3 l/100 km (comb)], [6.2 l/100 km (city)],...   \n",
       "15915  [\\n, 7.4 l/100 km (comb), \\n, 9.2 l/100 km (ci...   \n",
       "15916  [[5.3 l/100 km (comb)], [6.2 l/100 km (city)],...   \n",
       "15917  [[5.3 l/100 km (comb)], [6.2 l/100 km (city)],...   \n",
       "15918  [[6.8 l/100 km (comb)], [8.7 l/100 km (city)],...   \n",
       "\n",
       "                    CO2 Emission      Emission Class  \\\n",
       "0       [\\n99 g CO2/km (comb)\\n]        [\\nEuro 6\\n]   \n",
       "1      [\\n129 g CO2/km (comb)\\n]        [\\nEuro 6\\n]   \n",
       "2       [\\n99 g CO2/km (comb)\\n]        [\\nEuro 6\\n]   \n",
       "3       [\\n99 g CO2/km (comb)\\n]        [\\nEuro 6\\n]   \n",
       "4      [\\n109 g CO2/km (comb)\\n]        [\\nEuro 6\\n]   \n",
       "...                          ...                 ...   \n",
       "15914  [\\n139 g CO2/km (comb)\\n]                 NaN   \n",
       "15915  [\\n168 g CO2/km (comb)\\n]                 NaN   \n",
       "15916  [\\n139 g CO2/km (comb)\\n]  [\\nEuro 6d-TEMP\\n]   \n",
       "15917  [\\n139 g CO2/km (comb)\\n]        [\\nEuro 6\\n]   \n",
       "15918  [\\n153 g CO2/km (comb)\\n]        [\\nEuro 6\\n]   \n",
       "\n",
       "                               \\nComfort & Convenience\\n  \\\n",
       "0      [Air conditioning, Armrest, Automatic climate ...   \n",
       "1      [Air conditioning, Automatic climate control, ...   \n",
       "2      [Air conditioning, Cruise control, Electrical ...   \n",
       "3      [Air suspension, Armrest, Auxiliary heating, E...   \n",
       "4      [Air conditioning, Armrest, Automatic climate ...   \n",
       "...                                                  ...   \n",
       "15914  [Air conditioning, Automatic climate control, ...   \n",
       "15915  [Air conditioning, Automatic climate control, ...   \n",
       "15916  [Air conditioning, Armrest, Automatic climate ...   \n",
       "15917  [Air conditioning, Automatic climate control, ...   \n",
       "15918  [Air conditioning, Automatic climate control, ...   \n",
       "\n",
       "                               \\nEntertainment & Media\\n  \\\n",
       "0      [Bluetooth, Hands-free equipment, On-board com...   \n",
       "1      [Bluetooth, Hands-free equipment, On-board com...   \n",
       "2                               [MP3, On-board computer]   \n",
       "3      [Bluetooth, CD player, Hands-free equipment, M...   \n",
       "4      [Bluetooth, CD player, Hands-free equipment, M...   \n",
       "...                                                  ...   \n",
       "15914  [Bluetooth, Digital radio, Hands-free equipmen...   \n",
       "15915  [Bluetooth, Digital radio, Hands-free equipmen...   \n",
       "15916  [Bluetooth, Hands-free equipment, On-board com...   \n",
       "15917             [Bluetooth, Digital radio, Radio, USB]   \n",
       "15918                                              [USB]   \n",
       "\n",
       "                                              \\nExtras\\n  \\\n",
       "0      [Alloy wheels, Catalytic Converter, Voice Cont...   \n",
       "1      [Alloy wheels, Sport seats, Sport suspension, ...   \n",
       "2                          [Alloy wheels, Voice Control]   \n",
       "3             [Alloy wheels, Sport seats, Voice Control]   \n",
       "4      [Alloy wheels, Sport package, Sport suspension...   \n",
       "...                                                  ...   \n",
       "15914                       [Alloy wheels, Touch screen]   \n",
       "15915        [Alloy wheels, Touch screen, Voice Control]   \n",
       "15916                                     [Alloy wheels]   \n",
       "15917                       [Alloy wheels, Touch screen]   \n",
       "15918                       [Alloy wheels, Touch screen]   \n",
       "\n",
       "                                   \\nSafety & Security\\n  \\\n",
       "0      [ABS, Central door lock, Daytime running light...   \n",
       "1      [ABS, Central door lock, Central door lock wit...   \n",
       "2      [ABS, Central door lock, Daytime running light...   \n",
       "3      [ABS, Alarm system, Central door lock with rem...   \n",
       "4      [ABS, Central door lock, Driver-side airbag, E...   \n",
       "...                                                  ...   \n",
       "15914  [ABS, Central door lock, Central door lock wit...   \n",
       "15915  [ABS, Adaptive Cruise Control, Blind spot moni...   \n",
       "15916  [ABS, Adaptive Cruise Control, Blind spot moni...   \n",
       "15917  [ABS, Blind spot monitor, Driver-side airbag, ...   \n",
       "15918  [ABS, Blind spot monitor, Daytime running ligh...   \n",
       "\n",
       "                                             description   Emission Label  \\\n",
       "0      [\\n, Sicherheit:,  , Deaktivierung für Beifahr...              NaN   \n",
       "1      [\\nLangstreckenfahrzeug daher die hohe Kilomet...  [\\n4 (Green)\\n]   \n",
       "2      [\\n, Fahrzeug-Nummer: AM-95365,  , Ehem. UPE 2...  [\\n4 (Green)\\n]   \n",
       "3      [\\nAudi A1: , - 1e eigenaar , - Perfecte staat...              NaN   \n",
       "4      [\\n, Technik & Sicherheit:, Xenon plus, Klimaa...              NaN   \n",
       "...                                                  ...              ...   \n",
       "15914  [\\nVettura visionabile nella sede in Via Roma ...              NaN   \n",
       "15915  [\\nDach: Panorama-Glas-Schiebedach, Lackierung...              NaN   \n",
       "15916  [\\n, Getriebe:,  Automatik, Technik:,  Bordcom...              NaN   \n",
       "15917  [\\nDEK:[2691331], Renault Espace Blue dCi 200C...              NaN   \n",
       "15918  [\\n, Sicherheit Airbags:,  , Seitenairbag,  , ...  [\\n4 (Green)\\n]   \n",
       "\n",
       "         Gears Country version Electricity consumption Last Service Date  \\\n",
       "0          NaN             NaN                     NaN               NaN   \n",
       "1      [\\n7\\n]             NaN                     NaN               NaN   \n",
       "2          NaN             NaN                     NaN               NaN   \n",
       "3      [\\n6\\n]             NaN                     NaN               NaN   \n",
       "4          NaN   [\\nGermany\\n]                     NaN               NaN   \n",
       "...        ...             ...                     ...               ...   \n",
       "15914  [\\n6\\n]             NaN                     NaN               NaN   \n",
       "15915  [\\n7\\n]   [\\nGermany\\n]                     NaN               NaN   \n",
       "15916  [\\n6\\n]   [\\nAustria\\n]                     NaN               NaN   \n",
       "15917  [\\n6\\n]             NaN                     NaN               NaN   \n",
       "15918      NaN   [\\nGermany\\n]                     NaN               NaN   \n",
       "\n",
       "      Other Fuel Types                   Availability  \\\n",
       "0                  NaN                            NaN   \n",
       "1                  NaN                            NaN   \n",
       "2                  NaN                            NaN   \n",
       "3                  NaN                            NaN   \n",
       "4                  NaN                            NaN   \n",
       "...                ...                            ...   \n",
       "15914              NaN                            NaN   \n",
       "15915     [[], [], []]    \\nin 5 days from ordering\\n   \n",
       "15916              NaN  \\nin 120 days from ordering\\n   \n",
       "15917              NaN                            NaN   \n",
       "15918              NaN                            NaN   \n",
       "\n",
       "      Last Timing Belt Service Date Available from  \n",
       "0                               NaN            NaN  \n",
       "1                               NaN            NaN  \n",
       "2                               NaN            NaN  \n",
       "3                               NaN            NaN  \n",
       "4                               NaN            NaN  \n",
       "...                             ...            ...  \n",
       "15914                           NaN            NaN  \n",
       "15915                           NaN            NaN  \n",
       "15916                           NaN            NaN  \n",
       "15917                           NaN            NaN  \n",
       "15918                           NaN            NaN  \n",
       "\n",
       "[15919 rows x 54 columns]"
      ]
     },
     "execution_count": 2,
     "metadata": {},
     "output_type": "execute_result"
    }
   ],
   "source": [
    "df_origin = pd.read_json(\"scout_car.json\",lines=True)\n",
    "df = df_origin.copy()\n",
    "df"
   ]
  },
  {
   "cell_type": "code",
   "execution_count": 3,
   "id": "ba4f7a35",
   "metadata": {},
   "outputs": [
    {
     "data": {
      "text/html": [
       "<div>\n",
       "<style scoped>\n",
       "    .dataframe tbody tr th:only-of-type {\n",
       "        vertical-align: middle;\n",
       "    }\n",
       "\n",
       "    .dataframe tbody tr th {\n",
       "        vertical-align: top;\n",
       "    }\n",
       "\n",
       "    .dataframe thead th {\n",
       "        text-align: right;\n",
       "    }\n",
       "</style>\n",
       "<table border=\"1\" class=\"dataframe\">\n",
       "  <thead>\n",
       "    <tr style=\"text-align: right;\">\n",
       "      <th></th>\n",
       "      <th>3173</th>\n",
       "      <th>13897</th>\n",
       "      <th>9940</th>\n",
       "      <th>8635</th>\n",
       "      <th>9503</th>\n",
       "    </tr>\n",
       "  </thead>\n",
       "  <tbody>\n",
       "    <tr>\n",
       "      <th>url</th>\n",
       "      <td>https://www.autoscout24.com//offers/audi-a3-sp...</td>\n",
       "      <td>https://www.autoscout24.com//offers/renault-cl...</td>\n",
       "      <td>https://www.autoscout24.com//offers/opel-corsa...</td>\n",
       "      <td>https://www.autoscout24.com//offers/opel-corsa...</td>\n",
       "      <td>https://www.autoscout24.com//offers/opel-corsa...</td>\n",
       "    </tr>\n",
       "    <tr>\n",
       "      <th>make_model</th>\n",
       "      <td>Audi A3</td>\n",
       "      <td>Renault Clio</td>\n",
       "      <td>Opel Corsa</td>\n",
       "      <td>Opel Corsa</td>\n",
       "      <td>Opel Corsa</td>\n",
       "    </tr>\n",
       "    <tr>\n",
       "      <th>short_description</th>\n",
       "      <td>SPORTBACK 1.6 TDI Business</td>\n",
       "      <td>Sporter 1.2 75CV Zen</td>\n",
       "      <td>1.4 Online Edition Automaat (NAV./AUTOMAAT/NIEUW!</td>\n",
       "      <td>1.2 Neu: TÜV/HU/Inspektion</td>\n",
       "      <td>1.4 66kW (90CV) Selective</td>\n",
       "    </tr>\n",
       "    <tr>\n",
       "      <th>body_type</th>\n",
       "      <td>Sedans</td>\n",
       "      <td>Station wagon</td>\n",
       "      <td>Compact</td>\n",
       "      <td>Sedans</td>\n",
       "      <td>Other</td>\n",
       "    </tr>\n",
       "    <tr>\n",
       "      <th>price</th>\n",
       "      <td>14450</td>\n",
       "      <td>9490</td>\n",
       "      <td>16999</td>\n",
       "      <td>7550</td>\n",
       "      <td>9500</td>\n",
       "    </tr>\n",
       "    <tr>\n",
       "      <th>vat</th>\n",
       "      <td>VAT deductible</td>\n",
       "      <td>None</td>\n",
       "      <td>VAT deductible</td>\n",
       "      <td>Price negotiable</td>\n",
       "      <td>None</td>\n",
       "    </tr>\n",
       "    <tr>\n",
       "      <th>km</th>\n",
       "      <td>135,364 km</td>\n",
       "      <td>40,691 km</td>\n",
       "      <td>10 km</td>\n",
       "      <td>38,500 km</td>\n",
       "      <td>7,912 km</td>\n",
       "    </tr>\n",
       "    <tr>\n",
       "      <th>registration</th>\n",
       "      <td>05/2016</td>\n",
       "      <td>02/2017</td>\n",
       "      <td>01/2019</td>\n",
       "      <td>03/2016</td>\n",
       "      <td>05/2018</td>\n",
       "    </tr>\n",
       "    <tr>\n",
       "      <th>prev_owner</th>\n",
       "      <td>1 previous owner</td>\n",
       "      <td>1 previous owner</td>\n",
       "      <td>None</td>\n",
       "      <td>None</td>\n",
       "      <td>1 previous owner</td>\n",
       "    </tr>\n",
       "    <tr>\n",
       "      <th>kW</th>\n",
       "      <td>NaN</td>\n",
       "      <td>NaN</td>\n",
       "      <td>NaN</td>\n",
       "      <td>NaN</td>\n",
       "      <td>NaN</td>\n",
       "    </tr>\n",
       "    <tr>\n",
       "      <th>hp</th>\n",
       "      <td>81 kW</td>\n",
       "      <td>54 kW</td>\n",
       "      <td>66 kW</td>\n",
       "      <td>51 kW</td>\n",
       "      <td>66 kW</td>\n",
       "    </tr>\n",
       "    <tr>\n",
       "      <th>Type</th>\n",
       "      <td>[, Used, , Diesel]</td>\n",
       "      <td>[, Employee's car, , Gasoline]</td>\n",
       "      <td>[, Used, , Gasoline]</td>\n",
       "      <td>[, Used, , Gasoline]</td>\n",
       "      <td>[, Used, , Gasoline]</td>\n",
       "    </tr>\n",
       "    <tr>\n",
       "      <th>Previous Owners</th>\n",
       "      <td>\\n1\\n</td>\n",
       "      <td>\\n1\\n</td>\n",
       "      <td>NaN</td>\n",
       "      <td>NaN</td>\n",
       "      <td>\\n1\\n</td>\n",
       "    </tr>\n",
       "    <tr>\n",
       "      <th>Next Inspection</th>\n",
       "      <td>NaN</td>\n",
       "      <td>NaN</td>\n",
       "      <td>\\n01/2023\\n</td>\n",
       "      <td>\\n03/2021\\n</td>\n",
       "      <td>NaN</td>\n",
       "    </tr>\n",
       "    <tr>\n",
       "      <th>Inspection new</th>\n",
       "      <td>NaN</td>\n",
       "      <td>NaN</td>\n",
       "      <td>NaN</td>\n",
       "      <td>NaN</td>\n",
       "      <td>NaN</td>\n",
       "    </tr>\n",
       "    <tr>\n",
       "      <th>Warranty</th>\n",
       "      <td>NaN</td>\n",
       "      <td>NaN</td>\n",
       "      <td>[\\n3 months\\n, \\n110 g CO2/km (comb)\\n]</td>\n",
       "      <td>NaN</td>\n",
       "      <td>[\\n24 months\\n, \\n120 g CO2/km (comb)\\n]</td>\n",
       "    </tr>\n",
       "    <tr>\n",
       "      <th>Full Service</th>\n",
       "      <td>NaN</td>\n",
       "      <td>NaN</td>\n",
       "      <td>[\\n, \\n, \\nEuro 6\\n]</td>\n",
       "      <td>[\\n, \\n, \\nEuro 6d-TEMP\\n]</td>\n",
       "      <td>[\\n, \\n, \\nEuro 6\\n]</td>\n",
       "    </tr>\n",
       "    <tr>\n",
       "      <th>Non-smoking Vehicle</th>\n",
       "      <td>NaN</td>\n",
       "      <td>NaN</td>\n",
       "      <td>NaN</td>\n",
       "      <td>[\\n, \\n]</td>\n",
       "      <td>NaN</td>\n",
       "    </tr>\n",
       "    <tr>\n",
       "      <th>null</th>\n",
       "      <td>[]</td>\n",
       "      <td>[]</td>\n",
       "      <td>[]</td>\n",
       "      <td>[]</td>\n",
       "      <td>[]</td>\n",
       "    </tr>\n",
       "    <tr>\n",
       "      <th>Make</th>\n",
       "      <td>\\nAudi\\n</td>\n",
       "      <td>\\nRenault\\n</td>\n",
       "      <td>\\nOpel\\n</td>\n",
       "      <td>\\nOpel\\n</td>\n",
       "      <td>\\nOpel\\n</td>\n",
       "    </tr>\n",
       "    <tr>\n",
       "      <th>Model</th>\n",
       "      <td>[\\n, A3, \\n]</td>\n",
       "      <td>[\\n, Clio, \\n]</td>\n",
       "      <td>[\\n, Corsa, \\n]</td>\n",
       "      <td>[\\n, Corsa, \\n]</td>\n",
       "      <td>[\\n, Corsa, \\n]</td>\n",
       "    </tr>\n",
       "    <tr>\n",
       "      <th>Offer Number</th>\n",
       "      <td>[\\n2703735\\n]</td>\n",
       "      <td>[\\n2635075\\n]</td>\n",
       "      <td>[\\nXJ069B\\n]</td>\n",
       "      <td>NaN</td>\n",
       "      <td>[\\nA13_1540_3495_769\\n]</td>\n",
       "    </tr>\n",
       "    <tr>\n",
       "      <th>First Registration</th>\n",
       "      <td>[\\n, 2016, \\n]</td>\n",
       "      <td>[\\n, 2017, \\n]</td>\n",
       "      <td>[\\n, 2019, \\n]</td>\n",
       "      <td>[\\n, 2016, \\n]</td>\n",
       "      <td>[\\n, 2018, \\n]</td>\n",
       "    </tr>\n",
       "    <tr>\n",
       "      <th>Body Color</th>\n",
       "      <td>[\\n, Black, \\n]</td>\n",
       "      <td>[\\n, Red, \\n]</td>\n",
       "      <td>[\\n, Grey, \\n]</td>\n",
       "      <td>[\\n, White, \\n]</td>\n",
       "      <td>[\\n, Silver, \\n]</td>\n",
       "    </tr>\n",
       "    <tr>\n",
       "      <th>Paint Type</th>\n",
       "      <td>[\\nMetallic\\n]</td>\n",
       "      <td>NaN</td>\n",
       "      <td>[\\nMetallic\\n]</td>\n",
       "      <td>NaN</td>\n",
       "      <td>[\\nMetallic\\n]</td>\n",
       "    </tr>\n",
       "    <tr>\n",
       "      <th>Body Color Original</th>\n",
       "      <td>[\\nNero\\n]</td>\n",
       "      <td>[\\nRosso\\n]</td>\n",
       "      <td>[\\nQuantum Grey (donker grij\\n]</td>\n",
       "      <td>NaN</td>\n",
       "      <td>[\\nPlateado\\n]</td>\n",
       "    </tr>\n",
       "    <tr>\n",
       "      <th>Upholstery</th>\n",
       "      <td>[\\nGrey\\n]</td>\n",
       "      <td>NaN</td>\n",
       "      <td>[\\nPart leather, Black\\n]</td>\n",
       "      <td>NaN</td>\n",
       "      <td>NaN</td>\n",
       "    </tr>\n",
       "    <tr>\n",
       "      <th>Body</th>\n",
       "      <td>[\\n, Sedans, \\n]</td>\n",
       "      <td>[\\n, Station wagon, \\n]</td>\n",
       "      <td>[\\n, Compact, \\n]</td>\n",
       "      <td>[\\n, Sedans, \\n]</td>\n",
       "      <td>[\\n, Other, \\n]</td>\n",
       "    </tr>\n",
       "    <tr>\n",
       "      <th>Nr. of Doors</th>\n",
       "      <td>NaN</td>\n",
       "      <td>[\\n5\\n]</td>\n",
       "      <td>[\\n5\\n]</td>\n",
       "      <td>[\\n3\\n]</td>\n",
       "      <td>[\\n5\\n]</td>\n",
       "    </tr>\n",
       "    <tr>\n",
       "      <th>Nr. of Seats</th>\n",
       "      <td>NaN</td>\n",
       "      <td>[\\n5\\n]</td>\n",
       "      <td>[\\n5\\n]</td>\n",
       "      <td>[\\n5\\n]</td>\n",
       "      <td>[\\n5\\n]</td>\n",
       "    </tr>\n",
       "    <tr>\n",
       "      <th>Model Code</th>\n",
       "      <td>NaN</td>\n",
       "      <td>NaN</td>\n",
       "      <td>NaN</td>\n",
       "      <td>[\\n1844/ADF\\n]</td>\n",
       "      <td>NaN</td>\n",
       "    </tr>\n",
       "    <tr>\n",
       "      <th>Gearing Type</th>\n",
       "      <td>[\\n, Manual, \\n]</td>\n",
       "      <td>[\\n, Manual, \\n]</td>\n",
       "      <td>[\\n, Automatic, \\n]</td>\n",
       "      <td>[\\n, Manual, \\n]</td>\n",
       "      <td>[\\n, Manual, \\n]</td>\n",
       "    </tr>\n",
       "    <tr>\n",
       "      <th>Displacement</th>\n",
       "      <td>NaN</td>\n",
       "      <td>[\\n1,149 cc\\n]</td>\n",
       "      <td>[\\n1,400 cc\\n]</td>\n",
       "      <td>[\\n1,229 cc\\n]</td>\n",
       "      <td>[\\n1,398 cc\\n]</td>\n",
       "    </tr>\n",
       "    <tr>\n",
       "      <th>Cylinders</th>\n",
       "      <td>NaN</td>\n",
       "      <td>[\\n4\\n]</td>\n",
       "      <td>[\\n4\\n]</td>\n",
       "      <td>[\\n4\\n]</td>\n",
       "      <td>[\\n4\\n]</td>\n",
       "    </tr>\n",
       "    <tr>\n",
       "      <th>Weight</th>\n",
       "      <td>NaN</td>\n",
       "      <td>[\\n1,030 kg\\n]</td>\n",
       "      <td>[\\n1,063 kg\\n]</td>\n",
       "      <td>[\\n1,135 kg\\n]</td>\n",
       "      <td>[\\n1,163 kg\\n]</td>\n",
       "    </tr>\n",
       "    <tr>\n",
       "      <th>Drive chain</th>\n",
       "      <td>NaN</td>\n",
       "      <td>[\\nfront\\n]</td>\n",
       "      <td>[\\nfront\\n]</td>\n",
       "      <td>NaN</td>\n",
       "      <td>NaN</td>\n",
       "    </tr>\n",
       "    <tr>\n",
       "      <th>Fuel</th>\n",
       "      <td>[\\n, Diesel, \\n]</td>\n",
       "      <td>[\\n, Gasoline, \\n]</td>\n",
       "      <td>[\\n, Gasoline, \\n]</td>\n",
       "      <td>[\\n, Gasoline, \\n]</td>\n",
       "      <td>[\\n, Gasoline, \\n]</td>\n",
       "    </tr>\n",
       "    <tr>\n",
       "      <th>Consumption</th>\n",
       "      <td>NaN</td>\n",
       "      <td>[[5.7 l/100 km (comb)], [7.2 l/100 km (city)],...</td>\n",
       "      <td>[[4.8 l/100 km (comb)], [5.8 l/100 km (city)],...</td>\n",
       "      <td>[[5.6 l/100 km (comb)], [7.2 l/100 km (city)],...</td>\n",
       "      <td>[[5.2 l/100 km (comb)], [6.9 l/100 km (city)],...</td>\n",
       "    </tr>\n",
       "    <tr>\n",
       "      <th>CO2 Emission</th>\n",
       "      <td>NaN</td>\n",
       "      <td>[\\n127 g CO2/km (comb)\\n]</td>\n",
       "      <td>[\\n110 g CO2/km (comb)\\n]</td>\n",
       "      <td>[\\n129 g CO2/km (comb)\\n]</td>\n",
       "      <td>[\\n120 g CO2/km (comb)\\n]</td>\n",
       "    </tr>\n",
       "    <tr>\n",
       "      <th>Emission Class</th>\n",
       "      <td>[[], [], []]</td>\n",
       "      <td>[\\nEuro 6\\n]</td>\n",
       "      <td>[\\nEuro 6\\n]</td>\n",
       "      <td>[\\nEuro 6d-TEMP\\n]</td>\n",
       "      <td>[\\nEuro 6\\n]</td>\n",
       "    </tr>\n",
       "    <tr>\n",
       "      <th>\\nComfort &amp; Convenience\\n</th>\n",
       "      <td>NaN</td>\n",
       "      <td>[Air conditioning, Cruise control, Electrical ...</td>\n",
       "      <td>[Air conditioning, Automatic climate control, ...</td>\n",
       "      <td>[Air conditioning, Hill Holder, Power windows]</td>\n",
       "      <td>NaN</td>\n",
       "    </tr>\n",
       "    <tr>\n",
       "      <th>\\nEntertainment &amp; Media\\n</th>\n",
       "      <td>NaN</td>\n",
       "      <td>[Bluetooth, MP3, On-board computer, Radio, USB]</td>\n",
       "      <td>[Digital radio, Hands-free equipment, On-board...</td>\n",
       "      <td>[Bluetooth, Hands-free equipment, On-board com...</td>\n",
       "      <td>NaN</td>\n",
       "    </tr>\n",
       "    <tr>\n",
       "      <th>\\nExtras\\n</th>\n",
       "      <td>NaN</td>\n",
       "      <td>[Roof rack]</td>\n",
       "      <td>[Alloy wheels, Voice Control]</td>\n",
       "      <td>[Touch screen, Voice Control, Winter tyres]</td>\n",
       "      <td>NaN</td>\n",
       "    </tr>\n",
       "    <tr>\n",
       "      <th>\\nSafety &amp; Security\\n</th>\n",
       "      <td>NaN</td>\n",
       "      <td>[ABS, Central door lock, Driver-side airbag, E...</td>\n",
       "      <td>[ABS, Alarm system, Central door lock, Daytime...</td>\n",
       "      <td>[ABS, Central door lock, Central door lock wit...</td>\n",
       "      <td>NaN</td>\n",
       "    </tr>\n",
       "    <tr>\n",
       "      <th>description</th>\n",
       "      <td>[\\nDEK:[2703735], Per maggiori informazioni, a...</td>\n",
       "      <td>[\\nDEK:[2635075], RENAULT SELECTION, Il chilom...</td>\n",
       "      <td>[\\nBetreft een voorgeregistreerde Opel Corsa, ...</td>\n",
       "      <td>[\\nDas Auto wurde heute zur 3. Jahresinspektio...</td>\n",
       "      <td>[\\nPRECIO FINAL SUJETO A FINANCIACIÓN. CONSULT...</td>\n",
       "    </tr>\n",
       "    <tr>\n",
       "      <th>Emission Label</th>\n",
       "      <td>NaN</td>\n",
       "      <td>NaN</td>\n",
       "      <td>NaN</td>\n",
       "      <td>NaN</td>\n",
       "      <td>NaN</td>\n",
       "    </tr>\n",
       "    <tr>\n",
       "      <th>Gears</th>\n",
       "      <td>NaN</td>\n",
       "      <td>[\\n5\\n]</td>\n",
       "      <td>NaN</td>\n",
       "      <td>[\\n5\\n]</td>\n",
       "      <td>[\\n5\\n]</td>\n",
       "    </tr>\n",
       "    <tr>\n",
       "      <th>Country version</th>\n",
       "      <td>NaN</td>\n",
       "      <td>NaN</td>\n",
       "      <td>[\\nNetherlands\\n]</td>\n",
       "      <td>NaN</td>\n",
       "      <td>NaN</td>\n",
       "    </tr>\n",
       "    <tr>\n",
       "      <th>Electricity consumption</th>\n",
       "      <td>NaN</td>\n",
       "      <td>NaN</td>\n",
       "      <td>NaN</td>\n",
       "      <td>NaN</td>\n",
       "      <td>NaN</td>\n",
       "    </tr>\n",
       "    <tr>\n",
       "      <th>Last Service Date</th>\n",
       "      <td>NaN</td>\n",
       "      <td>NaN</td>\n",
       "      <td>NaN</td>\n",
       "      <td>[\\n03/2019\\n, \\n129 g CO2/km (comb)\\n]</td>\n",
       "      <td>NaN</td>\n",
       "    </tr>\n",
       "    <tr>\n",
       "      <th>Other Fuel Types</th>\n",
       "      <td>NaN</td>\n",
       "      <td>NaN</td>\n",
       "      <td>NaN</td>\n",
       "      <td>NaN</td>\n",
       "      <td>NaN</td>\n",
       "    </tr>\n",
       "    <tr>\n",
       "      <th>Availability</th>\n",
       "      <td>NaN</td>\n",
       "      <td>NaN</td>\n",
       "      <td>NaN</td>\n",
       "      <td>NaN</td>\n",
       "      <td>NaN</td>\n",
       "    </tr>\n",
       "    <tr>\n",
       "      <th>Last Timing Belt Service Date</th>\n",
       "      <td>NaN</td>\n",
       "      <td>NaN</td>\n",
       "      <td>NaN</td>\n",
       "      <td>NaN</td>\n",
       "      <td>NaN</td>\n",
       "    </tr>\n",
       "    <tr>\n",
       "      <th>Available from</th>\n",
       "      <td>NaN</td>\n",
       "      <td>NaN</td>\n",
       "      <td>NaN</td>\n",
       "      <td>NaN</td>\n",
       "      <td>NaN</td>\n",
       "    </tr>\n",
       "  </tbody>\n",
       "</table>\n",
       "</div>"
      ],
      "text/plain": [
       "                                                                           3173   \\\n",
       "url                            https://www.autoscout24.com//offers/audi-a3-sp...   \n",
       "make_model                                                               Audi A3   \n",
       "short_description                                     SPORTBACK 1.6 TDI Business   \n",
       "body_type                                                                 Sedans   \n",
       "price                                                                      14450   \n",
       "vat                                                               VAT deductible   \n",
       "km                                                                    135,364 km   \n",
       "registration                                                             05/2016   \n",
       "prev_owner                                                      1 previous owner   \n",
       "kW                                                                           NaN   \n",
       "hp                                                                         81 kW   \n",
       "Type                                                          [, Used, , Diesel]   \n",
       "Previous Owners                                                            \\n1\\n   \n",
       "Next Inspection                                                              NaN   \n",
       "Inspection new                                                               NaN   \n",
       "Warranty                                                                     NaN   \n",
       "Full Service                                                                 NaN   \n",
       "Non-smoking Vehicle                                                          NaN   \n",
       "null                                                                          []   \n",
       "Make                                                                    \\nAudi\\n   \n",
       "Model                                                               [\\n, A3, \\n]   \n",
       "Offer Number                                                       [\\n2703735\\n]   \n",
       "First Registration                                                [\\n, 2016, \\n]   \n",
       "Body Color                                                       [\\n, Black, \\n]   \n",
       "Paint Type                                                        [\\nMetallic\\n]   \n",
       "Body Color Original                                                   [\\nNero\\n]   \n",
       "Upholstery                                                            [\\nGrey\\n]   \n",
       "Body                                                            [\\n, Sedans, \\n]   \n",
       "Nr. of Doors                                                                 NaN   \n",
       "Nr. of Seats                                                                 NaN   \n",
       "Model Code                                                                   NaN   \n",
       "Gearing Type                                                    [\\n, Manual, \\n]   \n",
       "Displacement                                                                 NaN   \n",
       "Cylinders                                                                    NaN   \n",
       "Weight                                                                       NaN   \n",
       "Drive chain                                                                  NaN   \n",
       "Fuel                                                            [\\n, Diesel, \\n]   \n",
       "Consumption                                                                  NaN   \n",
       "CO2 Emission                                                                 NaN   \n",
       "Emission Class                                                      [[], [], []]   \n",
       "\\nComfort & Convenience\\n                                                    NaN   \n",
       "\\nEntertainment & Media\\n                                                    NaN   \n",
       "\\nExtras\\n                                                                   NaN   \n",
       "\\nSafety & Security\\n                                                        NaN   \n",
       "description                    [\\nDEK:[2703735], Per maggiori informazioni, a...   \n",
       "Emission Label                                                               NaN   \n",
       "Gears                                                                        NaN   \n",
       "Country version                                                              NaN   \n",
       "Electricity consumption                                                      NaN   \n",
       "Last Service Date                                                            NaN   \n",
       "Other Fuel Types                                                             NaN   \n",
       "Availability                                                                 NaN   \n",
       "Last Timing Belt Service Date                                                NaN   \n",
       "Available from                                                               NaN   \n",
       "\n",
       "                                                                           13897  \\\n",
       "url                            https://www.autoscout24.com//offers/renault-cl...   \n",
       "make_model                                                          Renault Clio   \n",
       "short_description                                           Sporter 1.2 75CV Zen   \n",
       "body_type                                                          Station wagon   \n",
       "price                                                                       9490   \n",
       "vat                                                                         None   \n",
       "km                                                                     40,691 km   \n",
       "registration                                                             02/2017   \n",
       "prev_owner                                                      1 previous owner   \n",
       "kW                                                                           NaN   \n",
       "hp                                                                         54 kW   \n",
       "Type                                              [, Employee's car, , Gasoline]   \n",
       "Previous Owners                                                            \\n1\\n   \n",
       "Next Inspection                                                              NaN   \n",
       "Inspection new                                                               NaN   \n",
       "Warranty                                                                     NaN   \n",
       "Full Service                                                                 NaN   \n",
       "Non-smoking Vehicle                                                          NaN   \n",
       "null                                                                          []   \n",
       "Make                                                                 \\nRenault\\n   \n",
       "Model                                                             [\\n, Clio, \\n]   \n",
       "Offer Number                                                       [\\n2635075\\n]   \n",
       "First Registration                                                [\\n, 2017, \\n]   \n",
       "Body Color                                                         [\\n, Red, \\n]   \n",
       "Paint Type                                                                   NaN   \n",
       "Body Color Original                                                  [\\nRosso\\n]   \n",
       "Upholstery                                                                   NaN   \n",
       "Body                                                     [\\n, Station wagon, \\n]   \n",
       "Nr. of Doors                                                             [\\n5\\n]   \n",
       "Nr. of Seats                                                             [\\n5\\n]   \n",
       "Model Code                                                                   NaN   \n",
       "Gearing Type                                                    [\\n, Manual, \\n]   \n",
       "Displacement                                                      [\\n1,149 cc\\n]   \n",
       "Cylinders                                                                [\\n4\\n]   \n",
       "Weight                                                            [\\n1,030 kg\\n]   \n",
       "Drive chain                                                          [\\nfront\\n]   \n",
       "Fuel                                                          [\\n, Gasoline, \\n]   \n",
       "Consumption                    [[5.7 l/100 km (comb)], [7.2 l/100 km (city)],...   \n",
       "CO2 Emission                                           [\\n127 g CO2/km (comb)\\n]   \n",
       "Emission Class                                                      [\\nEuro 6\\n]   \n",
       "\\nComfort & Convenience\\n      [Air conditioning, Cruise control, Electrical ...   \n",
       "\\nEntertainment & Media\\n        [Bluetooth, MP3, On-board computer, Radio, USB]   \n",
       "\\nExtras\\n                                                           [Roof rack]   \n",
       "\\nSafety & Security\\n          [ABS, Central door lock, Driver-side airbag, E...   \n",
       "description                    [\\nDEK:[2635075], RENAULT SELECTION, Il chilom...   \n",
       "Emission Label                                                               NaN   \n",
       "Gears                                                                    [\\n5\\n]   \n",
       "Country version                                                              NaN   \n",
       "Electricity consumption                                                      NaN   \n",
       "Last Service Date                                                            NaN   \n",
       "Other Fuel Types                                                             NaN   \n",
       "Availability                                                                 NaN   \n",
       "Last Timing Belt Service Date                                                NaN   \n",
       "Available from                                                               NaN   \n",
       "\n",
       "                                                                           9940   \\\n",
       "url                            https://www.autoscout24.com//offers/opel-corsa...   \n",
       "make_model                                                            Opel Corsa   \n",
       "short_description              1.4 Online Edition Automaat (NAV./AUTOMAAT/NIEUW!   \n",
       "body_type                                                                Compact   \n",
       "price                                                                      16999   \n",
       "vat                                                               VAT deductible   \n",
       "km                                                                         10 km   \n",
       "registration                                                             01/2019   \n",
       "prev_owner                                                                  None   \n",
       "kW                                                                           NaN   \n",
       "hp                                                                         66 kW   \n",
       "Type                                                        [, Used, , Gasoline]   \n",
       "Previous Owners                                                              NaN   \n",
       "Next Inspection                                                      \\n01/2023\\n   \n",
       "Inspection new                                                               NaN   \n",
       "Warranty                                 [\\n3 months\\n, \\n110 g CO2/km (comb)\\n]   \n",
       "Full Service                                                [\\n, \\n, \\nEuro 6\\n]   \n",
       "Non-smoking Vehicle                                                          NaN   \n",
       "null                                                                          []   \n",
       "Make                                                                    \\nOpel\\n   \n",
       "Model                                                            [\\n, Corsa, \\n]   \n",
       "Offer Number                                                        [\\nXJ069B\\n]   \n",
       "First Registration                                                [\\n, 2019, \\n]   \n",
       "Body Color                                                        [\\n, Grey, \\n]   \n",
       "Paint Type                                                        [\\nMetallic\\n]   \n",
       "Body Color Original                              [\\nQuantum Grey (donker grij\\n]   \n",
       "Upholstery                                             [\\nPart leather, Black\\n]   \n",
       "Body                                                           [\\n, Compact, \\n]   \n",
       "Nr. of Doors                                                             [\\n5\\n]   \n",
       "Nr. of Seats                                                             [\\n5\\n]   \n",
       "Model Code                                                                   NaN   \n",
       "Gearing Type                                                 [\\n, Automatic, \\n]   \n",
       "Displacement                                                      [\\n1,400 cc\\n]   \n",
       "Cylinders                                                                [\\n4\\n]   \n",
       "Weight                                                            [\\n1,063 kg\\n]   \n",
       "Drive chain                                                          [\\nfront\\n]   \n",
       "Fuel                                                          [\\n, Gasoline, \\n]   \n",
       "Consumption                    [[4.8 l/100 km (comb)], [5.8 l/100 km (city)],...   \n",
       "CO2 Emission                                           [\\n110 g CO2/km (comb)\\n]   \n",
       "Emission Class                                                      [\\nEuro 6\\n]   \n",
       "\\nComfort & Convenience\\n      [Air conditioning, Automatic climate control, ...   \n",
       "\\nEntertainment & Media\\n      [Digital radio, Hands-free equipment, On-board...   \n",
       "\\nExtras\\n                                         [Alloy wheels, Voice Control]   \n",
       "\\nSafety & Security\\n          [ABS, Alarm system, Central door lock, Daytime...   \n",
       "description                    [\\nBetreft een voorgeregistreerde Opel Corsa, ...   \n",
       "Emission Label                                                               NaN   \n",
       "Gears                                                                        NaN   \n",
       "Country version                                                [\\nNetherlands\\n]   \n",
       "Electricity consumption                                                      NaN   \n",
       "Last Service Date                                                            NaN   \n",
       "Other Fuel Types                                                             NaN   \n",
       "Availability                                                                 NaN   \n",
       "Last Timing Belt Service Date                                                NaN   \n",
       "Available from                                                               NaN   \n",
       "\n",
       "                                                                           8635   \\\n",
       "url                            https://www.autoscout24.com//offers/opel-corsa...   \n",
       "make_model                                                            Opel Corsa   \n",
       "short_description                                     1.2 Neu: TÜV/HU/Inspektion   \n",
       "body_type                                                                 Sedans   \n",
       "price                                                                       7550   \n",
       "vat                                                             Price negotiable   \n",
       "km                                                                     38,500 km   \n",
       "registration                                                             03/2016   \n",
       "prev_owner                                                                  None   \n",
       "kW                                                                           NaN   \n",
       "hp                                                                         51 kW   \n",
       "Type                                                        [, Used, , Gasoline]   \n",
       "Previous Owners                                                              NaN   \n",
       "Next Inspection                                                      \\n03/2021\\n   \n",
       "Inspection new                                                               NaN   \n",
       "Warranty                                                                     NaN   \n",
       "Full Service                                          [\\n, \\n, \\nEuro 6d-TEMP\\n]   \n",
       "Non-smoking Vehicle                                                     [\\n, \\n]   \n",
       "null                                                                          []   \n",
       "Make                                                                    \\nOpel\\n   \n",
       "Model                                                            [\\n, Corsa, \\n]   \n",
       "Offer Number                                                                 NaN   \n",
       "First Registration                                                [\\n, 2016, \\n]   \n",
       "Body Color                                                       [\\n, White, \\n]   \n",
       "Paint Type                                                                   NaN   \n",
       "Body Color Original                                                          NaN   \n",
       "Upholstery                                                                   NaN   \n",
       "Body                                                            [\\n, Sedans, \\n]   \n",
       "Nr. of Doors                                                             [\\n3\\n]   \n",
       "Nr. of Seats                                                             [\\n5\\n]   \n",
       "Model Code                                                        [\\n1844/ADF\\n]   \n",
       "Gearing Type                                                    [\\n, Manual, \\n]   \n",
       "Displacement                                                      [\\n1,229 cc\\n]   \n",
       "Cylinders                                                                [\\n4\\n]   \n",
       "Weight                                                            [\\n1,135 kg\\n]   \n",
       "Drive chain                                                                  NaN   \n",
       "Fuel                                                          [\\n, Gasoline, \\n]   \n",
       "Consumption                    [[5.6 l/100 km (comb)], [7.2 l/100 km (city)],...   \n",
       "CO2 Emission                                           [\\n129 g CO2/km (comb)\\n]   \n",
       "Emission Class                                                [\\nEuro 6d-TEMP\\n]   \n",
       "\\nComfort & Convenience\\n         [Air conditioning, Hill Holder, Power windows]   \n",
       "\\nEntertainment & Media\\n      [Bluetooth, Hands-free equipment, On-board com...   \n",
       "\\nExtras\\n                           [Touch screen, Voice Control, Winter tyres]   \n",
       "\\nSafety & Security\\n          [ABS, Central door lock, Central door lock wit...   \n",
       "description                    [\\nDas Auto wurde heute zur 3. Jahresinspektio...   \n",
       "Emission Label                                                               NaN   \n",
       "Gears                                                                    [\\n5\\n]   \n",
       "Country version                                                              NaN   \n",
       "Electricity consumption                                                      NaN   \n",
       "Last Service Date                         [\\n03/2019\\n, \\n129 g CO2/km (comb)\\n]   \n",
       "Other Fuel Types                                                             NaN   \n",
       "Availability                                                                 NaN   \n",
       "Last Timing Belt Service Date                                                NaN   \n",
       "Available from                                                               NaN   \n",
       "\n",
       "                                                                           9503   \n",
       "url                            https://www.autoscout24.com//offers/opel-corsa...  \n",
       "make_model                                                            Opel Corsa  \n",
       "short_description                                      1.4 66kW (90CV) Selective  \n",
       "body_type                                                                  Other  \n",
       "price                                                                       9500  \n",
       "vat                                                                         None  \n",
       "km                                                                      7,912 km  \n",
       "registration                                                             05/2018  \n",
       "prev_owner                                                      1 previous owner  \n",
       "kW                                                                           NaN  \n",
       "hp                                                                         66 kW  \n",
       "Type                                                        [, Used, , Gasoline]  \n",
       "Previous Owners                                                            \\n1\\n  \n",
       "Next Inspection                                                              NaN  \n",
       "Inspection new                                                               NaN  \n",
       "Warranty                                [\\n24 months\\n, \\n120 g CO2/km (comb)\\n]  \n",
       "Full Service                                                [\\n, \\n, \\nEuro 6\\n]  \n",
       "Non-smoking Vehicle                                                          NaN  \n",
       "null                                                                          []  \n",
       "Make                                                                    \\nOpel\\n  \n",
       "Model                                                            [\\n, Corsa, \\n]  \n",
       "Offer Number                                             [\\nA13_1540_3495_769\\n]  \n",
       "First Registration                                                [\\n, 2018, \\n]  \n",
       "Body Color                                                      [\\n, Silver, \\n]  \n",
       "Paint Type                                                        [\\nMetallic\\n]  \n",
       "Body Color Original                                               [\\nPlateado\\n]  \n",
       "Upholstery                                                                   NaN  \n",
       "Body                                                             [\\n, Other, \\n]  \n",
       "Nr. of Doors                                                             [\\n5\\n]  \n",
       "Nr. of Seats                                                             [\\n5\\n]  \n",
       "Model Code                                                                   NaN  \n",
       "Gearing Type                                                    [\\n, Manual, \\n]  \n",
       "Displacement                                                      [\\n1,398 cc\\n]  \n",
       "Cylinders                                                                [\\n4\\n]  \n",
       "Weight                                                            [\\n1,163 kg\\n]  \n",
       "Drive chain                                                                  NaN  \n",
       "Fuel                                                          [\\n, Gasoline, \\n]  \n",
       "Consumption                    [[5.2 l/100 km (comb)], [6.9 l/100 km (city)],...  \n",
       "CO2 Emission                                           [\\n120 g CO2/km (comb)\\n]  \n",
       "Emission Class                                                      [\\nEuro 6\\n]  \n",
       "\\nComfort & Convenience\\n                                                    NaN  \n",
       "\\nEntertainment & Media\\n                                                    NaN  \n",
       "\\nExtras\\n                                                                   NaN  \n",
       "\\nSafety & Security\\n                                                        NaN  \n",
       "description                    [\\nPRECIO FINAL SUJETO A FINANCIACIÓN. CONSULT...  \n",
       "Emission Label                                                               NaN  \n",
       "Gears                                                                    [\\n5\\n]  \n",
       "Country version                                                              NaN  \n",
       "Electricity consumption                                                      NaN  \n",
       "Last Service Date                                                            NaN  \n",
       "Other Fuel Types                                                             NaN  \n",
       "Availability                                                                 NaN  \n",
       "Last Timing Belt Service Date                                                NaN  \n",
       "Available from                                                               NaN  "
      ]
     },
     "execution_count": 3,
     "metadata": {},
     "output_type": "execute_result"
    }
   ],
   "source": [
    "df.sample(5).T"
   ]
  },
  {
   "cell_type": "code",
   "execution_count": 4,
   "id": "1edb2d73",
   "metadata": {},
   "outputs": [
    {
     "name": "stdout",
     "output_type": "stream",
     "text": [
      "<class 'pandas.core.frame.DataFrame'>\n",
      "RangeIndex: 15919 entries, 0 to 15918\n",
      "Data columns (total 54 columns):\n",
      " #   Column                         Non-Null Count  Dtype  \n",
      "---  ------                         --------------  -----  \n",
      " 0   url                            15919 non-null  object \n",
      " 1   make_model                     15919 non-null  object \n",
      " 2   short_description              15873 non-null  object \n",
      " 3   body_type                      15859 non-null  object \n",
      " 4   price                          15919 non-null  int64  \n",
      " 5   vat                            11406 non-null  object \n",
      " 6   km                             15919 non-null  object \n",
      " 7   registration                   15919 non-null  object \n",
      " 8   prev_owner                     9091 non-null   object \n",
      " 9   kW                             0 non-null      float64\n",
      " 10  hp                             15919 non-null  object \n",
      " 11  Type                           15917 non-null  object \n",
      " 12  Previous Owners                9279 non-null   object \n",
      " 13  Next Inspection                3535 non-null   object \n",
      " 14  Inspection new                 3932 non-null   object \n",
      " 15  Warranty                       10499 non-null  object \n",
      " 16  Full Service                   8215 non-null   object \n",
      " 17  Non-smoking Vehicle            7177 non-null   object \n",
      " 18  null                           15919 non-null  object \n",
      " 19  Make                           15919 non-null  object \n",
      " 20  Model                          15919 non-null  object \n",
      " 21  Offer Number                   12744 non-null  object \n",
      " 22  First Registration             14322 non-null  object \n",
      " 23  Body Color                     15322 non-null  object \n",
      " 24  Paint Type                     10147 non-null  object \n",
      " 25  Body Color Original            12160 non-null  object \n",
      " 26  Upholstery                     12199 non-null  object \n",
      " 27  Body                           15859 non-null  object \n",
      " 28  Nr. of Doors                   15707 non-null  object \n",
      " 29  Nr. of Seats                   14942 non-null  object \n",
      " 30  Model Code                     4978 non-null   object \n",
      " 31  Gearing Type                   15919 non-null  object \n",
      " 32  Displacement                   15423 non-null  object \n",
      " 33  Cylinders                      10239 non-null  object \n",
      " 34  Weight                         8945 non-null   object \n",
      " 35  Drive chain                    9061 non-null   object \n",
      " 36  Fuel                           15919 non-null  object \n",
      " 37  Consumption                    14013 non-null  object \n",
      " 38  CO2 Emission                   14111 non-null  object \n",
      " 39  Emission Class                 12898 non-null  object \n",
      " 40  \n",
      "Comfort & Convenience\n",
      "        14999 non-null  object \n",
      " 41  \n",
      "Entertainment & Media\n",
      "        14545 non-null  object \n",
      " 42  \n",
      "Extras\n",
      "                       12957 non-null  object \n",
      " 43  \n",
      "Safety & Security\n",
      "            14937 non-null  object \n",
      " 44  description                    15919 non-null  object \n",
      " 45  Emission Label                 3985 non-null   object \n",
      " 46  Gears                          11207 non-null  object \n",
      " 47  Country version                7586 non-null   object \n",
      " 48  Electricity consumption        137 non-null    object \n",
      " 49  Last Service Date              566 non-null    object \n",
      " 50  Other Fuel Types               880 non-null    object \n",
      " 51  Availability                   635 non-null    object \n",
      " 52  Last Timing Belt Service Date  16 non-null     object \n",
      " 53  Available from                 272 non-null    object \n",
      "dtypes: float64(1), int64(1), object(52)\n",
      "memory usage: 6.6+ MB\n"
     ]
    }
   ],
   "source": [
    "df.info()"
   ]
  },
  {
   "cell_type": "code",
   "execution_count": 5,
   "id": "d8f17acc",
   "metadata": {},
   "outputs": [],
   "source": [
    "## bazı sütunlar isimlerinde newline karakterler olduğundan dolayı sıkıntılar var"
   ]
  },
  {
   "cell_type": "code",
   "execution_count": 6,
   "id": "cf2e3c97",
   "metadata": {},
   "outputs": [
    {
     "data": {
      "text/plain": [
       "Index(['url', 'make_model', 'short_description', 'body_type', 'price', 'vat',\n",
       "       'km', 'registration', 'prev_owner', 'kW', 'hp', 'Type',\n",
       "       'Previous Owners', 'Next Inspection', 'Inspection new', 'Warranty',\n",
       "       'Full Service', 'Non-smoking Vehicle', 'null', 'Make', 'Model',\n",
       "       'Offer Number', 'First Registration', 'Body Color', 'Paint Type',\n",
       "       'Body Color Original', 'Upholstery', 'Body', 'Nr. of Doors',\n",
       "       'Nr. of Seats', 'Model Code', 'Gearing Type', 'Displacement',\n",
       "       'Cylinders', 'Weight', 'Drive chain', 'Fuel', 'Consumption',\n",
       "       'CO2 Emission', 'Emission Class', '\\nComfort & Convenience\\n',\n",
       "       '\\nEntertainment & Media\\n', '\\nExtras\\n', '\\nSafety & Security\\n',\n",
       "       'description', 'Emission Label', 'Gears', 'Country version',\n",
       "       'Electricity consumption', 'Last Service Date', 'Other Fuel Types',\n",
       "       'Availability', 'Last Timing Belt Service Date', 'Available from'],\n",
       "      dtype='object')"
      ]
     },
     "execution_count": 6,
     "metadata": {},
     "output_type": "execute_result"
    }
   ],
   "source": [
    "df.columns"
   ]
  },
  {
   "cell_type": "code",
   "execution_count": 7,
   "id": "ed02dc0f",
   "metadata": {},
   "outputs": [
    {
     "name": "stdout",
     "output_type": "stream",
     "text": [
      "<class 'pandas.core.frame.DataFrame'>\n",
      "RangeIndex: 15919 entries, 0 to 15918\n",
      "Data columns (total 54 columns):\n",
      " #   Column                         Non-Null Count  Dtype  \n",
      "---  ------                         --------------  -----  \n",
      " 0   url                            15919 non-null  object \n",
      " 1   make_model                     15919 non-null  object \n",
      " 2   short_description              15873 non-null  object \n",
      " 3   body_type                      15859 non-null  object \n",
      " 4   price                          15919 non-null  int64  \n",
      " 5   vat                            11406 non-null  object \n",
      " 6   km                             15919 non-null  object \n",
      " 7   registration                   15919 non-null  object \n",
      " 8   prev_owner                     9091 non-null   object \n",
      " 9   kW                             0 non-null      float64\n",
      " 10  hp                             15919 non-null  object \n",
      " 11  Type                           15917 non-null  object \n",
      " 12  Previous Owners                9279 non-null   object \n",
      " 13  Next Inspection                3535 non-null   object \n",
      " 14  Inspection new                 3932 non-null   object \n",
      " 15  Warranty                       10499 non-null  object \n",
      " 16  Full Service                   8215 non-null   object \n",
      " 17  Non-smoking Vehicle            7177 non-null   object \n",
      " 18  null                           15919 non-null  object \n",
      " 19  Make                           15919 non-null  object \n",
      " 20  Model                          15919 non-null  object \n",
      " 21  Offer Number                   12744 non-null  object \n",
      " 22  First Registration             14322 non-null  object \n",
      " 23  Body Color                     15322 non-null  object \n",
      " 24  Paint Type                     10147 non-null  object \n",
      " 25  Body Color Original            12160 non-null  object \n",
      " 26  Upholstery                     12199 non-null  object \n",
      " 27  Body                           15859 non-null  object \n",
      " 28  Nr. of Doors                   15707 non-null  object \n",
      " 29  Nr. of Seats                   14942 non-null  object \n",
      " 30  Model Code                     4978 non-null   object \n",
      " 31  Gearing Type                   15919 non-null  object \n",
      " 32  Displacement                   15423 non-null  object \n",
      " 33  Cylinders                      10239 non-null  object \n",
      " 34  Weight                         8945 non-null   object \n",
      " 35  Drive chain                    9061 non-null   object \n",
      " 36  Fuel                           15919 non-null  object \n",
      " 37  Consumption                    14013 non-null  object \n",
      " 38  CO2 Emission                   14111 non-null  object \n",
      " 39  Emission Class                 12898 non-null  object \n",
      " 40  Comfort & Convenience          14999 non-null  object \n",
      " 41  Entertainment & Media          14545 non-null  object \n",
      " 42  Extras                         12957 non-null  object \n",
      " 43  Safety & Security              14937 non-null  object \n",
      " 44  description                    15919 non-null  object \n",
      " 45  Emission Label                 3985 non-null   object \n",
      " 46  Gears                          11207 non-null  object \n",
      " 47  Country version                7586 non-null   object \n",
      " 48  Electricity consumption        137 non-null    object \n",
      " 49  Last Service Date              566 non-null    object \n",
      " 50  Other Fuel Types               880 non-null    object \n",
      " 51  Availability                   635 non-null    object \n",
      " 52  Last Timing Belt Service Date  16 non-null     object \n",
      " 53  Available from                 272 non-null    object \n",
      "dtypes: float64(1), int64(1), object(52)\n",
      "memory usage: 6.6+ MB\n"
     ]
    }
   ],
   "source": [
    " df.rename(columns={\"\\nEntertainment & Media\\n\":\"Entertainment & Media\",\n",
    "                    '\\nComfort & Convenience\\n':\"Comfort & Convenience\",\n",
    "                    \"\\nExtras\\n\" : \"Extras\",\n",
    "                    '\\nSafety & Security\\n':\"Safety & Security\"\n",
    "                   \n",
    "                   \n",
    "                   }).info()"
   ]
  },
  {
   "cell_type": "code",
   "execution_count": 8,
   "id": "16aa63fa",
   "metadata": {},
   "outputs": [],
   "source": [
    " df.rename(columns={\"\\nEntertainment & Media\\n\":\"Entertainment & Media\",\n",
    "                    '\\nComfort & Convenience\\n':\"Comfort & Convenience\",\n",
    "                    \"\\nExtras\\n\" : \"Extras\",\n",
    "                    '\\nSafety & Security\\n':\"Safety & Security\"\n",
    "                   \n",
    "                   \n",
    "                   },inplace=True)"
   ]
  },
  {
   "cell_type": "code",
   "execution_count": 9,
   "id": "0f59de87",
   "metadata": {},
   "outputs": [
    {
     "data": {
      "text/plain": [
       "(15919, 54)"
      ]
     },
     "execution_count": 9,
     "metadata": {},
     "output_type": "execute_result"
    }
   ],
   "source": [
    "df.shape"
   ]
  },
  {
   "cell_type": "code",
   "execution_count": 10,
   "id": "c81052bf",
   "metadata": {},
   "outputs": [
    {
     "data": {
      "text/plain": [
       "url                                  0\n",
       "make_model                           0\n",
       "short_description                   46\n",
       "body_type                           60\n",
       "price                                0\n",
       "vat                               4513\n",
       "km                                   0\n",
       "registration                         0\n",
       "prev_owner                        6828\n",
       "kW                               15919\n",
       "hp                                   0\n",
       "Type                                 2\n",
       "Previous Owners                   6640\n",
       "Next Inspection                  12384\n",
       "Inspection new                   11987\n",
       "Warranty                          5420\n",
       "Full Service                      7704\n",
       "Non-smoking Vehicle               8742\n",
       "null                                 0\n",
       "Make                                 0\n",
       "Model                                0\n",
       "Offer Number                      3175\n",
       "First Registration                1597\n",
       "Body Color                         597\n",
       "Paint Type                        5772\n",
       "Body Color Original               3759\n",
       "Upholstery                        3720\n",
       "Body                                60\n",
       "Nr. of Doors                       212\n",
       "Nr. of Seats                       977\n",
       "Model Code                       10941\n",
       "Gearing Type                         0\n",
       "Displacement                       496\n",
       "Cylinders                         5680\n",
       "Weight                            6974\n",
       "Drive chain                       6858\n",
       "Fuel                                 0\n",
       "Consumption                       1906\n",
       "CO2 Emission                      1808\n",
       "Emission Class                    3021\n",
       "Comfort & Convenience              920\n",
       "Entertainment & Media             1374\n",
       "Extras                            2962\n",
       "Safety & Security                  982\n",
       "description                          0\n",
       "Emission Label                   11934\n",
       "Gears                             4712\n",
       "Country version                   8333\n",
       "Electricity consumption          15782\n",
       "Last Service Date                15353\n",
       "Other Fuel Types                 15039\n",
       "Availability                     15284\n",
       "Last Timing Belt Service Date    15903\n",
       "Available from                   15647\n",
       "dtype: int64"
      ]
     },
     "execution_count": 10,
     "metadata": {},
     "output_type": "execute_result"
    }
   ],
   "source": [
    "df.isna().sum()        # gerçek NaN'ları ve None'ları verecek garip değerleri değil."
   ]
  },
  {
   "cell_type": "markdown",
   "id": "38de10ae",
   "metadata": {},
   "source": [
    "Electricity consumption          15782\n",
    "Last Service Date                15353\n",
    "Other Fuel Types                 15039\n",
    "Availability                     15284\n",
    "Last Timing Belt Service Date    15903\n",
    "Available from                   15647\n",
    "kW                               15919                   ## bunlar düşülebilir hemen."
   ]
  },
  {
   "cell_type": "code",
   "execution_count": 11,
   "id": "b8295b29",
   "metadata": {},
   "outputs": [
    {
     "data": {
      "text/plain": [
       "url                               0.000\n",
       "make_model                        0.000\n",
       "short_description                 0.289\n",
       "body_type                         0.377\n",
       "price                             0.000\n",
       "vat                              28.350\n",
       "km                                0.000\n",
       "registration                      0.000\n",
       "prev_owner                       42.892\n",
       "kW                              100.000\n",
       "hp                                0.000\n",
       "Type                              0.013\n",
       "Previous Owners                  41.711\n",
       "Next Inspection                  77.794\n",
       "Inspection new                   75.300\n",
       "Warranty                         34.047\n",
       "Full Service                     48.395\n",
       "Non-smoking Vehicle              54.916\n",
       "null                              0.000\n",
       "Make                              0.000\n",
       "Model                             0.000\n",
       "Offer Number                     19.945\n",
       "First Registration               10.032\n",
       "Body Color                        3.750\n",
       "Paint Type                       36.259\n",
       "Body Color Original              23.613\n",
       "Upholstery                       23.368\n",
       "Body                              0.377\n",
       "Nr. of Doors                      1.332\n",
       "Nr. of Seats                      6.137\n",
       "Model Code                       68.729\n",
       "Gearing Type                      0.000\n",
       "Displacement                      3.116\n",
       "Cylinders                        35.681\n",
       "Weight                           43.809\n",
       "Drive chain                      43.081\n",
       "Fuel                              0.000\n",
       "Consumption                      11.973\n",
       "CO2 Emission                     11.357\n",
       "Emission Class                   18.977\n",
       "Comfort & Convenience             5.779\n",
       "Entertainment & Media             8.631\n",
       "Extras                           18.607\n",
       "Safety & Security                 6.169\n",
       "description                       0.000\n",
       "Emission Label                   74.967\n",
       "Gears                            29.600\n",
       "Country version                  52.346\n",
       "Electricity consumption          99.139\n",
       "Last Service Date                96.445\n",
       "Other Fuel Types                 94.472\n",
       "Availability                     96.011\n",
       "Last Timing Belt Service Date    99.899\n",
       "Available from                   98.291\n",
       "dtype: float64"
      ]
     },
     "execution_count": 11,
     "metadata": {},
     "output_type": "execute_result"
    }
   ],
   "source": [
    "df.isna().sum() / len(df) * 100  "
   ]
  },
  {
   "cell_type": "code",
   "execution_count": 12,
   "id": "9db44b73",
   "metadata": {},
   "outputs": [],
   "source": [
    "## % 85'den fazla missing value olan sütunlar düşülebilir."
   ]
  },
  {
   "cell_type": "code",
   "execution_count": 13,
   "id": "f4d0d156",
   "metadata": {},
   "outputs": [
    {
     "data": {
      "text/plain": [
       "(15919, 47)"
      ]
     },
     "execution_count": 13,
     "metadata": {},
     "output_type": "execute_result"
    }
   ],
   "source": [
    "df.drop(labels=[\"Available from\",\"Last Timing Belt Service Date\",\"Availability\",\"Other Fuel Types\",\"Last Service Date\",\n",
    "               \"Electricity consumption\",\"kW\"],axis=1).shape"
   ]
  },
  {
   "cell_type": "code",
   "execution_count": 14,
   "id": "e99ee44d",
   "metadata": {},
   "outputs": [],
   "source": [
    "df.drop(labels=[\"Available from\",\"Last Timing Belt Service Date\",\"Availability\",\"Other Fuel Types\",\"Last Service Date\",\n",
    "               \"Electricity consumption\",\"kW\"],axis=1,inplace=True)"
   ]
  },
  {
   "cell_type": "code",
   "execution_count": 15,
   "id": "b0d7b595",
   "metadata": {},
   "outputs": [
    {
     "name": "stdout",
     "output_type": "stream",
     "text": [
      "<class 'pandas.core.frame.DataFrame'>\n",
      "RangeIndex: 15919 entries, 0 to 15918\n",
      "Data columns (total 47 columns):\n",
      " #   Column                 Non-Null Count  Dtype \n",
      "---  ------                 --------------  ----- \n",
      " 0   url                    15919 non-null  object\n",
      " 1   make_model             15919 non-null  object\n",
      " 2   short_description      15873 non-null  object\n",
      " 3   body_type              15859 non-null  object\n",
      " 4   price                  15919 non-null  int64 \n",
      " 5   vat                    11406 non-null  object\n",
      " 6   km                     15919 non-null  object\n",
      " 7   registration           15919 non-null  object\n",
      " 8   prev_owner             9091 non-null   object\n",
      " 9   hp                     15919 non-null  object\n",
      " 10  Type                   15917 non-null  object\n",
      " 11  Previous Owners        9279 non-null   object\n",
      " 12  Next Inspection        3535 non-null   object\n",
      " 13  Inspection new         3932 non-null   object\n",
      " 14  Warranty               10499 non-null  object\n",
      " 15  Full Service           8215 non-null   object\n",
      " 16  Non-smoking Vehicle    7177 non-null   object\n",
      " 17  null                   15919 non-null  object\n",
      " 18  Make                   15919 non-null  object\n",
      " 19  Model                  15919 non-null  object\n",
      " 20  Offer Number           12744 non-null  object\n",
      " 21  First Registration     14322 non-null  object\n",
      " 22  Body Color             15322 non-null  object\n",
      " 23  Paint Type             10147 non-null  object\n",
      " 24  Body Color Original    12160 non-null  object\n",
      " 25  Upholstery             12199 non-null  object\n",
      " 26  Body                   15859 non-null  object\n",
      " 27  Nr. of Doors           15707 non-null  object\n",
      " 28  Nr. of Seats           14942 non-null  object\n",
      " 29  Model Code             4978 non-null   object\n",
      " 30  Gearing Type           15919 non-null  object\n",
      " 31  Displacement           15423 non-null  object\n",
      " 32  Cylinders              10239 non-null  object\n",
      " 33  Weight                 8945 non-null   object\n",
      " 34  Drive chain            9061 non-null   object\n",
      " 35  Fuel                   15919 non-null  object\n",
      " 36  Consumption            14013 non-null  object\n",
      " 37  CO2 Emission           14111 non-null  object\n",
      " 38  Emission Class         12898 non-null  object\n",
      " 39  Comfort & Convenience  14999 non-null  object\n",
      " 40  Entertainment & Media  14545 non-null  object\n",
      " 41  Extras                 12957 non-null  object\n",
      " 42  Safety & Security      14937 non-null  object\n",
      " 43  description            15919 non-null  object\n",
      " 44  Emission Label         3985 non-null   object\n",
      " 45  Gears                  11207 non-null  object\n",
      " 46  Country version        7586 non-null   object\n",
      "dtypes: int64(1), object(46)\n",
      "memory usage: 5.7+ MB\n"
     ]
    }
   ],
   "source": [
    "df.info()"
   ]
  },
  {
   "cell_type": "code",
   "execution_count": 16,
   "id": "d547ec20",
   "metadata": {},
   "outputs": [],
   "source": [
    " # df.nunique()   # TypeError: unhashable type: 'list  bundan dolayı  str methodlarını daha iyi uygulayabilmem için\n",
    "                 # listedeki verileri stringe dönüştürmeliyim."
   ]
  },
  {
   "cell_type": "code",
   "execution_count": 17,
   "id": "6e0bac86",
   "metadata": {},
   "outputs": [
    {
     "data": {
      "text/html": [
       "<div>\n",
       "<style scoped>\n",
       "    .dataframe tbody tr th:only-of-type {\n",
       "        vertical-align: middle;\n",
       "    }\n",
       "\n",
       "    .dataframe tbody tr th {\n",
       "        vertical-align: top;\n",
       "    }\n",
       "\n",
       "    .dataframe thead th {\n",
       "        text-align: right;\n",
       "    }\n",
       "</style>\n",
       "<table border=\"1\" class=\"dataframe\">\n",
       "  <thead>\n",
       "    <tr style=\"text-align: right;\">\n",
       "      <th></th>\n",
       "      <th>url</th>\n",
       "      <th>make_model</th>\n",
       "      <th>short_description</th>\n",
       "      <th>body_type</th>\n",
       "      <th>price</th>\n",
       "      <th>vat</th>\n",
       "      <th>km</th>\n",
       "      <th>registration</th>\n",
       "      <th>prev_owner</th>\n",
       "      <th>hp</th>\n",
       "      <th>Type</th>\n",
       "      <th>Previous Owners</th>\n",
       "      <th>Next Inspection</th>\n",
       "      <th>Inspection new</th>\n",
       "      <th>Warranty</th>\n",
       "      <th>Full Service</th>\n",
       "      <th>Non-smoking Vehicle</th>\n",
       "      <th>null</th>\n",
       "      <th>Make</th>\n",
       "      <th>Model</th>\n",
       "      <th>Offer Number</th>\n",
       "      <th>First Registration</th>\n",
       "      <th>Body Color</th>\n",
       "      <th>Paint Type</th>\n",
       "      <th>Body Color Original</th>\n",
       "      <th>Upholstery</th>\n",
       "      <th>Body</th>\n",
       "      <th>Nr. of Doors</th>\n",
       "      <th>Nr. of Seats</th>\n",
       "      <th>Model Code</th>\n",
       "      <th>Gearing Type</th>\n",
       "      <th>Displacement</th>\n",
       "      <th>Cylinders</th>\n",
       "      <th>Weight</th>\n",
       "      <th>Drive chain</th>\n",
       "      <th>Fuel</th>\n",
       "      <th>Consumption</th>\n",
       "      <th>CO2 Emission</th>\n",
       "      <th>Emission Class</th>\n",
       "      <th>Comfort &amp; Convenience</th>\n",
       "      <th>Entertainment &amp; Media</th>\n",
       "      <th>Extras</th>\n",
       "      <th>Safety &amp; Security</th>\n",
       "      <th>description</th>\n",
       "      <th>Emission Label</th>\n",
       "      <th>Gears</th>\n",
       "      <th>Country version</th>\n",
       "    </tr>\n",
       "  </thead>\n",
       "  <tbody>\n",
       "    <tr>\n",
       "      <th>1377</th>\n",
       "      <td>https://www.autoscout24.com//offers/audi-a1-1-...</td>\n",
       "      <td>Audi A1</td>\n",
       "      <td>1.4 TDI Sportback /Euro6 /Navi /SHZ /PDC</td>\n",
       "      <td>Sedans</td>\n",
       "      <td>14999</td>\n",
       "      <td>VAT deductible</td>\n",
       "      <td>13,790 km</td>\n",
       "      <td>05/2017</td>\n",
       "      <td>1 previous owner</td>\n",
       "      <td>66 kW</td>\n",
       "      <td>,Used,,Diesel (Particulate Filter)</td>\n",
       "      <td>\\n1\\n</td>\n",
       "      <td>NaN</td>\n",
       "      <td>\\nYes\\n,\\n90 g CO2/km (comb)\\n</td>\n",
       "      <td>\\n,\\n,\\nEuro 6\\n</td>\n",
       "      <td>\\n,\\n,\\n4 (Green)\\n</td>\n",
       "      <td>\\n,\\n</td>\n",
       "      <td></td>\n",
       "      <td>\\nAudi\\n</td>\n",
       "      <td>\\n,A1,\\n</td>\n",
       "      <td>\\n0283N\\n</td>\n",
       "      <td>\\n,2017,\\n</td>\n",
       "      <td>\\n,Black,\\n</td>\n",
       "      <td>\\nMetallic\\n</td>\n",
       "      <td>\\nMythosschwarz\\n</td>\n",
       "      <td>\\nCloth, Black\\n</td>\n",
       "      <td>\\n,Sedans,\\n</td>\n",
       "      <td>\\n5\\n</td>\n",
       "      <td>\\n4\\n</td>\n",
       "      <td>\\n0588/BDF\\n</td>\n",
       "      <td>\\n,Manual,\\n</td>\n",
       "      <td>\\n1,422 cc\\n</td>\n",
       "      <td>\\n3\\n</td>\n",
       "      <td>NaN</td>\n",
       "      <td>\\nfront\\n</td>\n",
       "      <td>\\n,Diesel (Particulate Filter),\\n</td>\n",
       "      <td>['3.4 l/100 km (comb)'],['3.9 l/100 km (city)'...</td>\n",
       "      <td>\\n90 g CO2/km (comb)\\n</td>\n",
       "      <td>\\nEuro 6\\n</td>\n",
       "      <td>Air conditioning,Armrest,Automatic climate con...</td>\n",
       "      <td>Bluetooth,CD player,Hands-free equipment,On-bo...</td>\n",
       "      <td>Alloy wheels,Sport seats</td>\n",
       "      <td>ABS,Central door lock,Daytime running lights,D...</td>\n",
       "      <td>\\n,Farbe: Mythosschwarz Metallic,Polster: Stof...</td>\n",
       "      <td>NaN</td>\n",
       "      <td>\\n5\\n</td>\n",
       "      <td>NaN</td>\n",
       "    </tr>\n",
       "    <tr>\n",
       "      <th>15169</th>\n",
       "      <td>https://www.autoscout24.com//offers/renault-es...</td>\n",
       "      <td>Renault Espace</td>\n",
       "      <td>TCe 200 Initiale Paris Energy EDC 147 kW (200</td>\n",
       "      <td>Station wagon</td>\n",
       "      <td>21950</td>\n",
       "      <td>VAT deductible</td>\n",
       "      <td>79,000 km</td>\n",
       "      <td>05/2016</td>\n",
       "      <td>None</td>\n",
       "      <td>147 kW</td>\n",
       "      <td>,Used,,Super 95</td>\n",
       "      <td>NaN</td>\n",
       "      <td>NaN</td>\n",
       "      <td>NaN</td>\n",
       "      <td>\\n12 months\\n</td>\n",
       "      <td>NaN</td>\n",
       "      <td>\\n,\\n,\\n140 g CO2/km (comb)\\n</td>\n",
       "      <td></td>\n",
       "      <td>\\nRenault\\n</td>\n",
       "      <td>\\n,Espace,\\n</td>\n",
       "      <td>\\n4944057\\n</td>\n",
       "      <td>\\n,2016,\\n</td>\n",
       "      <td>\\n,White,\\n</td>\n",
       "      <td>\\nMetallic\\n</td>\n",
       "      <td>NaN</td>\n",
       "      <td>\\nFull leather, Grey\\n</td>\n",
       "      <td>\\n,Station wagon,\\n</td>\n",
       "      <td>\\n5\\n</td>\n",
       "      <td>\\n5\\n</td>\n",
       "      <td>NaN</td>\n",
       "      <td>\\n,Automatic,\\n</td>\n",
       "      <td>\\n1,618 cc\\n</td>\n",
       "      <td>\\n4\\n</td>\n",
       "      <td>\\n1,609 kg\\n</td>\n",
       "      <td>\\nfront\\n</td>\n",
       "      <td>\\n,Super 95,\\n</td>\n",
       "      <td>['6.2 l/100 km (comb)'],['7.8 l/100 km (city)'...</td>\n",
       "      <td>\\n140 g CO2/km (comb)\\n</td>\n",
       "      <td>\\nEuro 6\\n</td>\n",
       "      <td>Air conditioning,Armrest,Cruise control,Electr...</td>\n",
       "      <td>Bluetooth,On-board computer,Radio</td>\n",
       "      <td>Alloy wheels,Voice Control</td>\n",
       "      <td>ABS,Central door lock,Daytime running lights,D...</td>\n",
       "      <td>\\n353 Euros/mes SIN entrada. Admitimos tu coch...</td>\n",
       "      <td>NaN</td>\n",
       "      <td>\\n6\\n</td>\n",
       "      <td>NaN</td>\n",
       "    </tr>\n",
       "  </tbody>\n",
       "</table>\n",
       "</div>"
      ],
      "text/plain": [
       "                                                     url      make_model  \\\n",
       "1377   https://www.autoscout24.com//offers/audi-a1-1-...         Audi A1   \n",
       "15169  https://www.autoscout24.com//offers/renault-es...  Renault Espace   \n",
       "\n",
       "                                   short_description      body_type  price  \\\n",
       "1377        1.4 TDI Sportback /Euro6 /Navi /SHZ /PDC         Sedans  14999   \n",
       "15169  TCe 200 Initiale Paris Energy EDC 147 kW (200  Station wagon  21950   \n",
       "\n",
       "                  vat         km registration        prev_owner      hp  \\\n",
       "1377   VAT deductible  13,790 km      05/2017  1 previous owner   66 kW   \n",
       "15169  VAT deductible  79,000 km      05/2016              None  147 kW   \n",
       "\n",
       "                                     Type Previous Owners Next Inspection  \\\n",
       "1377   ,Used,,Diesel (Particulate Filter)           \\n1\\n             NaN   \n",
       "15169                     ,Used,,Super 95             NaN             NaN   \n",
       "\n",
       "                       Inspection new          Warranty         Full Service  \\\n",
       "1377   \\nYes\\n,\\n90 g CO2/km (comb)\\n  \\n,\\n,\\nEuro 6\\n  \\n,\\n,\\n4 (Green)\\n   \n",
       "15169                             NaN     \\n12 months\\n                  NaN   \n",
       "\n",
       "                 Non-smoking Vehicle null         Make         Model  \\\n",
       "1377                           \\n,\\n          \\nAudi\\n      \\n,A1,\\n   \n",
       "15169  \\n,\\n,\\n140 g CO2/km (comb)\\n       \\nRenault\\n  \\n,Espace,\\n   \n",
       "\n",
       "      Offer Number First Registration   Body Color    Paint Type  \\\n",
       "1377     \\n0283N\\n         \\n,2017,\\n  \\n,Black,\\n  \\nMetallic\\n   \n",
       "15169  \\n4944057\\n         \\n,2016,\\n  \\n,White,\\n  \\nMetallic\\n   \n",
       "\n",
       "      Body Color Original              Upholstery                 Body  \\\n",
       "1377    \\nMythosschwarz\\n        \\nCloth, Black\\n         \\n,Sedans,\\n   \n",
       "15169                 NaN  \\nFull leather, Grey\\n  \\n,Station wagon,\\n   \n",
       "\n",
       "      Nr. of Doors Nr. of Seats    Model Code     Gearing Type  Displacement  \\\n",
       "1377         \\n5\\n        \\n4\\n  \\n0588/BDF\\n     \\n,Manual,\\n  \\n1,422 cc\\n   \n",
       "15169        \\n5\\n        \\n5\\n           NaN  \\n,Automatic,\\n  \\n1,618 cc\\n   \n",
       "\n",
       "      Cylinders        Weight Drive chain                               Fuel  \\\n",
       "1377      \\n3\\n           NaN   \\nfront\\n  \\n,Diesel (Particulate Filter),\\n   \n",
       "15169     \\n4\\n  \\n1,609 kg\\n   \\nfront\\n                     \\n,Super 95,\\n   \n",
       "\n",
       "                                             Consumption  \\\n",
       "1377   ['3.4 l/100 km (comb)'],['3.9 l/100 km (city)'...   \n",
       "15169  ['6.2 l/100 km (comb)'],['7.8 l/100 km (city)'...   \n",
       "\n",
       "                  CO2 Emission Emission Class  \\\n",
       "1377    \\n90 g CO2/km (comb)\\n     \\nEuro 6\\n   \n",
       "15169  \\n140 g CO2/km (comb)\\n     \\nEuro 6\\n   \n",
       "\n",
       "                                   Comfort & Convenience  \\\n",
       "1377   Air conditioning,Armrest,Automatic climate con...   \n",
       "15169  Air conditioning,Armrest,Cruise control,Electr...   \n",
       "\n",
       "                                   Entertainment & Media  \\\n",
       "1377   Bluetooth,CD player,Hands-free equipment,On-bo...   \n",
       "15169                  Bluetooth,On-board computer,Radio   \n",
       "\n",
       "                           Extras  \\\n",
       "1377     Alloy wheels,Sport seats   \n",
       "15169  Alloy wheels,Voice Control   \n",
       "\n",
       "                                       Safety & Security  \\\n",
       "1377   ABS,Central door lock,Daytime running lights,D...   \n",
       "15169  ABS,Central door lock,Daytime running lights,D...   \n",
       "\n",
       "                                             description Emission Label  \\\n",
       "1377   \\n,Farbe: Mythosschwarz Metallic,Polster: Stof...            NaN   \n",
       "15169  \\n353 Euros/mes SIN entrada. Admitimos tu coch...            NaN   \n",
       "\n",
       "       Gears Country version  \n",
       "1377   \\n5\\n             NaN  \n",
       "15169  \\n6\\n             NaN  "
      ]
     },
     "execution_count": 17,
     "metadata": {},
     "output_type": "execute_result"
    }
   ],
   "source": [
    "df = df.applymap(lambda x: ','.join(map(str, x)) if isinstance(x, list) else x)\n",
    "df.sample(2)"
   ]
  },
  {
   "cell_type": "code",
   "execution_count": 18,
   "id": "f04b13e5",
   "metadata": {},
   "outputs": [],
   "source": [
    "## bazı \\n'leri df'den temizleyebiliriz kolayca : "
   ]
  },
  {
   "cell_type": "code",
   "execution_count": 19,
   "id": "3ea22728",
   "metadata": {},
   "outputs": [
    {
     "name": "stdout",
     "output_type": "stream",
     "text": [
      "<class 'pandas.core.frame.DataFrame'>\n",
      "RangeIndex: 15919 entries, 0 to 15918\n",
      "Data columns (total 47 columns):\n",
      " #   Column                 Non-Null Count  Dtype \n",
      "---  ------                 --------------  ----- \n",
      " 0   url                    15919 non-null  object\n",
      " 1   make_model             15919 non-null  object\n",
      " 2   short_description      15873 non-null  object\n",
      " 3   body_type              15859 non-null  object\n",
      " 4   price                  15919 non-null  int64 \n",
      " 5   vat                    11406 non-null  object\n",
      " 6   km                     15919 non-null  object\n",
      " 7   registration           15919 non-null  object\n",
      " 8   prev_owner             9091 non-null   object\n",
      " 9   hp                     15919 non-null  object\n",
      " 10  Type                   15917 non-null  object\n",
      " 11  Previous Owners        9279 non-null   object\n",
      " 12  Next Inspection        3535 non-null   object\n",
      " 13  Inspection new         3932 non-null   object\n",
      " 14  Warranty               10499 non-null  object\n",
      " 15  Full Service           8215 non-null   object\n",
      " 16  Non-smoking Vehicle    7177 non-null   object\n",
      " 17  null                   15919 non-null  object\n",
      " 18  Make                   15919 non-null  object\n",
      " 19  Model                  15919 non-null  object\n",
      " 20  Offer Number           12744 non-null  object\n",
      " 21  First Registration     14322 non-null  object\n",
      " 22  Body Color             15322 non-null  object\n",
      " 23  Paint Type             10147 non-null  object\n",
      " 24  Body Color Original    12160 non-null  object\n",
      " 25  Upholstery             12199 non-null  object\n",
      " 26  Body                   15859 non-null  object\n",
      " 27  Nr. of Doors           15707 non-null  object\n",
      " 28  Nr. of Seats           14942 non-null  object\n",
      " 29  Model Code             4978 non-null   object\n",
      " 30  Gearing Type           15919 non-null  object\n",
      " 31  Displacement           15423 non-null  object\n",
      " 32  Cylinders              10239 non-null  object\n",
      " 33  Weight                 8945 non-null   object\n",
      " 34  Drive chain            9061 non-null   object\n",
      " 35  Fuel                   15919 non-null  object\n",
      " 36  Consumption            14013 non-null  object\n",
      " 37  CO2 Emission           14111 non-null  object\n",
      " 38  Emission Class         12898 non-null  object\n",
      " 39  Comfort & Convenience  14999 non-null  object\n",
      " 40  Entertainment & Media  14545 non-null  object\n",
      " 41  Extras                 12957 non-null  object\n",
      " 42  Safety & Security      14937 non-null  object\n",
      " 43  description            15919 non-null  object\n",
      " 44  Emission Label         3985 non-null   object\n",
      " 45  Gears                  11207 non-null  object\n",
      " 46  Country version        7586 non-null   object\n",
      "dtypes: int64(1), object(46)\n",
      "memory usage: 5.7+ MB\n"
     ]
    }
   ],
   "source": [
    "df.info()"
   ]
  },
  {
   "cell_type": "code",
   "execution_count": 20,
   "id": "1e8bbf88",
   "metadata": {},
   "outputs": [
    {
     "data": {
      "text/html": [
       "<div>\n",
       "<style scoped>\n",
       "    .dataframe tbody tr th:only-of-type {\n",
       "        vertical-align: middle;\n",
       "    }\n",
       "\n",
       "    .dataframe tbody tr th {\n",
       "        vertical-align: top;\n",
       "    }\n",
       "\n",
       "    .dataframe thead th {\n",
       "        text-align: right;\n",
       "    }\n",
       "</style>\n",
       "<table border=\"1\" class=\"dataframe\">\n",
       "  <thead>\n",
       "    <tr style=\"text-align: right;\">\n",
       "      <th></th>\n",
       "      <th>url</th>\n",
       "      <th>make_model</th>\n",
       "      <th>short_description</th>\n",
       "      <th>body_type</th>\n",
       "      <th>price</th>\n",
       "      <th>vat</th>\n",
       "      <th>km</th>\n",
       "      <th>registration</th>\n",
       "      <th>prev_owner</th>\n",
       "      <th>hp</th>\n",
       "      <th>Type</th>\n",
       "      <th>Previous Owners</th>\n",
       "      <th>Next Inspection</th>\n",
       "      <th>Inspection new</th>\n",
       "      <th>Warranty</th>\n",
       "      <th>Full Service</th>\n",
       "      <th>Non-smoking Vehicle</th>\n",
       "      <th>null</th>\n",
       "      <th>Make</th>\n",
       "      <th>Model</th>\n",
       "      <th>Offer Number</th>\n",
       "      <th>First Registration</th>\n",
       "      <th>Body Color</th>\n",
       "      <th>Paint Type</th>\n",
       "      <th>Body Color Original</th>\n",
       "      <th>Upholstery</th>\n",
       "      <th>Body</th>\n",
       "      <th>Nr. of Doors</th>\n",
       "      <th>Nr. of Seats</th>\n",
       "      <th>Model Code</th>\n",
       "      <th>Gearing Type</th>\n",
       "      <th>Displacement</th>\n",
       "      <th>Cylinders</th>\n",
       "      <th>Weight</th>\n",
       "      <th>Drive chain</th>\n",
       "      <th>Fuel</th>\n",
       "      <th>Consumption</th>\n",
       "      <th>CO2 Emission</th>\n",
       "      <th>Emission Class</th>\n",
       "      <th>Comfort &amp; Convenience</th>\n",
       "      <th>Entertainment &amp; Media</th>\n",
       "      <th>Extras</th>\n",
       "      <th>Safety &amp; Security</th>\n",
       "      <th>description</th>\n",
       "      <th>Emission Label</th>\n",
       "      <th>Gears</th>\n",
       "      <th>Country version</th>\n",
       "    </tr>\n",
       "  </thead>\n",
       "  <tbody>\n",
       "    <tr>\n",
       "      <th>6268</th>\n",
       "      <td>https://www.autoscout24.com//offers/opel-astra...</td>\n",
       "      <td>Opel Astra</td>\n",
       "      <td>K 1,6 CDT SportsTou NAVI,AppleCarplay,EU6</td>\n",
       "      <td>Station wagon</td>\n",
       "      <td>8490</td>\n",
       "      <td>VAT deductible</td>\n",
       "      <td>166,726 km</td>\n",
       "      <td>10/2016</td>\n",
       "      <td>1 previous owner</td>\n",
       "      <td>81 kW</td>\n",
       "      <td>Used,,Diesel (Particulate Filter)</td>\n",
       "      <td>1</td>\n",
       "      <td>08/2020,92 g CO2/km (comb)</td>\n",
       "      <td>NaN</td>\n",
       "      <td>NaN</td>\n",
       "      <td>Euro 6</td>\n",
       "      <td>4 (Green)</td>\n",
       "      <td></td>\n",
       "      <td>Opel</td>\n",
       "      <td>Astra</td>\n",
       "      <td>NaN</td>\n",
       "      <td>2016</td>\n",
       "      <td>Red</td>\n",
       "      <td>Metallic</td>\n",
       "      <td>Lava Rot</td>\n",
       "      <td>Cloth, Black</td>\n",
       "      <td>Station wagon</td>\n",
       "      <td>4</td>\n",
       "      <td>5</td>\n",
       "      <td>NaN</td>\n",
       "      <td>Manual</td>\n",
       "      <td>1,598 cc</td>\n",
       "      <td>NaN</td>\n",
       "      <td>NaN</td>\n",
       "      <td>NaN</td>\n",
       "      <td>Diesel (Particulate Filter)</td>\n",
       "      <td>['3.5 l/100 km (comb)'],['4 l/100 km (city)'],...</td>\n",
       "      <td>92 g CO2/km (comb)</td>\n",
       "      <td>Euro 6</td>\n",
       "      <td>Air conditioning,Automatic climate control,Ele...</td>\n",
       "      <td>Bluetooth,CD player,Hands-free equipment,On-bo...</td>\n",
       "      <td>Alloy wheels,Roof rack,Touch screen</td>\n",
       "      <td>Adaptive Cruise Control,Central door lock,Dayt...</td>\n",
       "      <td>Sonderausstattung:,NAVI,PDC,ApplaCarplay, SHZ,...</td>\n",
       "      <td>NaN</td>\n",
       "      <td>NaN</td>\n",
       "      <td>Germany</td>\n",
       "    </tr>\n",
       "    <tr>\n",
       "      <th>2407</th>\n",
       "      <td>https://www.autoscout24.com//offers/audi-a1-sp...</td>\n",
       "      <td>Audi A1</td>\n",
       "      <td>Sportback 30 TFSI Black Line S tronic **VIRTUAL**</td>\n",
       "      <td>Sedans</td>\n",
       "      <td>28990</td>\n",
       "      <td>VAT deductible</td>\n",
       "      <td>12 km</td>\n",
       "      <td>04/2019</td>\n",
       "      <td>1 previous owner</td>\n",
       "      <td>85 kW</td>\n",
       "      <td>Used,,Gasoline</td>\n",
       "      <td>1</td>\n",
       "      <td>NaN</td>\n",
       "      <td>NaN</td>\n",
       "      <td>24 months,110 g CO2/km (comb)</td>\n",
       "      <td>Euro 6d-TEMP</td>\n",
       "      <td></td>\n",
       "      <td></td>\n",
       "      <td>Audi</td>\n",
       "      <td>A1</td>\n",
       "      <td>NaN</td>\n",
       "      <td>2019</td>\n",
       "      <td>White</td>\n",
       "      <td>Metallic</td>\n",
       "      <td>Blanco techo-retrovisor Negro</td>\n",
       "      <td>NaN</td>\n",
       "      <td>Sedans</td>\n",
       "      <td>5</td>\n",
       "      <td>5</td>\n",
       "      <td>NaN</td>\n",
       "      <td>Automatic</td>\n",
       "      <td>999 cc</td>\n",
       "      <td>3</td>\n",
       "      <td>1,200 kg</td>\n",
       "      <td>NaN</td>\n",
       "      <td>Gasoline</td>\n",
       "      <td>['4.8 l/100 km (comb)'],['5.9 l/100 km (city)'...</td>\n",
       "      <td>110 g CO2/km (comb)</td>\n",
       "      <td>Euro 6d-TEMP</td>\n",
       "      <td>Air conditioning,Automatic climate control,Cru...</td>\n",
       "      <td>Bluetooth,CD player,Hands-free equipment,MP3,O...</td>\n",
       "      <td>Alloy wheels,Shift paddles,Sport package,Sport...</td>\n",
       "      <td>ABS,Adaptive Cruise Control,Adaptive headlight...</td>\n",
       "      <td>Equipado con:,- ,Cambio automático S-Tronic co...</td>\n",
       "      <td>NaN</td>\n",
       "      <td>7</td>\n",
       "      <td>Spain</td>\n",
       "    </tr>\n",
       "    <tr>\n",
       "      <th>14702</th>\n",
       "      <td>https://www.autoscout24.com//offers/renault-cl...</td>\n",
       "      <td>Renault Clio</td>\n",
       "      <td>LIMITED TCe 75 KLIMA</td>\n",
       "      <td>Compact</td>\n",
       "      <td>11400</td>\n",
       "      <td>VAT deductible</td>\n",
       "      <td>150 km</td>\n",
       "      <td>04/2019</td>\n",
       "      <td>1 previous owner</td>\n",
       "      <td>56 kW</td>\n",
       "      <td>Used,,Super 95</td>\n",
       "      <td>1</td>\n",
       "      <td>04/2022,113 g CO2/km (comb)</td>\n",
       "      <td>NaN</td>\n",
       "      <td>Euro 6</td>\n",
       "      <td>4 (Green)</td>\n",
       "      <td></td>\n",
       "      <td></td>\n",
       "      <td>Renault</td>\n",
       "      <td>Clio</td>\n",
       "      <td>GW Nr. 6675</td>\n",
       "      <td>2019</td>\n",
       "      <td>Red</td>\n",
       "      <td>Metallic</td>\n",
       "      <td>Intense-Rot (NPK)</td>\n",
       "      <td>Cloth, Black</td>\n",
       "      <td>Compact</td>\n",
       "      <td>4</td>\n",
       "      <td>5</td>\n",
       "      <td>3333/BAJ</td>\n",
       "      <td>Manual</td>\n",
       "      <td>898 cc</td>\n",
       "      <td>NaN</td>\n",
       "      <td>NaN</td>\n",
       "      <td>NaN</td>\n",
       "      <td>Super 95</td>\n",
       "      <td>['5 l/100 km (comb)'],['6.3 l/100 km (city)'],...</td>\n",
       "      <td>113 g CO2/km (comb)</td>\n",
       "      <td>Euro 6</td>\n",
       "      <td>Air conditioning,Cruise control,Electrical sid...</td>\n",
       "      <td>Bluetooth,Hands-free equipment,On-board comput...</td>\n",
       "      <td>NaN</td>\n",
       "      <td>ABS,Central door lock,Daytime running lights,D...</td>\n",
       "      <td>TAGESZULASSUNG - DEUTSCHES FAHRZEUG, inkl. Kom...</td>\n",
       "      <td>NaN</td>\n",
       "      <td>NaN</td>\n",
       "      <td>Germany</td>\n",
       "    </tr>\n",
       "    <tr>\n",
       "      <th>11266</th>\n",
       "      <td>https://www.autoscout24.com//offers/opel-insig...</td>\n",
       "      <td>Opel Insignia</td>\n",
       "      <td>1.6 CDTI Sports Tourer ecoFLEXStart/Stop Selec...</td>\n",
       "      <td>Station wagon</td>\n",
       "      <td>15900</td>\n",
       "      <td>Price negotiable</td>\n",
       "      <td>6,120 km</td>\n",
       "      <td>05/2017</td>\n",
       "      <td>1 previous owner</td>\n",
       "      <td>100 kW</td>\n",
       "      <td>Used,,Diesel</td>\n",
       "      <td>1</td>\n",
       "      <td>NaN</td>\n",
       "      <td>NaN</td>\n",
       "      <td>NaN</td>\n",
       "      <td>104 g CO2/km (comb)</td>\n",
       "      <td>Euro 6</td>\n",
       "      <td></td>\n",
       "      <td>Opel</td>\n",
       "      <td>Insignia</td>\n",
       "      <td>NaN</td>\n",
       "      <td>2017</td>\n",
       "      <td>Silver</td>\n",
       "      <td>Metallic</td>\n",
       "      <td>NaN</td>\n",
       "      <td>NaN</td>\n",
       "      <td>Station wagon</td>\n",
       "      <td>5</td>\n",
       "      <td>5</td>\n",
       "      <td>NaN</td>\n",
       "      <td>Manual</td>\n",
       "      <td>1,598 cc</td>\n",
       "      <td>4</td>\n",
       "      <td>1,701 kg</td>\n",
       "      <td>NaN</td>\n",
       "      <td>Diesel</td>\n",
       "      <td>['3.9 l/100 km (comb)'],['4.6 l/100 km (city)'...</td>\n",
       "      <td>104 g CO2/km (comb)</td>\n",
       "      <td>Euro 6</td>\n",
       "      <td>Air conditioning,Armrest,Cruise control,Electr...</td>\n",
       "      <td>On-board computer</td>\n",
       "      <td>Roof rack</td>\n",
       "      <td>ABS,Central door lock with remote control,Dayt...</td>\n",
       "      <td>Gebraucht, Kombi, 05/2017, 136 PS (100 kW), Di...</td>\n",
       "      <td>NaN</td>\n",
       "      <td>6</td>\n",
       "      <td>NaN</td>\n",
       "    </tr>\n",
       "  </tbody>\n",
       "</table>\n",
       "</div>"
      ],
      "text/plain": [
       "                                                     url     make_model  \\\n",
       "6268   https://www.autoscout24.com//offers/opel-astra...     Opel Astra   \n",
       "2407   https://www.autoscout24.com//offers/audi-a1-sp...        Audi A1   \n",
       "14702  https://www.autoscout24.com//offers/renault-cl...   Renault Clio   \n",
       "11266  https://www.autoscout24.com//offers/opel-insig...  Opel Insignia   \n",
       "\n",
       "                                       short_description      body_type  \\\n",
       "6268           K 1,6 CDT SportsTou NAVI,AppleCarplay,EU6  Station wagon   \n",
       "2407   Sportback 30 TFSI Black Line S tronic **VIRTUAL**         Sedans   \n",
       "14702                               LIMITED TCe 75 KLIMA        Compact   \n",
       "11266  1.6 CDTI Sports Tourer ecoFLEXStart/Stop Selec...  Station wagon   \n",
       "\n",
       "       price               vat          km registration        prev_owner  \\\n",
       "6268    8490    VAT deductible  166,726 km      10/2016  1 previous owner   \n",
       "2407   28990    VAT deductible       12 km      04/2019  1 previous owner   \n",
       "14702  11400    VAT deductible      150 km      04/2019  1 previous owner   \n",
       "11266  15900  Price negotiable    6,120 km      05/2017  1 previous owner   \n",
       "\n",
       "           hp                               Type Previous Owners  \\\n",
       "6268    81 kW  Used,,Diesel (Particulate Filter)               1   \n",
       "2407    85 kW                     Used,,Gasoline               1   \n",
       "14702   56 kW                     Used,,Super 95               1   \n",
       "11266  100 kW                       Used,,Diesel               1   \n",
       "\n",
       "                   Next Inspection Inspection new  \\\n",
       "6268    08/2020,92 g CO2/km (comb)            NaN   \n",
       "2407                           NaN            NaN   \n",
       "14702  04/2022,113 g CO2/km (comb)            NaN   \n",
       "11266                          NaN            NaN   \n",
       "\n",
       "                            Warranty         Full Service Non-smoking Vehicle  \\\n",
       "6268                             NaN               Euro 6           4 (Green)   \n",
       "2407   24 months,110 g CO2/km (comb)         Euro 6d-TEMP                       \n",
       "14702                         Euro 6            4 (Green)                       \n",
       "11266                            NaN  104 g CO2/km (comb)              Euro 6   \n",
       "\n",
       "      null     Make     Model Offer Number First Registration Body Color  \\\n",
       "6268           Opel     Astra          NaN               2016        Red   \n",
       "2407           Audi        A1          NaN               2019      White   \n",
       "14702       Renault      Clio  GW Nr. 6675               2019        Red   \n",
       "11266          Opel  Insignia          NaN               2017     Silver   \n",
       "\n",
       "      Paint Type            Body Color Original    Upholstery           Body  \\\n",
       "6268    Metallic                       Lava Rot  Cloth, Black  Station wagon   \n",
       "2407    Metallic  Blanco techo-retrovisor Negro           NaN         Sedans   \n",
       "14702   Metallic              Intense-Rot (NPK)  Cloth, Black        Compact   \n",
       "11266   Metallic                            NaN           NaN  Station wagon   \n",
       "\n",
       "      Nr. of Doors Nr. of Seats Model Code Gearing Type Displacement  \\\n",
       "6268             4            5        NaN       Manual     1,598 cc   \n",
       "2407             5            5        NaN    Automatic       999 cc   \n",
       "14702            4            5   3333/BAJ       Manual       898 cc   \n",
       "11266            5            5        NaN       Manual     1,598 cc   \n",
       "\n",
       "      Cylinders    Weight Drive chain                         Fuel  \\\n",
       "6268        NaN       NaN         NaN  Diesel (Particulate Filter)   \n",
       "2407          3  1,200 kg         NaN                     Gasoline   \n",
       "14702       NaN       NaN         NaN                     Super 95   \n",
       "11266         4  1,701 kg         NaN                       Diesel   \n",
       "\n",
       "                                             Consumption         CO2 Emission  \\\n",
       "6268   ['3.5 l/100 km (comb)'],['4 l/100 km (city)'],...   92 g CO2/km (comb)   \n",
       "2407   ['4.8 l/100 km (comb)'],['5.9 l/100 km (city)'...  110 g CO2/km (comb)   \n",
       "14702  ['5 l/100 km (comb)'],['6.3 l/100 km (city)'],...  113 g CO2/km (comb)   \n",
       "11266  ['3.9 l/100 km (comb)'],['4.6 l/100 km (city)'...  104 g CO2/km (comb)   \n",
       "\n",
       "      Emission Class                              Comfort & Convenience  \\\n",
       "6268          Euro 6  Air conditioning,Automatic climate control,Ele...   \n",
       "2407    Euro 6d-TEMP  Air conditioning,Automatic climate control,Cru...   \n",
       "14702         Euro 6  Air conditioning,Cruise control,Electrical sid...   \n",
       "11266         Euro 6  Air conditioning,Armrest,Cruise control,Electr...   \n",
       "\n",
       "                                   Entertainment & Media  \\\n",
       "6268   Bluetooth,CD player,Hands-free equipment,On-bo...   \n",
       "2407   Bluetooth,CD player,Hands-free equipment,MP3,O...   \n",
       "14702  Bluetooth,Hands-free equipment,On-board comput...   \n",
       "11266                                  On-board computer   \n",
       "\n",
       "                                                  Extras  \\\n",
       "6268                 Alloy wheels,Roof rack,Touch screen   \n",
       "2407   Alloy wheels,Shift paddles,Sport package,Sport...   \n",
       "14702                                                NaN   \n",
       "11266                                          Roof rack   \n",
       "\n",
       "                                       Safety & Security  \\\n",
       "6268   Adaptive Cruise Control,Central door lock,Dayt...   \n",
       "2407   ABS,Adaptive Cruise Control,Adaptive headlight...   \n",
       "14702  ABS,Central door lock,Daytime running lights,D...   \n",
       "11266  ABS,Central door lock with remote control,Dayt...   \n",
       "\n",
       "                                             description Emission Label Gears  \\\n",
       "6268   Sonderausstattung:,NAVI,PDC,ApplaCarplay, SHZ,...            NaN   NaN   \n",
       "2407   Equipado con:,- ,Cambio automático S-Tronic co...            NaN     7   \n",
       "14702  TAGESZULASSUNG - DEUTSCHES FAHRZEUG, inkl. Kom...            NaN   NaN   \n",
       "11266  Gebraucht, Kombi, 05/2017, 136 PS (100 kW), Di...            NaN     6   \n",
       "\n",
       "      Country version  \n",
       "6268          Germany  \n",
       "2407            Spain  \n",
       "14702         Germany  \n",
       "11266             NaN  "
      ]
     },
     "execution_count": 20,
     "metadata": {},
     "output_type": "execute_result"
    }
   ],
   "source": [
    "df= df.apply(lambda x: x.str.replace(\"\\n\",\"\").str.strip(\",\") if x.dtype == \"O\" else x)\n",
    "df.sample(4)"
   ]
  },
  {
   "cell_type": "code",
   "execution_count": 21,
   "id": "4b7e0b8d",
   "metadata": {},
   "outputs": [
    {
     "data": {
      "text/html": [
       "<div>\n",
       "<style scoped>\n",
       "    .dataframe tbody tr th:only-of-type {\n",
       "        vertical-align: middle;\n",
       "    }\n",
       "\n",
       "    .dataframe tbody tr th {\n",
       "        vertical-align: top;\n",
       "    }\n",
       "\n",
       "    .dataframe thead th {\n",
       "        text-align: right;\n",
       "    }\n",
       "</style>\n",
       "<table border=\"1\" class=\"dataframe\">\n",
       "  <thead>\n",
       "    <tr style=\"text-align: right;\">\n",
       "      <th></th>\n",
       "      <th>url</th>\n",
       "      <th>make_model</th>\n",
       "      <th>short_description</th>\n",
       "      <th>body_type</th>\n",
       "      <th>price</th>\n",
       "      <th>vat</th>\n",
       "      <th>km</th>\n",
       "      <th>registration</th>\n",
       "      <th>prev_owner</th>\n",
       "      <th>hp</th>\n",
       "      <th>Type</th>\n",
       "      <th>Previous Owners</th>\n",
       "      <th>Next Inspection</th>\n",
       "      <th>Inspection new</th>\n",
       "      <th>Warranty</th>\n",
       "      <th>Full Service</th>\n",
       "      <th>Non-smoking Vehicle</th>\n",
       "      <th>null</th>\n",
       "      <th>Make</th>\n",
       "      <th>Model</th>\n",
       "      <th>Offer Number</th>\n",
       "      <th>First Registration</th>\n",
       "      <th>Body Color</th>\n",
       "      <th>Paint Type</th>\n",
       "      <th>Body Color Original</th>\n",
       "      <th>Upholstery</th>\n",
       "      <th>Body</th>\n",
       "      <th>Nr. of Doors</th>\n",
       "      <th>Nr. of Seats</th>\n",
       "      <th>Model Code</th>\n",
       "      <th>Gearing Type</th>\n",
       "      <th>Displacement</th>\n",
       "      <th>Cylinders</th>\n",
       "      <th>Weight</th>\n",
       "      <th>Drive chain</th>\n",
       "      <th>Fuel</th>\n",
       "      <th>Consumption</th>\n",
       "      <th>CO2 Emission</th>\n",
       "      <th>Emission Class</th>\n",
       "      <th>Comfort &amp; Convenience</th>\n",
       "      <th>Entertainment &amp; Media</th>\n",
       "      <th>Extras</th>\n",
       "      <th>Safety &amp; Security</th>\n",
       "      <th>description</th>\n",
       "      <th>Emission Label</th>\n",
       "      <th>Gears</th>\n",
       "      <th>Country version</th>\n",
       "    </tr>\n",
       "  </thead>\n",
       "  <tbody>\n",
       "    <tr>\n",
       "      <th>641</th>\n",
       "      <td>https://www.autoscout24.com//offers/audi-a1-1-...</td>\n",
       "      <td>Audi A1</td>\n",
       "      <td>1.4 TDI</td>\n",
       "      <td>Compact</td>\n",
       "      <td>12900</td>\n",
       "      <td>VAT deductible</td>\n",
       "      <td>105,139 km</td>\n",
       "      <td>07/2016</td>\n",
       "      <td>None</td>\n",
       "      <td>66 kW</td>\n",
       "      <td>Used,,Diesel (Particulate Filter)</td>\n",
       "      <td>NaN</td>\n",
       "      <td>NaN</td>\n",
       "      <td>NaN</td>\n",
       "      <td></td>\n",
       "      <td>NaN</td>\n",
       "      <td>NaN</td>\n",
       "      <td></td>\n",
       "      <td>Audi</td>\n",
       "      <td>A1</td>\n",
       "      <td>11291256</td>\n",
       "      <td>2016</td>\n",
       "      <td>White</td>\n",
       "      <td>Uni/basic</td>\n",
       "      <td>Bianco</td>\n",
       "      <td>NaN</td>\n",
       "      <td>Compact</td>\n",
       "      <td>3</td>\n",
       "      <td>4</td>\n",
       "      <td>NaN</td>\n",
       "      <td>Manual</td>\n",
       "      <td>1,422 cc</td>\n",
       "      <td>3</td>\n",
       "      <td>1,165 kg</td>\n",
       "      <td>front</td>\n",
       "      <td>Diesel (Particulate Filter)</td>\n",
       "      <td>['3.6 l/100 km (comb)'],['4.1 l/100 km (city)'...</td>\n",
       "      <td>94 g CO2/km (comb)</td>\n",
       "      <td>Euro 6</td>\n",
       "      <td>Air conditioning,Power windows</td>\n",
       "      <td>Radio</td>\n",
       "      <td>Alloy wheels</td>\n",
       "      <td>ABS,Central door lock,Driver-side airbag,Elect...</td>\n",
       "      <td>PREZZO VERO: NESSUN OBBLIGO DI FINANZIAMENTO O...</td>\n",
       "      <td>NaN</td>\n",
       "      <td>5</td>\n",
       "      <td>NaN</td>\n",
       "    </tr>\n",
       "    <tr>\n",
       "      <th>11797</th>\n",
       "      <td>https://www.autoscout24.com//offers/opel-insig...</td>\n",
       "      <td>Opel Insignia</td>\n",
       "      <td>INNOVATION 1.6 CDTI 136 CV AT</td>\n",
       "      <td>Station wagon</td>\n",
       "      <td>22500</td>\n",
       "      <td>VAT deductible</td>\n",
       "      <td>25,660 km</td>\n",
       "      <td>04/2018</td>\n",
       "      <td>None</td>\n",
       "      <td>100 kW</td>\n",
       "      <td>Employee's car,,Diesel (Particulate Filter)</td>\n",
       "      <td>NaN</td>\n",
       "      <td>NaN</td>\n",
       "      <td>NaN</td>\n",
       "      <td>NaN</td>\n",
       "      <td>NaN</td>\n",
       "      <td>NaN</td>\n",
       "      <td></td>\n",
       "      <td>Opel</td>\n",
       "      <td>Insignia</td>\n",
       "      <td>NaN</td>\n",
       "      <td>2018</td>\n",
       "      <td>Blue</td>\n",
       "      <td>Metallic</td>\n",
       "      <td>DARK MOON BLUE</td>\n",
       "      <td>NaN</td>\n",
       "      <td>Station wagon</td>\n",
       "      <td>5</td>\n",
       "      <td>5</td>\n",
       "      <td>NaN</td>\n",
       "      <td>Automatic</td>\n",
       "      <td>1,598 cc</td>\n",
       "      <td>4</td>\n",
       "      <td>1,585 kg</td>\n",
       "      <td>front</td>\n",
       "      <td>Diesel (Particulate Filter)</td>\n",
       "      <td>['5.2 l/100 km (comb)'],['6.8 l/100 km (city)'...</td>\n",
       "      <td>137 g CO2/km (comb)</td>\n",
       "      <td>Euro 6</td>\n",
       "      <td>Air conditioning,Armrest,Automatic climate con...</td>\n",
       "      <td>Bluetooth,Hands-free equipment,MP3,On-board co...</td>\n",
       "      <td>Alloy wheels,Touch screen</td>\n",
       "      <td>ABS,Central door lock,Daytime running lights,D...</td>\n",
       "      <td>PREZZO ESCLUSO DI PASSAGGIO DI PROPRIETA',POSS...</td>\n",
       "      <td>NaN</td>\n",
       "      <td>6</td>\n",
       "      <td>Italy</td>\n",
       "    </tr>\n",
       "    <tr>\n",
       "      <th>12735</th>\n",
       "      <td>https://www.autoscout24.com//offers/opel-insig...</td>\n",
       "      <td>Opel Insignia</td>\n",
       "      <td>Edition</td>\n",
       "      <td>Station wagon</td>\n",
       "      <td>27980</td>\n",
       "      <td>None</td>\n",
       "      <td>1,108 km</td>\n",
       "      <td>05/2019</td>\n",
       "      <td>None</td>\n",
       "      <td>121 kW</td>\n",
       "      <td>Demonstration,,Gasoline</td>\n",
       "      <td>NaN</td>\n",
       "      <td>05/2022</td>\n",
       "      <td>NaN</td>\n",
       "      <td>NaN</td>\n",
       "      <td>NaN</td>\n",
       "      <td>NaN</td>\n",
       "      <td></td>\n",
       "      <td>Opel</td>\n",
       "      <td>Insignia</td>\n",
       "      <td>47318</td>\n",
       "      <td>2019</td>\n",
       "      <td>Black</td>\n",
       "      <td>NaN</td>\n",
       "      <td>Onyx Schwarz</td>\n",
       "      <td>Cloth</td>\n",
       "      <td>Station wagon</td>\n",
       "      <td>5</td>\n",
       "      <td>5</td>\n",
       "      <td>NaN</td>\n",
       "      <td>Manual</td>\n",
       "      <td>1,490 cc</td>\n",
       "      <td>NaN</td>\n",
       "      <td>NaN</td>\n",
       "      <td>front</td>\n",
       "      <td>Gasoline</td>\n",
       "      <td>NaN</td>\n",
       "      <td>NaN</td>\n",
       "      <td>NaN</td>\n",
       "      <td>NaN</td>\n",
       "      <td>NaN</td>\n",
       "      <td>NaN</td>\n",
       "      <td>NaN</td>\n",
       "      <td>, Standort Enns, Tel. 07223/83233, KfzID 4731...</td>\n",
       "      <td>NaN</td>\n",
       "      <td>5</td>\n",
       "      <td>NaN</td>\n",
       "    </tr>\n",
       "    <tr>\n",
       "      <th>2740</th>\n",
       "      <td>https://www.autoscout24.com//offers/audi-a3-li...</td>\n",
       "      <td>Audi A3</td>\n",
       "      <td>Limousine 1.4 TFSI Navi Xenon PDC Tempomat</td>\n",
       "      <td>Sedans</td>\n",
       "      <td>17410</td>\n",
       "      <td>VAT deductible</td>\n",
       "      <td>100,600 km</td>\n",
       "      <td>02/2016</td>\n",
       "      <td>1 previous owner</td>\n",
       "      <td>92 kW</td>\n",
       "      <td>Used,,Regular/Benzine 91</td>\n",
       "      <td>1</td>\n",
       "      <td>03/2019,126 g CO2/km (comb)</td>\n",
       "      <td>NaN</td>\n",
       "      <td>Euro 6</td>\n",
       "      <td>4 (Green)</td>\n",
       "      <td></td>\n",
       "      <td></td>\n",
       "      <td>Audi</td>\n",
       "      <td>A3</td>\n",
       "      <td>06707</td>\n",
       "      <td>2016</td>\n",
       "      <td>Silver</td>\n",
       "      <td>Metallic</td>\n",
       "      <td>L5 Florettsilber Metallic</td>\n",
       "      <td>Cloth, Black</td>\n",
       "      <td>Sedans</td>\n",
       "      <td>5</td>\n",
       "      <td>5</td>\n",
       "      <td>0588/AWX</td>\n",
       "      <td>Automatic</td>\n",
       "      <td>1,395 cc</td>\n",
       "      <td>4</td>\n",
       "      <td>NaN</td>\n",
       "      <td>front</td>\n",
       "      <td>Regular/Benzine 91</td>\n",
       "      <td>['5.3 l/100 km (comb)'],['6.7 l/100 km (city)'...</td>\n",
       "      <td>126 g CO2/km (comb)</td>\n",
       "      <td>Euro 6</td>\n",
       "      <td>Air conditioning,Armrest,Automatic climate con...</td>\n",
       "      <td>Bluetooth,CD player,Hands-free equipment,MP3,O...</td>\n",
       "      <td>Alloy wheels,Catalytic Converter,Sport package...</td>\n",
       "      <td>ABS,Central door lock,Daytime running lights,D...</td>\n",
       "      <td>Technik &amp; Sicherheit:,Climatronic mit Stauluft...</td>\n",
       "      <td>NaN</td>\n",
       "      <td>NaN</td>\n",
       "      <td>Germany</td>\n",
       "    </tr>\n",
       "  </tbody>\n",
       "</table>\n",
       "</div>"
      ],
      "text/plain": [
       "                                                     url     make_model  \\\n",
       "641    https://www.autoscout24.com//offers/audi-a1-1-...        Audi A1   \n",
       "11797  https://www.autoscout24.com//offers/opel-insig...  Opel Insignia   \n",
       "12735  https://www.autoscout24.com//offers/opel-insig...  Opel Insignia   \n",
       "2740   https://www.autoscout24.com//offers/audi-a3-li...        Audi A3   \n",
       "\n",
       "                                short_description      body_type  price  \\\n",
       "641                                       1.4 TDI        Compact  12900   \n",
       "11797               INNOVATION 1.6 CDTI 136 CV AT  Station wagon  22500   \n",
       "12735                                     Edition  Station wagon  27980   \n",
       "2740   Limousine 1.4 TFSI Navi Xenon PDC Tempomat         Sedans  17410   \n",
       "\n",
       "                  vat          km registration        prev_owner      hp  \\\n",
       "641    VAT deductible  105,139 km      07/2016              None   66 kW   \n",
       "11797  VAT deductible   25,660 km      04/2018              None  100 kW   \n",
       "12735            None    1,108 km      05/2019              None  121 kW   \n",
       "2740   VAT deductible  100,600 km      02/2016  1 previous owner   92 kW   \n",
       "\n",
       "                                              Type Previous Owners  \\\n",
       "641              Used,,Diesel (Particulate Filter)             NaN   \n",
       "11797  Employee's car,,Diesel (Particulate Filter)             NaN   \n",
       "12735                      Demonstration,,Gasoline             NaN   \n",
       "2740                      Used,,Regular/Benzine 91               1   \n",
       "\n",
       "                   Next Inspection Inspection new Warranty Full Service  \\\n",
       "641                            NaN            NaN                   NaN   \n",
       "11797                          NaN            NaN      NaN          NaN   \n",
       "12735                      05/2022            NaN      NaN          NaN   \n",
       "2740   03/2019,126 g CO2/km (comb)            NaN   Euro 6    4 (Green)   \n",
       "\n",
       "      Non-smoking Vehicle null  Make     Model Offer Number  \\\n",
       "641                   NaN       Audi        A1     11291256   \n",
       "11797                 NaN       Opel  Insignia          NaN   \n",
       "12735                 NaN       Opel  Insignia        47318   \n",
       "2740                            Audi        A3        06707   \n",
       "\n",
       "      First Registration Body Color Paint Type        Body Color Original  \\\n",
       "641                 2016      White  Uni/basic                     Bianco   \n",
       "11797               2018       Blue   Metallic             DARK MOON BLUE   \n",
       "12735               2019      Black        NaN               Onyx Schwarz   \n",
       "2740                2016     Silver   Metallic  L5 Florettsilber Metallic   \n",
       "\n",
       "         Upholstery           Body Nr. of Doors Nr. of Seats Model Code  \\\n",
       "641             NaN        Compact            3            4        NaN   \n",
       "11797           NaN  Station wagon            5            5        NaN   \n",
       "12735         Cloth  Station wagon            5            5        NaN   \n",
       "2740   Cloth, Black         Sedans            5            5   0588/AWX   \n",
       "\n",
       "      Gearing Type Displacement Cylinders    Weight Drive chain  \\\n",
       "641         Manual     1,422 cc         3  1,165 kg       front   \n",
       "11797    Automatic     1,598 cc         4  1,585 kg       front   \n",
       "12735       Manual     1,490 cc       NaN       NaN       front   \n",
       "2740     Automatic     1,395 cc         4       NaN       front   \n",
       "\n",
       "                              Fuel  \\\n",
       "641    Diesel (Particulate Filter)   \n",
       "11797  Diesel (Particulate Filter)   \n",
       "12735                     Gasoline   \n",
       "2740            Regular/Benzine 91   \n",
       "\n",
       "                                             Consumption         CO2 Emission  \\\n",
       "641    ['3.6 l/100 km (comb)'],['4.1 l/100 km (city)'...   94 g CO2/km (comb)   \n",
       "11797  ['5.2 l/100 km (comb)'],['6.8 l/100 km (city)'...  137 g CO2/km (comb)   \n",
       "12735                                                NaN                  NaN   \n",
       "2740   ['5.3 l/100 km (comb)'],['6.7 l/100 km (city)'...  126 g CO2/km (comb)   \n",
       "\n",
       "      Emission Class                              Comfort & Convenience  \\\n",
       "641           Euro 6                     Air conditioning,Power windows   \n",
       "11797         Euro 6  Air conditioning,Armrest,Automatic climate con...   \n",
       "12735            NaN                                                NaN   \n",
       "2740          Euro 6  Air conditioning,Armrest,Automatic climate con...   \n",
       "\n",
       "                                   Entertainment & Media  \\\n",
       "641                                                Radio   \n",
       "11797  Bluetooth,Hands-free equipment,MP3,On-board co...   \n",
       "12735                                                NaN   \n",
       "2740   Bluetooth,CD player,Hands-free equipment,MP3,O...   \n",
       "\n",
       "                                                  Extras  \\\n",
       "641                                         Alloy wheels   \n",
       "11797                          Alloy wheels,Touch screen   \n",
       "12735                                                NaN   \n",
       "2740   Alloy wheels,Catalytic Converter,Sport package...   \n",
       "\n",
       "                                       Safety & Security  \\\n",
       "641    ABS,Central door lock,Driver-side airbag,Elect...   \n",
       "11797  ABS,Central door lock,Daytime running lights,D...   \n",
       "12735                                                NaN   \n",
       "2740   ABS,Central door lock,Daytime running lights,D...   \n",
       "\n",
       "                                             description Emission Label Gears  \\\n",
       "641    PREZZO VERO: NESSUN OBBLIGO DI FINANZIAMENTO O...            NaN     5   \n",
       "11797  PREZZO ESCLUSO DI PASSAGGIO DI PROPRIETA',POSS...            NaN     6   \n",
       "12735   , Standort Enns, Tel. 07223/83233, KfzID 4731...            NaN     5   \n",
       "2740   Technik & Sicherheit:,Climatronic mit Stauluft...            NaN   NaN   \n",
       "\n",
       "      Country version  \n",
       "641               NaN  \n",
       "11797           Italy  \n",
       "12735             NaN  \n",
       "2740          Germany  "
      ]
     },
     "execution_count": 21,
     "metadata": {},
     "output_type": "execute_result"
    }
   ],
   "source": [
    "df.sample(4)"
   ]
  },
  {
   "cell_type": "code",
   "execution_count": 22,
   "id": "901df6e4",
   "metadata": {},
   "outputs": [
    {
     "data": {
      "text/plain": [
       "url                      15919\n",
       "make_model                   9\n",
       "short_description        10001\n",
       "body_type                    9\n",
       "price                     2956\n",
       "vat                          2\n",
       "km                        6690\n",
       "registration                48\n",
       "prev_owner                   4\n",
       "hp                          81\n",
       "Type                       169\n",
       "Previous Owners            101\n",
       "Next Inspection           1384\n",
       "Inspection new             201\n",
       "Warranty                   506\n",
       "Full Service               121\n",
       "Non-smoking Vehicle         93\n",
       "null                         1\n",
       "Make                         3\n",
       "Model                        9\n",
       "Offer Number             11440\n",
       "First Registration           4\n",
       "Body Color                  14\n",
       "Paint Type                   3\n",
       "Body Color Original       1927\n",
       "Upholstery                  46\n",
       "Body                         9\n",
       "Nr. of Doors                 6\n",
       "Nr. of Seats                 6\n",
       "Model Code                 232\n",
       "Gearing Type                 3\n",
       "Displacement                77\n",
       "Cylinders                    7\n",
       "Weight                     434\n",
       "Drive chain                  3\n",
       "Fuel                        77\n",
       "Consumption                881\n",
       "CO2 Emission               123\n",
       "Emission Class               7\n",
       "Comfort & Convenience     6198\n",
       "Entertainment & Media      346\n",
       "Extras                     659\n",
       "Safety & Security         4443\n",
       "description              12864\n",
       "Emission Label               6\n",
       "Gears                       10\n",
       "Country version             23\n",
       "dtype: int64"
      ]
     },
     "execution_count": 22,
     "metadata": {},
     "output_type": "execute_result"
    }
   ],
   "source": [
    "df.nunique()"
   ]
  },
  {
   "cell_type": "code",
   "execution_count": 23,
   "id": "363df829",
   "metadata": {},
   "outputs": [],
   "source": [
    "# df.isin(\"\").sum()"
   ]
  },
  {
   "cell_type": "code",
   "execution_count": 24,
   "id": "8dacb1fa",
   "metadata": {},
   "outputs": [
    {
     "data": {
      "text/plain": [
       "url                          0\n",
       "make_model                   0\n",
       "short_description            0\n",
       "body_type                    0\n",
       "price                        0\n",
       "vat                          0\n",
       "km                           0\n",
       "registration                 0\n",
       "prev_owner                   0\n",
       "hp                           0\n",
       "Type                         0\n",
       "Previous Owners              0\n",
       "Next Inspection              0\n",
       "Inspection new               0\n",
       "Warranty                  1343\n",
       "Full Service              1985\n",
       "Non-smoking Vehicle       3717\n",
       "null                     15919\n",
       "Make                         0\n",
       "Model                        0\n",
       "Offer Number                 0\n",
       "First Registration           0\n",
       "Body Color                   0\n",
       "Paint Type                   0\n",
       "Body Color Original          0\n",
       "Upholstery                   0\n",
       "Body                         0\n",
       "Nr. of Doors                 0\n",
       "Nr. of Seats                 0\n",
       "Model Code                   0\n",
       "Gearing Type                 0\n",
       "Displacement                 0\n",
       "Cylinders                    0\n",
       "Weight                       0\n",
       "Drive chain                  0\n",
       "Fuel                         0\n",
       "Consumption                  0\n",
       "CO2 Emission                 0\n",
       "Emission Class               0\n",
       "Comfort & Convenience        0\n",
       "Entertainment & Media        0\n",
       "Extras                       0\n",
       "Safety & Security            0\n",
       "description                667\n",
       "Emission Label               0\n",
       "Gears                        0\n",
       "Country version              0\n",
       "dtype: int64"
      ]
     },
     "execution_count": 24,
     "metadata": {},
     "output_type": "execute_result"
    }
   ],
   "source": [
    "df.isin([\"\"]).sum()   # hangi sütunlarda kaçar tane boş satır var yani bu satırlar da hiçbir şey yok : "
   ]
  },
  {
   "cell_type": "code",
   "execution_count": 25,
   "id": "232c5a97",
   "metadata": {},
   "outputs": [],
   "source": [
    "## aslında bu bizim için NaN demek. O yüzden ; "
   ]
  },
  {
   "cell_type": "code",
   "execution_count": 26,
   "id": "622972bb",
   "metadata": {},
   "outputs": [],
   "source": [
    "df[df.isin([\"\"])] = np.nan"
   ]
  },
  {
   "cell_type": "markdown",
   "id": "3d0ef62f",
   "metadata": {},
   "source": [
    "### url"
   ]
  },
  {
   "cell_type": "code",
   "execution_count": 27,
   "id": "efbe9d0c",
   "metadata": {},
   "outputs": [
    {
     "data": {
      "text/plain": [
       "https://www.autoscout24.com//offers/audi-a1-sportback-1-4-tdi-s-tronic-xenon-navi-klima-diesel-black-bdab349a-caa5-41b0-98eb-c1345b84445e                  1\n",
       "https://www.autoscout24.com//offers/opel-insignia-bus-inno-2-0-cdti-aut-navi-bi-xe-led-e6-diesel-black-8710b253-dd98-4ed0-9d46-cbad2d79532b                1\n",
       "https://www.autoscout24.com//offers/opel-insignia-sport-tourer-opel-sport-tourer-1-6-cdti-136-ch-a-c-diesel-silver-10b7463b-9f56-4348-af35-df3432b2b585    1\n",
       "https://www.autoscout24.com//offers/opel-insignia-2-0cdti-st-business-innovation-navi-bt-diesel-black-ba5a3368-dedc-4e51-9127-3976b26e93c2                 1\n",
       "https://www.autoscout24.com//offers/opel-insignia-sport-tourer-opel-sport-tourer-1-6-cdti-136-ch-a-c-diesel-silver-7b52f054-78d3-4d5e-9370-8a7d081d7edd    1\n",
       "                                                                                                                                                          ..\n",
       "https://www.autoscout24.com//offers/audi-a3-sb-30-1-6-tdi-business-116cv-s-tronic-diesel-black-cf50f7b1-4d7b-466f-93a2-4e11ec0b4107                        1\n",
       "https://www.autoscout24.com//offers/audi-a3-sb-30-1-6-tdi-business-116cv-s-tronic-diesel-grey-3f47eb34-15c4-4763-860d-78fcbbd2c9ff                         1\n",
       "https://www.autoscout24.com//offers/audi-a3-sb-30-1-6-tdi-business-116cv-s-tronic-diesel-silver-f7a4bc95-b2ef-4bac-9497-6bcbcd05db0b                       1\n",
       "https://www.autoscout24.com//offers/audi-a3-sb-30-1-6-tdi-business-116cv-s-tronic-diesel-silver-1c94c7a2-67b5-49ca-ae42-42a6800fb3f5                       1\n",
       "https://www.autoscout24.com//offers/renault-espace-initiale-paris-tce-225-edc-gpf-navi-shz-aux-gasoline-grey-0bd690d9-7e93-4cab-bc5a-9d5b63402481          1\n",
       "Name: url, Length: 15919, dtype: int64"
      ]
     },
     "execution_count": 27,
     "metadata": {},
     "output_type": "execute_result"
    }
   ],
   "source": [
    "df[\"url\"].value_counts()"
   ]
  },
  {
   "cell_type": "code",
   "execution_count": 28,
   "id": "09e205ae",
   "metadata": {},
   "outputs": [],
   "source": [
    "## bunun bize yararlı olmayacağını düşünüyorum."
   ]
  },
  {
   "cell_type": "code",
   "execution_count": 29,
   "id": "58707a14",
   "metadata": {},
   "outputs": [],
   "source": [
    "df.drop(\"url\",axis=1,inplace=True)"
   ]
  },
  {
   "cell_type": "markdown",
   "id": "e5b6652e",
   "metadata": {},
   "source": [
    "### make_model"
   ]
  },
  {
   "cell_type": "code",
   "execution_count": 30,
   "id": "92bae302",
   "metadata": {},
   "outputs": [
    {
     "data": {
      "text/plain": [
       "Audi A3           3097\n",
       "Audi A1           2614\n",
       "Opel Insignia     2598\n",
       "Opel Astra        2526\n",
       "Opel Corsa        2219\n",
       "Renault Clio      1839\n",
       "Renault Espace     991\n",
       "Renault Duster      34\n",
       "Audi A2              1\n",
       "Name: make_model, dtype: int64"
      ]
     },
     "execution_count": 30,
     "metadata": {},
     "output_type": "execute_result"
    }
   ],
   "source": [
    "df[\"make_model\"].value_counts(dropna=False)  \n",
    "## tam ve düzgün bir feature  gibi belki marka / model diye 2 farklı sütun yapılabilir."
   ]
  },
  {
   "cell_type": "markdown",
   "id": "22f1002f",
   "metadata": {},
   "source": [
    "###  Make"
   ]
  },
  {
   "cell_type": "code",
   "execution_count": 31,
   "id": "a2f66bfd",
   "metadata": {},
   "outputs": [
    {
     "data": {
      "text/plain": [
       "Opel       7343\n",
       "Audi       5712\n",
       "Renault    2864\n",
       "Name: Make, dtype: int64"
      ]
     },
     "execution_count": 31,
     "metadata": {},
     "output_type": "execute_result"
    }
   ],
   "source": [
    "df[\"Make\"].value_counts(dropna=False)"
   ]
  },
  {
   "cell_type": "code",
   "execution_count": 32,
   "id": "106f1ae0",
   "metadata": {},
   "outputs": [
    {
     "data": {
      "text/plain": [
       "Opel      0.461\n",
       "Audi      0.359\n",
       "Renault   0.180\n",
       "Name: Make, dtype: float64"
      ]
     },
     "execution_count": 32,
     "metadata": {},
     "output_type": "execute_result"
    }
   ],
   "source": [
    "df[\"Make\"].value_counts(normalize=True)"
   ]
  },
  {
   "cell_type": "markdown",
   "id": "38f76419",
   "metadata": {},
   "source": [
    "###  Model "
   ]
  },
  {
   "cell_type": "code",
   "execution_count": 33,
   "id": "1e1cbb5f",
   "metadata": {},
   "outputs": [
    {
     "data": {
      "text/plain": [
       "0            A1\n",
       "1            A1\n",
       "2            A1\n",
       "3            A1\n",
       "4            A1\n",
       "          ...  \n",
       "15914    Espace\n",
       "15915    Espace\n",
       "15916    Espace\n",
       "15917    Espace\n",
       "15918    Espace\n",
       "Name: Model, Length: 15919, dtype: object"
      ]
     },
     "execution_count": 33,
     "metadata": {},
     "output_type": "execute_result"
    }
   ],
   "source": [
    "df[\"Model\"]"
   ]
  },
  {
   "cell_type": "code",
   "execution_count": 34,
   "id": "d84b753d",
   "metadata": {},
   "outputs": [
    {
     "data": {
      "text/plain": [
       "A3          3097\n",
       "A1          2614\n",
       "Insignia    2598\n",
       "Astra       2526\n",
       "Corsa       2219\n",
       "Clio        1839\n",
       "Espace       991\n",
       "Duster        34\n",
       "A2             1\n",
       "Name: Model, dtype: int64"
      ]
     },
     "execution_count": 34,
     "metadata": {},
     "output_type": "execute_result"
    }
   ],
   "source": [
    "df[\"Model\"].value_counts()"
   ]
  },
  {
   "cell_type": "code",
   "execution_count": 35,
   "id": "46daa256",
   "metadata": {},
   "outputs": [],
   "source": [
    "df.drop([\"Model\",\"Make\"],axis=1,inplace=True)  "
   ]
  },
  {
   "cell_type": "code",
   "execution_count": 36,
   "id": "9e2795f7",
   "metadata": {},
   "outputs": [
    {
     "data": {
      "text/plain": [
       "(15919, 44)"
      ]
     },
     "execution_count": 36,
     "metadata": {},
     "output_type": "execute_result"
    }
   ],
   "source": [
    "df.shape"
   ]
  },
  {
   "cell_type": "markdown",
   "id": "6fae7536",
   "metadata": {},
   "source": [
    "###  short_description"
   ]
  },
  {
   "cell_type": "code",
   "execution_count": 37,
   "id": "3435efb5",
   "metadata": {},
   "outputs": [
    {
     "data": {
      "text/plain": [
       "SPB 1.6 TDI 116 CV S tronic Sport                 64\n",
       "NaN                                               46\n",
       "1.4 66kW (90CV) Selective                         40\n",
       "MOVE KLIMA CD USB ALLWETTER BLUETOOTH             38\n",
       "SPB 30 TDI S tronic Business                      35\n",
       "                                                  ..\n",
       "K Sports Tourer Business **Navi*Voll**             1\n",
       "1.0 Turbo ecoFLEX Automatic Elective Park Navi     1\n",
       "1.6 CDTI Business *Navi*Automatik*Spurh.*          1\n",
       "1.6 136 CV Automatica Navi E 6 Garanzia Full       1\n",
       "TCe 225 EDC GPF LIM Deluxe Pano,RFK                1\n",
       "Name: short_description, Length: 10002, dtype: int64"
      ]
     },
     "execution_count": 37,
     "metadata": {},
     "output_type": "execute_result"
    }
   ],
   "source": [
    "df.short_description.value_counts(dropna=False) "
   ]
  },
  {
   "cell_type": "code",
   "execution_count": 38,
   "id": "e46bd471",
   "metadata": {},
   "outputs": [],
   "source": [
    "## arabalarla ilgili kısa bilgiler içeriyor belki ileride yardımcı olabilir missing_value konusunda o yüzden şimdilik düşmüyorum"
   ]
  },
  {
   "cell_type": "markdown",
   "id": "76248060",
   "metadata": {},
   "source": [
    "### description    "
   ]
  },
  {
   "cell_type": "code",
   "execution_count": 39,
   "id": "e1dbf93f",
   "metadata": {},
   "outputs": [
    {
     "data": {
      "text/plain": [
       "nan                                                                                                                                                                                                                                                                                                                                                                                                                                                                                                                                                                                                                                                                                                                                                                                                                                                                                                                                                                                                                                                                                                                                                                                                                                                                                                                                                                                                                                                                                                                                                                                                                                                                                                                                                                                                                                                                                                                                                                                                                                                                                                                                                                                                                                                                                                                                                                                                                                                                                                                                                                                                                                                                                                                                                                                                                                                                                                                                       667\n",
       "Fahrzeugbeschreibung, Sichern Sie sich diesen Audi A1 1.4 TFSI Design zum Top-Preis inklusive dem,AUTOHERO-RUNDUM-SORGLOS-PAKET, ,Infos:, 2. Hand, deutsche Auslieferung, Unfallfrei, scheckheftgepflegt , ,Highlights, ,Einparkhilfe hinten , ,Sportsitze vorn , ,Leichtmetallfelgen, ,Sitzheizung vorn , ,Dynamik-Fahrwerk,Komfort, ,Klimaautomatik, ,Einstieghilfe Easy-Entry, ,Mittelarmlehne vorn mit Fach, ,Fensterheber elektrisch vorn, ,Zentralverriegelung mit Fernbedienung, ,Multifunktionslenkrad Sport (Leder), ,Rücksitzlehne geteilt/klappbar, ,Lendenwirbelstützen verstellbar , ,Multimedia, ,Audiosystem chorus (Radio/CD-Player), ,Multi-Media-Interface MMI Basic / MMI Radio, ,Audi music interface, ,Fahrer-Informations-System (FIS), ,Universal-Schnittstelle Bluetooth, ,Licht und Sicht, ,Außenspiegel elektr. verstell- und heizbar, beide, ,Tagfahrlicht, ,Scheibenwaschdüsen heizbar, ,Licht- und Regensensor, ,Nebelscheinwerfer integriert, ,Wärmeschutzverglasung grün getönt, ,Heckleuchten LED, ,Sicherheit, ,Isofix-Aufnahmen für Kindersitz, ,Bremsassistent, ,Seitenairbag vorn, ,Reifenkontroll-Anzeige, ,Anti-Blockier-System (ABS), ,Wegfahrsperre (elektronisch), ,Airbag Fahrer-/Beifahrerseite, ,Antriebs-Schlupfregelung (ASR), ,Kopf-Airbag-System (Sideguard), ,Airbag Beifahrerseite abschaltbar, ,Elektron. Differentialsperre (EDS), ,Elektron. Stabilitäts-Programm (ESP), ,Weiteres, ,Start/Stop-Anlage, ,LM-Felgen, ,Wagenheber, ,Servolenkung, ,Reifen-Reparaturkit, ,Ausströmer Schwarz Hochglanz , ,Aluminium-Optik , ,Einstiegleisten mit Schriftzug , ,Bremssättel dunkelgrau lackiert , Ihr ,AUTOHERO-RUNDUM-SORGLOS-PAKET, beinhaltet:,Kostenlose Lieferung in Ihre Nähe,Optische & technische Aufbereitung,Mindestens 12 Monate gültige HU und AU,1-Jahr-Premium-Garantie,Zulassung inklusive ,14-Tage-Rückgaberecht,Markenunabhängige Inzahlungnahme ,Individuelle Finanzierungen zu fairen Konditionen , ,HIER GEHT ES ZUR 360° - ANSICHT DES FAHRZEUGES:,:,https://www.autohero.com/de/audi-a1-1-4-tfsi-design/id/a7dca4b1-6ed3-4104-a04f-40391237d638/, ,Haftungsausschluss,:,Für Angaben vom Verkäufer, des Herstellers oder von Datenbankabfragen übernimmt Autohero keine Haftung. Änderungen, Zwischenverkauf und Irrtümer sind vorbehalten.                                                                                                                                                                                                                                                                                                                                                                                                                                                                                                                                                                                                                          27\n",
       "Fahrzeugbeschreibung, Sichern Sie sich diesen Renault Clio 1.6 TCE Energy Sport Trophy zum Top-Preis inklusive dem ,AUTOHERO-RUNDUM-SORGLOS-PAKET, ,Infos:, 1.Hand, deutsche Auslieferung, Unfallfrei, scheckheftgepflegt, ,Highlights, ,Audio-Navigationssystem R-Link Evolution mit Touchscreen und Carminat TomTom, ,Sportsitze , ,Sportfahrwerk, ,Scheinwerfer Full-LED ,Komfort, ,Geschwindigkeits-Regelanlage (Tempomat) , ,Klimaanlage, ,Einparkhilfe hinten, ,Multifunktionslenkrad (Sport/Leder) mit Schaltwippen/-tasten , ,Fensterheber elektr. mit Impulsgeber links/rechts vorn, ,Zentralverriegelung / Startanlage Handsfree Entry & Drive , ,Berganfahr-Assistent (HSA) ,Multimedia, ,Audiosystem: Radio R & GO (Bluetooth, DAB-Tuner), ,Bordcomputer, ,Freisprecheinrichtung Bluetooth , ,USB-Anschluss inkl. AUX-IN-Anschluss (Plug & Music) ,Licht und Sicht, ,Außenspiegel elektr. verstell- und heizbar , ,Licht- und Regensensor , ,Tagfahrlicht LED , ,Nebelscheinwerfer LED , ,Coming-Home-Lichtfunktion , ,Heckleuchten LED ,Sicherheit, ,Isofix-Aufnahmen für Kindersitz , ,Seitenairbag vorn, ,Wegfahrsperre, ,Differentialsperre, ,Bremsassistent , ,Elektron. Stabilitäts-Programm (ESP), ,Anti-Blockier-System (ABS), ,Anti-Submarining-Airbag im Fond, ,Airbag Fahrer-/Beifahrerseite , ,Differentialsperre , ,Reifendruck-Kontrollsystem , ,Untersteuerungskontrolle (USC) , ,Antischlupfregelung (ASR) ,Weiteres, ,Start/Stop-Anlage , ,Servolenkung geschwindigkeitsabhängig, ,R.S. Drive (Fahrmodusschalter) , ,Gepäckraumabdeckung / Rollo , ,Heckdiffusor , ,LM-Felgen , ,Heckspoiler (Renault Sport) , ,Pedale Aluminium , ,Energierückgewinnung (Energy Smart Management) , ,Elektr. Bremskraftverteilung , ,Reifen-Reparaturkit , ,Sitzbezug / Polsterung: Stoff , Ihr ,AUTOHERO-RUNDUM-SORGLOS-PAKET, beinhaltet:,Kostenlose Lieferung in Ihre Nähe,Optische & technische Aufbereitung,Mindestens 12 Monate gültige HU und AU,1-Jahr-Premium-Garantie,Zulassung inklusive ,14-Tage-Rückgaberecht,Markenunabhängige Inzahlungnahme ,Individuelle Finanzierungen zu fairen Konditionen, ,HIER GEHT ES ZUR 360° - ANSICHT DES FAHRZEUGES:,:,https://www.autohero.com/de/renault-clio-1-6-tce-energy-renault-sport-trophy/id/f7ca29bf-e005-453f-bbc9-8c6fe892dec6/, ,Haftungsausschluss,:,Für Angaben vom Verkäufer, des Herstellers oder von Datenbankabfragen übernimmt Autohero keine Haftung. Änderungen, Zwischenverkauf und Irrtümer sind vorbehalten.                                                                                                                                                                                                                                                                                                                                                                                                                                           27\n",
       "Sichern Sie sich diesen Opel Astra K 1.4 SIDI Turbo Innovation Start/Stop zum Top-Preis inklusive dem,AUTOHERO-RUNDUM-SORGLOS-PAKET, ,Infos:, 2.Hand, deutsche Auslieferung, Unfallfrei, scheckheftgepflegt, mindestens 12 Monate gültige HU und AU, ,Highlights, ,Rückfahrkamera, ,Voll-LED-Matrix-Scheinwerfer (IntelliLux), ,Audio-Navigationssystem Navi 900 Europa Touch, ,Spurassistent, ,Leichtmetallfelgen ,Komfort, ,Sitzheizung vorn, ,Klimaautomatik 2-Zonen, ,Parkpilotsystem vorn und hinten, ,6-Stufen Automatikgetriebe, ,Tempomat (Geschwindigkeits-Regelanlage) mit Begrenzer , ,Berganfahrassistent , ,Servolenkung, ,Lendenwirbelstütze elektropneumatisch für Fahrer , ,Kopfstützen vorn und hinten , ,Multifunktionslenkrad in Leder, beheizbar , ,Mittelarmlehne vorn verschiebbar, ,Zentralverriegelung mit Fernbedienung, ,Fensterheber elektrisch vorn + hinten, ,Berganfahr-Assistent (HSA, Hill Start Assist),Multimedia, ,8 Zoll Touchscreen-Farbdisplay, ,Verkehrszeichenerkennung, ,Audiostreaming , ,Apple CarPlay und Android Auto, ,6 Lautsprecher , ,Bluetooth-Freisprecheinrichtung , ,Sprachsteuerung, ,Bordcomputer, ,Multimedia-Schnittstelle (USB / AUX-IN),Licht und Sicht, ,Außenspiegel elektrisch verstell-, heiz- und anklappbar, ,Abbiegelicht, ,LED Tagfahrlicht, ,Nebelscheinwerfer, ,Ambientebeleuchtung, ,Innenrückspiegel automatisch abblendend, ,Fernlichtassistent und Leuchtweitenregulierung , ,Licht und Regensensor , ,Wärmeschutzverglasung hinten abgedunkelt (Solar-Protect), ,LED Heckleuchten ,Sicherheit, ,Abstandswarner, ,Auffahrwarnsystem, ,Isofix-Aufnahmen für Kindersitz an Rücksitz, ,Frontkamera, ,Airbag für Fahrer- und Beifahrerseite, ,Wegfahrsperre, ,Seitenairbag vorn, ,Kopf-Airbag-System, ,Bremsassistent (HBA), ,Elektronisches Stabilitätsprogramm Plus (ESP Plus), ,Reifendruck-Kontrollsystem, ,Anti-Blockier-System (ABS), ,Reifen-Reparaturkit, ,Parkbremse elektrisch, ,Elektronische Traktionskontrolle,Weiteres, ,Start/Stop-Anlage, ,Metallic-/Mineraleffekt-Lackierung, ,Ecoflex, ,Licht-Paket, ,Sicht-Paket, ,ecoFLEX-Paket, ,Winter-Paket, ,Fußmatten Velours, ,Laderaumabdeckung, ,Innovations-Paket, ,OnStar SOS Service, ,Check-Control-System, Ihr ,AUTOHERO-RUNDUM-SORGLOS-PAKET, beinhaltet:,Kostenlose Lieferung in Ihre Nähe,Optische & technische Aufbereitung,Mindestens 12 Monate gültige HU und AU,1-Jahr-Premium-Garantie,Zulassung inklusive,14-Tage-Rückgaberecht,Markenunabhängige Inzahlungnahme,Individuelle Finanzierungen zu fairen Konditionen, ,HIER GEHT ES ZUR 360° - ANSICHT DES FAHRZEUGES:,:,https://www.autohero.com/de/opel-astra-k-1-4-sidi-turbo-innovation-start-stop/id/99fb856b-41be-40f0-9b36-0d70989440c6/, ,Haftungsausschluss,:,Für Angaben vom Verkäufer, des Herstellers oder von Datenbankabfragen übernimmt Autohero keine Haftung. Änderungen, Zwischenverkauf und Irrtümer sind vorbehalten.     27\n",
       "Posibilidad de prueba del vehículo hasta 5 días. Consultar condiciones. PVP para particulares. Varias unidades y colores disponibles. Precios publicados para vehículos industriales (furgonetas) válidos para compradores autónomos o empresas, consultar condiciones para particulares. Las imágenes y kilómetros pueden no corresponder con el modelo anunciado. Para confirmar póngase en contacto con nuestro departamento comercial. Consulta las excepcionales condiciones de financiación que tenemos disponibles. Precio de venta final IVA y gastos de transferencia incluidos. Horario de atención al cliente: Lunes a Viernes de 09:00 a 18:00.                                                                                                                                                                                                                                                                                                                                                                                                                                                                                                                                                                                                                                                                                                                                                                                                                                                                                                                                                                                                                                                                                                                                                                                                                                                                                                                                                                                                                                                                                                                                                                                                                                                                                                                                                                                                                                                                                                                                                                                                                                                                                                                                                                                                                                                                                27\n",
       "                                                                                                                                                                                                                                                                                                                                                                                                                                                                                                                                                                                                                                                                                                                                                                                                                                                                                                                                                                                                                                                                                                                                                                                                                                                                                                                                                                                                                                                                                                                                                                                                                                                                                                                                                                                                                                                                                                                                                                                                                                                                                                                                                                                                                                                                                                                                                                                                                                                                                                                                                                                                                                                                                                                                                                                                                                                                                                                                         ... \n",
       "Pratica 67374,Airbag fullsize per conducente e passeggero, Alzacristalli elettrici ant. e post. con funzione attivaz. a pressione, Assetto dinamico, Audi drive select, Inserti in micrometallic argento, Kit riparazione pneumatici, Pacchetto di navigazione, Piano di copertura del vano bagagli estraibile, Presa AUX-IN, Proiettori allo Xenon Plus con reg. aut. prof. fari, Lavafari, Rivestimenti dei sedili in tessuto, Serbatoio AdBlue, Sistema controllo pressione pneumatici, Sistema di ancoraggio ISOFIX e 3° punto di ancoraggio Top Tether sui sedili post. laterali, Sistema di informazioni per il conducente con display monocromatico, Tappetini anteriori e posteriori, Versione Business, Volante sportivo multifunzionale in pelle 3 razze, ABS, EBV (Ripartitore elettronico della forza frenante), Airbag laterali anteriori integrati negli schienali dei sedili, Airbag per la testa, Airbag per le ginocchia (lato conducente), Appoggiatesta anteriori (2) e posteriori (3) regolabili, Radio MMI plus, Interfaccia Bluetooth, Appoggiabraccia centrale anteriore, Cambio manuale, Cerchi in lega 7 J x 16\" a 5 razze a stella, Chiusura centralizzata con telecomando, Regolatore di velocità, ESC - Sistema elettronico di controllo della stabilizzazione con bloccaggio trasversale elettronico, ASR - Dispositivo di controllo della trazione, EDS (Dispositivo antislittamento in partenza), Filtro anti particolato, Cinture di sicurezza con pretensionatore, Specchietti retrovisivi esterni riscaldabili e ripiegabili elettricamente, Schienale del sedile posteriore ribaltabile (divisibile in rapporto 40:60 o ribaltabile completam.), Sistema di ausilio al parcheggio posteriore, Servosterzo elettromeccanico, Tergilunotto                                                                                                                                                                                                                                                                                                                                                                                                                                                                                                                                                                                                                                                                                                                                                                                                                                                                                                                                                                                                                                                                                                                                                                 1\n",
       "Getriebe:, Schaltgetriebe,Technik:, Bordcomputer, Start-Stop-Automatik,Assistenten:, Regensensor, Lichtsensor, Berganfahrassistent,Komfort:, Servolenkung, Zentralverriegelung, Elektrischer Fensterheber, Sitzheizung, Elektrische Aussenspiegel, Teilbare Ruecksitzlehne, Tempomat, Park Distance Control, Multifunktionslenkrad, Innenspiegel autom. abblendbar, Mittelarmlehne, Innenraumfilter, Lenksaeule einstellbar, Sportsitze, Klimaautomatik-2-Zonen,Sicht:, Xenon Scheinwerfer, Colorverglasung, Scheinwerferreinigung, Aussenspiegel beheizbar, Privacyverglasung,Sicherheit:, ABS, Airbag, Beifahrer-Airbag, Wegfahrsperre, Seitenairbags, ESP, Antriebsschlupfregelung, Reifendruckkontrolle, Traktionskontrolle, Kopfairbag, Knieairbag, Kindersitzbefestigung, Pannenkit,Entertainment:, CD, Radio, AUX-In, USB-Anschluss, MP3, Bluetooth, Freisprecheinrichtung,Umwelt:, Grüne Umweltplakette, ,Energieeffizienzklasse B,Qualität:, Garantie, Scheckheftgepflegt, HUAU neu, Nichtraucherfahrzeug,Sonstiges:, Metallic, Alufelgen, Dachreling, Gepaeckraumabdeckung, Stossfaenger in Wagenfarbe, Sportfahrwerk,Weiteres:, Connectivity-Paket inkl. Bluetooth-Schnittstelle, Klimaautomatik 2-Zonen, Optik-Paket schwarz Audi exclusive, Einparkhilfe (APS), Verglasung hinten abgedunkelt, Sitzheizung vorn, Dachreling (Aluminium), Soundsystem DSP / Audi Sound-System, Ablage- und Gepäckraum-Paket, Audi music interface, Scheibenwaschdüsen heizbar, Vorbereitung Navigationssystem, Adaptives Bremslicht, Anfahr-Assistent (hold assist), Antriebsart: Frontantrieb, Audi Drive Select, Außenspiegel Wagenfarbe, Blinkleuchten LED in Außenspiegel integriert, Bremsanlage mit Rekuperation - Bremsenergierückgewinnung, Bremsassistent, Dachspoiler, Dekoreinlagen Aluminium Mistral, Einstiegsleisten Aluminium, Elektron. Differentialsperre (EDS), Elektron. Stabilitätskontrolle (ESC), Elektron. Stabilitäts-Programm, Euro 6, Fahrer-Informations-System (FIS), Fensterheber elektrisch vorn und hinten, Frontscheibe Akustikglas, Fußmatten Velours, Getriebe 6-Gang, Heckscheibe heizbar, Interieur Aluminium-Optik, Isofix-Aufnahmen für Kindersitz, Kopfstützen hinten, Multi-Media-Interface MMI, Parkbremse elektro-mechanisch, Polster: Stoff Rallye, Servolenkung elektro-mechanisch, Sitze vorn mit ausziehbarer Oberschenkelauflage, Sitzhöhenverstellung, Sport/Lederlenkrad, Sport-Fahrwerk, Start/Stop-Anlage, Telefon-Vorbereitung mit Bluetooth-Schnittstelle, Wagenheber, Wärmeschutzverglasung, Xenon Plus, ZV mit Fernbedienung,... Änderungen, Zwischenverkauf und Irrtümer vorbehalten., by CG360.de                                                                                                                                                                                                                                                                                      1\n",
       "Getriebe,6-Gang,Licht und Sicht,Xenon-Scheinwerfer Plus (Abblend- und Fernlicht),Technik und Sicherheit,Fahrerairbag,Airbag Fahrer-/Beifahrerseite,Seitenairbag vorn,Kopfairbags,Anti-Blockier-System (ABS),Elektron. Stabilitätskontrolle (ESC),Elektron. Differentialsperre (EDS),Zentralverriegelung mit Fernbedienung,Schließ-/Startsystem Advanced Key (Komfortschlüssel),Servolenkung elektro-mechanisch,Geschwindigkeits-Regelanlage (Tempomat),Elektronische Wegfahrsperre,Bordcomputer,Reifendruck-Kontrollsystem,Assistenzsysteme,Fahrassistenz-System: Anfahr-Assistent (hold assist),Multimedia,Multi-Media-Interface MMI Basic Plus / MMI Radio Plus,Audi Smartphone Interface,Komfort,Komfort-Klimaautomatik 2-Zonen,Einparkhilfe hinten (APS),Fensterheber elektrisch,Licht- und Regensensor,Außenspiegel elektr. verstellbar beide,Scheibenwaschdüsen und Außenspiegel beheizt,Wärmeschutzverglasung grün getönt,Innenausstattung,Sitzheizung vorn,Lenkrad (Sport/Leder - 3-Speichen) mit Multifunktion,Mittelarmlehne vorn,Rücksitzlehne geteilt/klappbar,Aussenausstattung,LM-Felgen,Pakete,Komfort-Paket,Sonstiges,Rußpartikelfilter,Scheckheftgepflegt,Nichtraucherfahrzeug,Weitere Informationen,Schadstoffklasse: EURO 6D-TEMP,Connectivity-Paket,Glanz-Paket,LM-Felgen 7.5x17 (5-Speichen Y-Design),Progressivlenkung,Antriebs-Schlupfregelung (ASR),Elektron. Stabilitäts-Programm (ESP),Getriebe 6-Gang,Lenkrad (Sport - 3-Speichen),Parkbremse elektro-mechanisch,Sitze vorn höhenverstellbar,Vorrüstung Mobiltelefon/Handy mit Bluetooth-Schnittstelle,Audi music interface,Außenspiegel elektr. verstell- und heizbar beide,Vorbereitung Navigationssystem,Irrtümer und Änderungen vorbehalten.,Die im Internet angebotene Ausstattung ist kein Vertragsbestandteil.,Die Ausstattung muss vor Ort geprüft werden.,Das angebotene Fahrzeug kann von einer Rückrufaktion betroffen sein. Co2 Angaben können abweichen.                                                                                                                                                                                                                                                                                                                                                                                                                                                                                                                                                                                                                                                                                                                                                                                                                                                                                                                                                                                            1\n",
       "Aluminium-Gussräder im 5-Speichen-Stern-Design Größe 7 J x 16 mit Reifen 205/55 R 16,Dachreling eloxiert,Einparkhilfe hinten,Fahrerinformationssystem mit Farbdisplay,Lederlenkrad im 3-Speichen-Design mit Multifunktion plus,Ablage-/Gepäckraumpaket mit erweitertem USB-Buchsen-Angebot,Lichtpaket,Reifen 16',Anlaufvariante RdW,Vorbereitung für Anhängevorrichtung,Audi sound system,Reifen 205/55 R16 91W,Xenon plus,Allwetterlicht,Kopfstützen hinten (3 Stück),MMI Radio plus,Zentralverriegelung mit Funkschlüssel,Bluetooth-Schnittstelle,Innenspiegel abblendbar,elektronische Stabilisierungskontrolle (ESC),Airbags,6-Gang-Schaltgetriebe,Seitenairbags vorn und Kopfairbagsystem,elektromechanische Servolenkung,Leuchtweitenregulierung automatisch-statisch,Scheibenwaschdüsen beheizbar vorn,Reifendruck-Kontrollanzeige,Tagfahrlicht,Start-Stop-System,AUX-IN-Anschluss,Kindersitzverankerung ISOFIX und Top Tether für die äußeren Fondsitze,Sitzbezüge in Stoff Index,Wärmeschutzverglasung,Akustikfrontscheibe,Außenspiegel links asphärisch,Außen-Sound Standard,Außenspiegel rechts (großes Sichtfeld) konvex,elektromechanische Parkbremse,Dachhimmel in Stoff felsgrau,Kraftstoffsystem Otto-Einspritzer,Linkslenker,Reifenreparaturset,Heckleuchten,Scheibenwaschanlage,Entriegelung Hintersitz Standard,Waschwasserstandsanzeige,Abgaskonzept EU6 AG/H/I,Frontantrieb,A3,Außenspiegelgehäuse in Wagenfarbe,Ohne erweitertem Sicherheitssystem,Geschwindigkeitsbegrenzungsanlage,Dachkantenspoiler,Heckscheibenwischer,Sportback,Kindersicherung manuell,Ohne Kamerasysteme/Umfeldsensorik,4-Zyl. Ottomotor 1 5 L/110KW TSI Grundmotor ist: TJ7/N09/T9F,Nebelschlussleuchten,Nichtraucherausführung,Radstand,Doppeltonfanfare,Serienfahrwerk,4 Türen,Modellbezeichnung gemäß neuer Leistungskennzeichnung,Warnleuchten,Zierleisten schwarz,Nichtraucherfahrzeug,Irrtümer Änderungen und Zwischenverkauf vorbehalten,sehr guter Zustand,Komfortklima,Aussenspiegel heizbar,elektrische Aussenspiegel,geteilte Rückbank,Scheckheft gepflegt,Fahrersitz höhenverstellbar,Beifahrersitz höhenverstellbar                                                                                                                                                                                                                                                                                                                                                                                                                                                                                                                                                                                                                                                                                                                                                                                                              1\n",
       "DEK:[2691331],Renault Espace Blue dCi 200CV EDC Business,Nuova da Immatricolare,COLORE: Grigio Titanio,INTERNO: Pelle+Tessuto,TRASMISSIONE: Cambio Automatico EDC,---,ACCESSORI: ,7 Posti,, ,Cerchi in Lega 17, Navigatore con Display 8.7, Clima Automatico, Sensori di Parcheggio Anteriori e Posteriori con Retrocamera, Fari Full LED Pure Vision, Cruise Control, Renault Multisense,---,Listino Nuovo 44.300 Euro,Prezzo Gruppo Carmeli: 39.700 Euro (Esclusa IPT e Messa in Strada),IVA Esposta,In caso di Adesione alla PROMO GRUPPO CARMELI puoi Averla a 36.000 Euro,Contattaci per scoprire tutti i vantaggi della PROMO GRUPPO CARMELI,____________________________________,Gruppo Carmeli S.p.A. è Concessionaria e Service ufficiale dei Marchi Renault, Dacia, Nissan, Mercedes e Smart per la provincia di Brescia e Bergamo ed opera nel mercato dell’auto da più di 40 anni.,Nelle sedi di Brescia (Nissan e Renault-Dacia Autospazio), di Coccaglio (Renault-Dacia e Nissan) e di Bergamo (Nissan) oltre a tutta la gamma di veicoli dei Marchi rappresentati, propone anche 2.000 auto a Km Zero e Aziendali di tutte le marche.,Offriamo Servizi:,-VALUTAZIONE e PERMUTA del tuo USATO,-ACQUISTO con pagamento immediato del tuo USATO,-FINANZIAMENTI e LEASING agevolati,-NOLEGGIO A LUNGO TERMINE di veicoli di tutte le marche,-PACCHETTI ASSICURATIVI su misura con possibilità di garanzia del valore a Nuovo,____________________________________,Sebbene sia stato fatto ogni ragionevole sforzo per assicurare l'esattezza delle informazioni riportate, vi potrebbero essere involontarie incongruenze riguardanti le immagini e la descrizione degli accessori, che pertanto non rappresentano vincolo contrattuale. Per ulteriori informazioni sulle condizioni economiche ti invitiamo a contattarci.                                                                                                                                                                                                                                                                                                                                                                                                                                                                                                                                                                                                                                                                                                                                                                                                                                                                                                                                                                                                                                                                                                      1\n",
       "Name: description, Length: 12864, dtype: int64"
      ]
     },
     "execution_count": 39,
     "metadata": {},
     "output_type": "execute_result"
    }
   ],
   "source": [
    "df[\"description\"].astype(\"str\").value_counts(dropna=False)"
   ]
  },
  {
   "cell_type": "code",
   "execution_count": 40,
   "id": "4a20f2dd",
   "metadata": {},
   "outputs": [],
   "source": [
    "## short description gibi bu da belki lazım olabilir.şimdilik tutuyorum."
   ]
  },
  {
   "cell_type": "markdown",
   "id": "7bc9028d",
   "metadata": {},
   "source": [
    "###  body_type "
   ]
  },
  {
   "cell_type": "code",
   "execution_count": 41,
   "id": "d0f6a186",
   "metadata": {},
   "outputs": [
    {
     "data": {
      "text/plain": [
       "Sedans           7903\n",
       "Station wagon    3553\n",
       "Compact          3153\n",
       "Van               783\n",
       "Other             290\n",
       "Transporter        88\n",
       "NaN                60\n",
       "Off-Road           56\n",
       "Coupe              25\n",
       "Convertible         8\n",
       "Name: body_type, dtype: int64"
      ]
     },
     "execution_count": 41,
     "metadata": {},
     "output_type": "execute_result"
    }
   ],
   "source": [
    "df[\"body_type\"].value_counts(dropna=False)    # 60 tane orijinal NaN değerimiz var,sağında solunda temizlenecek bir şey yok\n",
    "                                              # 290 tane other var."
   ]
  },
  {
   "cell_type": "markdown",
   "id": "9ef99326",
   "metadata": {},
   "source": [
    "### Body"
   ]
  },
  {
   "cell_type": "code",
   "execution_count": 42,
   "id": "8ffed3de",
   "metadata": {},
   "outputs": [
    {
     "data": {
      "text/plain": [
       "Sedans           7903\n",
       "Station wagon    3553\n",
       "Compact          3153\n",
       "Van               783\n",
       "Other             290\n",
       "Transporter        88\n",
       "NaN                60\n",
       "Off-Road           56\n",
       "Coupe              25\n",
       "Convertible         8\n",
       "Name: Body, dtype: int64"
      ]
     },
     "execution_count": 42,
     "metadata": {},
     "output_type": "execute_result"
    }
   ],
   "source": [
    "df[\"Body\"].value_counts(dropna=False)"
   ]
  },
  {
   "cell_type": "code",
   "execution_count": 43,
   "id": "048ebced",
   "metadata": {},
   "outputs": [
    {
     "data": {
      "text/html": [
       "<div>\n",
       "<style scoped>\n",
       "    .dataframe tbody tr th:only-of-type {\n",
       "        vertical-align: middle;\n",
       "    }\n",
       "\n",
       "    .dataframe tbody tr th {\n",
       "        vertical-align: top;\n",
       "    }\n",
       "\n",
       "    .dataframe thead th {\n",
       "        text-align: right;\n",
       "    }\n",
       "</style>\n",
       "<table border=\"1\" class=\"dataframe\">\n",
       "  <thead>\n",
       "    <tr style=\"text-align: right;\">\n",
       "      <th></th>\n",
       "      <th>Body</th>\n",
       "      <th>body_type</th>\n",
       "    </tr>\n",
       "  </thead>\n",
       "  <tbody>\n",
       "    <tr>\n",
       "      <th>14701</th>\n",
       "      <td>Station wagon</td>\n",
       "      <td>Station wagon</td>\n",
       "    </tr>\n",
       "    <tr>\n",
       "      <th>9182</th>\n",
       "      <td>Sedans</td>\n",
       "      <td>Sedans</td>\n",
       "    </tr>\n",
       "    <tr>\n",
       "      <th>12069</th>\n",
       "      <td>Sedans</td>\n",
       "      <td>Sedans</td>\n",
       "    </tr>\n",
       "    <tr>\n",
       "      <th>9555</th>\n",
       "      <td>Compact</td>\n",
       "      <td>Compact</td>\n",
       "    </tr>\n",
       "  </tbody>\n",
       "</table>\n",
       "</div>"
      ],
      "text/plain": [
       "                Body      body_type\n",
       "14701  Station wagon  Station wagon\n",
       "9182          Sedans         Sedans\n",
       "12069         Sedans         Sedans\n",
       "9555         Compact        Compact"
      ]
     },
     "execution_count": 43,
     "metadata": {},
     "output_type": "execute_result"
    }
   ],
   "source": [
    "df[[\"Body\",\"body_type\"]].sample(4)"
   ]
  },
  {
   "cell_type": "code",
   "execution_count": 44,
   "id": "95e4d4dd",
   "metadata": {},
   "outputs": [],
   "source": [
    "## body_type ile aynı sütunlara ve değerlere sahip olduğundan dolayı bunu bırakacağız."
   ]
  },
  {
   "cell_type": "code",
   "execution_count": 45,
   "id": "34f9c9c4",
   "metadata": {},
   "outputs": [],
   "source": [
    "df.drop([\"Body\"],axis=1,inplace=True)"
   ]
  },
  {
   "cell_type": "code",
   "execution_count": 46,
   "id": "370d69eb",
   "metadata": {},
   "outputs": [
    {
     "data": {
      "text/plain": [
       "(15919, 43)"
      ]
     },
     "execution_count": 46,
     "metadata": {},
     "output_type": "execute_result"
    }
   ],
   "source": [
    "df.shape"
   ]
  },
  {
   "cell_type": "markdown",
   "id": "e616f47e",
   "metadata": {},
   "source": [
    "### vat"
   ]
  },
  {
   "cell_type": "markdown",
   "id": "6cd4e6ca",
   "metadata": {},
   "source": [
    "VAT deductible : geri talep edilebilir KDV\n",
    "Price negotiable : Pazarlık edilebilir fiyat"
   ]
  },
  {
   "cell_type": "code",
   "execution_count": 47,
   "id": "cf6087b4",
   "metadata": {},
   "outputs": [
    {
     "data": {
      "text/plain": [
       "VAT deductible      10980\n",
       "NaN                  4513\n",
       "Price negotiable      426\n",
       "Name: vat, dtype: int64"
      ]
     },
     "execution_count": 47,
     "metadata": {},
     "output_type": "execute_result"
    }
   ],
   "source": [
    "df[\"vat\"].value_counts(dropna=False)"
   ]
  },
  {
   "cell_type": "code",
   "execution_count": 48,
   "id": "f4a49127",
   "metadata": {},
   "outputs": [
    {
     "data": {
      "text/plain": [
       "VAT deductible     0.690\n",
       "NaN                0.283\n",
       "Price negotiable   0.027\n",
       "Name: vat, dtype: float64"
      ]
     },
     "execution_count": 48,
     "metadata": {},
     "output_type": "execute_result"
    }
   ],
   "source": [
    "df[\"vat\"].value_counts(normalize=True,dropna=False)"
   ]
  },
  {
   "cell_type": "code",
   "execution_count": 49,
   "id": "48b4e72c",
   "metadata": {},
   "outputs": [],
   "source": [
    "## bu sütunda extra temizlenecek bir şey yok ve 4513 tane NaN var."
   ]
  },
  {
   "cell_type": "markdown",
   "id": "969125f4",
   "metadata": {},
   "source": [
    "### km    "
   ]
  },
  {
   "cell_type": "code",
   "execution_count": 50,
   "id": "15822100",
   "metadata": {},
   "outputs": [
    {
     "data": {
      "text/plain": [
       "10 km        1045\n",
       "- km         1024\n",
       "1 km          367\n",
       "5 km          170\n",
       "50 km         148\n",
       "             ... \n",
       "67,469 km       1\n",
       "43,197 km       1\n",
       "10,027 km       1\n",
       "35,882 km       1\n",
       "57 km           1\n",
       "Name: km, Length: 6690, dtype: int64"
      ]
     },
     "execution_count": 50,
     "metadata": {},
     "output_type": "execute_result"
    }
   ],
   "source": [
    "df[\"km\"].value_counts(dropna=False)"
   ]
  },
  {
   "cell_type": "code",
   "execution_count": 51,
   "id": "7b2404cd",
   "metadata": {},
   "outputs": [
    {
     "data": {
      "text/plain": [
       "10435          1 km\n",
       "631       36,621 km\n",
       "6952     124,112 km\n",
       "5083          35 km\n",
       "3055      53,262 km\n",
       "Name: km, dtype: object"
      ]
     },
     "execution_count": 51,
     "metadata": {},
     "output_type": "execute_result"
    }
   ],
   "source": [
    "df[\"km\"].sample(5)"
   ]
  },
  {
   "cell_type": "code",
   "execution_count": 52,
   "id": "1f0a9fbb",
   "metadata": {},
   "outputs": [],
   "source": [
    "# df[\"km\"].str.replace(\"km\",\"\").str.replace(\",\",\"\").astype(\"float\")"
   ]
  },
  {
   "cell_type": "code",
   "execution_count": 53,
   "id": "2b314936",
   "metadata": {},
   "outputs": [
    {
     "data": {
      "text/plain": [
       "0       56013.000\n",
       "1       80000.000\n",
       "2       83450.000\n",
       "3       73000.000\n",
       "4       16200.000\n",
       "           ...   \n",
       "15914         NaN\n",
       "15915    9900.000\n",
       "15916      15.000\n",
       "15917      10.000\n",
       "15918         NaN\n",
       "Name: km, Length: 15919, dtype: float64"
      ]
     },
     "execution_count": 53,
     "metadata": {},
     "output_type": "execute_result"
    }
   ],
   "source": [
    "df[\"km\"].str.replace(\"km\",\"\").str.replace(\",\",\"\").replace(\"- \",np.nan).astype(\"float\")"
   ]
  },
  {
   "cell_type": "code",
   "execution_count": 54,
   "id": "774430d1",
   "metadata": {},
   "outputs": [],
   "source": [
    "df[\"km\"] = df[\"km\"].str.replace(\"km\",\"\").str.replace(\",\",\"\").replace(\"- \",np.nan).astype(\"float\")"
   ]
  },
  {
   "cell_type": "code",
   "execution_count": 55,
   "id": "cbe1535e",
   "metadata": {},
   "outputs": [
    {
     "data": {
      "text/plain": [
       "10.000       1045\n",
       "NaN          1024\n",
       "1.000         367\n",
       "5.000         170\n",
       "50.000        148\n",
       "             ... \n",
       "36980.000       1\n",
       "36818.000       1\n",
       "46398.000       1\n",
       "59535.000       1\n",
       "57.000          1\n",
       "Name: km, Length: 6690, dtype: int64"
      ]
     },
     "execution_count": 55,
     "metadata": {},
     "output_type": "execute_result"
    }
   ],
   "source": [
    "df.km.value_counts(dropna=False).sort_values(ascending=False)"
   ]
  },
  {
   "cell_type": "code",
   "execution_count": 56,
   "id": "342cfbf9",
   "metadata": {},
   "outputs": [
    {
     "data": {
      "text/plain": [
       "0       56013.000\n",
       "1       80000.000\n",
       "2       83450.000\n",
       "3       73000.000\n",
       "4       16200.000\n",
       "           ...   \n",
       "15914         NaN\n",
       "15915    9900.000\n",
       "15916      15.000\n",
       "15917      10.000\n",
       "15918         NaN\n",
       "Name: km, Length: 15919, dtype: float64"
      ]
     },
     "execution_count": 56,
     "metadata": {},
     "output_type": "execute_result"
    }
   ],
   "source": [
    "df[\"km\"]"
   ]
  },
  {
   "cell_type": "code",
   "execution_count": 57,
   "id": "134c3474",
   "metadata": {},
   "outputs": [],
   "source": [
    "## NaN  sayısı 1024  "
   ]
  },
  {
   "cell_type": "markdown",
   "id": "44fd8951",
   "metadata": {},
   "source": [
    "###  registration : ruhsatın verildiği tarih "
   ]
  },
  {
   "cell_type": "code",
   "execution_count": 58,
   "id": "096484e1",
   "metadata": {},
   "outputs": [
    {
     "data": {
      "text/plain": [
       "-/-        1597\n",
       "03/2018     695\n",
       "02/2019     585\n",
       "05/2018     572\n",
       "03/2019     543\n",
       "01/2019     541\n",
       "04/2018     541\n",
       "02/2018     539\n",
       "03/2016     536\n",
       "04/2016     532\n",
       "06/2018     532\n",
       "01/2018     511\n",
       "04/2019     506\n",
       "02/2016     472\n",
       "03/2017     471\n",
       "05/2016     459\n",
       "06/2016     452\n",
       "05/2019     440\n",
       "06/2017     409\n",
       "05/2017     404\n",
       "07/2018     396\n",
       "04/2017     380\n",
       "01/2016     376\n",
       "02/2017     368\n",
       "01/2017     306\n",
       "08/2018     285\n",
       "06/2019     224\n",
       "07/2017     215\n",
       "11/2017     180\n",
       "07/2016     176\n",
       "10/2016     160\n",
       "10/2017     154\n",
       "09/2017     149\n",
       "11/2016     142\n",
       "09/2018     141\n",
       "09/2016     141\n",
       "12/2016     134\n",
       "12/2017     123\n",
       "08/2017     114\n",
       "11/2018     110\n",
       "12/2018     103\n",
       "10/2018      97\n",
       "08/2016      94\n",
       "07/2019       6\n",
       "09/2019       5\n",
       "08/2019       1\n",
       "11/2019       1\n",
       "12/2019       1\n",
       "Name: registration, dtype: int64"
      ]
     },
     "execution_count": 58,
     "metadata": {},
     "output_type": "execute_result"
    }
   ],
   "source": [
    "df[\"registration\"].value_counts(dropna=False)"
   ]
  },
  {
   "cell_type": "markdown",
   "id": "98d9e187",
   "metadata": {},
   "source": [
    "### First Registration"
   ]
  },
  {
   "cell_type": "code",
   "execution_count": 59,
   "id": "ce772fa0",
   "metadata": {},
   "outputs": [
    {
     "data": {
      "text/plain": [
       "2018    4522\n",
       "2016    3674\n",
       "2017    3273\n",
       "2019    2853\n",
       "NaN     1597\n",
       "Name: First Registration, dtype: int64"
      ]
     },
     "execution_count": 59,
     "metadata": {},
     "output_type": "execute_result"
    }
   ],
   "source": [
    "df[\"First Registration\"].value_counts(dropna=False)"
   ]
  },
  {
   "cell_type": "code",
   "execution_count": 60,
   "id": "257c8ca9",
   "metadata": {},
   "outputs": [],
   "source": [
    "# bu iki sütun ruhsat ile ilgili olduğundan arabanın yaşına gidebiliriz buradan ve ayın fazla bir önemi olmadığından ve \n",
    "#  registration sütununda da 1597 tane NaN değer olduğundan bu sütunu drop edeceğim."
   ]
  },
  {
   "cell_type": "code",
   "execution_count": 61,
   "id": "3fa7f07f",
   "metadata": {},
   "outputs": [],
   "source": [
    "df.drop(\"registration\",axis=1,inplace=True) "
   ]
  },
  {
   "cell_type": "code",
   "execution_count": 62,
   "id": "7336e377",
   "metadata": {},
   "outputs": [
    {
     "data": {
      "text/plain": [
       "(15919, 42)"
      ]
     },
     "execution_count": 62,
     "metadata": {},
     "output_type": "execute_result"
    }
   ],
   "source": [
    "df.shape"
   ]
  },
  {
   "cell_type": "markdown",
   "id": "79f63fde",
   "metadata": {},
   "source": [
    "### new_feature (age)"
   ]
  },
  {
   "cell_type": "code",
   "execution_count": 63,
   "id": "62e296d3",
   "metadata": {},
   "outputs": [],
   "source": [
    "# 2019-df[\"First Registration\"]   # assumption . böyle yaparsak hata alırız önce sütunumuzun data type'nı değiştirmeliyiz\n",
    "                                  # demek ki first registration sütunumuz listelerden oluşuyormuş."
   ]
  },
  {
   "cell_type": "code",
   "execution_count": 64,
   "id": "23333bd0",
   "metadata": {},
   "outputs": [
    {
     "data": {
      "text/plain": [
       "0        2016\n",
       "1        2017\n",
       "2        2016\n",
       "3        2016\n",
       "4        2016\n",
       "         ... \n",
       "15914     NaN\n",
       "15915    2019\n",
       "15916    2019\n",
       "15917    2019\n",
       "15918    2019\n",
       "Name: First Registration, Length: 15919, dtype: object"
      ]
     },
     "execution_count": 64,
     "metadata": {},
     "output_type": "execute_result"
    }
   ],
   "source": [
    "df[\"First Registration\"] "
   ]
  },
  {
   "cell_type": "code",
   "execution_count": 65,
   "id": "fc859603",
   "metadata": {},
   "outputs": [],
   "source": [
    "df[\"First Registration\"] =df[\"First Registration\"].astype(float)"
   ]
  },
  {
   "cell_type": "code",
   "execution_count": 66,
   "id": "c7324708",
   "metadata": {},
   "outputs": [],
   "source": [
    "df[\"age\"] = 2019-df[\"First Registration\"]"
   ]
  },
  {
   "cell_type": "code",
   "execution_count": 67,
   "id": "2655e0fc",
   "metadata": {},
   "outputs": [
    {
     "data": {
      "text/plain": [
       "1.000    4522\n",
       "3.000    3674\n",
       "2.000    3273\n",
       "0.000    2853\n",
       "NaN      1597\n",
       "Name: age, dtype: int64"
      ]
     },
     "execution_count": 67,
     "metadata": {},
     "output_type": "execute_result"
    }
   ],
   "source": [
    "df[\"age\"].value_counts(dropna=False)"
   ]
  },
  {
   "cell_type": "code",
   "execution_count": 68,
   "id": "691f9e39",
   "metadata": {},
   "outputs": [],
   "source": [
    "df.drop(\"First Registration\", axis=1, inplace=True)  # buna da  artık ihtiyacımız kalmadı."
   ]
  },
  {
   "cell_type": "code",
   "execution_count": 69,
   "id": "2f729c79",
   "metadata": {},
   "outputs": [
    {
     "data": {
      "text/plain": [
       "(15919, 42)"
      ]
     },
     "execution_count": 69,
     "metadata": {},
     "output_type": "execute_result"
    }
   ],
   "source": [
    "df.shape"
   ]
  },
  {
   "cell_type": "code",
   "execution_count": 70,
   "id": "02c8b33c",
   "metadata": {},
   "outputs": [
    {
     "name": "stdout",
     "output_type": "stream",
     "text": [
      "<class 'pandas.core.frame.DataFrame'>\n",
      "RangeIndex: 15919 entries, 0 to 15918\n",
      "Data columns (total 42 columns):\n",
      " #   Column                 Non-Null Count  Dtype  \n",
      "---  ------                 --------------  -----  \n",
      " 0   make_model             15919 non-null  object \n",
      " 1   short_description      15873 non-null  object \n",
      " 2   body_type              15859 non-null  object \n",
      " 3   price                  15919 non-null  int64  \n",
      " 4   vat                    11406 non-null  object \n",
      " 5   km                     14895 non-null  float64\n",
      " 6   prev_owner             9091 non-null   object \n",
      " 7   hp                     15919 non-null  object \n",
      " 8   Type                   15917 non-null  object \n",
      " 9   Previous Owners        9279 non-null   object \n",
      " 10  Next Inspection        3535 non-null   object \n",
      " 11  Inspection new         3932 non-null   object \n",
      " 12  Warranty               9156 non-null   object \n",
      " 13  Full Service           6230 non-null   object \n",
      " 14  Non-smoking Vehicle    3460 non-null   object \n",
      " 15  null                   0 non-null      object \n",
      " 16  Offer Number           12744 non-null  object \n",
      " 17  Body Color             15322 non-null  object \n",
      " 18  Paint Type             10147 non-null  object \n",
      " 19  Body Color Original    12160 non-null  object \n",
      " 20  Upholstery             12199 non-null  object \n",
      " 21  Nr. of Doors           15707 non-null  object \n",
      " 22  Nr. of Seats           14942 non-null  object \n",
      " 23  Model Code             4978 non-null   object \n",
      " 24  Gearing Type           15919 non-null  object \n",
      " 25  Displacement           15423 non-null  object \n",
      " 26  Cylinders              10239 non-null  object \n",
      " 27  Weight                 8945 non-null   object \n",
      " 28  Drive chain            9061 non-null   object \n",
      " 29  Fuel                   15919 non-null  object \n",
      " 30  Consumption            14013 non-null  object \n",
      " 31  CO2 Emission           14111 non-null  object \n",
      " 32  Emission Class         12898 non-null  object \n",
      " 33  Comfort & Convenience  14999 non-null  object \n",
      " 34  Entertainment & Media  14545 non-null  object \n",
      " 35  Extras                 12957 non-null  object \n",
      " 36  Safety & Security      14937 non-null  object \n",
      " 37  description            15252 non-null  object \n",
      " 38  Emission Label         3985 non-null   object \n",
      " 39  Gears                  11207 non-null  object \n",
      " 40  Country version        7586 non-null   object \n",
      " 41  age                    14322 non-null  float64\n",
      "dtypes: float64(2), int64(1), object(39)\n",
      "memory usage: 5.1+ MB\n"
     ]
    }
   ],
   "source": [
    "df.info()"
   ]
  },
  {
   "cell_type": "markdown",
   "id": "e37daf59",
   "metadata": {},
   "source": [
    "###  prev_owner"
   ]
  },
  {
   "cell_type": "code",
   "execution_count": 71,
   "id": "44d7d4ad",
   "metadata": {},
   "outputs": [
    {
     "data": {
      "text/plain": [
       "1 previous owner     8294\n",
       "NaN                  6828\n",
       "2 previous owners     778\n",
       "3 previous owners      17\n",
       "4 previous owners       2\n",
       "Name: prev_owner, dtype: int64"
      ]
     },
     "execution_count": 71,
     "metadata": {},
     "output_type": "execute_result"
    }
   ],
   "source": [
    "df[\"prev_owner\"].value_counts(dropna=False)"
   ]
  },
  {
   "cell_type": "code",
   "execution_count": 72,
   "id": "7503cfd3",
   "metadata": {},
   "outputs": [
    {
     "data": {
      "text/plain": [
       "1 previous owner    0.521\n",
       "NaN                 0.429\n",
       "2 previous owners   0.049\n",
       "3 previous owners   0.001\n",
       "4 previous owners   0.000\n",
       "Name: prev_owner, dtype: float64"
      ]
     },
     "execution_count": 72,
     "metadata": {},
     "output_type": "execute_result"
    }
   ],
   "source": [
    "df[\"prev_owner\"].value_counts(dropna=False,normalize=True)"
   ]
  },
  {
   "cell_type": "code",
   "execution_count": 73,
   "id": "4c10ac75",
   "metadata": {},
   "outputs": [
    {
     "data": {
      "text/html": [
       "<div>\n",
       "<style scoped>\n",
       "    .dataframe tbody tr th:only-of-type {\n",
       "        vertical-align: middle;\n",
       "    }\n",
       "\n",
       "    .dataframe tbody tr th {\n",
       "        vertical-align: top;\n",
       "    }\n",
       "\n",
       "    .dataframe thead th {\n",
       "        text-align: right;\n",
       "    }\n",
       "</style>\n",
       "<table border=\"1\" class=\"dataframe\">\n",
       "  <thead>\n",
       "    <tr style=\"text-align: right;\">\n",
       "      <th></th>\n",
       "      <th>0</th>\n",
       "    </tr>\n",
       "  </thead>\n",
       "  <tbody>\n",
       "    <tr>\n",
       "      <th>0</th>\n",
       "      <td>2.000</td>\n",
       "    </tr>\n",
       "    <tr>\n",
       "      <th>1</th>\n",
       "      <td>NaN</td>\n",
       "    </tr>\n",
       "    <tr>\n",
       "      <th>2</th>\n",
       "      <td>1.000</td>\n",
       "    </tr>\n",
       "    <tr>\n",
       "      <th>3</th>\n",
       "      <td>1.000</td>\n",
       "    </tr>\n",
       "    <tr>\n",
       "      <th>4</th>\n",
       "      <td>1.000</td>\n",
       "    </tr>\n",
       "    <tr>\n",
       "      <th>...</th>\n",
       "      <td>...</td>\n",
       "    </tr>\n",
       "    <tr>\n",
       "      <th>15914</th>\n",
       "      <td>NaN</td>\n",
       "    </tr>\n",
       "    <tr>\n",
       "      <th>15915</th>\n",
       "      <td>1.000</td>\n",
       "    </tr>\n",
       "    <tr>\n",
       "      <th>15916</th>\n",
       "      <td>1.000</td>\n",
       "    </tr>\n",
       "    <tr>\n",
       "      <th>15917</th>\n",
       "      <td>NaN</td>\n",
       "    </tr>\n",
       "    <tr>\n",
       "      <th>15918</th>\n",
       "      <td>1.000</td>\n",
       "    </tr>\n",
       "  </tbody>\n",
       "</table>\n",
       "<p>15919 rows × 1 columns</p>\n",
       "</div>"
      ],
      "text/plain": [
       "          0\n",
       "0     2.000\n",
       "1       NaN\n",
       "2     1.000\n",
       "3     1.000\n",
       "4     1.000\n",
       "...     ...\n",
       "15914   NaN\n",
       "15915 1.000\n",
       "15916 1.000\n",
       "15917   NaN\n",
       "15918 1.000\n",
       "\n",
       "[15919 rows x 1 columns]"
      ]
     },
     "execution_count": 73,
     "metadata": {},
     "output_type": "execute_result"
    }
   ],
   "source": [
    "df[\"prev_owner\"].str.extract(\"(\\d)\").astype(float)"
   ]
  },
  {
   "cell_type": "code",
   "execution_count": 74,
   "id": "8449af36",
   "metadata": {},
   "outputs": [],
   "source": [
    "df[\"prev_owner\"] = df[\"prev_owner\"].str.extract(\"(\\d)\").astype(float)"
   ]
  },
  {
   "cell_type": "markdown",
   "id": "b1d5e878",
   "metadata": {},
   "source": [
    "###   Previous Owners"
   ]
  },
  {
   "cell_type": "code",
   "execution_count": 75,
   "id": "1e888239",
   "metadata": {},
   "outputs": [
    {
     "data": {
      "text/plain": [
       "1                                                                      8103\n",
       "NaN                                                                    6640\n",
       "2                                                                       766\n",
       "0                                                                       163\n",
       "3                                                                        17\n",
       "                                                                       ... \n",
       "1,111 g CO2/km (comb)                                                     1\n",
       "1,Euro 6                                                                  1\n",
       "2,119 g CO2/km (comb)                                                     1\n",
       "1,,6.6 l/100 km (comb),,8.1 l/100 km (city),,5.7 l/100 km (country)       1\n",
       "1,142 g CO2/km (comb)                                                     1\n",
       "Name: Previous Owners, Length: 102, dtype: int64"
      ]
     },
     "execution_count": 75,
     "metadata": {},
     "output_type": "execute_result"
    }
   ],
   "source": [
    "df[\"Previous Owners\"].value_counts(dropna=False)"
   ]
  },
  {
   "cell_type": "code",
   "execution_count": 76,
   "id": "17b078db",
   "metadata": {},
   "outputs": [
    {
     "data": {
      "text/plain": [
       "1                                                                     0.509\n",
       "NaN                                                                   0.417\n",
       "2                                                                     0.048\n",
       "0                                                                     0.010\n",
       "3                                                                     0.001\n",
       "                                                                       ... \n",
       "1,111 g CO2/km (comb)                                                 0.000\n",
       "1,Euro 6                                                              0.000\n",
       "2,119 g CO2/km (comb)                                                 0.000\n",
       "1,,6.6 l/100 km (comb),,8.1 l/100 km (city),,5.7 l/100 km (country)   0.000\n",
       "1,142 g CO2/km (comb)                                                 0.000\n",
       "Name: Previous Owners, Length: 102, dtype: float64"
      ]
     },
     "execution_count": 76,
     "metadata": {},
     "output_type": "execute_result"
    }
   ],
   "source": [
    "df[\"Previous Owners\"].value_counts(dropna=False,normalize=True)"
   ]
  },
  {
   "cell_type": "markdown",
   "id": "73ff0918",
   "metadata": {},
   "source": [
    "burada consumption (tüketim) ile ilgili bilgiler var doldurma işlemleri sırasında kullanılabilir o yüzden şimdilik drop etmeyelim"
   ]
  },
  {
   "cell_type": "markdown",
   "id": "c5fa6bd3",
   "metadata": {},
   "source": [
    "###   hp"
   ]
  },
  {
   "cell_type": "code",
   "execution_count": 77,
   "id": "1c20feec",
   "metadata": {},
   "outputs": [],
   "source": [
    "pd.options.display.max_rows = 100\n",
    "pd.options.display.max_columns = 100"
   ]
  },
  {
   "cell_type": "code",
   "execution_count": 78,
   "id": "efe007b7",
   "metadata": {},
   "outputs": [
    {
     "data": {
      "text/plain": [
       "85 kW     2542\n",
       "66 kW     2122\n",
       "81 kW     1402\n",
       "100 kW    1308\n",
       "110 kW    1112\n",
       "70 kW      888\n",
       "125 kW     707\n",
       "51 kW      695\n",
       "55 kW      569\n",
       "118 kW     516\n",
       "92 kW      466\n",
       "121 kW     392\n",
       "147 kW     380\n",
       "77 kW      345\n",
       "56 kW      286\n",
       "54 kW      276\n",
       "103 kW     253\n",
       "87 kW      232\n",
       "165 kW     194\n",
       "88 kW      177\n",
       "60 kW      160\n",
       "162 kW      98\n",
       "- kW        88\n",
       "74 kW       81\n",
       "96 kW       72\n",
       "71 kW       59\n",
       "101 kW      47\n",
       "67 kW       40\n",
       "154 kW      39\n",
       "122 kW      35\n",
       "119 kW      30\n",
       "164 kW      27\n",
       "135 kW      24\n",
       "82 kW       22\n",
       "52 kW       22\n",
       "78 kW       20\n",
       "1 kW        20\n",
       "294 kW      18\n",
       "146 kW      18\n",
       "141 kW      16\n",
       "57 kW       10\n",
       "104 kW       8\n",
       "120 kW       8\n",
       "191 kW       7\n",
       "112 kW       7\n",
       "155 kW       6\n",
       "117 kW       6\n",
       "184 kW       5\n",
       "90 kW        4\n",
       "76 kW        4\n",
       "65 kW        4\n",
       "149 kW       3\n",
       "80 kW        3\n",
       "168 kW       3\n",
       "98 kW        3\n",
       "93 kW        3\n",
       "228 kW       2\n",
       "270 kW       2\n",
       "53 kW        2\n",
       "140 kW       2\n",
       "86 kW        2\n",
       "167 kW       2\n",
       "127 kW       2\n",
       "89 kW        2\n",
       "143 kW       2\n",
       "63 kW        2\n",
       "40 kW        2\n",
       "150 kW       2\n",
       "163 kW       1\n",
       "115 kW       1\n",
       "132 kW       1\n",
       "75 kW        1\n",
       "4 kW         1\n",
       "137 kW       1\n",
       "123 kW       1\n",
       "133 kW       1\n",
       "84 kW        1\n",
       "195 kW       1\n",
       "44 kW        1\n",
       "239 kW       1\n",
       "9 kW         1\n",
       "Name: hp, dtype: int64"
      ]
     },
     "execution_count": 78,
     "metadata": {},
     "output_type": "execute_result"
    }
   ],
   "source": [
    "df[\"hp\"].value_counts(dropna=False)"
   ]
  },
  {
   "cell_type": "code",
   "execution_count": 79,
   "id": "2505a8fd",
   "metadata": {},
   "outputs": [
    {
     "data": {
      "text/plain": [
       "85 kW    0.160\n",
       "66 kW    0.133\n",
       "81 kW    0.088\n",
       "100 kW   0.082\n",
       "110 kW   0.070\n",
       "70 kW    0.056\n",
       "125 kW   0.044\n",
       "51 kW    0.044\n",
       "55 kW    0.036\n",
       "118 kW   0.032\n",
       "92 kW    0.029\n",
       "121 kW   0.025\n",
       "147 kW   0.024\n",
       "77 kW    0.022\n",
       "56 kW    0.018\n",
       "54 kW    0.017\n",
       "103 kW   0.016\n",
       "87 kW    0.015\n",
       "165 kW   0.012\n",
       "88 kW    0.011\n",
       "60 kW    0.010\n",
       "162 kW   0.006\n",
       "- kW     0.006\n",
       "74 kW    0.005\n",
       "96 kW    0.005\n",
       "71 kW    0.004\n",
       "101 kW   0.003\n",
       "67 kW    0.003\n",
       "154 kW   0.002\n",
       "122 kW   0.002\n",
       "119 kW   0.002\n",
       "164 kW   0.002\n",
       "135 kW   0.002\n",
       "82 kW    0.001\n",
       "52 kW    0.001\n",
       "78 kW    0.001\n",
       "1 kW     0.001\n",
       "294 kW   0.001\n",
       "146 kW   0.001\n",
       "141 kW   0.001\n",
       "57 kW    0.001\n",
       "104 kW   0.001\n",
       "120 kW   0.001\n",
       "191 kW   0.000\n",
       "112 kW   0.000\n",
       "155 kW   0.000\n",
       "117 kW   0.000\n",
       "184 kW   0.000\n",
       "90 kW    0.000\n",
       "76 kW    0.000\n",
       "65 kW    0.000\n",
       "149 kW   0.000\n",
       "80 kW    0.000\n",
       "168 kW   0.000\n",
       "98 kW    0.000\n",
       "93 kW    0.000\n",
       "228 kW   0.000\n",
       "270 kW   0.000\n",
       "53 kW    0.000\n",
       "140 kW   0.000\n",
       "86 kW    0.000\n",
       "167 kW   0.000\n",
       "127 kW   0.000\n",
       "89 kW    0.000\n",
       "143 kW   0.000\n",
       "63 kW    0.000\n",
       "40 kW    0.000\n",
       "150 kW   0.000\n",
       "163 kW   0.000\n",
       "115 kW   0.000\n",
       "132 kW   0.000\n",
       "75 kW    0.000\n",
       "4 kW     0.000\n",
       "137 kW   0.000\n",
       "123 kW   0.000\n",
       "133 kW   0.000\n",
       "84 kW    0.000\n",
       "195 kW   0.000\n",
       "44 kW    0.000\n",
       "239 kW   0.000\n",
       "9 kW     0.000\n",
       "Name: hp, dtype: float64"
      ]
     },
     "execution_count": 79,
     "metadata": {},
     "output_type": "execute_result"
    }
   ],
   "source": [
    "df[\"hp\"].value_counts(dropna=False,normalize=True)"
   ]
  },
  {
   "cell_type": "code",
   "execution_count": 80,
   "id": "478f7374",
   "metadata": {},
   "outputs": [
    {
     "data": {
      "text/plain": [
       "0        66.000\n",
       "1       141.000\n",
       "2        85.000\n",
       "3        66.000\n",
       "4        66.000\n",
       "          ...  \n",
       "15914   147.000\n",
       "15915   165.000\n",
       "15916   146.000\n",
       "15917   147.000\n",
       "15918   165.000\n",
       "Name: hp, Length: 15919, dtype: float64"
      ]
     },
     "execution_count": 80,
     "metadata": {},
     "output_type": "execute_result"
    }
   ],
   "source": [
    "df[\"hp\"].str.strip(\"kW\").replace(\"- \",np.nan).astype(float)"
   ]
  },
  {
   "cell_type": "code",
   "execution_count": 81,
   "id": "5c677905",
   "metadata": {},
   "outputs": [],
   "source": [
    "df[\"hp_kw\"] =  df[\"hp\"].str.strip(\"kW\").replace(\"- \",np.nan).astype(float)  # birimini belirtmeliyiz."
   ]
  },
  {
   "cell_type": "code",
   "execution_count": 82,
   "id": "1966ad1d",
   "metadata": {},
   "outputs": [],
   "source": [
    "df.drop(columns=\"hp\",inplace=True)"
   ]
  },
  {
   "cell_type": "code",
   "execution_count": 83,
   "id": "cf3e3d56",
   "metadata": {},
   "outputs": [
    {
     "data": {
      "text/plain": [
       "(15919, 42)"
      ]
     },
     "execution_count": 83,
     "metadata": {},
     "output_type": "execute_result"
    }
   ],
   "source": [
    "df.shape"
   ]
  },
  {
   "cell_type": "code",
   "execution_count": 84,
   "id": "a8393d17",
   "metadata": {},
   "outputs": [],
   "source": [
    "## biz ilk başta baktığımızda NaN değer yoktu ama garip değerleri NaN'a çevirdik peki kaç tane ? "
   ]
  },
  {
   "cell_type": "code",
   "execution_count": 85,
   "id": "43a2b810",
   "metadata": {},
   "outputs": [
    {
     "data": {
      "text/plain": [
       "85.000     2542\n",
       "66.000     2122\n",
       "81.000     1402\n",
       "100.000    1308\n",
       "110.000    1112\n",
       "70.000      888\n",
       "125.000     707\n",
       "51.000      695\n",
       "55.000      569\n",
       "118.000     516\n",
       "92.000      466\n",
       "121.000     392\n",
       "147.000     380\n",
       "77.000      345\n",
       "56.000      286\n",
       "54.000      276\n",
       "103.000     253\n",
       "87.000      232\n",
       "165.000     194\n",
       "88.000      177\n",
       "60.000      160\n",
       "162.000      98\n",
       "NaN          88\n",
       "74.000       81\n",
       "96.000       72\n",
       "71.000       59\n",
       "101.000      47\n",
       "67.000       40\n",
       "154.000      39\n",
       "122.000      35\n",
       "119.000      30\n",
       "164.000      27\n",
       "135.000      24\n",
       "82.000       22\n",
       "52.000       22\n",
       "78.000       20\n",
       "1.000        20\n",
       "294.000      18\n",
       "146.000      18\n",
       "141.000      16\n",
       "57.000       10\n",
       "104.000       8\n",
       "120.000       8\n",
       "191.000       7\n",
       "112.000       7\n",
       "155.000       6\n",
       "117.000       6\n",
       "184.000       5\n",
       "90.000        4\n",
       "76.000        4\n",
       "65.000        4\n",
       "149.000       3\n",
       "80.000        3\n",
       "168.000       3\n",
       "98.000        3\n",
       "93.000        3\n",
       "228.000       2\n",
       "270.000       2\n",
       "53.000        2\n",
       "140.000       2\n",
       "86.000        2\n",
       "167.000       2\n",
       "127.000       2\n",
       "89.000        2\n",
       "143.000       2\n",
       "63.000        2\n",
       "40.000        2\n",
       "150.000       2\n",
       "163.000       1\n",
       "115.000       1\n",
       "132.000       1\n",
       "75.000        1\n",
       "4.000         1\n",
       "137.000       1\n",
       "123.000       1\n",
       "133.000       1\n",
       "84.000        1\n",
       "195.000       1\n",
       "44.000        1\n",
       "239.000       1\n",
       "9.000         1\n",
       "Name: hp_kw, dtype: int64"
      ]
     },
     "execution_count": 85,
     "metadata": {},
     "output_type": "execute_result"
    }
   ],
   "source": [
    "df[\"hp_kw\"].value_counts(dropna=False)"
   ]
  },
  {
   "cell_type": "markdown",
   "id": "b7e9fb54",
   "metadata": {},
   "source": [
    "NaN ----> 88"
   ]
  },
  {
   "cell_type": "markdown",
   "id": "a78f85a2",
   "metadata": {},
   "source": [
    "###  Type "
   ]
  },
  {
   "cell_type": "code",
   "execution_count": 86,
   "id": "033f2c9a",
   "metadata": {},
   "outputs": [
    {
     "data": {
      "text/plain": [
       "Used,,Diesel (Particulate Filter)                                                                                 3475\n",
       "Used,,Diesel                                                                                                      2516\n",
       "Used,,Gasoline                                                                                                    2367\n",
       "Used,,Super 95                                                                                                    1818\n",
       "Pre-registered,,Super 95                                                                                           500\n",
       "                                                                                                                  ... \n",
       "New,,Regular/Benzine 91 / Super 95 / Super Plus 98 / Regular/Benzine E10 91 / Super Plus E10 98 / Super E10 95       1\n",
       "Used,,Super 95 / Super Plus 98 / Super E10 95 / Super Plus E10 98 (Particulate Filter)                               1\n",
       "Demonstration,,Super Plus 98                                                                                         1\n",
       "New,,Super Plus E10 98                                                                                               1\n",
       "Demonstration,,Regular/Benzine E10 91                                                                                1\n",
       "Name: Type, Length: 170, dtype: int64"
      ]
     },
     "execution_count": 86,
     "metadata": {},
     "output_type": "execute_result"
    }
   ],
   "source": [
    "df[\"Type\"].value_counts(dropna=False)"
   ]
  },
  {
   "cell_type": "code",
   "execution_count": 87,
   "id": "dc501a46",
   "metadata": {},
   "outputs": [
    {
     "data": {
      "text/plain": [
       "Used,,Diesel (Particulate Filter)                                                                                0.218\n",
       "Used,,Diesel                                                                                                     0.158\n",
       "Used,,Gasoline                                                                                                   0.149\n",
       "Used,,Super 95                                                                                                   0.114\n",
       "Pre-registered,,Super 95                                                                                         0.031\n",
       "                                                                                                                  ... \n",
       "New,,Regular/Benzine 91 / Super 95 / Super Plus 98 / Regular/Benzine E10 91 / Super Plus E10 98 / Super E10 95   0.000\n",
       "Used,,Super 95 / Super Plus 98 / Super E10 95 / Super Plus E10 98 (Particulate Filter)                           0.000\n",
       "Demonstration,,Super Plus 98                                                                                     0.000\n",
       "New,,Super Plus E10 98                                                                                           0.000\n",
       "Demonstration,,Regular/Benzine E10 91                                                                            0.000\n",
       "Name: Type, Length: 170, dtype: float64"
      ]
     },
     "execution_count": 87,
     "metadata": {},
     "output_type": "execute_result"
    }
   ],
   "source": [
    "df[\"Type\"].value_counts(dropna=False,normalize=True)"
   ]
  },
  {
   "cell_type": "code",
   "execution_count": 88,
   "id": "310f5062",
   "metadata": {},
   "outputs": [
    {
     "data": {
      "text/plain": [
       "2"
      ]
     },
     "execution_count": 88,
     "metadata": {},
     "output_type": "execute_result"
    }
   ],
   "source": [
    "df[\"Type\"].isna().sum()"
   ]
  },
  {
   "cell_type": "markdown",
   "id": "e67896f1",
   "metadata": {},
   "source": [
    " bir de bizim fuel sütunumuz var ileride bu ikisini karşılaştırıp hangisini kullanacaksak oradaki NaN'ları doldurmak için diğerini kullanabiliriz."
   ]
  },
  {
   "cell_type": "code",
   "execution_count": 89,
   "id": "57ae45f2",
   "metadata": {},
   "outputs": [
    {
     "data": {
      "text/html": [
       "<div>\n",
       "<style scoped>\n",
       "    .dataframe tbody tr th:only-of-type {\n",
       "        vertical-align: middle;\n",
       "    }\n",
       "\n",
       "    .dataframe tbody tr th {\n",
       "        vertical-align: top;\n",
       "    }\n",
       "\n",
       "    .dataframe thead th {\n",
       "        text-align: right;\n",
       "    }\n",
       "</style>\n",
       "<table border=\"1\" class=\"dataframe\">\n",
       "  <thead>\n",
       "    <tr style=\"text-align: right;\">\n",
       "      <th></th>\n",
       "      <th>Type</th>\n",
       "      <th>Fuel</th>\n",
       "    </tr>\n",
       "  </thead>\n",
       "  <tbody>\n",
       "    <tr>\n",
       "      <th>2126</th>\n",
       "      <td>Used,,Gasoline</td>\n",
       "      <td>Gasoline</td>\n",
       "    </tr>\n",
       "    <tr>\n",
       "      <th>10502</th>\n",
       "      <td>Used,,Diesel</td>\n",
       "      <td>Diesel</td>\n",
       "    </tr>\n",
       "    <tr>\n",
       "      <th>12767</th>\n",
       "      <td>New,,Gasoline</td>\n",
       "      <td>Gasoline</td>\n",
       "    </tr>\n",
       "    <tr>\n",
       "      <th>6168</th>\n",
       "      <td>Used,,Diesel</td>\n",
       "      <td>Diesel</td>\n",
       "    </tr>\n",
       "    <tr>\n",
       "      <th>12948</th>\n",
       "      <td>Used,,Super 95</td>\n",
       "      <td>Super 95</td>\n",
       "    </tr>\n",
       "    <tr>\n",
       "      <th>8516</th>\n",
       "      <td>Used,,Gasoline</td>\n",
       "      <td>Gasoline</td>\n",
       "    </tr>\n",
       "    <tr>\n",
       "      <th>12189</th>\n",
       "      <td>Used,,Diesel (Particulate Filter)</td>\n",
       "      <td>Diesel (Particulate Filter)</td>\n",
       "    </tr>\n",
       "    <tr>\n",
       "      <th>8688</th>\n",
       "      <td>Used,,Gasoline</td>\n",
       "      <td>Gasoline</td>\n",
       "    </tr>\n",
       "    <tr>\n",
       "      <th>14077</th>\n",
       "      <td>New,,Diesel (Particulate Filter)</td>\n",
       "      <td>Diesel (Particulate Filter)</td>\n",
       "    </tr>\n",
       "    <tr>\n",
       "      <th>5389</th>\n",
       "      <td>Demonstration,,Diesel</td>\n",
       "      <td>Diesel</td>\n",
       "    </tr>\n",
       "  </tbody>\n",
       "</table>\n",
       "</div>"
      ],
      "text/plain": [
       "                                    Type                         Fuel\n",
       "2126                      Used,,Gasoline                     Gasoline\n",
       "10502                       Used,,Diesel                       Diesel\n",
       "12767                      New,,Gasoline                     Gasoline\n",
       "6168                        Used,,Diesel                       Diesel\n",
       "12948                     Used,,Super 95                     Super 95\n",
       "8516                      Used,,Gasoline                     Gasoline\n",
       "12189  Used,,Diesel (Particulate Filter)  Diesel (Particulate Filter)\n",
       "8688                      Used,,Gasoline                     Gasoline\n",
       "14077   New,,Diesel (Particulate Filter)  Diesel (Particulate Filter)\n",
       "5389               Demonstration,,Diesel                       Diesel"
      ]
     },
     "execution_count": 89,
     "metadata": {},
     "output_type": "execute_result"
    }
   ],
   "source": [
    "#   ex :\n",
    "df[[\"Type\",\"Fuel\"]].sample(10)"
   ]
  },
  {
   "cell_type": "code",
   "execution_count": 90,
   "id": "250c1be5",
   "metadata": {},
   "outputs": [
    {
     "data": {
      "text/plain": [
       "0                    [Used, , Diesel (Particulate Filter)]\n",
       "1                                       [Used, , Gasoline]\n",
       "2                    [Used, , Diesel (Particulate Filter)]\n",
       "3                    [Used, , Diesel (Particulate Filter)]\n",
       "4                    [Used, , Diesel (Particulate Filter)]\n",
       "                               ...                        \n",
       "15914                 [New, , Diesel (Particulate Filter)]\n",
       "15915    [Used, , Super 95 / Super Plus 98 (Particulate...\n",
       "15916                           [Pre-registered, , Diesel]\n",
       "15917                           [Pre-registered, , Diesel]\n",
       "15918                          [Demonstration, , Super 95]\n",
       "Name: Type, Length: 15919, dtype: object"
      ]
     },
     "execution_count": 90,
     "metadata": {},
     "output_type": "execute_result"
    }
   ],
   "source": [
    "df[\"Type\"].str.split(\",\")"
   ]
  },
  {
   "cell_type": "code",
   "execution_count": 91,
   "id": "7f05b344",
   "metadata": {},
   "outputs": [
    {
     "data": {
      "text/plain": [
       "0                  Used\n",
       "1                  Used\n",
       "2                  Used\n",
       "3                  Used\n",
       "4                  Used\n",
       "              ...      \n",
       "15914               New\n",
       "15915              Used\n",
       "15916    Pre-registered\n",
       "15917    Pre-registered\n",
       "15918     Demonstration\n",
       "Name: Type, Length: 15919, dtype: object"
      ]
     },
     "execution_count": 91,
     "metadata": {},
     "output_type": "execute_result"
    }
   ],
   "source": [
    "df[\"Type\"].str.split(\",\").str[0]  # burada mesela liste yeniden işimize yaradı."
   ]
  },
  {
   "cell_type": "code",
   "execution_count": 92,
   "id": "36abaa4a",
   "metadata": {},
   "outputs": [],
   "source": [
    "df[\"Type_\"] = df[\"Type\"].str.split(\",\").str[0]"
   ]
  },
  {
   "cell_type": "code",
   "execution_count": 93,
   "id": "daba31d1",
   "metadata": {},
   "outputs": [
    {
     "data": {
      "text/plain": [
       "Used              11096\n",
       "New                1650\n",
       "Pre-registered     1364\n",
       "Employee's car     1011\n",
       "Demonstration       796\n",
       "NaN                   2\n",
       "Name: Type_, dtype: int64"
      ]
     },
     "execution_count": 93,
     "metadata": {},
     "output_type": "execute_result"
    }
   ],
   "source": [
    "df[\"Type_\"].value_counts(dropna=False)               "
   ]
  },
  {
   "cell_type": "markdown",
   "id": "fab4bc54",
   "metadata": {},
   "source": [
    "NaN ------> 2"
   ]
  },
  {
   "cell_type": "code",
   "execution_count": 94,
   "id": "dcd6f013",
   "metadata": {},
   "outputs": [
    {
     "data": {
      "text/plain": [
       "(15919, 43)"
      ]
     },
     "execution_count": 94,
     "metadata": {},
     "output_type": "execute_result"
    }
   ],
   "source": [
    "df.shape"
   ]
  },
  {
   "cell_type": "markdown",
   "id": "3eb97f92",
   "metadata": {},
   "source": [
    "###  Next Inspection   ---> sonraki muayene tarihi"
   ]
  },
  {
   "cell_type": "code",
   "execution_count": 95,
   "id": "8a5da14d",
   "metadata": {},
   "outputs": [],
   "source": [
    "df.rename(columns={\"Next Inspection\":\"next_inspection\"},inplace=True)"
   ]
  },
  {
   "cell_type": "code",
   "execution_count": 96,
   "id": "515679f3",
   "metadata": {},
   "outputs": [
    {
     "data": {
      "text/plain": [
       "NaN                            12384\n",
       "04/2022                           62\n",
       "06/2021                           47\n",
       "03/2021                           39\n",
       "03/2022                           36\n",
       "                               ...  \n",
       "06/2021,121 g CO2/km (comb)        1\n",
       "02/2020,139 g CO2/km (comb)        1\n",
       "10/2021,136 g CO2/km (comb)        1\n",
       "06/2019,139 g CO2/km (comb)        1\n",
       "01/2022,168 g CO2/km (comb)        1\n",
       "Name: next_inspection, Length: 1385, dtype: int64"
      ]
     },
     "execution_count": 96,
     "metadata": {},
     "output_type": "execute_result"
    }
   ],
   "source": [
    "df[\"next_inspection\"].value_counts(dropna=False)    "
   ]
  },
  {
   "cell_type": "code",
   "execution_count": 97,
   "id": "5ec44f1f",
   "metadata": {},
   "outputs": [
    {
     "data": {
      "text/plain": [
       "NaN                           0.778\n",
       "04/2022                       0.004\n",
       "06/2021                       0.003\n",
       "03/2021                       0.002\n",
       "03/2022                       0.002\n",
       "                               ... \n",
       "06/2021,121 g CO2/km (comb)   0.000\n",
       "02/2020,139 g CO2/km (comb)   0.000\n",
       "10/2021,136 g CO2/km (comb)   0.000\n",
       "06/2019,139 g CO2/km (comb)   0.000\n",
       "01/2022,168 g CO2/km (comb)   0.000\n",
       "Name: next_inspection, Length: 1385, dtype: float64"
      ]
     },
     "execution_count": 97,
     "metadata": {},
     "output_type": "execute_result"
    }
   ],
   "source": [
    "df[\"next_inspection\"].value_counts(dropna=False,normalize=True)"
   ]
  },
  {
   "cell_type": "code",
   "execution_count": 98,
   "id": "990020ab",
   "metadata": {},
   "outputs": [],
   "source": [
    "# NaN DEĞER BAYA FAZLA."
   ]
  },
  {
   "cell_type": "code",
   "execution_count": 99,
   "id": "3836b2c7",
   "metadata": {},
   "outputs": [
    {
     "data": {
      "text/plain": [
       "0    12384\n",
       "dtype: int64"
      ]
     },
     "execution_count": 99,
     "metadata": {},
     "output_type": "execute_result"
    }
   ],
   "source": [
    "df.next_inspection.str.extract(\"(\\d+/\\d{0,4})\").isna().sum() \n",
    "## tarihler ayrı bir sütun yapılsa 12384 tane null değer var şimdilik böyle bırakıyorum.                                                             "
   ]
  },
  {
   "cell_type": "code",
   "execution_count": 100,
   "id": "b1c84e67",
   "metadata": {},
   "outputs": [],
   "source": [
    "## bir de bizim inspection new diye bir column'umuz var: "
   ]
  },
  {
   "cell_type": "markdown",
   "id": "a21b60d9",
   "metadata": {},
   "source": [
    "### Inspection new "
   ]
  },
  {
   "cell_type": "code",
   "execution_count": 101,
   "id": "428be82b",
   "metadata": {},
   "outputs": [],
   "source": [
    "df.rename(columns={\"Inspection new\":\"inspection_new\"},inplace=True)"
   ]
  },
  {
   "cell_type": "code",
   "execution_count": 102,
   "id": "d159d8a9",
   "metadata": {},
   "outputs": [
    {
     "data": {
      "text/plain": [
       "11987"
      ]
     },
     "execution_count": 102,
     "metadata": {},
     "output_type": "execute_result"
    }
   ],
   "source": [
    "df[\"inspection_new\"].isna().sum()"
   ]
  },
  {
   "cell_type": "code",
   "execution_count": 103,
   "id": "28dda246",
   "metadata": {},
   "outputs": [
    {
     "data": {
      "text/html": [
       "<div>\n",
       "<style scoped>\n",
       "    .dataframe tbody tr th:only-of-type {\n",
       "        vertical-align: middle;\n",
       "    }\n",
       "\n",
       "    .dataframe tbody tr th {\n",
       "        vertical-align: top;\n",
       "    }\n",
       "\n",
       "    .dataframe thead th {\n",
       "        text-align: right;\n",
       "    }\n",
       "</style>\n",
       "<table border=\"1\" class=\"dataframe\">\n",
       "  <thead>\n",
       "    <tr style=\"text-align: right;\">\n",
       "      <th></th>\n",
       "      <th>next_inspection</th>\n",
       "      <th>inspection_new</th>\n",
       "    </tr>\n",
       "  </thead>\n",
       "  <tbody>\n",
       "    <tr>\n",
       "      <th>2477</th>\n",
       "      <td>NaN</td>\n",
       "      <td>Yes</td>\n",
       "    </tr>\n",
       "    <tr>\n",
       "      <th>5022</th>\n",
       "      <td>NaN</td>\n",
       "      <td>Yes</td>\n",
       "    </tr>\n",
       "    <tr>\n",
       "      <th>2261</th>\n",
       "      <td>NaN</td>\n",
       "      <td>NaN</td>\n",
       "    </tr>\n",
       "    <tr>\n",
       "      <th>6327</th>\n",
       "      <td>NaN</td>\n",
       "      <td>NaN</td>\n",
       "    </tr>\n",
       "    <tr>\n",
       "      <th>11597</th>\n",
       "      <td>05/2021,136 g CO2/km (comb)</td>\n",
       "      <td>NaN</td>\n",
       "    </tr>\n",
       "    <tr>\n",
       "      <th>1967</th>\n",
       "      <td>NaN</td>\n",
       "      <td>NaN</td>\n",
       "    </tr>\n",
       "    <tr>\n",
       "      <th>12960</th>\n",
       "      <td>NaN</td>\n",
       "      <td>NaN</td>\n",
       "    </tr>\n",
       "    <tr>\n",
       "      <th>8125</th>\n",
       "      <td>NaN</td>\n",
       "      <td>NaN</td>\n",
       "    </tr>\n",
       "    <tr>\n",
       "      <th>9705</th>\n",
       "      <td>NaN</td>\n",
       "      <td>Yes,143 g CO2/km (comb)</td>\n",
       "    </tr>\n",
       "    <tr>\n",
       "      <th>14468</th>\n",
       "      <td>NaN</td>\n",
       "      <td>NaN</td>\n",
       "    </tr>\n",
       "  </tbody>\n",
       "</table>\n",
       "</div>"
      ],
      "text/plain": [
       "                   next_inspection           inspection_new\n",
       "2477                           NaN                      Yes\n",
       "5022                           NaN                      Yes\n",
       "2261                           NaN                      NaN\n",
       "6327                           NaN                      NaN\n",
       "11597  05/2021,136 g CO2/km (comb)                      NaN\n",
       "1967                           NaN                      NaN\n",
       "12960                          NaN                      NaN\n",
       "8125                           NaN                      NaN\n",
       "9705                           NaN  Yes,143 g CO2/km (comb)\n",
       "14468                          NaN                      NaN"
      ]
     },
     "execution_count": 103,
     "metadata": {},
     "output_type": "execute_result"
    }
   ],
   "source": [
    "df[[\"next_inspection\",\"inspection_new\"]].sample(10)"
   ]
  },
  {
   "cell_type": "code",
   "execution_count": 104,
   "id": "03d71ca9",
   "metadata": {},
   "outputs": [],
   "source": [
    "## bir benzerlik bulunamadı aralarında."
   ]
  },
  {
   "cell_type": "markdown",
   "id": "84fc4c6e",
   "metadata": {},
   "source": [
    "###   Warranty"
   ]
  },
  {
   "cell_type": "code",
   "execution_count": 105,
   "id": "f1dff753",
   "metadata": {},
   "outputs": [
    {
     "data": {
      "text/plain": [
       "NaN                                                                          6763\n",
       "Euro 6                                                                       1868\n",
       "12 months                                                                    1305\n",
       "24 months                                                                     585\n",
       "4 (Green)                                                                     517\n",
       "                                                                             ... \n",
       "2 months                                                                        1\n",
       "72 months,125 g CO2/km (comb)                                                   1\n",
       "60 months,14 g CO2/km (comb)                                                    1\n",
       "24 months,121 g CO2/km (comb)                                                   1\n",
       "36 months,,7.4 l/100 km (comb),,9.6 l/100 km (city),,6 l/100 km (country)       1\n",
       "Name: Warranty, Length: 506, dtype: int64"
      ]
     },
     "execution_count": 105,
     "metadata": {},
     "output_type": "execute_result"
    }
   ],
   "source": [
    "df[\"Warranty\"].value_counts(dropna=False)"
   ]
  },
  {
   "cell_type": "code",
   "execution_count": 106,
   "id": "72ab5f48",
   "metadata": {},
   "outputs": [
    {
     "data": {
      "text/plain": [
       "NaN                                                                         0.425\n",
       "Euro 6                                                                      0.117\n",
       "12 months                                                                   0.082\n",
       "24 months                                                                   0.037\n",
       "4 (Green)                                                                   0.032\n",
       "                                                                             ... \n",
       "2 months                                                                    0.000\n",
       "72 months,125 g CO2/km (comb)                                               0.000\n",
       "60 months,14 g CO2/km (comb)                                                0.000\n",
       "24 months,121 g CO2/km (comb)                                               0.000\n",
       "36 months,,7.4 l/100 km (comb),,9.6 l/100 km (city),,6 l/100 km (country)   0.000\n",
       "Name: Warranty, Length: 506, dtype: float64"
      ]
     },
     "execution_count": 106,
     "metadata": {},
     "output_type": "execute_result"
    }
   ],
   "source": [
    "df[\"Warranty\"].value_counts(dropna=False,normalize=True)"
   ]
  },
  {
   "cell_type": "code",
   "execution_count": 107,
   "id": "ed3097a1",
   "metadata": {},
   "outputs": [
    {
     "data": {
      "text/html": [
       "<div>\n",
       "<style scoped>\n",
       "    .dataframe tbody tr th:only-of-type {\n",
       "        vertical-align: middle;\n",
       "    }\n",
       "\n",
       "    .dataframe tbody tr th {\n",
       "        vertical-align: top;\n",
       "    }\n",
       "\n",
       "    .dataframe thead th {\n",
       "        text-align: right;\n",
       "    }\n",
       "</style>\n",
       "<table border=\"1\" class=\"dataframe\">\n",
       "  <thead>\n",
       "    <tr style=\"text-align: right;\">\n",
       "      <th></th>\n",
       "      <th>0</th>\n",
       "    </tr>\n",
       "  </thead>\n",
       "  <tbody>\n",
       "    <tr>\n",
       "      <th>0</th>\n",
       "      <td>NaN</td>\n",
       "    </tr>\n",
       "    <tr>\n",
       "      <th>1</th>\n",
       "      <td>NaN</td>\n",
       "    </tr>\n",
       "    <tr>\n",
       "      <th>2</th>\n",
       "      <td>NaN</td>\n",
       "    </tr>\n",
       "    <tr>\n",
       "      <th>3</th>\n",
       "      <td>NaN</td>\n",
       "    </tr>\n",
       "    <tr>\n",
       "      <th>4</th>\n",
       "      <td>NaN</td>\n",
       "    </tr>\n",
       "    <tr>\n",
       "      <th>...</th>\n",
       "      <td>...</td>\n",
       "    </tr>\n",
       "    <tr>\n",
       "      <th>15914</th>\n",
       "      <td>24.000</td>\n",
       "    </tr>\n",
       "    <tr>\n",
       "      <th>15915</th>\n",
       "      <td>NaN</td>\n",
       "    </tr>\n",
       "    <tr>\n",
       "      <th>15916</th>\n",
       "      <td>NaN</td>\n",
       "    </tr>\n",
       "    <tr>\n",
       "      <th>15917</th>\n",
       "      <td>NaN</td>\n",
       "    </tr>\n",
       "    <tr>\n",
       "      <th>15918</th>\n",
       "      <td>NaN</td>\n",
       "    </tr>\n",
       "  </tbody>\n",
       "</table>\n",
       "<p>15919 rows × 1 columns</p>\n",
       "</div>"
      ],
      "text/plain": [
       "           0\n",
       "0        NaN\n",
       "1        NaN\n",
       "2        NaN\n",
       "3        NaN\n",
       "4        NaN\n",
       "...      ...\n",
       "15914 24.000\n",
       "15915    NaN\n",
       "15916    NaN\n",
       "15917    NaN\n",
       "15918    NaN\n",
       "\n",
       "[15919 rows x 1 columns]"
      ]
     },
     "execution_count": 107,
     "metadata": {},
     "output_type": "execute_result"
    }
   ],
   "source": [
    "df[\"Warranty\"].str.extract(r\"(\\d+)\\s*months\").astype(float)"
   ]
  },
  {
   "cell_type": "code",
   "execution_count": 108,
   "id": "bcc75ac3",
   "metadata": {},
   "outputs": [],
   "source": [
    "df[\"warranty_month\"] = df[\"Warranty\"].str.extract(r\"(\\d+)\\s*month\").astype(float)"
   ]
  },
  {
   "cell_type": "code",
   "execution_count": 109,
   "id": "f7d393af",
   "metadata": {},
   "outputs": [
    {
     "data": {
      "text/plain": [
       "11066"
      ]
     },
     "execution_count": 109,
     "metadata": {},
     "output_type": "execute_result"
    }
   ],
   "source": [
    "df[\"warranty_month\"].isnull().sum()      # ÇOK FAZLA NULL DEĞER VAR YİNE."
   ]
  },
  {
   "cell_type": "markdown",
   "id": "e142ead3",
   "metadata": {},
   "source": [
    "### Full Service"
   ]
  },
  {
   "cell_type": "code",
   "execution_count": 110,
   "id": "9399f7ca",
   "metadata": {},
   "outputs": [],
   "source": [
    "df.rename(columns={\"Full Service\":\"full_service\"},inplace=1)"
   ]
  },
  {
   "cell_type": "code",
   "execution_count": 111,
   "id": "ee5a364f",
   "metadata": {},
   "outputs": [
    {
     "data": {
      "text/plain": [
       "NaN                                                                 9689\n",
       "4 (Green)                                                           2235\n",
       "Euro 6                                                              2097\n",
       "Euro 6d-TEMP                                                         399\n",
       "120 g CO2/km (comb)                                                  105\n",
       "                                                                    ... \n",
       "6 l/100 km (comb),,8 l/100 km (city),,4.9 l/100 km (country)           1\n",
       "84 g CO2/km (comb)                                                     1\n",
       "87 g CO2/km (comb)                                                     1\n",
       "5.7 l/100 km (comb),,7.3 l/100 km (city),,4.9 l/100 km (country)       1\n",
       "Euro 4                                                                 1\n",
       "Name: full_service, Length: 121, dtype: int64"
      ]
     },
     "execution_count": 111,
     "metadata": {},
     "output_type": "execute_result"
    }
   ],
   "source": [
    "df[\"full_service\"].value_counts(dropna=False)"
   ]
  },
  {
   "cell_type": "code",
   "execution_count": 112,
   "id": "785f3caa",
   "metadata": {},
   "outputs": [
    {
     "data": {
      "text/plain": [
       "NaN                                                                0.609\n",
       "4 (Green)                                                          0.140\n",
       "Euro 6                                                             0.132\n",
       "Euro 6d-TEMP                                                       0.025\n",
       "120 g CO2/km (comb)                                                0.007\n",
       "                                                                    ... \n",
       "6 l/100 km (comb),,8 l/100 km (city),,4.9 l/100 km (country)       0.000\n",
       "84 g CO2/km (comb)                                                 0.000\n",
       "87 g CO2/km (comb)                                                 0.000\n",
       "5.7 l/100 km (comb),,7.3 l/100 km (city),,4.9 l/100 km (country)   0.000\n",
       "Euro 4                                                             0.000\n",
       "Name: full_service, Length: 121, dtype: float64"
      ]
     },
     "execution_count": 112,
     "metadata": {},
     "output_type": "execute_result"
    }
   ],
   "source": [
    "df[\"full_service\"].value_counts(dropna=False,normalize=True)"
   ]
  },
  {
   "cell_type": "markdown",
   "id": "331c2a4d",
   "metadata": {},
   "source": [
    "### DİKKAT : SÜTUNLARI İNCELERKEN HEP AYNI ŞEYLERİ YAPTIĞIMIZDAN DOLAYI GENELLEŞTİRME İHİYACI\n",
    "### AKLIMA GELDİ  BİR SÜTUNU ALDIĞIMIZDA BİR FONKSİYON YARDIMIYLA BAKABİLİRİZ BUNLARA:"
   ]
  },
  {
   "cell_type": "code",
   "execution_count": 113,
   "id": "43e3061d",
   "metadata": {},
   "outputs": [],
   "source": [
    "def summary(dataframe,col_name):\n",
    "    print(pd.DataFrame({col_name: dataframe[col_name].value_counts(dropna=False),\n",
    "           \"oran\" : (dataframe[col_name].value_counts(normalize=True,dropna=False) * 100)}))\n",
    "    print(\"########################################\")\n",
    "    print('Number_of_Nulls   : ', dataframe[col_name].isnull().sum())"
   ]
  },
  {
   "cell_type": "code",
   "execution_count": 114,
   "id": "4d7eb5cd",
   "metadata": {},
   "outputs": [
    {
     "name": "stdout",
     "output_type": "stream",
     "text": [
      "                                                    full_service   oran\n",
      "NaN                                                         9689 60.864\n",
      "4 (Green)                                                   2235 14.040\n",
      "Euro 6                                                      2097 13.173\n",
      "Euro 6d-TEMP                                                 399  2.506\n",
      "120 g CO2/km (comb)                                          105  0.660\n",
      "...                                                          ...    ...\n",
      "6 l/100 km (comb),,8 l/100 km (city),,4.9 l/100...             1  0.006\n",
      "84 g CO2/km (comb)                                             1  0.006\n",
      "87 g CO2/km (comb)                                             1  0.006\n",
      "5.7 l/100 km (comb),,7.3 l/100 km (city),,4.9 l...             1  0.006\n",
      "Euro 4                                                         1  0.006\n",
      "\n",
      "[121 rows x 2 columns]\n",
      "########################################\n",
      "Number_of_Nulls   :  9689\n"
     ]
    }
   ],
   "source": [
    "summary(df,\"full_service\")"
   ]
  },
  {
   "cell_type": "markdown",
   "id": "20c6bc47",
   "metadata": {},
   "source": [
    "###  Non-smoking Vehicle"
   ]
  },
  {
   "cell_type": "code",
   "execution_count": 115,
   "id": "6da98e42",
   "metadata": {},
   "outputs": [],
   "source": [
    "df.rename({\"Non-smoking Vehicle\" : \"non_smoking_vehicle\"},axis=1,inplace=1)"
   ]
  },
  {
   "cell_type": "code",
   "execution_count": 116,
   "id": "c2a9e5b9",
   "metadata": {},
   "outputs": [
    {
     "name": "stdout",
     "output_type": "stream",
     "text": [
      "                                                    non_smoking_vehicle   oran\n",
      "NaN                                                               12459 78.265\n",
      "4 (Green)                                                          1240  7.789\n",
      "Euro 6                                                             1127  7.080\n",
      "Euro 6d-TEMP                                                        345  2.167\n",
      "120 g CO2/km (comb)                                                  63  0.396\n",
      "85 g CO2/km (comb)                                                   46  0.289\n",
      "107 g CO2/km (comb)                                                  36  0.226\n",
      "104 g CO2/km (comb)                                                  36  0.226\n",
      "153 g CO2/km (comb)                                                  31  0.195\n",
      "124 g CO2/km (comb)                                                  29  0.182\n",
      "1 (No sticker)                                                       24  0.151\n",
      "99 g CO2/km (comb)                                                   23  0.144\n",
      "97 g CO2/km (comb)                                                   20  0.126\n",
      "106 g CO2/km (comb)                                                  20  0.126\n",
      "108 g CO2/km (comb)                                                  19  0.119\n",
      "109 g CO2/km (comb)                                                  18  0.113\n",
      "113 g CO2/km (comb)                                                  18  0.113\n",
      "105 g CO2/km (comb)                                                  18  0.113\n",
      "100 g CO2/km (comb)                                                  18  0.113\n",
      "Euro 6c                                                              17  0.107\n",
      "98 g CO2/km (comb)                                                   15  0.094\n",
      "129 g CO2/km (comb)                                                  14  0.088\n",
      "131 g CO2/km (comb)                                                  13  0.082\n",
      "133 g CO2/km (comb)                                                  12  0.075\n",
      "103 g CO2/km (comb)                                                  12  0.075\n",
      "114 g CO2/km (comb)                                                  12  0.075\n",
      "135 g CO2/km (comb)                                                  11  0.069\n",
      "116 g CO2/km (comb)                                                  11  0.069\n",
      "102 g CO2/km (comb)                                                  11  0.069\n",
      "143 g CO2/km (comb)                                                  10  0.063\n",
      "127 g CO2/km (comb)                                                  10  0.063\n",
      "Euro 6d                                                               9  0.057\n",
      "92 g CO2/km (comb)                                                    9  0.057\n",
      "112 g CO2/km (comb)                                                   9  0.057\n",
      "5 (Blue)                                                              8  0.050\n",
      "118 g CO2/km (comb)                                                   8  0.050\n",
      "147 g CO2/km (comb)                                                   7  0.044\n",
      "128 g CO2/km (comb)                                                   7  0.044\n",
      "139 g CO2/km (comb)                                                   7  0.044\n",
      "140 g CO2/km (comb)                                                   6  0.038\n",
      "137 g CO2/km (comb)                                                   6  0.038\n",
      "117 g CO2/km (comb)                                                   6  0.038\n",
      "126 g CO2/km (comb)                                                   6  0.038\n",
      "130 g CO2/km (comb)                                                   5  0.031\n",
      "115 g CO2/km (comb)                                                   5  0.031\n",
      "5.2 l/100 km (comb),,5.8 l/100 km (city),,4.8 l...                    4  0.025\n",
      "123 g CO2/km (comb)                                                   4  0.025\n",
      "Euro 5                                                                4  0.025\n",
      "151 g CO2/km (comb)                                                   4  0.025\n",
      "136 g CO2/km (comb)                                                   3  0.019\n",
      "110 g CO2/km (comb)                                                   3  0.019\n",
      "148 g CO2/km (comb)                                                   3  0.019\n",
      "157 g CO2/km (comb)                                                   3  0.019\n",
      "95 g CO2/km (comb)                                                    3  0.019\n",
      "119 g CO2/km (comb)                                                   3  0.019\n",
      "149 g CO2/km (comb)                                                   3  0.019\n",
      "166 g CO2/km (comb)                                                   2  0.013\n",
      "138 g CO2/km (comb)                                                   2  0.013\n",
      "121 g CO2/km (comb)                                                   2  0.013\n",
      "111 g CO2/km (comb)                                                   2  0.013\n",
      "90 g CO2/km (comb)                                                    2  0.013\n",
      "142 g CO2/km (comb)                                                   2  0.013\n",
      "125 g CO2/km (comb)                                                   2  0.013\n",
      "134 g CO2/km (comb)                                                   2  0.013\n",
      "5.2 l/100 km (comb),,6.4 l/100 km (city),,4.4 l...                    2  0.013\n",
      "6.5 l/100 km (comb),,8.5 l/100 km (city),,5.4 l...                    1  0.006\n",
      "146 g CO2/km (comb)                                                   1  0.006\n",
      "189 g CO2/km (comb)                                                   1  0.006\n",
      "6.1 l/100 km (comb),,7.7 l/100 km (city),,5.2 l...                    1  0.006\n",
      "6.3 l/100 km (comb),,8 l/100 km (city),,5.3 l/1...                    1  0.006\n",
      "154 g CO2/km (comb)                                                   1  0.006\n",
      "6.5 l/100 km (comb),,7.9 l/100 km (city),,5.6 l...                    1  0.006\n",
      "6.4 l/100 km (comb),,8.1 l/100 km (city),,5.4 l...                    1  0.006\n",
      "122 g CO2/km (comb)                                                   1  0.006\n",
      "82 g CO2/km (comb)                                                    1  0.006\n",
      "1.6 l/100 km (comb)                                                   1  0.006\n",
      "172 g CO2/km (comb)                                                   1  0.006\n",
      "161 g CO2/km (comb)                                                   1  0.006\n",
      "156 g CO2/km (comb)                                                   1  0.006\n",
      "169 g CO2/km (comb)                                                   1  0.006\n",
      "6.1 l/100 km (comb),,7.8 l/100 km (city),,5.1 l...                    1  0.006\n",
      "152 g CO2/km (comb)                                                   1  0.006\n",
      "144 g CO2/km (comb)                                                   1  0.006\n",
      "132 g CO2/km (comb)                                                   1  0.006\n",
      "159 g CO2/km (comb)                                                   1  0.006\n",
      "5.6 l/100 km (comb),,7.3 l/100 km (city),,4.7 l...                    1  0.006\n",
      "158 g CO2/km (comb)                                                   1  0.006\n",
      "150 g CO2/km (comb)                                                   1  0.006\n",
      "6.2 l/100 km (comb),,7.9 l/100 km (city),,5.3 l...                    1  0.006\n",
      "91 g CO2/km (comb)                                                    1  0.006\n",
      "101 g CO2/km (comb)                                                   1  0.006\n",
      "5.7 l/100 km (comb),,7.3 l/100 km (city),,4.7 l...                    1  0.006\n",
      "175 g CO2/km (comb)                                                   1  0.006\n",
      "########################################\n",
      "Number_of_Nulls   :  12459\n"
     ]
    }
   ],
   "source": [
    "summary(df,\"non_smoking_vehicle\")"
   ]
  },
  {
   "cell_type": "code",
   "execution_count": 117,
   "id": "8ef08bc2",
   "metadata": {},
   "outputs": [],
   "source": [
    "## null değer 12459 *****  ayrıca içerikle sütun örtüşmüyor ama diğer sütunların doldurulmasında kullanılabilir."
   ]
  },
  {
   "cell_type": "markdown",
   "id": "0958fd77",
   "metadata": {},
   "source": [
    "###   null  "
   ]
  },
  {
   "cell_type": "code",
   "execution_count": 118,
   "id": "e8f5dc9a",
   "metadata": {},
   "outputs": [
    {
     "name": "stdout",
     "output_type": "stream",
     "text": [
      "      null    oran\n",
      "NaN  15919 100.000\n",
      "########################################\n",
      "Number_of_Nulls   :  15919\n"
     ]
    }
   ],
   "source": [
    "summary(df,\"null\")"
   ]
  },
  {
   "cell_type": "code",
   "execution_count": 119,
   "id": "8e2fff2c",
   "metadata": {},
   "outputs": [],
   "source": [
    "# bunu önceden atmayı unutmuşuz.\n",
    "df.drop(\"null\",axis=1,inplace=True)"
   ]
  },
  {
   "cell_type": "markdown",
   "id": "432cc50d",
   "metadata": {},
   "source": [
    "### Offer Number"
   ]
  },
  {
   "cell_type": "code",
   "execution_count": 120,
   "id": "49acfd4b",
   "metadata": {},
   "outputs": [
    {
     "name": "stdout",
     "output_type": "stream",
     "text": [
      "                                          Offer Number   oran\n",
      "NaN                                               3175 19.945\n",
      "LT67679                                             27  0.170\n",
      "UN89904                                             27  0.170\n",
      "XJ38068                                             27  0.170\n",
      "JV03654                                             27  0.170\n",
      "...                                                ...    ...\n",
      "160_dcbb6c3e-a6da-43a3-8754-ccd994cec93b             1  0.006\n",
      "6701576                                              1  0.006\n",
      "6701569                                              1  0.006\n",
      "158121                                               1  0.006\n",
      "Re_30000008029                                       1  0.006\n",
      "\n",
      "[11441 rows x 2 columns]\n",
      "########################################\n",
      "Number_of_Nulls   :  3175\n"
     ]
    }
   ],
   "source": [
    "summary(df,\"Offer Number\")"
   ]
  },
  {
   "cell_type": "code",
   "execution_count": 121,
   "id": "a1e6e3ff",
   "metadata": {},
   "outputs": [],
   "source": [
    "## url sütunu gibi bir sütun bizim için o yüzden düşeceğiz : "
   ]
  },
  {
   "cell_type": "code",
   "execution_count": 122,
   "id": "0fbbe2f8",
   "metadata": {},
   "outputs": [],
   "source": [
    "df.drop(\"Offer Number\",axis=1,inplace=True)"
   ]
  },
  {
   "cell_type": "code",
   "execution_count": 123,
   "id": "4330ef60",
   "metadata": {},
   "outputs": [
    {
     "data": {
      "text/plain": [
       "(15919, 42)"
      ]
     },
     "execution_count": 123,
     "metadata": {},
     "output_type": "execute_result"
    }
   ],
   "source": [
    "df.shape"
   ]
  },
  {
   "cell_type": "markdown",
   "id": "57beae47",
   "metadata": {},
   "source": [
    "###  Body Color"
   ]
  },
  {
   "cell_type": "code",
   "execution_count": 124,
   "id": "2bd9a463",
   "metadata": {},
   "outputs": [],
   "source": [
    "df.rename({\"Body Color\":\"body_color\"},axis=1,inplace=True)"
   ]
  },
  {
   "cell_type": "code",
   "execution_count": 125,
   "id": "ba7fa0e3",
   "metadata": {},
   "outputs": [
    {
     "name": "stdout",
     "output_type": "stream",
     "text": [
      "        body_color   oran\n",
      "Black         3745 23.525\n",
      "Grey          3505 22.018\n",
      "White         3406 21.396\n",
      "Silver        1647 10.346\n",
      "Blue          1431  8.989\n",
      "Red            957  6.012\n",
      "NaN            597  3.750\n",
      "Brown          289  1.815\n",
      "Green          154  0.967\n",
      "Beige          108  0.678\n",
      "Yellow          51  0.320\n",
      "Violet          18  0.113\n",
      "Bronze           6  0.038\n",
      "Orange           3  0.019\n",
      "Gold             2  0.013\n",
      "########################################\n",
      "Number_of_Nulls   :  597\n"
     ]
    }
   ],
   "source": [
    "summary(df,\"body_color\")"
   ]
  },
  {
   "cell_type": "code",
   "execution_count": 126,
   "id": "9b865fea",
   "metadata": {},
   "outputs": [],
   "source": [
    "## ekstra temizlenecek bir şey yok nullar var onlar doldurulabilir mi vs ona ileride bakılacak."
   ]
  },
  {
   "cell_type": "markdown",
   "id": "786f77bd",
   "metadata": {},
   "source": [
    "###  Body Color Original"
   ]
  },
  {
   "cell_type": "code",
   "execution_count": 127,
   "id": "d7e2a17e",
   "metadata": {},
   "outputs": [],
   "source": [
    "df.rename({\"Body Color Original\":\"body_color_orig\"},axis=1,inplace=True)"
   ]
  },
  {
   "cell_type": "code",
   "execution_count": 128,
   "id": "a88b900f",
   "metadata": {},
   "outputs": [
    {
     "name": "stdout",
     "output_type": "stream",
     "text": [
      "                               body_color_orig   oran\n",
      "NaN                                       3759 23.613\n",
      "Onyx Schwarz                               338  2.123\n",
      "Bianco                                     282  1.771\n",
      "Mythosschwarz Metallic                     238  1.495\n",
      "Brillantschwarz                            216  1.357\n",
      "...                                        ...    ...\n",
      "Rouge-Braun (G0Y)                            1  0.006\n",
      "VARI COLRI DISPONIBILI                       1  0.006\n",
      "Kokosnussbraun Metallic                      1  0.006\n",
      "Farbe frei wählbar                           1  0.006\n",
      "Perlmutt-Weiß Metallic (Weiß)                1  0.006\n",
      "\n",
      "[1928 rows x 2 columns]\n",
      "########################################\n",
      "Number_of_Nulls   :  3759\n"
     ]
    }
   ],
   "source": [
    "summary(df,\"body_color_orig\")"
   ]
  },
  {
   "cell_type": "code",
   "execution_count": 129,
   "id": "3e8e752d",
   "metadata": {},
   "outputs": [
    {
     "data": {
      "text/html": [
       "<div>\n",
       "<style scoped>\n",
       "    .dataframe tbody tr th:only-of-type {\n",
       "        vertical-align: middle;\n",
       "    }\n",
       "\n",
       "    .dataframe tbody tr th {\n",
       "        vertical-align: top;\n",
       "    }\n",
       "\n",
       "    .dataframe thead th {\n",
       "        text-align: right;\n",
       "    }\n",
       "</style>\n",
       "<table border=\"1\" class=\"dataframe\">\n",
       "  <thead>\n",
       "    <tr style=\"text-align: right;\">\n",
       "      <th></th>\n",
       "      <th>body_color</th>\n",
       "      <th>body_color_orig</th>\n",
       "    </tr>\n",
       "  </thead>\n",
       "  <tbody>\n",
       "    <tr>\n",
       "      <th>7059</th>\n",
       "      <td>Blue</td>\n",
       "      <td>Blau</td>\n",
       "    </tr>\n",
       "    <tr>\n",
       "      <th>4841</th>\n",
       "      <td>White</td>\n",
       "      <td>Bianco</td>\n",
       "    </tr>\n",
       "    <tr>\n",
       "      <th>2946</th>\n",
       "      <td>Red</td>\n",
       "      <td>Rosso</td>\n",
       "    </tr>\n",
       "    <tr>\n",
       "      <th>14352</th>\n",
       "      <td>White</td>\n",
       "      <td>Gletscher-Weiß</td>\n",
       "    </tr>\n",
       "    <tr>\n",
       "      <th>2858</th>\n",
       "      <td>Red</td>\n",
       "      <td>NaN</td>\n",
       "    </tr>\n",
       "    <tr>\n",
       "      <th>8211</th>\n",
       "      <td>Black</td>\n",
       "      <td>Onyx Schwarz</td>\n",
       "    </tr>\n",
       "    <tr>\n",
       "      <th>13446</th>\n",
       "      <td>White</td>\n",
       "      <td>NaN</td>\n",
       "    </tr>\n",
       "    <tr>\n",
       "      <th>7943</th>\n",
       "      <td>Silver</td>\n",
       "      <td>Plata Magnetic (Boutique metal</td>\n",
       "    </tr>\n",
       "    <tr>\n",
       "      <th>15637</th>\n",
       "      <td>Beige</td>\n",
       "      <td>Beige Duna</td>\n",
       "    </tr>\n",
       "    <tr>\n",
       "      <th>2026</th>\n",
       "      <td>Grey</td>\n",
       "      <td>Chronosgrau Metallic</td>\n",
       "    </tr>\n",
       "    <tr>\n",
       "      <th>13151</th>\n",
       "      <td>Grey</td>\n",
       "      <td>TITAN-GRAU</td>\n",
       "    </tr>\n",
       "    <tr>\n",
       "      <th>7065</th>\n",
       "      <td>Silver</td>\n",
       "      <td>argon silber/ice silver (m2)</td>\n",
       "    </tr>\n",
       "    <tr>\n",
       "      <th>8939</th>\n",
       "      <td>Black</td>\n",
       "      <td>NaN</td>\n",
       "    </tr>\n",
       "    <tr>\n",
       "      <th>971</th>\n",
       "      <td>Blue</td>\n",
       "      <td>Utopiablau-Metallic</td>\n",
       "    </tr>\n",
       "    <tr>\n",
       "      <th>5559</th>\n",
       "      <td>Silver</td>\n",
       "      <td>Florettsilber Metallic</td>\n",
       "    </tr>\n",
       "    <tr>\n",
       "      <th>4632</th>\n",
       "      <td>Grey</td>\n",
       "      <td>NaN</td>\n",
       "    </tr>\n",
       "    <tr>\n",
       "      <th>11678</th>\n",
       "      <td>White</td>\n",
       "      <td>Schneeweiß</td>\n",
       "    </tr>\n",
       "    <tr>\n",
       "      <th>9027</th>\n",
       "      <td>White</td>\n",
       "      <td>Bianco</td>\n",
       "    </tr>\n",
       "    <tr>\n",
       "      <th>5893</th>\n",
       "      <td>Green</td>\n",
       "      <td>NaN</td>\n",
       "    </tr>\n",
       "    <tr>\n",
       "      <th>10719</th>\n",
       "      <td>Black</td>\n",
       "      <td>NaN</td>\n",
       "    </tr>\n",
       "    <tr>\n",
       "      <th>8328</th>\n",
       "      <td>Black</td>\n",
       "      <td>Onyx Black Metallic</td>\n",
       "    </tr>\n",
       "    <tr>\n",
       "      <th>10017</th>\n",
       "      <td>Grey</td>\n",
       "      <td>Licht Grau Metallic</td>\n",
       "    </tr>\n",
       "    <tr>\n",
       "      <th>4703</th>\n",
       "      <td>Black</td>\n",
       "      <td>NaN</td>\n",
       "    </tr>\n",
       "    <tr>\n",
       "      <th>9802</th>\n",
       "      <td>Grey</td>\n",
       "      <td>NaN</td>\n",
       "    </tr>\n",
       "    <tr>\n",
       "      <th>7931</th>\n",
       "      <td>White</td>\n",
       "      <td>schneeweiss</td>\n",
       "    </tr>\n",
       "  </tbody>\n",
       "</table>\n",
       "</div>"
      ],
      "text/plain": [
       "      body_color                 body_color_orig\n",
       "7059        Blue                            Blau\n",
       "4841       White                          Bianco\n",
       "2946         Red                           Rosso\n",
       "14352      White                  Gletscher-Weiß\n",
       "2858         Red                             NaN\n",
       "8211       Black                    Onyx Schwarz\n",
       "13446      White                             NaN\n",
       "7943      Silver  Plata Magnetic (Boutique metal\n",
       "15637      Beige                      Beige Duna\n",
       "2026        Grey            Chronosgrau Metallic\n",
       "13151       Grey                      TITAN-GRAU\n",
       "7065      Silver    argon silber/ice silver (m2)\n",
       "8939       Black                             NaN\n",
       "971         Blue             Utopiablau-Metallic\n",
       "5559      Silver          Florettsilber Metallic\n",
       "4632        Grey                             NaN\n",
       "11678      White                      Schneeweiß\n",
       "9027       White                          Bianco\n",
       "5893       Green                             NaN\n",
       "10719      Black                             NaN\n",
       "8328       Black             Onyx Black Metallic\n",
       "10017       Grey             Licht Grau Metallic\n",
       "4703       Black                             NaN\n",
       "9802        Grey                             NaN\n",
       "7931       White                     schneeweiss"
      ]
     },
     "execution_count": 129,
     "metadata": {},
     "output_type": "execute_result"
    }
   ],
   "source": [
    "df[[\"body_color\",\"body_color_orig\"]].sample(25)"
   ]
  },
  {
   "cell_type": "markdown",
   "id": "351981b2",
   "metadata": {},
   "source": [
    "###   Paint Type"
   ]
  },
  {
   "cell_type": "code",
   "execution_count": 130,
   "id": "9f03496c",
   "metadata": {},
   "outputs": [],
   "source": [
    "df.rename({\"Paint Type\":\"paint_type\"},axis=1,inplace=True)"
   ]
  },
  {
   "cell_type": "code",
   "execution_count": 131,
   "id": "99e34e3c",
   "metadata": {},
   "outputs": [
    {
     "name": "stdout",
     "output_type": "stream",
     "text": [
      "             paint_type   oran\n",
      "Metallic           9794 61.524\n",
      "NaN                5772 36.259\n",
      "Uni/basic           347  2.180\n",
      "Perl effect           6  0.038\n",
      "########################################\n",
      "Number_of_Nulls   :  5772\n"
     ]
    }
   ],
   "source": [
    "summary(df,\"paint_type\")"
   ]
  },
  {
   "cell_type": "code",
   "execution_count": 132,
   "id": "c465dab8",
   "metadata": {},
   "outputs": [],
   "source": [
    "## şimdi bu  3 column birbiriyle ilintili olabilir bunlara beraber bakacak olursak : "
   ]
  },
  {
   "cell_type": "code",
   "execution_count": 133,
   "id": "333206b7",
   "metadata": {},
   "outputs": [
    {
     "data": {
      "text/html": [
       "<div>\n",
       "<style scoped>\n",
       "    .dataframe tbody tr th:only-of-type {\n",
       "        vertical-align: middle;\n",
       "    }\n",
       "\n",
       "    .dataframe tbody tr th {\n",
       "        vertical-align: top;\n",
       "    }\n",
       "\n",
       "    .dataframe thead th {\n",
       "        text-align: right;\n",
       "    }\n",
       "</style>\n",
       "<table border=\"1\" class=\"dataframe\">\n",
       "  <thead>\n",
       "    <tr style=\"text-align: right;\">\n",
       "      <th></th>\n",
       "      <th>paint_type</th>\n",
       "      <th>body_color_orig</th>\n",
       "      <th>body_color</th>\n",
       "    </tr>\n",
       "  </thead>\n",
       "  <tbody>\n",
       "    <tr>\n",
       "      <th>10271</th>\n",
       "      <td>Metallic</td>\n",
       "      <td>onyx schwarz</td>\n",
       "      <td>Black</td>\n",
       "    </tr>\n",
       "    <tr>\n",
       "      <th>8627</th>\n",
       "      <td>NaN</td>\n",
       "      <td>Schnee Weiß</td>\n",
       "      <td>White</td>\n",
       "    </tr>\n",
       "    <tr>\n",
       "      <th>2934</th>\n",
       "      <td>NaN</td>\n",
       "      <td>Brillantschwarz</td>\n",
       "      <td>Black</td>\n",
       "    </tr>\n",
       "    <tr>\n",
       "      <th>12493</th>\n",
       "      <td>Metallic</td>\n",
       "      <td>Onyx Schwarz</td>\n",
       "      <td>Black</td>\n",
       "    </tr>\n",
       "    <tr>\n",
       "      <th>12634</th>\n",
       "      <td>NaN</td>\n",
       "      <td>NaN</td>\n",
       "      <td>NaN</td>\n",
       "    </tr>\n",
       "    <tr>\n",
       "      <th>11770</th>\n",
       "      <td>Metallic</td>\n",
       "      <td>Negro</td>\n",
       "      <td>Black</td>\n",
       "    </tr>\n",
       "    <tr>\n",
       "      <th>7937</th>\n",
       "      <td>NaN</td>\n",
       "      <td>Lava Rot (SL)</td>\n",
       "      <td>Red</td>\n",
       "    </tr>\n",
       "    <tr>\n",
       "      <th>7920</th>\n",
       "      <td>Metallic</td>\n",
       "      <td>NaN</td>\n",
       "      <td>Black</td>\n",
       "    </tr>\n",
       "    <tr>\n",
       "      <th>2106</th>\n",
       "      <td>Metallic</td>\n",
       "      <td>Bianco/grigio</td>\n",
       "      <td>White</td>\n",
       "    </tr>\n",
       "    <tr>\n",
       "      <th>3946</th>\n",
       "      <td>Metallic</td>\n",
       "      <td>Gris</td>\n",
       "      <td>Grey</td>\n",
       "    </tr>\n",
       "    <tr>\n",
       "      <th>12342</th>\n",
       "      <td>Metallic</td>\n",
       "      <td>Quarz Grau</td>\n",
       "      <td>Grey</td>\n",
       "    </tr>\n",
       "    <tr>\n",
       "      <th>7899</th>\n",
       "      <td>NaN</td>\n",
       "      <td>ARCTIC WHITE</td>\n",
       "      <td>White</td>\n",
       "    </tr>\n",
       "    <tr>\n",
       "      <th>1675</th>\n",
       "      <td>Metallic</td>\n",
       "      <td>2Y Gletscherweiss Metallic</td>\n",
       "      <td>White</td>\n",
       "    </tr>\n",
       "    <tr>\n",
       "      <th>14247</th>\n",
       "      <td>NaN</td>\n",
       "      <td>Grigio</td>\n",
       "      <td>Grey</td>\n",
       "    </tr>\n",
       "    <tr>\n",
       "      <th>6279</th>\n",
       "      <td>NaN</td>\n",
       "      <td>SchneeWeiss</td>\n",
       "      <td>White</td>\n",
       "    </tr>\n",
       "  </tbody>\n",
       "</table>\n",
       "</div>"
      ],
      "text/plain": [
       "      paint_type             body_color_orig body_color\n",
       "10271   Metallic                onyx schwarz      Black\n",
       "8627         NaN                 Schnee Weiß      White\n",
       "2934         NaN             Brillantschwarz      Black\n",
       "12493   Metallic                Onyx Schwarz      Black\n",
       "12634        NaN                         NaN        NaN\n",
       "11770   Metallic                       Negro      Black\n",
       "7937         NaN               Lava Rot (SL)        Red\n",
       "7920    Metallic                         NaN      Black\n",
       "2106    Metallic               Bianco/grigio      White\n",
       "3946    Metallic                        Gris       Grey\n",
       "12342   Metallic                  Quarz Grau       Grey\n",
       "7899         NaN                ARCTIC WHITE      White\n",
       "1675    Metallic  2Y Gletscherweiss Metallic      White\n",
       "14247        NaN                      Grigio       Grey\n",
       "6279         NaN                 SchneeWeiss      White"
      ]
     },
     "execution_count": 133,
     "metadata": {},
     "output_type": "execute_result"
    }
   ],
   "source": [
    "df[[\"paint_type\",\"body_color_orig\",\"body_color\"]].sample(15)"
   ]
  },
  {
   "cell_type": "markdown",
   "id": "d6f25c0d",
   "metadata": {},
   "source": [
    "### acaba body_color sütunundaki boş değerleri body_color_origin ile doldurabilir miyim ? "
   ]
  },
  {
   "cell_type": "code",
   "execution_count": 134,
   "id": "8d41b19f",
   "metadata": {},
   "outputs": [
    {
     "data": {
      "text/html": [
       "<div>\n",
       "<style scoped>\n",
       "    .dataframe tbody tr th:only-of-type {\n",
       "        vertical-align: middle;\n",
       "    }\n",
       "\n",
       "    .dataframe tbody tr th {\n",
       "        vertical-align: top;\n",
       "    }\n",
       "\n",
       "    .dataframe thead th {\n",
       "        text-align: right;\n",
       "    }\n",
       "</style>\n",
       "<table border=\"1\" class=\"dataframe\">\n",
       "  <thead>\n",
       "    <tr style=\"text-align: right;\">\n",
       "      <th></th>\n",
       "      <th>body_color</th>\n",
       "      <th>body_color_orig</th>\n",
       "    </tr>\n",
       "  </thead>\n",
       "  <tbody>\n",
       "    <tr>\n",
       "      <th>70</th>\n",
       "      <td>NaN</td>\n",
       "      <td>gris nano</td>\n",
       "    </tr>\n",
       "    <tr>\n",
       "      <th>122</th>\n",
       "      <td>NaN</td>\n",
       "      <td>wählbar</td>\n",
       "    </tr>\n",
       "    <tr>\n",
       "      <th>150</th>\n",
       "      <td>NaN</td>\n",
       "      <td>BLEU UTOPIA</td>\n",
       "    </tr>\n",
       "    <tr>\n",
       "      <th>195</th>\n",
       "      <td>NaN</td>\n",
       "      <td>BLEU UTOPIA</td>\n",
       "    </tr>\n",
       "    <tr>\n",
       "      <th>198</th>\n",
       "      <td>NaN</td>\n",
       "      <td>null</td>\n",
       "    </tr>\n",
       "    <tr>\n",
       "      <th>...</th>\n",
       "      <td>...</td>\n",
       "      <td>...</td>\n",
       "    </tr>\n",
       "    <tr>\n",
       "      <th>15690</th>\n",
       "      <td>NaN</td>\n",
       "      <td>NaN</td>\n",
       "    </tr>\n",
       "    <tr>\n",
       "      <th>15785</th>\n",
       "      <td>NaN</td>\n",
       "      <td>GNE NOIR ETOILE</td>\n",
       "    </tr>\n",
       "    <tr>\n",
       "      <th>15849</th>\n",
       "      <td>NaN</td>\n",
       "      <td>Farbe: Sonstige</td>\n",
       "    </tr>\n",
       "    <tr>\n",
       "      <th>15854</th>\n",
       "      <td>NaN</td>\n",
       "      <td>NaN</td>\n",
       "    </tr>\n",
       "    <tr>\n",
       "      <th>15864</th>\n",
       "      <td>NaN</td>\n",
       "      <td>NaN</td>\n",
       "    </tr>\n",
       "  </tbody>\n",
       "</table>\n",
       "<p>597 rows × 2 columns</p>\n",
       "</div>"
      ],
      "text/plain": [
       "      body_color  body_color_orig\n",
       "70           NaN        gris nano\n",
       "122          NaN          wählbar\n",
       "150          NaN      BLEU UTOPIA\n",
       "195          NaN      BLEU UTOPIA\n",
       "198          NaN             null\n",
       "...          ...              ...\n",
       "15690        NaN              NaN\n",
       "15785        NaN  GNE NOIR ETOILE\n",
       "15849        NaN  Farbe: Sonstige\n",
       "15854        NaN              NaN\n",
       "15864        NaN              NaN\n",
       "\n",
       "[597 rows x 2 columns]"
      ]
     },
     "execution_count": 134,
     "metadata": {},
     "output_type": "execute_result"
    }
   ],
   "source": [
    "df.loc[df[\"body_color\"].isna(),[\"body_color\",\"body_color_orig\"]]              "
   ]
  },
  {
   "cell_type": "code",
   "execution_count": 135,
   "id": "6cfb6cf6",
   "metadata": {},
   "outputs": [],
   "source": [
    "## bunu part2'de kullanabiliriz."
   ]
  },
  {
   "cell_type": "markdown",
   "id": "c7371b1c",
   "metadata": {},
   "source": [
    "###  Upholstery (döşeme)"
   ]
  },
  {
   "cell_type": "code",
   "execution_count": 136,
   "id": "497697f6",
   "metadata": {},
   "outputs": [
    {
     "name": "stdout",
     "output_type": "stream",
     "text": [
      "                     Upholstery   oran\n",
      "Cloth, Black               5821 36.566\n",
      "NaN                        3720 23.368\n",
      "Part leather, Black        1121  7.042\n",
      "Cloth                      1005  6.313\n",
      "Cloth, Grey                 891  5.597\n",
      "Cloth, Other                639  4.014\n",
      "Full leather, Black         575  3.612\n",
      "Black                       491  3.084\n",
      "Grey                        273  1.715\n",
      "Other, Other                182  1.143\n",
      "Part leather                140  0.879\n",
      "Full leather                139  0.873\n",
      "Full leather, Brown         116  0.729\n",
      "Part leather, Grey          116  0.729\n",
      "Other, Black                110  0.691\n",
      "Full leather, Other          72  0.452\n",
      "Full leather, Grey           67  0.421\n",
      "Part leather, Other          65  0.408\n",
      "Other                        56  0.352\n",
      "Part leather, Brown          50  0.314\n",
      "alcantara, Black             47  0.295\n",
      "Velour, Black                36  0.226\n",
      "Full leather, Beige          36  0.226\n",
      "Cloth, Brown                 28  0.176\n",
      "Velour                       16  0.101\n",
      "Other, Grey                  15  0.094\n",
      "Cloth, Beige                 13  0.082\n",
      "Brown                        12  0.075\n",
      "Cloth, Blue                  12  0.075\n",
      "Velour, Grey                  8  0.050\n",
      "Cloth, White                  8  0.050\n",
      "alcantara, Grey               6  0.038\n",
      "Cloth, Red                    5  0.031\n",
      "Other, Yellow                 4  0.025\n",
      "Part leather, Red             3  0.019\n",
      "Beige                         3  0.019\n",
      "Part leather, White           2  0.013\n",
      "Full leather, Blue            2  0.013\n",
      "alcantara, Other              2  0.013\n",
      "alcantara                     2  0.013\n",
      "White                         2  0.013\n",
      "Part leather, Beige           2  0.013\n",
      "Blue                          2  0.013\n",
      "Cloth, Orange                 1  0.006\n",
      "Full leather, Red             1  0.006\n",
      "Other, Brown                  1  0.006\n",
      "Full leather, White           1  0.006\n",
      "########################################\n",
      "Number_of_Nulls   :  3720\n"
     ]
    }
   ],
   "source": [
    "summary(df,\"Upholstery\")"
   ]
  },
  {
   "cell_type": "code",
   "execution_count": 137,
   "id": "c2a5f446",
   "metadata": {},
   "outputs": [],
   "source": [
    "## deri , kumaş , other , kadife gibi döşeme türleri var ve\n",
    "## bunların renkleri var biz bunları 2 ayrı sütun gibi ele alabiliriz."
   ]
  },
  {
   "cell_type": "code",
   "execution_count": 138,
   "id": "e8cf49d6",
   "metadata": {},
   "outputs": [
    {
     "data": {
      "text/plain": [
       "NaN    15919\n",
       "Name: 1, dtype: int64"
      ]
     },
     "execution_count": 138,
     "metadata": {},
     "output_type": "execute_result"
    }
   ],
   "source": [
    "df.Upholstery.str.extract(r\"(.+)[.+](.+)?\")[1].value_counts(dropna=False)"
   ]
  },
  {
   "cell_type": "code",
   "execution_count": 139,
   "id": "c6217345",
   "metadata": {},
   "outputs": [
    {
     "data": {
      "text/html": [
       "<div>\n",
       "<style scoped>\n",
       "    .dataframe tbody tr th:only-of-type {\n",
       "        vertical-align: middle;\n",
       "    }\n",
       "\n",
       "    .dataframe tbody tr th {\n",
       "        vertical-align: top;\n",
       "    }\n",
       "\n",
       "    .dataframe thead th {\n",
       "        text-align: right;\n",
       "    }\n",
       "</style>\n",
       "<table border=\"1\" class=\"dataframe\">\n",
       "  <thead>\n",
       "    <tr style=\"text-align: right;\">\n",
       "      <th></th>\n",
       "      <th>0</th>\n",
       "      <th>1</th>\n",
       "    </tr>\n",
       "  </thead>\n",
       "  <tbody>\n",
       "    <tr>\n",
       "      <th>0</th>\n",
       "      <td>Cloth</td>\n",
       "      <td>Black</td>\n",
       "    </tr>\n",
       "    <tr>\n",
       "      <th>1</th>\n",
       "      <td>Cloth</td>\n",
       "      <td>Grey</td>\n",
       "    </tr>\n",
       "    <tr>\n",
       "      <th>2</th>\n",
       "      <td>Cloth</td>\n",
       "      <td>Black</td>\n",
       "    </tr>\n",
       "    <tr>\n",
       "      <th>3</th>\n",
       "      <td>NaN</td>\n",
       "      <td>NaN</td>\n",
       "    </tr>\n",
       "    <tr>\n",
       "      <th>4</th>\n",
       "      <td>Cloth</td>\n",
       "      <td>Black</td>\n",
       "    </tr>\n",
       "    <tr>\n",
       "      <th>...</th>\n",
       "      <td>...</td>\n",
       "      <td>...</td>\n",
       "    </tr>\n",
       "    <tr>\n",
       "      <th>15914</th>\n",
       "      <td>NaN</td>\n",
       "      <td>NaN</td>\n",
       "    </tr>\n",
       "    <tr>\n",
       "      <th>15915</th>\n",
       "      <td>NaN</td>\n",
       "      <td>NaN</td>\n",
       "    </tr>\n",
       "    <tr>\n",
       "      <th>15916</th>\n",
       "      <td>Full leather</td>\n",
       "      <td>Black</td>\n",
       "    </tr>\n",
       "    <tr>\n",
       "      <th>15917</th>\n",
       "      <td>NaN</td>\n",
       "      <td>NaN</td>\n",
       "    </tr>\n",
       "    <tr>\n",
       "      <th>15918</th>\n",
       "      <td>Full leather</td>\n",
       "      <td>Brown</td>\n",
       "    </tr>\n",
       "  </tbody>\n",
       "</table>\n",
       "<p>15919 rows × 2 columns</p>\n",
       "</div>"
      ],
      "text/plain": [
       "                  0       1\n",
       "0             Cloth   Black\n",
       "1             Cloth    Grey\n",
       "2             Cloth   Black\n",
       "3               NaN     NaN\n",
       "4             Cloth   Black\n",
       "...             ...     ...\n",
       "15914           NaN     NaN\n",
       "15915           NaN     NaN\n",
       "15916  Full leather   Black\n",
       "15917           NaN     NaN\n",
       "15918  Full leather   Brown\n",
       "\n",
       "[15919 rows x 2 columns]"
      ]
     },
     "execution_count": 139,
     "metadata": {},
     "output_type": "execute_result"
    }
   ],
   "source": [
    "df.Upholstery.str.extract(r\"(.+),(.+)\")"
   ]
  },
  {
   "cell_type": "code",
   "execution_count": 140,
   "id": "aaf1eaa3",
   "metadata": {},
   "outputs": [
    {
     "data": {
      "text/plain": [
       "['Cloth', 'Part leather', 'Full leather', 'Other', 'alcantara', 'Velour']"
      ]
     },
     "execution_count": 140,
     "metadata": {},
     "output_type": "execute_result"
    }
   ],
   "source": [
    "type_list = list(df.Upholstery.str.extract(r\"(.+),(.+)\")[0].dropna().unique())\n",
    "type_list"
   ]
  },
  {
   "cell_type": "code",
   "execution_count": 141,
   "id": "2d44c217",
   "metadata": {},
   "outputs": [
    {
     "data": {
      "text/plain": [
       "['Black',\n",
       " 'Grey',\n",
       " 'Other',\n",
       " 'White',\n",
       " 'Red',\n",
       " 'Blue',\n",
       " 'Orange',\n",
       " 'Brown',\n",
       " 'Beige',\n",
       " 'Yellow']"
      ]
     },
     "execution_count": 141,
     "metadata": {},
     "output_type": "execute_result"
    }
   ],
   "source": [
    "color_list = list(df.Upholstery.str.extract(r\"(.+),\\s*(.+)\")[1].dropna().unique())\n",
    "color_list"
   ]
  },
  {
   "cell_type": "code",
   "execution_count": 142,
   "id": "72d7471a",
   "metadata": {},
   "outputs": [],
   "source": [
    "df[[\"upholstery_type\",\"upholstery_color\"]] = df.Upholstery.str.split(\", \", expand=True)"
   ]
  },
  {
   "cell_type": "code",
   "execution_count": 143,
   "id": "5f030384",
   "metadata": {},
   "outputs": [
    {
     "data": {
      "text/plain": [
       "Black     7710\n",
       "NaN       5861\n",
       "Grey      1103\n",
       "Other      960\n",
       "Brown      195\n",
       "Beige       51\n",
       "Blue        14\n",
       "White       11\n",
       "Red          9\n",
       "Yellow       4\n",
       "Orange       1\n",
       "Name: upholstery_color, dtype: int64"
      ]
     },
     "execution_count": 143,
     "metadata": {},
     "output_type": "execute_result"
    }
   ],
   "source": [
    "df[\"upholstery_color\"].value_counts(dropna=False)"
   ]
  },
  {
   "cell_type": "code",
   "execution_count": 144,
   "id": "760af693",
   "metadata": {},
   "outputs": [
    {
     "data": {
      "text/plain": [
       "29       Black\n",
       "55       Other\n",
       "64       Black\n",
       "95       Other\n",
       "112      Black\n",
       "         ...  \n",
       "15783    Other\n",
       "15821    Other\n",
       "15866    Brown\n",
       "15896     Grey\n",
       "15902    Brown\n",
       "Name: upholstery_type, Length: 1151, dtype: object"
      ]
     },
     "execution_count": 144,
     "metadata": {},
     "output_type": "execute_result"
    }
   ],
   "source": [
    "df.upholstery_type[df.upholstery_type.isin(color_list)]"
   ]
  },
  {
   "cell_type": "code",
   "execution_count": 145,
   "id": "e4b70eb0",
   "metadata": {},
   "outputs": [],
   "source": [
    "df.upholstery_color.fillna(df.upholstery_type[df.upholstery_type.isin(color_list)], inplace=True)"
   ]
  },
  {
   "cell_type": "code",
   "execution_count": 146,
   "id": "da006555",
   "metadata": {},
   "outputs": [
    {
     "data": {
      "text/plain": [
       "Black     8201\n",
       "NaN       5022\n",
       "Grey      1376\n",
       "Other     1016\n",
       "Brown      207\n",
       "Beige       54\n",
       "Blue        16\n",
       "White       13\n",
       "Red          9\n",
       "Yellow       4\n",
       "Orange       1\n",
       "Name: upholstery_color, dtype: int64"
      ]
     },
     "execution_count": 146,
     "metadata": {},
     "output_type": "execute_result"
    }
   ],
   "source": [
    "df[\"upholstery_color\"].value_counts(dropna=False)"
   ]
  },
  {
   "cell_type": "code",
   "execution_count": 147,
   "id": "9e37325d",
   "metadata": {},
   "outputs": [],
   "source": [
    "df.upholstery_type[df.upholstery_type.isin(color_list)] = np.nan"
   ]
  },
  {
   "cell_type": "code",
   "execution_count": 148,
   "id": "5405f851",
   "metadata": {},
   "outputs": [
    {
     "data": {
      "text/plain": [
       "Cloth           8423\n",
       "NaN             4871\n",
       "Part leather    1499\n",
       "Full leather    1009\n",
       "Velour            60\n",
       "alcantara         57\n",
       "Name: upholstery_type, dtype: int64"
      ]
     },
     "execution_count": 148,
     "metadata": {},
     "output_type": "execute_result"
    }
   ],
   "source": [
    "df.upholstery_type.value_counts(dropna=False)"
   ]
  },
  {
   "cell_type": "code",
   "execution_count": 149,
   "id": "c7f4a8b9",
   "metadata": {},
   "outputs": [
    {
     "data": {
      "text/plain": [
       "upholstery_type     11048\n",
       "upholstery_color    10897\n",
       "dtype: int64"
      ]
     },
     "execution_count": 149,
     "metadata": {},
     "output_type": "execute_result"
    }
   ],
   "source": [
    "df[[\"upholstery_type\",\"upholstery_color\"]].notna().sum()"
   ]
  },
  {
   "cell_type": "code",
   "execution_count": 150,
   "id": "8d7b9c02",
   "metadata": {},
   "outputs": [
    {
     "data": {
      "text/plain": [
       "upholstery_type     4871\n",
       "upholstery_color    5022\n",
       "dtype: int64"
      ]
     },
     "execution_count": 150,
     "metadata": {},
     "output_type": "execute_result"
    }
   ],
   "source": [
    "df[[\"upholstery_type\",\"upholstery_color\"]].isnull().sum()"
   ]
  },
  {
   "cell_type": "code",
   "execution_count": 151,
   "id": "350a19e9",
   "metadata": {},
   "outputs": [
    {
     "data": {
      "text/html": [
       "<div>\n",
       "<style scoped>\n",
       "    .dataframe tbody tr th:only-of-type {\n",
       "        vertical-align: middle;\n",
       "    }\n",
       "\n",
       "    .dataframe tbody tr th {\n",
       "        vertical-align: top;\n",
       "    }\n",
       "\n",
       "    .dataframe thead th {\n",
       "        text-align: right;\n",
       "    }\n",
       "</style>\n",
       "<table border=\"1\" class=\"dataframe\">\n",
       "  <thead>\n",
       "    <tr style=\"text-align: right;\">\n",
       "      <th></th>\n",
       "      <th>Upholstery</th>\n",
       "      <th>upholstery_type</th>\n",
       "      <th>upholstery_color</th>\n",
       "    </tr>\n",
       "  </thead>\n",
       "  <tbody>\n",
       "    <tr>\n",
       "      <th>12093</th>\n",
       "      <td>Cloth, Black</td>\n",
       "      <td>Cloth</td>\n",
       "      <td>Black</td>\n",
       "    </tr>\n",
       "    <tr>\n",
       "      <th>745</th>\n",
       "      <td>Cloth, Black</td>\n",
       "      <td>Cloth</td>\n",
       "      <td>Black</td>\n",
       "    </tr>\n",
       "    <tr>\n",
       "      <th>7821</th>\n",
       "      <td>Cloth, Other</td>\n",
       "      <td>Cloth</td>\n",
       "      <td>Other</td>\n",
       "    </tr>\n",
       "    <tr>\n",
       "      <th>5756</th>\n",
       "      <td>Part leather, Black</td>\n",
       "      <td>Part leather</td>\n",
       "      <td>Black</td>\n",
       "    </tr>\n",
       "    <tr>\n",
       "      <th>12101</th>\n",
       "      <td>Cloth, Black</td>\n",
       "      <td>Cloth</td>\n",
       "      <td>Black</td>\n",
       "    </tr>\n",
       "  </tbody>\n",
       "</table>\n",
       "</div>"
      ],
      "text/plain": [
       "                Upholstery upholstery_type upholstery_color\n",
       "12093         Cloth, Black           Cloth            Black\n",
       "745           Cloth, Black           Cloth            Black\n",
       "7821          Cloth, Other           Cloth            Other\n",
       "5756   Part leather, Black    Part leather            Black\n",
       "12101         Cloth, Black           Cloth            Black"
      ]
     },
     "execution_count": 151,
     "metadata": {},
     "output_type": "execute_result"
    }
   ],
   "source": [
    "df[[\"Upholstery\", \"upholstery_type\",\"upholstery_color\"]].sample(5)"
   ]
  },
  {
   "cell_type": "code",
   "execution_count": 152,
   "id": "7b40ccf9",
   "metadata": {},
   "outputs": [],
   "source": [
    "df.drop(columns=\"Upholstery\", inplace=True)"
   ]
  },
  {
   "cell_type": "markdown",
   "id": "2b7f84bb",
   "metadata": {},
   "source": [
    "### Nr. of Doors"
   ]
  },
  {
   "cell_type": "code",
   "execution_count": 153,
   "id": "46f927ff",
   "metadata": {},
   "outputs": [],
   "source": [
    "df.rename({\"Nr. of Doors\":\"number_of_doors\"},axis=1,inplace=True)"
   ]
  },
  {
   "cell_type": "code",
   "execution_count": 154,
   "id": "47fe5783",
   "metadata": {
    "scrolled": true
   },
   "outputs": [
    {
     "name": "stdout",
     "output_type": "stream",
     "text": [
      "     number_of_doors   oran\n",
      "5              11575 72.712\n",
      "4               3079 19.342\n",
      "3                832  5.226\n",
      "2                219  1.376\n",
      "NaN              212  1.332\n",
      "1                  1  0.006\n",
      "7                  1  0.006\n",
      "########################################\n",
      "Number_of_Nulls   :  212\n"
     ]
    }
   ],
   "source": [
    "summary(df,\"number_of_doors\")"
   ]
  },
  {
   "cell_type": "code",
   "execution_count": 155,
   "id": "03766cdb",
   "metadata": {},
   "outputs": [
    {
     "data": {
      "text/plain": [
       "0        5\n",
       "1        3\n",
       "2        4\n",
       "3        3\n",
       "4        5\n",
       "        ..\n",
       "15914    5\n",
       "15915    5\n",
       "15916    5\n",
       "15917    5\n",
       "15918    5\n",
       "Name: number_of_doors, Length: 15919, dtype: object"
      ]
     },
     "execution_count": 155,
     "metadata": {},
     "output_type": "execute_result"
    }
   ],
   "source": [
    "df[\"number_of_doors\"]   # dtype'ı değiştirilebilir temizlenecek bir şey yok başka."
   ]
  },
  {
   "cell_type": "code",
   "execution_count": 156,
   "id": "b7e20852",
   "metadata": {},
   "outputs": [],
   "source": [
    "df[\"number_of_doors\"]= df[\"number_of_doors\"].astype(float)"
   ]
  },
  {
   "cell_type": "markdown",
   "id": "32a47f7b",
   "metadata": {},
   "source": [
    "### Nr. of Seats"
   ]
  },
  {
   "cell_type": "code",
   "execution_count": 157,
   "id": "57dbd491",
   "metadata": {},
   "outputs": [],
   "source": [
    "df.rename({\"Nr. of Seats\":\"number_of_seats\"},axis=1,inplace=True)"
   ]
  },
  {
   "cell_type": "code",
   "execution_count": 158,
   "id": "a2e9a206",
   "metadata": {},
   "outputs": [
    {
     "name": "stdout",
     "output_type": "stream",
     "text": [
      "     number_of_seats   oran\n",
      "5              13336 83.774\n",
      "4               1125  7.067\n",
      "NaN              977  6.137\n",
      "7                362  2.274\n",
      "2                116  0.729\n",
      "6                  2  0.013\n",
      "3                  1  0.006\n",
      "########################################\n",
      "Number_of_Nulls   :  977\n"
     ]
    }
   ],
   "source": [
    "summary(df,\"number_of_seats\")"
   ]
  },
  {
   "cell_type": "code",
   "execution_count": 159,
   "id": "fcbf74e7",
   "metadata": {},
   "outputs": [
    {
     "data": {
      "text/plain": [
       "0        5\n",
       "1        4\n",
       "2        4\n",
       "3        4\n",
       "4        5\n",
       "        ..\n",
       "15914    5\n",
       "15915    5\n",
       "15916    7\n",
       "15917    7\n",
       "15918    5\n",
       "Name: number_of_seats, Length: 15919, dtype: object"
      ]
     },
     "execution_count": 159,
     "metadata": {},
     "output_type": "execute_result"
    }
   ],
   "source": [
    "df[\"number_of_seats\"]    # bunun da sadece dtype'ını değiştirmekle yetinilebiliriz"
   ]
  },
  {
   "cell_type": "code",
   "execution_count": 160,
   "id": "dd4db029",
   "metadata": {},
   "outputs": [],
   "source": [
    "df[\"number_of_seats\"]= df[\"number_of_seats\"].astype(float)"
   ]
  },
  {
   "cell_type": "markdown",
   "id": "d7275a88",
   "metadata": {},
   "source": [
    "###  Model Code"
   ]
  },
  {
   "cell_type": "code",
   "execution_count": 161,
   "id": "bb2afd96",
   "metadata": {},
   "outputs": [],
   "source": [
    "df.rename({\"Model Code\":\"model_code\"},axis=1,inplace=True)"
   ]
  },
  {
   "cell_type": "code",
   "execution_count": 162,
   "id": "57eb3444",
   "metadata": {},
   "outputs": [
    {
     "name": "stdout",
     "output_type": "stream",
     "text": [
      "          model_code   oran\n",
      "NaN            10941 68.729\n",
      "0035/BCB         268  1.684\n",
      "0588/BNO         245  1.539\n",
      "0588/BDB         206  1.294\n",
      "0588/BHX         188  1.181\n",
      "...              ...    ...\n",
      "0035/AVN           1  0.006\n",
      "0035/BEM           1  0.006\n",
      "0035/BAG           1  0.006\n",
      "0035/BAA           1  0.006\n",
      "3333/BKG           1  0.006\n",
      "\n",
      "[233 rows x 2 columns]\n",
      "########################################\n",
      "Number_of_Nulls   :  10941\n"
     ]
    }
   ],
   "source": [
    "summary(df,\"model_code\")"
   ]
  },
  {
   "cell_type": "code",
   "execution_count": 163,
   "id": "278d9f72",
   "metadata": {},
   "outputs": [],
   "source": [
    "## url sütunu gibi bizim için düşebiliriz."
   ]
  },
  {
   "cell_type": "code",
   "execution_count": 164,
   "id": "cd68f423",
   "metadata": {},
   "outputs": [],
   "source": [
    "df.drop(columns=\"model_code\", inplace=True)"
   ]
  },
  {
   "cell_type": "code",
   "execution_count": 165,
   "id": "d7fcf3c8",
   "metadata": {},
   "outputs": [
    {
     "data": {
      "text/plain": [
       "(15919, 42)"
      ]
     },
     "execution_count": 165,
     "metadata": {},
     "output_type": "execute_result"
    }
   ],
   "source": [
    "df.shape"
   ]
  },
  {
   "cell_type": "markdown",
   "id": "e70a2389",
   "metadata": {},
   "source": [
    "###  Gearing Type  ( vites türü)"
   ]
  },
  {
   "cell_type": "code",
   "execution_count": 166,
   "id": "66450e67",
   "metadata": {},
   "outputs": [],
   "source": [
    "df.rename({\"Gearing Type\":\"gearing_type\"},axis=1,inplace=True)"
   ]
  },
  {
   "cell_type": "code",
   "execution_count": 167,
   "id": "f4bd00e9",
   "metadata": {},
   "outputs": [
    {
     "name": "stdout",
     "output_type": "stream",
     "text": [
      "                gearing_type   oran\n",
      "Manual                  8153 51.216\n",
      "Automatic               7297 45.838\n",
      "Semi-automatic           469  2.946\n",
      "########################################\n",
      "Number_of_Nulls   :  0\n"
     ]
    }
   ],
   "source": [
    "summary(df,\"gearing_type\")"
   ]
  },
  {
   "cell_type": "code",
   "execution_count": 168,
   "id": "7d92e587",
   "metadata": {},
   "outputs": [],
   "source": [
    "## null değer yok temizleme yapılacak kısım da yok."
   ]
  },
  {
   "cell_type": "markdown",
   "id": "faab28d8",
   "metadata": {},
   "source": [
    "### Gears"
   ]
  },
  {
   "cell_type": "code",
   "execution_count": 169,
   "id": "e4c4693f",
   "metadata": {
    "scrolled": true
   },
   "outputs": [
    {
     "name": "stdout",
     "output_type": "stream",
     "text": [
      "     Gears   oran\n",
      "6     5822 36.573\n",
      "NaN   4712 29.600\n",
      "5     3239 20.347\n",
      "7     1908 11.986\n",
      "8      224  1.407\n",
      "9        6  0.038\n",
      "1        2  0.013\n",
      "3        2  0.013\n",
      "4        2  0.013\n",
      "2        1  0.006\n",
      "50       1  0.006\n",
      "########################################\n",
      "Number_of_Nulls   :  4712\n"
     ]
    }
   ],
   "source": [
    "summary(df,\"Gears\")"
   ]
  },
  {
   "cell_type": "code",
   "execution_count": 170,
   "id": "35e3f3a4",
   "metadata": {},
   "outputs": [
    {
     "data": {
      "text/plain": [
       "0        NaN\n",
       "1          7\n",
       "2        NaN\n",
       "3          6\n",
       "4        NaN\n",
       "        ... \n",
       "15914      6\n",
       "15915      7\n",
       "15916      6\n",
       "15917      6\n",
       "15918    NaN\n",
       "Name: Gears, Length: 15919, dtype: object"
      ]
     },
     "execution_count": 170,
     "metadata": {},
     "output_type": "execute_result"
    }
   ],
   "source": [
    "df[\"Gears\"]"
   ]
  },
  {
   "cell_type": "code",
   "execution_count": 171,
   "id": "280eb7cf",
   "metadata": {},
   "outputs": [
    {
     "data": {
      "text/plain": [
       "0         NaN\n",
       "1       7.000\n",
       "2         NaN\n",
       "3       6.000\n",
       "4         NaN\n",
       "         ... \n",
       "15914   6.000\n",
       "15915   7.000\n",
       "15916   6.000\n",
       "15917   6.000\n",
       "15918     NaN\n",
       "Name: Gears, Length: 15919, dtype: float64"
      ]
     },
     "execution_count": 171,
     "metadata": {},
     "output_type": "execute_result"
    }
   ],
   "source": [
    "df[\"Gears\"].astype(float)"
   ]
  },
  {
   "cell_type": "markdown",
   "id": "20b28a2c",
   "metadata": {},
   "source": [
    "###  Displacement          ----> (motor hacmi ---> cc)"
   ]
  },
  {
   "cell_type": "code",
   "execution_count": 172,
   "id": "7a002bf9",
   "metadata": {},
   "outputs": [
    {
     "name": "stdout",
     "output_type": "stream",
     "text": [
      "           Displacement   oran\n",
      "1,598 cc           4761 29.908\n",
      "999 cc             2438 15.315\n",
      "1,398 cc           1314  8.254\n",
      "1,399 cc            749  4.705\n",
      "1,229 cc            677  4.253\n",
      "1,956 cc            670  4.209\n",
      "1,461 cc            595  3.738\n",
      "1,490 cc            559  3.512\n",
      "NaN                 496  3.116\n",
      "1,422 cc            467  2.934\n",
      "1,197 cc            353  2.217\n",
      "898 cc              351  2.205\n",
      "1,395 cc            320  2.010\n",
      "1,968 cc            301  1.891\n",
      "1,149 cc            288  1.809\n",
      "1,618 cc            212  1.332\n",
      "1,798 cc            210  1.319\n",
      "1,498 cc            196  1.231\n",
      "1,600 cc            130  0.817\n",
      "1,248 cc            110  0.691\n",
      "1,997 cc            103  0.647\n",
      "1,364 cc            102  0.641\n",
      "1,400 cc             90  0.565\n",
      "998 cc               72  0.452\n",
      "1,500 cc             50  0.314\n",
      "2,000 cc             46  0.289\n",
      "1,000 cc             40  0.251\n",
      "1 cc                 36  0.226\n",
      "1,998 cc             25  0.157\n",
      "2,480 cc             20  0.126\n",
      "1,200 cc             18  0.113\n",
      "1,984 cc             18  0.113\n",
      "1,397 cc             11  0.069\n",
      "899 cc               11  0.069\n",
      "160 cc                6  0.038\n",
      "929 cc                5  0.031\n",
      "1,499 cc              5  0.031\n",
      "997 cc                4  0.025\n",
      "1,596 cc              4  0.025\n",
      "139 cc                4  0.025\n",
      "900 cc                4  0.025\n",
      "1,599 cc              3  0.019\n",
      "1,199 cc              3  0.019\n",
      "1,396 cc              3  0.019\n",
      "1,495 cc              2  0.013\n",
      "1,589 cc              2  0.013\n",
      "1,300 cc              2  0.013\n",
      "2 cc                  2  0.013\n",
      "995 cc                2  0.013\n",
      "1,496 cc              1  0.006\n",
      "890 cc                1  0.006\n",
      "1,580 cc              1  0.006\n",
      "1,995 cc              1  0.006\n",
      "1,333 cc              1  0.006\n",
      "54 cc                 1  0.006\n",
      "1,533 cc              1  0.006\n",
      "1,100 cc              1  0.006\n",
      "1,350 cc              1  0.006\n",
      "16,000 cc             1  0.006\n",
      "1,856 cc              1  0.006\n",
      "1,568 cc              1  0.006\n",
      "1,896 cc              1  0.006\n",
      "1,584 cc              1  0.006\n",
      "996 cc                1  0.006\n",
      "1,696 cc              1  0.006\n",
      "1,686 cc              1  0.006\n",
      "15,898 cc             1  0.006\n",
      "1,368 cc              1  0.006\n",
      "140 cc                1  0.006\n",
      "973 cc                1  0.006\n",
      "1,239 cc              1  0.006\n",
      "1,369 cc              1  0.006\n",
      "1,390 cc              1  0.006\n",
      "122 cc                1  0.006\n",
      "1,198 cc              1  0.006\n",
      "1,195 cc              1  0.006\n",
      "2,967 cc              1  0.006\n",
      "1,800 cc              1  0.006\n",
      "########################################\n",
      "Number_of_Nulls   :  496\n"
     ]
    }
   ],
   "source": [
    "summary(df,\"Displacement\")"
   ]
  },
  {
   "cell_type": "code",
   "execution_count": 173,
   "id": "1ae14deb",
   "metadata": {},
   "outputs": [
    {
     "data": {
      "text/plain": [
       "0        1,422 cc\n",
       "1        1,798 cc\n",
       "2        1,598 cc\n",
       "3        1,422 cc\n",
       "4        1,422 cc\n",
       "           ...   \n",
       "15914    1,997 cc\n",
       "15915    1,798 cc\n",
       "15916    1,997 cc\n",
       "15917    1,997 cc\n",
       "15918    1,798 cc\n",
       "Name: Displacement, Length: 15919, dtype: object"
      ]
     },
     "execution_count": 173,
     "metadata": {},
     "output_type": "execute_result"
    }
   ],
   "source": [
    "df[\"Displacement\"]"
   ]
  },
  {
   "cell_type": "code",
   "execution_count": 174,
   "id": "fe81515d",
   "metadata": {},
   "outputs": [],
   "source": [
    "# df[\"Displacement\"].str.strip(\"cc\").astype(float)         # astype(float) adeta bir emniyet kemeri bizim için."
   ]
  },
  {
   "cell_type": "code",
   "execution_count": 175,
   "id": "4ccef651",
   "metadata": {},
   "outputs": [
    {
     "data": {
      "text/plain": [
       "0       1422.000\n",
       "1       1798.000\n",
       "2       1598.000\n",
       "3       1422.000\n",
       "4       1422.000\n",
       "          ...   \n",
       "15914   1997.000\n",
       "15915   1798.000\n",
       "15916   1997.000\n",
       "15917   1997.000\n",
       "15918   1798.000\n",
       "Name: Displacement, Length: 15919, dtype: float64"
      ]
     },
     "execution_count": 175,
     "metadata": {},
     "output_type": "execute_result"
    }
   ],
   "source": [
    "df[\"Displacement\"].str.strip(\"cc\").str.replace(\",\",\"\").astype(float)  "
   ]
  },
  {
   "cell_type": "code",
   "execution_count": 176,
   "id": "016b7ea7",
   "metadata": {},
   "outputs": [],
   "source": [
    "df[\"displacement_cc\"] = df[\"Displacement\"].str.strip(\"cc\").str.replace(\",\",\"\").astype(float)  "
   ]
  },
  {
   "cell_type": "code",
   "execution_count": 177,
   "id": "b3eae097",
   "metadata": {},
   "outputs": [],
   "source": [
    "df.drop(\"Displacement\",axis=1,inplace=True)"
   ]
  },
  {
   "cell_type": "code",
   "execution_count": 178,
   "id": "debab24b",
   "metadata": {},
   "outputs": [
    {
     "name": "stdout",
     "output_type": "stream",
     "text": [
      "           displacement_cc   oran\n",
      "1598.000              4761 29.908\n",
      "999.000               2438 15.315\n",
      "1398.000              1314  8.254\n",
      "1399.000               749  4.705\n",
      "1229.000               677  4.253\n",
      "1956.000               670  4.209\n",
      "1461.000               595  3.738\n",
      "1490.000               559  3.512\n",
      "NaN                    496  3.116\n",
      "1422.000               467  2.934\n",
      "1197.000               353  2.217\n",
      "898.000                351  2.205\n",
      "1395.000               320  2.010\n",
      "1968.000               301  1.891\n",
      "1149.000               288  1.809\n",
      "1618.000               212  1.332\n",
      "1798.000               210  1.319\n",
      "1498.000               196  1.231\n",
      "1600.000               130  0.817\n",
      "1248.000               110  0.691\n",
      "1997.000               103  0.647\n",
      "1364.000               102  0.641\n",
      "1400.000                90  0.565\n",
      "998.000                 72  0.452\n",
      "1500.000                50  0.314\n",
      "2000.000                46  0.289\n",
      "1000.000                40  0.251\n",
      "1.000                   36  0.226\n",
      "1998.000                25  0.157\n",
      "2480.000                20  0.126\n",
      "1200.000                18  0.113\n",
      "1984.000                18  0.113\n",
      "1397.000                11  0.069\n",
      "899.000                 11  0.069\n",
      "160.000                  6  0.038\n",
      "929.000                  5  0.031\n",
      "1499.000                 5  0.031\n",
      "997.000                  4  0.025\n",
      "1596.000                 4  0.025\n",
      "139.000                  4  0.025\n",
      "900.000                  4  0.025\n",
      "1599.000                 3  0.019\n",
      "1199.000                 3  0.019\n",
      "1396.000                 3  0.019\n",
      "1495.000                 2  0.013\n",
      "1589.000                 2  0.013\n",
      "1300.000                 2  0.013\n",
      "2.000                    2  0.013\n",
      "995.000                  2  0.013\n",
      "1496.000                 1  0.006\n",
      "890.000                  1  0.006\n",
      "1580.000                 1  0.006\n",
      "1995.000                 1  0.006\n",
      "1333.000                 1  0.006\n",
      "54.000                   1  0.006\n",
      "1533.000                 1  0.006\n",
      "1100.000                 1  0.006\n",
      "1350.000                 1  0.006\n",
      "16000.000                1  0.006\n",
      "1856.000                 1  0.006\n",
      "1568.000                 1  0.006\n",
      "1896.000                 1  0.006\n",
      "1584.000                 1  0.006\n",
      "996.000                  1  0.006\n",
      "1696.000                 1  0.006\n",
      "1686.000                 1  0.006\n",
      "15898.000                1  0.006\n",
      "1368.000                 1  0.006\n",
      "140.000                  1  0.006\n",
      "973.000                  1  0.006\n",
      "1239.000                 1  0.006\n",
      "1369.000                 1  0.006\n",
      "1390.000                 1  0.006\n",
      "122.000                  1  0.006\n",
      "1198.000                 1  0.006\n",
      "1195.000                 1  0.006\n",
      "2967.000                 1  0.006\n",
      "1800.000                 1  0.006\n",
      "########################################\n",
      "Number_of_Nulls   :  496\n"
     ]
    }
   ],
   "source": [
    "summary(df,\"displacement_cc\")"
   ]
  },
  {
   "cell_type": "markdown",
   "id": "d68ee74c",
   "metadata": {},
   "source": [
    "###  Cylinders"
   ]
  },
  {
   "cell_type": "code",
   "execution_count": 179,
   "id": "f1cc8cb5",
   "metadata": {},
   "outputs": [
    {
     "name": "stdout",
     "output_type": "stream",
     "text": [
      "     Cylinders   oran\n",
      "4         8105 50.914\n",
      "NaN       5680 35.681\n",
      "3         2104 13.217\n",
      "5           22  0.138\n",
      "6            3  0.019\n",
      "8            2  0.013\n",
      "2            2  0.013\n",
      "1            1  0.006\n",
      "########################################\n",
      "Number_of_Nulls   :  5680\n"
     ]
    }
   ],
   "source": [
    "summary(df,\"Cylinders\")"
   ]
  },
  {
   "cell_type": "code",
   "execution_count": 180,
   "id": "c9a8ee8e",
   "metadata": {},
   "outputs": [
    {
     "data": {
      "text/plain": [
       "0          3\n",
       "1          4\n",
       "2        NaN\n",
       "3          3\n",
       "4          3\n",
       "        ... \n",
       "15914      4\n",
       "15915      4\n",
       "15916      4\n",
       "15917      4\n",
       "15918      4\n",
       "Name: Cylinders, Length: 15919, dtype: object"
      ]
     },
     "execution_count": 180,
     "metadata": {},
     "output_type": "execute_result"
    }
   ],
   "source": [
    "df[\"Cylinders\"]         # type'ı değiştirilebilir geri kalanlar temiz."
   ]
  },
  {
   "cell_type": "code",
   "execution_count": 181,
   "id": "60d187c1",
   "metadata": {},
   "outputs": [],
   "source": [
    "df[\"Cylinders\"] = df[\"Cylinders\"].astype(float)  "
   ]
  },
  {
   "cell_type": "markdown",
   "id": "063fcedd",
   "metadata": {},
   "source": [
    "###  Weight"
   ]
  },
  {
   "cell_type": "code",
   "execution_count": 182,
   "id": "0c6d2f9a",
   "metadata": {},
   "outputs": [
    {
     "name": "stdout",
     "output_type": "stream",
     "text": [
      "          Weight   oran\n",
      "NaN         6974 43.809\n",
      "1,163 kg     574  3.606\n",
      "1,360 kg     356  2.236\n",
      "1,165 kg     301  1.891\n",
      "1,335 kg     242  1.520\n",
      "...          ...    ...\n",
      "1,960 kg       1  0.006\n",
      "1,258 kg       1  0.006\n",
      "1,167 kg       1  0.006\n",
      "1,331 kg       1  0.006\n",
      "2,037 kg       1  0.006\n",
      "\n",
      "[435 rows x 2 columns]\n",
      "########################################\n",
      "Number_of_Nulls   :  6974\n"
     ]
    }
   ],
   "source": [
    "summary(df,\"Weight\")"
   ]
  },
  {
   "cell_type": "code",
   "execution_count": 183,
   "id": "3db40775",
   "metadata": {},
   "outputs": [
    {
     "data": {
      "text/plain": [
       "dtype('O')"
      ]
     },
     "execution_count": 183,
     "metadata": {},
     "output_type": "execute_result"
    }
   ],
   "source": [
    "df[\"Weight\"].dtype      ## bunu da summary fonksiyonumuza ekleyebilirdik.karışıklık olmasın diye şu anda eklemedim."
   ]
  },
  {
   "cell_type": "code",
   "execution_count": 184,
   "id": "09f0f46b",
   "metadata": {},
   "outputs": [
    {
     "data": {
      "text/plain": [
       "0       1220.000\n",
       "1       1255.000\n",
       "2            NaN\n",
       "3       1195.000\n",
       "4            NaN\n",
       "          ...   \n",
       "15914   1758.000\n",
       "15915   1708.000\n",
       "15916        NaN\n",
       "15917   1758.000\n",
       "15918   1685.000\n",
       "Name: Weight, Length: 15919, dtype: float64"
      ]
     },
     "execution_count": 184,
     "metadata": {},
     "output_type": "execute_result"
    }
   ],
   "source": [
    "df[\"Weight\"].str.strip(\"kg\").str.replace(\",\",\"\").astype(float)"
   ]
  },
  {
   "cell_type": "code",
   "execution_count": 185,
   "id": "4a51dc80",
   "metadata": {},
   "outputs": [],
   "source": [
    "df[\"weight_kg\"] = df[\"Weight\"].str.strip(\"kg\").str.replace(\",\",\"\").astype(float)"
   ]
  },
  {
   "cell_type": "code",
   "execution_count": 186,
   "id": "cc5ab6bb",
   "metadata": {},
   "outputs": [],
   "source": [
    "df.drop(columns=\"Weight\", inplace=True)"
   ]
  },
  {
   "cell_type": "code",
   "execution_count": 187,
   "id": "f73efe61",
   "metadata": {},
   "outputs": [
    {
     "name": "stdout",
     "output_type": "stream",
     "text": [
      "          weight_kg   oran\n",
      "NaN            6974 43.809\n",
      "1163.000        574  3.606\n",
      "1360.000        356  2.236\n",
      "1165.000        301  1.891\n",
      "1335.000        242  1.520\n",
      "...             ...    ...\n",
      "1960.000          1  0.006\n",
      "1258.000          1  0.006\n",
      "1167.000          1  0.006\n",
      "1331.000          1  0.006\n",
      "2037.000          1  0.006\n",
      "\n",
      "[435 rows x 2 columns]\n",
      "########################################\n",
      "Number_of_Nulls   :  6974\n"
     ]
    }
   ],
   "source": [
    "summary(df,\"weight_kg\")"
   ]
  },
  {
   "cell_type": "markdown",
   "id": "ecf20a83",
   "metadata": {},
   "source": [
    "###  Drive chain ---> motorun ön tarafındaki dişliye bağlıdır motorun sorunsuzca çalışmasına yardımcı olur"
   ]
  },
  {
   "cell_type": "code",
   "execution_count": 188,
   "id": "362478ee",
   "metadata": {},
   "outputs": [],
   "source": [
    "df.rename({\"Drive chain\":\"drive_chain\"},axis=1,inplace=True)"
   ]
  },
  {
   "cell_type": "code",
   "execution_count": 189,
   "id": "c57dac6f",
   "metadata": {},
   "outputs": [
    {
     "name": "stdout",
     "output_type": "stream",
     "text": [
      "       drive_chain   oran\n",
      "front         8886 55.820\n",
      "NaN           6858 43.081\n",
      "4WD            171  1.074\n",
      "rear             4  0.025\n",
      "########################################\n",
      "Number_of_Nulls   :  6858\n"
     ]
    }
   ],
   "source": [
    "summary(df,\"drive_chain\")"
   ]
  },
  {
   "cell_type": "markdown",
   "id": "8ac82077",
   "metadata": {},
   "source": [
    "##  Country version"
   ]
  },
  {
   "cell_type": "code",
   "execution_count": 190,
   "id": "fa80c9a9",
   "metadata": {},
   "outputs": [],
   "source": [
    "df.rename({\"Country version\":\"country_version\"},axis=1,inplace=True)"
   ]
  },
  {
   "cell_type": "code",
   "execution_count": 191,
   "id": "7bc60115",
   "metadata": {},
   "outputs": [
    {
     "name": "stdout",
     "output_type": "stream",
     "text": [
      "                country_version   oran\n",
      "NaN                        8333 52.346\n",
      "Germany                    4502 28.281\n",
      "Italy                      1038  6.521\n",
      "European Union              507  3.185\n",
      "Netherlands                 464  2.915\n",
      "Spain                       325  2.042\n",
      "Belgium                     314  1.972\n",
      "Austria                     208  1.307\n",
      "Czech Republic               52  0.327\n",
      "Poland                       49  0.308\n",
      "France                       38  0.239\n",
      "Denmark                      33  0.207\n",
      "Hungary                      28  0.176\n",
      "Japan                         8  0.050\n",
      "Slovakia                      4  0.025\n",
      "Croatia                       4  0.025\n",
      "Sweden                        3  0.019\n",
      "Romania                       2  0.013\n",
      "Bulgaria                      2  0.013\n",
      "Luxembourg                    1  0.006\n",
      "Switzerland                   1  0.006\n",
      "Slovenia                      1  0.006\n",
      "Egypt                         1  0.006\n",
      "Serbia                        1  0.006\n",
      "########################################\n",
      "Number_of_Nulls   :  8333\n"
     ]
    }
   ],
   "source": [
    "summary(df,\"country_version\")"
   ]
  },
  {
   "cell_type": "code",
   "execution_count": 192,
   "id": "3da145a0",
   "metadata": {},
   "outputs": [],
   "source": [
    "## arabnın fiyatıyla ülkesinin arasında bir bağlantı yoktur."
   ]
  },
  {
   "cell_type": "code",
   "execution_count": 193,
   "id": "0512a6df",
   "metadata": {},
   "outputs": [],
   "source": [
    "df.drop(\"country_version\",axis=1,inplace=True)"
   ]
  },
  {
   "cell_type": "markdown",
   "id": "d8409131",
   "metadata": {},
   "source": [
    "### Emission Label"
   ]
  },
  {
   "cell_type": "code",
   "execution_count": 194,
   "id": "6bd432c7",
   "metadata": {},
   "outputs": [],
   "source": [
    "df.rename({\"Emission Label\":\"emission_label\"},axis=1,inplace=True)"
   ]
  },
  {
   "cell_type": "code",
   "execution_count": 195,
   "id": "1c117eaf",
   "metadata": {},
   "outputs": [
    {
     "name": "stdout",
     "output_type": "stream",
     "text": [
      "                emission_label   oran\n",
      "NaN                      11934 74.967\n",
      "4 (Green)                 3553 22.319\n",
      "1 (No sticker)             381  2.393\n",
      "[],[],[]                    40  0.251\n",
      "5 (Blue)                     8  0.050\n",
      "3 (Yellow)                   2  0.013\n",
      "2 (Red)                      1  0.006\n",
      "########################################\n",
      "Number_of_Nulls   :  11934\n"
     ]
    }
   ],
   "source": [
    "summary(df,\"emission_label\")"
   ]
  },
  {
   "cell_type": "code",
   "execution_count": 196,
   "id": "5754a4b7",
   "metadata": {},
   "outputs": [
    {
     "data": {
      "text/plain": [
       "dtype('O')"
      ]
     },
     "execution_count": 196,
     "metadata": {},
     "output_type": "execute_result"
    }
   ],
   "source": [
    "df[\"emission_label\"].dtype"
   ]
  },
  {
   "cell_type": "markdown",
   "id": "eedb2e97",
   "metadata": {},
   "source": [
    "## [],[],[]  dikkatimizi çekti !"
   ]
  },
  {
   "cell_type": "code",
   "execution_count": 197,
   "id": "12a9b914",
   "metadata": {},
   "outputs": [
    {
     "data": {
      "text/plain": [
       "make_model                 0\n",
       "short_description          0\n",
       "body_type                  0\n",
       "price                      0\n",
       "vat                        0\n",
       "km                         0\n",
       "prev_owner                 0\n",
       "Type                       0\n",
       "Previous Owners            0\n",
       "next_inspection            0\n",
       "inspection_new             0\n",
       "Warranty                   0\n",
       "full_service               0\n",
       "non_smoking_vehicle        0\n",
       "body_color                 0\n",
       "paint_type                 0\n",
       "body_color_orig            0\n",
       "number_of_doors            0\n",
       "number_of_seats            0\n",
       "gearing_type               0\n",
       "Cylinders                  0\n",
       "drive_chain                0\n",
       "Fuel                       0\n",
       "Consumption                0\n",
       "CO2 Emission             628\n",
       "Emission Class           607\n",
       "Comfort & Convenience      0\n",
       "Entertainment & Media      0\n",
       "Extras                     0\n",
       "Safety & Security          0\n",
       "description                0\n",
       "emission_label            40\n",
       "Gears                      0\n",
       "age                        0\n",
       "hp_kw                      0\n",
       "Type_                      0\n",
       "warranty_month             0\n",
       "upholstery_type            0\n",
       "upholstery_color           0\n",
       "displacement_cc            0\n",
       "weight_kg                  0\n",
       "dtype: int64"
      ]
     },
     "execution_count": 197,
     "metadata": {},
     "output_type": "execute_result"
    }
   ],
   "source": [
    "df.isin([\"[],[],[]\"]).sum()"
   ]
  },
  {
   "cell_type": "code",
   "execution_count": 198,
   "id": "75e59ed4",
   "metadata": {},
   "outputs": [],
   "source": [
    "## diğer bazı sütunlarda da varmış bunlar da bizim için NaN olduğundan ve python'nun da öyle anlaması için : "
   ]
  },
  {
   "cell_type": "code",
   "execution_count": 199,
   "id": "f35f4b12",
   "metadata": {},
   "outputs": [],
   "source": [
    "df[df.isin(['[],[],[]'])] = np.nan"
   ]
  },
  {
   "cell_type": "code",
   "execution_count": 200,
   "id": "93202c2d",
   "metadata": {},
   "outputs": [
    {
     "data": {
      "text/plain": [
       "make_model               0\n",
       "short_description        0\n",
       "body_type                0\n",
       "price                    0\n",
       "vat                      0\n",
       "km                       0\n",
       "prev_owner               0\n",
       "Type                     0\n",
       "Previous Owners          0\n",
       "next_inspection          0\n",
       "inspection_new           0\n",
       "Warranty                 0\n",
       "full_service             0\n",
       "non_smoking_vehicle      0\n",
       "body_color               0\n",
       "paint_type               0\n",
       "body_color_orig          0\n",
       "number_of_doors          0\n",
       "number_of_seats          0\n",
       "gearing_type             0\n",
       "Cylinders                0\n",
       "drive_chain              0\n",
       "Fuel                     0\n",
       "Consumption              0\n",
       "CO2 Emission             0\n",
       "Emission Class           0\n",
       "Comfort & Convenience    0\n",
       "Entertainment & Media    0\n",
       "Extras                   0\n",
       "Safety & Security        0\n",
       "description              0\n",
       "emission_label           0\n",
       "Gears                    0\n",
       "age                      0\n",
       "hp_kw                    0\n",
       "Type_                    0\n",
       "warranty_month           0\n",
       "upholstery_type          0\n",
       "upholstery_color         0\n",
       "displacement_cc          0\n",
       "weight_kg                0\n",
       "dtype: int64"
      ]
     },
     "execution_count": 200,
     "metadata": {},
     "output_type": "execute_result"
    }
   ],
   "source": [
    "df.isin([\"[],[],[]\"]).sum()"
   ]
  },
  {
   "cell_type": "code",
   "execution_count": 201,
   "id": "926b6583",
   "metadata": {},
   "outputs": [
    {
     "name": "stdout",
     "output_type": "stream",
     "text": [
      "                emission_label   oran\n",
      "NaN                      11974 75.218\n",
      "4 (Green)                 3553 22.319\n",
      "1 (No sticker)             381  2.393\n",
      "5 (Blue)                     8  0.050\n",
      "3 (Yellow)                   2  0.013\n",
      "2 (Red)                      1  0.006\n",
      "########################################\n",
      "Number_of_Nulls   :  11974\n"
     ]
    }
   ],
   "source": [
    "summary(df,\"emission_label\")"
   ]
  },
  {
   "cell_type": "code",
   "execution_count": 202,
   "id": "e8340476",
   "metadata": {},
   "outputs": [],
   "source": [
    "## NaN sayısı oldukça fazla.***"
   ]
  },
  {
   "cell_type": "markdown",
   "id": "9ae05c4b",
   "metadata": {},
   "source": [
    "### Consumption (yakıt tüketimi)"
   ]
  },
  {
   "cell_type": "code",
   "execution_count": 203,
   "id": "30aa28ff",
   "metadata": {},
   "outputs": [
    {
     "data": {
      "text/plain": [
       "0        ['3.8 l/100 km (comb)'],['4.3 l/100 km (city)'...\n",
       "1        ['5.6 l/100 km (comb)'],['7.1 l/100 km (city)'...\n",
       "2        ['3.8 l/100 km (comb)'],['4.4 l/100 km (city)'...\n",
       "3        ['3.8 l/100 km (comb)'],['4.3 l/100 km (city)'...\n",
       "4        ['4.1 l/100 km (comb)'],['4.6 l/100 km (city)'...\n",
       "                               ...                        \n",
       "15914    ['5.3 l/100 km (comb)'],['6.2 l/100 km (city)'...\n",
       "15915    7.4 l/100 km (comb),,9.2 l/100 km (city),,6.3 ...\n",
       "15916    ['5.3 l/100 km (comb)'],['6.2 l/100 km (city)'...\n",
       "15917    ['5.3 l/100 km (comb)'],['6.2 l/100 km (city)'...\n",
       "15918    ['6.8 l/100 km (comb)'],['8.7 l/100 km (city)'...\n",
       "Name: Consumption, Length: 15919, dtype: object"
      ]
     },
     "execution_count": 203,
     "metadata": {},
     "output_type": "execute_result"
    }
   ],
   "source": [
    "df[\"Consumption\"]"
   ]
  },
  {
   "cell_type": "code",
   "execution_count": 204,
   "id": "3363e8b0",
   "metadata": {},
   "outputs": [
    {
     "data": {
      "text/plain": [
       "NaN                                                                           1906\n",
       "['3.9 l/100 km (comb)'],['4.1 l/100 km (city)'],['3.7 l/100 km (country)']     304\n",
       "['4.2 l/100 km (comb)'],['5 l/100 km (city)'],['3.7 l/100 km (country)']       276\n",
       "['5.4 l/100 km (comb)'],['6.8 l/100 km (city)'],['4.5 l/100 km (country)']     257\n",
       "['3.8 l/100 km (comb)'],['4.3 l/100 km (city)'],['3.5 l/100 km (country)']     253\n",
       "                                                                              ... \n",
       "['4.2 l/100 km (comb)'],['5.3 l/100 km (city)'],['3.6 l/100 km (country)']       1\n",
       "5.1 l/100 km (comb),,6.4 l/100 km (city),,4.3 l/100 km (country)                 1\n",
       "['4.6 l/100 km (comb)'],['5.4 l/100 km (city)'],['6.7 l/100 km (country)']       1\n",
       "6.3 l/100 km (comb)                                                              1\n",
       "7.4 l/100 km (comb),,9.6 l/100 km (city),,6 l/100 km (country)                   1\n",
       "Name: Consumption, Length: 882, dtype: int64"
      ]
     },
     "execution_count": 204,
     "metadata": {},
     "output_type": "execute_result"
    }
   ],
   "source": [
    "df[\"Consumption\"].value_counts(dropna=False)"
   ]
  },
  {
   "cell_type": "code",
   "execution_count": 205,
   "id": "318810da",
   "metadata": {},
   "outputs": [
    {
     "data": {
      "text/plain": [
       "0        3.8 l/100 km (comb),4.3 l/100 km (city),3.5 l/...\n",
       "1        5.6 l/100 km (comb),7.1 l/100 km (city),4.7 l/...\n",
       "2        3.8 l/100 km (comb),4.4 l/100 km (city),3.4 l/...\n",
       "3        3.8 l/100 km (comb),4.3 l/100 km (city),3.5 l/...\n",
       "4        4.1 l/100 km (comb),4.6 l/100 km (city),3.8 l/...\n",
       "                               ...                        \n",
       "15914    5.3 l/100 km (comb),6.2 l/100 km (city),4.7 l/...\n",
       "15915    7.4 l/100 km (comb),,9.2 l/100 km (city),,6.3 ...\n",
       "15916    5.3 l/100 km (comb),6.2 l/100 km (city),4.7 l/...\n",
       "15917    5.3 l/100 km (comb),6.2 l/100 km (city),4.7 l/...\n",
       "15918    6.8 l/100 km (comb),8.7 l/100 km (city),5.7 l/...\n",
       "Name: Consumption, Length: 15919, dtype: object"
      ]
     },
     "execution_count": 205,
     "metadata": {},
     "output_type": "execute_result"
    }
   ],
   "source": [
    "df[\"Consumption\"].str.replace(\"[\\[\\]']?\",\"\")"
   ]
  },
  {
   "cell_type": "code",
   "execution_count": 206,
   "id": "7a63818e",
   "metadata": {},
   "outputs": [],
   "source": [
    "df[\"Consumption\"] = df[\"Consumption\"].str.replace(\"[\\[\\]']?\",\"\")"
   ]
  },
  {
   "cell_type": "code",
   "execution_count": 207,
   "id": "c1de8d08",
   "metadata": {},
   "outputs": [
    {
     "data": {
      "text/html": [
       "<div>\n",
       "<style scoped>\n",
       "    .dataframe tbody tr th:only-of-type {\n",
       "        vertical-align: middle;\n",
       "    }\n",
       "\n",
       "    .dataframe tbody tr th {\n",
       "        vertical-align: top;\n",
       "    }\n",
       "\n",
       "    .dataframe thead th {\n",
       "        text-align: right;\n",
       "    }\n",
       "</style>\n",
       "<table border=\"1\" class=\"dataframe\">\n",
       "  <thead>\n",
       "    <tr style=\"text-align: right;\">\n",
       "      <th></th>\n",
       "      <th>0</th>\n",
       "    </tr>\n",
       "  </thead>\n",
       "  <tbody>\n",
       "    <tr>\n",
       "      <th>0</th>\n",
       "      <td>3.8</td>\n",
       "    </tr>\n",
       "    <tr>\n",
       "      <th>1</th>\n",
       "      <td>5.6</td>\n",
       "    </tr>\n",
       "    <tr>\n",
       "      <th>2</th>\n",
       "      <td>3.8</td>\n",
       "    </tr>\n",
       "    <tr>\n",
       "      <th>3</th>\n",
       "      <td>3.8</td>\n",
       "    </tr>\n",
       "    <tr>\n",
       "      <th>4</th>\n",
       "      <td>4.1</td>\n",
       "    </tr>\n",
       "    <tr>\n",
       "      <th>...</th>\n",
       "      <td>...</td>\n",
       "    </tr>\n",
       "    <tr>\n",
       "      <th>15914</th>\n",
       "      <td>5.3</td>\n",
       "    </tr>\n",
       "    <tr>\n",
       "      <th>15915</th>\n",
       "      <td>7.4</td>\n",
       "    </tr>\n",
       "    <tr>\n",
       "      <th>15916</th>\n",
       "      <td>5.3</td>\n",
       "    </tr>\n",
       "    <tr>\n",
       "      <th>15917</th>\n",
       "      <td>5.3</td>\n",
       "    </tr>\n",
       "    <tr>\n",
       "      <th>15918</th>\n",
       "      <td>6.8</td>\n",
       "    </tr>\n",
       "  </tbody>\n",
       "</table>\n",
       "<p>15919 rows × 1 columns</p>\n",
       "</div>"
      ],
      "text/plain": [
       "         0\n",
       "0      3.8\n",
       "1      5.6\n",
       "2      3.8\n",
       "3      3.8\n",
       "4      4.1\n",
       "...    ...\n",
       "15914  5.3\n",
       "15915  7.4\n",
       "15916  5.3\n",
       "15917  5.3\n",
       "15918  6.8\n",
       "\n",
       "[15919 rows x 1 columns]"
      ]
     },
     "execution_count": 207,
     "metadata": {},
     "output_type": "execute_result"
    }
   ],
   "source": [
    "df[\"Consumption\"].str.extract(\"(\\d+\\.\\d+|\\d+)\") "
   ]
  },
  {
   "cell_type": "code",
   "execution_count": 208,
   "id": "24b80b84",
   "metadata": {},
   "outputs": [
    {
     "data": {
      "text/html": [
       "<div>\n",
       "<style scoped>\n",
       "    .dataframe tbody tr th:only-of-type {\n",
       "        vertical-align: middle;\n",
       "    }\n",
       "\n",
       "    .dataframe tbody tr th {\n",
       "        vertical-align: top;\n",
       "    }\n",
       "\n",
       "    .dataframe thead th {\n",
       "        text-align: right;\n",
       "    }\n",
       "</style>\n",
       "<table border=\"1\" class=\"dataframe\">\n",
       "  <thead>\n",
       "    <tr style=\"text-align: right;\">\n",
       "      <th></th>\n",
       "      <th>0</th>\n",
       "      <th>1</th>\n",
       "    </tr>\n",
       "  </thead>\n",
       "  <tbody>\n",
       "    <tr>\n",
       "      <th>0</th>\n",
       "      <td>3.8</td>\n",
       "      <td>100</td>\n",
       "    </tr>\n",
       "    <tr>\n",
       "      <th>1</th>\n",
       "      <td>5.6</td>\n",
       "      <td>100</td>\n",
       "    </tr>\n",
       "    <tr>\n",
       "      <th>2</th>\n",
       "      <td>3.8</td>\n",
       "      <td>100</td>\n",
       "    </tr>\n",
       "    <tr>\n",
       "      <th>3</th>\n",
       "      <td>3.8</td>\n",
       "      <td>100</td>\n",
       "    </tr>\n",
       "    <tr>\n",
       "      <th>4</th>\n",
       "      <td>4.1</td>\n",
       "      <td>100</td>\n",
       "    </tr>\n",
       "    <tr>\n",
       "      <th>...</th>\n",
       "      <td>...</td>\n",
       "      <td>...</td>\n",
       "    </tr>\n",
       "    <tr>\n",
       "      <th>15914</th>\n",
       "      <td>5.3</td>\n",
       "      <td>100</td>\n",
       "    </tr>\n",
       "    <tr>\n",
       "      <th>15915</th>\n",
       "      <td>7.4</td>\n",
       "      <td>100</td>\n",
       "    </tr>\n",
       "    <tr>\n",
       "      <th>15916</th>\n",
       "      <td>5.3</td>\n",
       "      <td>100</td>\n",
       "    </tr>\n",
       "    <tr>\n",
       "      <th>15917</th>\n",
       "      <td>5.3</td>\n",
       "      <td>100</td>\n",
       "    </tr>\n",
       "    <tr>\n",
       "      <th>15918</th>\n",
       "      <td>6.8</td>\n",
       "      <td>100</td>\n",
       "    </tr>\n",
       "  </tbody>\n",
       "</table>\n",
       "<p>15919 rows × 2 columns</p>\n",
       "</div>"
      ],
      "text/plain": [
       "         0    1\n",
       "0      3.8  100\n",
       "1      5.6  100\n",
       "2      3.8  100\n",
       "3      3.8  100\n",
       "4      4.1  100\n",
       "...    ...  ...\n",
       "15914  5.3  100\n",
       "15915  7.4  100\n",
       "15916  5.3  100\n",
       "15917  5.3  100\n",
       "15918  6.8  100\n",
       "\n",
       "[15919 rows x 2 columns]"
      ]
     },
     "execution_count": 208,
     "metadata": {},
     "output_type": "execute_result"
    }
   ],
   "source": [
    "df[\"Consumption\"].str.extract('(\\d*.\\d*).+/(\\d*)') "
   ]
  },
  {
   "cell_type": "code",
   "execution_count": 209,
   "id": "fb671716",
   "metadata": {},
   "outputs": [],
   "source": [
    "df[\"Consumption_comb\"] = df[\"Consumption\"].str.extract(r\"(\\d*\\.\\d+|\\d+).+\\(comb\\)\").astype(float)"
   ]
  },
  {
   "cell_type": "code",
   "execution_count": 210,
   "id": "d1c3b3dd",
   "metadata": {},
   "outputs": [],
   "source": [
    "df[\"Consumption_city\"] = df[\"Consumption\"].str.extract(r\"[.+]?,(\\d*\\.\\d+|\\d+).+\\(city\\)\").astype(float)"
   ]
  },
  {
   "cell_type": "code",
   "execution_count": 211,
   "id": "6d2fd977",
   "metadata": {},
   "outputs": [],
   "source": [
    "df[\"Consumption_city\"] = df[\"Consumption\"].str.extract(r\".+,(\\d*\\.\\d+|\\d+).+\\(country\\)\").astype(float)\n",
    "df[\"Consumption_country\"] = df[\"Consumption\"].str.extract(r\".+,(\\d*\\.\\d+|\\d+).+\\(country\\)\").astype(float)"
   ]
  },
  {
   "cell_type": "code",
   "execution_count": 212,
   "id": "0e0250a8",
   "metadata": {},
   "outputs": [
    {
     "data": {
      "text/html": [
       "<div>\n",
       "<style scoped>\n",
       "    .dataframe tbody tr th:only-of-type {\n",
       "        vertical-align: middle;\n",
       "    }\n",
       "\n",
       "    .dataframe tbody tr th {\n",
       "        vertical-align: top;\n",
       "    }\n",
       "\n",
       "    .dataframe thead th {\n",
       "        text-align: right;\n",
       "    }\n",
       "</style>\n",
       "<table border=\"1\" class=\"dataframe\">\n",
       "  <thead>\n",
       "    <tr style=\"text-align: right;\">\n",
       "      <th></th>\n",
       "      <th>Consumption</th>\n",
       "      <th>Consumption_comb</th>\n",
       "      <th>Consumption_city</th>\n",
       "      <th>Consumption_country</th>\n",
       "    </tr>\n",
       "  </thead>\n",
       "  <tbody>\n",
       "    <tr>\n",
       "      <th>5603</th>\n",
       "      <td>5.1 l/100 km (comb),6 l/100 km (city),4.6 l/10...</td>\n",
       "      <td>5.100</td>\n",
       "      <td>4.600</td>\n",
       "      <td>4.600</td>\n",
       "    </tr>\n",
       "    <tr>\n",
       "      <th>12768</th>\n",
       "      <td>NaN</td>\n",
       "      <td>NaN</td>\n",
       "      <td>NaN</td>\n",
       "      <td>NaN</td>\n",
       "    </tr>\n",
       "    <tr>\n",
       "      <th>14780</th>\n",
       "      <td>5 l/100 km (comb),6.3 l/100 km (city),4.2 l/10...</td>\n",
       "      <td>5.000</td>\n",
       "      <td>4.200</td>\n",
       "      <td>4.200</td>\n",
       "    </tr>\n",
       "    <tr>\n",
       "      <th>12691</th>\n",
       "      <td>5 l/100 km (comb),6 l/100 km (city),4 l/100 km...</td>\n",
       "      <td>5.000</td>\n",
       "      <td>4.000</td>\n",
       "      <td>4.000</td>\n",
       "    </tr>\n",
       "    <tr>\n",
       "      <th>9024</th>\n",
       "      <td>5.2 l/100 km (comb),6.8 l/100 km (city),4.3 l/...</td>\n",
       "      <td>5.200</td>\n",
       "      <td>4.300</td>\n",
       "      <td>4.300</td>\n",
       "    </tr>\n",
       "    <tr>\n",
       "      <th>13639</th>\n",
       "      <td>3.3 l/100 km (comb),3.5 l/100 km (city),3.1 l/...</td>\n",
       "      <td>3.300</td>\n",
       "      <td>3.100</td>\n",
       "      <td>3.100</td>\n",
       "    </tr>\n",
       "    <tr>\n",
       "      <th>15058</th>\n",
       "      <td>4.6 l/100 km (comb),5 l/100 km (city),4.4 l/10...</td>\n",
       "      <td>4.600</td>\n",
       "      <td>4.400</td>\n",
       "      <td>4.400</td>\n",
       "    </tr>\n",
       "    <tr>\n",
       "      <th>11344</th>\n",
       "      <td>5.2 l/100 km (comb),6.8 l/100 km (city),4.2 l/...</td>\n",
       "      <td>5.200</td>\n",
       "      <td>4.200</td>\n",
       "      <td>4.200</td>\n",
       "    </tr>\n",
       "    <tr>\n",
       "      <th>9209</th>\n",
       "      <td>5.3 l/100 km (comb),6.6 l/100 km (city),4.5 l/...</td>\n",
       "      <td>5.300</td>\n",
       "      <td>4.500</td>\n",
       "      <td>4.500</td>\n",
       "    </tr>\n",
       "    <tr>\n",
       "      <th>8895</th>\n",
       "      <td>4.7 l/100 km (comb),5.8 l/100 km (city),4 l/10...</td>\n",
       "      <td>4.700</td>\n",
       "      <td>4.000</td>\n",
       "      <td>4.000</td>\n",
       "    </tr>\n",
       "  </tbody>\n",
       "</table>\n",
       "</div>"
      ],
      "text/plain": [
       "                                             Consumption  Consumption_comb  \\\n",
       "5603   5.1 l/100 km (comb),6 l/100 km (city),4.6 l/10...             5.100   \n",
       "12768                                                NaN               NaN   \n",
       "14780  5 l/100 km (comb),6.3 l/100 km (city),4.2 l/10...             5.000   \n",
       "12691  5 l/100 km (comb),6 l/100 km (city),4 l/100 km...             5.000   \n",
       "9024   5.2 l/100 km (comb),6.8 l/100 km (city),4.3 l/...             5.200   \n",
       "13639  3.3 l/100 km (comb),3.5 l/100 km (city),3.1 l/...             3.300   \n",
       "15058  4.6 l/100 km (comb),5 l/100 km (city),4.4 l/10...             4.600   \n",
       "11344  5.2 l/100 km (comb),6.8 l/100 km (city),4.2 l/...             5.200   \n",
       "9209   5.3 l/100 km (comb),6.6 l/100 km (city),4.5 l/...             5.300   \n",
       "8895   4.7 l/100 km (comb),5.8 l/100 km (city),4 l/10...             4.700   \n",
       "\n",
       "       Consumption_city  Consumption_country  \n",
       "5603              4.600                4.600  \n",
       "12768               NaN                  NaN  \n",
       "14780             4.200                4.200  \n",
       "12691             4.000                4.000  \n",
       "9024              4.300                4.300  \n",
       "13639             3.100                3.100  \n",
       "15058             4.400                4.400  \n",
       "11344             4.200                4.200  \n",
       "9209              4.500                4.500  \n",
       "8895              4.000                4.000  "
      ]
     },
     "execution_count": 212,
     "metadata": {},
     "output_type": "execute_result"
    }
   ],
   "source": [
    "df[[\"Consumption\",\"Consumption_comb\",\"Consumption_city\",\"Consumption_country\"]].sample(10)"
   ]
  },
  {
   "cell_type": "code",
   "execution_count": 213,
   "id": "6a1d0b2f",
   "metadata": {},
   "outputs": [],
   "source": [
    "df.drop(columns=\"Consumption\", inplace=True)"
   ]
  },
  {
   "cell_type": "markdown",
   "id": "e9f22396",
   "metadata": {},
   "source": [
    "### CO2 Emission"
   ]
  },
  {
   "cell_type": "code",
   "execution_count": 214,
   "id": "87353e49",
   "metadata": {},
   "outputs": [],
   "source": [
    "df.rename({\"CO2 Emission\":\"co2_emission\"},axis=1,inplace=True)"
   ]
  },
  {
   "cell_type": "code",
   "execution_count": 215,
   "id": "0f6cd7af",
   "metadata": {},
   "outputs": [
    {
     "name": "stdout",
     "output_type": "stream",
     "text": [
      "                       co2_emission   oran\n",
      "NaN                            2436 15.302\n",
      "120 g CO2/km (comb)             740  4.649\n",
      "99 g CO2/km (comb)              545  3.424\n",
      "97 g CO2/km (comb)              537  3.373\n",
      "104 g CO2/km (comb)             501  3.147\n",
      "...                             ...    ...\n",
      "14 g CO2/km (comb)                1  0.006\n",
      "1,060 g CO2/km (comb)             1  0.006\n",
      "51 g CO2/km (comb)                1  0.006\n",
      "165 g CO2/km (comb)               1  0.006\n",
      "193 g CO2/km (comb)               1  0.006\n",
      "\n",
      "[123 rows x 2 columns]\n",
      "########################################\n",
      "Number_of_Nulls   :  2436\n"
     ]
    }
   ],
   "source": [
    "summary(df,\"co2_emission\")"
   ]
  },
  {
   "cell_type": "code",
   "execution_count": 216,
   "id": "063ab241",
   "metadata": {},
   "outputs": [
    {
     "data": {
      "text/html": [
       "<div>\n",
       "<style scoped>\n",
       "    .dataframe tbody tr th:only-of-type {\n",
       "        vertical-align: middle;\n",
       "    }\n",
       "\n",
       "    .dataframe tbody tr th {\n",
       "        vertical-align: top;\n",
       "    }\n",
       "\n",
       "    .dataframe thead th {\n",
       "        text-align: right;\n",
       "    }\n",
       "</style>\n",
       "<table border=\"1\" class=\"dataframe\">\n",
       "  <thead>\n",
       "    <tr style=\"text-align: right;\">\n",
       "      <th></th>\n",
       "      <th>0</th>\n",
       "    </tr>\n",
       "  </thead>\n",
       "  <tbody>\n",
       "    <tr>\n",
       "      <th>0</th>\n",
       "      <td>99.000</td>\n",
       "    </tr>\n",
       "    <tr>\n",
       "      <th>1</th>\n",
       "      <td>129.000</td>\n",
       "    </tr>\n",
       "    <tr>\n",
       "      <th>2</th>\n",
       "      <td>99.000</td>\n",
       "    </tr>\n",
       "    <tr>\n",
       "      <th>3</th>\n",
       "      <td>99.000</td>\n",
       "    </tr>\n",
       "    <tr>\n",
       "      <th>4</th>\n",
       "      <td>109.000</td>\n",
       "    </tr>\n",
       "    <tr>\n",
       "      <th>...</th>\n",
       "      <td>...</td>\n",
       "    </tr>\n",
       "    <tr>\n",
       "      <th>15914</th>\n",
       "      <td>139.000</td>\n",
       "    </tr>\n",
       "    <tr>\n",
       "      <th>15915</th>\n",
       "      <td>168.000</td>\n",
       "    </tr>\n",
       "    <tr>\n",
       "      <th>15916</th>\n",
       "      <td>139.000</td>\n",
       "    </tr>\n",
       "    <tr>\n",
       "      <th>15917</th>\n",
       "      <td>139.000</td>\n",
       "    </tr>\n",
       "    <tr>\n",
       "      <th>15918</th>\n",
       "      <td>153.000</td>\n",
       "    </tr>\n",
       "  </tbody>\n",
       "</table>\n",
       "<p>15919 rows × 1 columns</p>\n",
       "</div>"
      ],
      "text/plain": [
       "            0\n",
       "0      99.000\n",
       "1     129.000\n",
       "2      99.000\n",
       "3      99.000\n",
       "4     109.000\n",
       "...       ...\n",
       "15914 139.000\n",
       "15915 168.000\n",
       "15916 139.000\n",
       "15917 139.000\n",
       "15918 153.000\n",
       "\n",
       "[15919 rows x 1 columns]"
      ]
     },
     "execution_count": 216,
     "metadata": {},
     "output_type": "execute_result"
    }
   ],
   "source": [
    "df[\"co2_emission\"].str.replace(\",\",\"\").str.extract(\"(\\d+)\").astype(float)"
   ]
  },
  {
   "cell_type": "code",
   "execution_count": 217,
   "id": "651fbbfc",
   "metadata": {},
   "outputs": [],
   "source": [
    "df[\"co2_emission\"] = df[\"co2_emission\"].str.replace(\",\",\"\").str.extract(\"(\\d+)\").astype(float)"
   ]
  },
  {
   "cell_type": "code",
   "execution_count": 218,
   "id": "6de922b4",
   "metadata": {},
   "outputs": [
    {
     "name": "stdout",
     "output_type": "stream",
     "text": [
      "          co2_emission   oran\n",
      "NaN               2436 15.302\n",
      "120.000            740  4.649\n",
      "99.000             545  3.424\n",
      "97.000             537  3.373\n",
      "104.000            501  3.147\n",
      "...                ...    ...\n",
      "14.000               1  0.006\n",
      "1060.000             1  0.006\n",
      "51.000               1  0.006\n",
      "165.000              1  0.006\n",
      "193.000              1  0.006\n",
      "\n",
      "[123 rows x 2 columns]\n",
      "########################################\n",
      "Number_of_Nulls   :  2436\n"
     ]
    }
   ],
   "source": [
    "summary(df,\"co2_emission\")"
   ]
  },
  {
   "cell_type": "markdown",
   "id": "a5bccd7f",
   "metadata": {},
   "source": [
    "### Emission Class"
   ]
  },
  {
   "cell_type": "code",
   "execution_count": 219,
   "id": "de001d1b",
   "metadata": {},
   "outputs": [],
   "source": [
    "df.rename({\"Emission Class\":\"emission_class\"},axis=1,inplace=True)"
   ]
  },
  {
   "cell_type": "code",
   "execution_count": 220,
   "id": "cef94e47",
   "metadata": {},
   "outputs": [
    {
     "name": "stdout",
     "output_type": "stream",
     "text": [
      "              emission_class   oran\n",
      "Euro 6                 10139 63.691\n",
      "NaN                     3628 22.790\n",
      "Euro 6d-TEMP            1845 11.590\n",
      "Euro 6c                  127  0.798\n",
      "Euro 5                    78  0.490\n",
      "Euro 6d                   62  0.389\n",
      "Euro 4                    40  0.251\n",
      "########################################\n",
      "Number_of_Nulls   :  3628\n"
     ]
    }
   ],
   "source": [
    "summary(df,\"emission_class\")"
   ]
  },
  {
   "cell_type": "markdown",
   "id": "1dbfd042",
   "metadata": {},
   "source": [
    "### Fuel"
   ]
  },
  {
   "cell_type": "code",
   "execution_count": 221,
   "id": "4337b2ff",
   "metadata": {},
   "outputs": [
    {
     "name": "stdout",
     "output_type": "stream",
     "text": [
      "                                                    Fuel   oran\n",
      "Diesel (Particulate Filter)                         4315 27.106\n",
      "Super 95                                            3338 20.969\n",
      "Gasoline                                            3175 19.945\n",
      "Diesel                                              2984 18.745\n",
      "Super 95 / Regular/Benzine 91                        424  2.663\n",
      "Regular/Benzine 91                                   354  2.224\n",
      "Super E10 95                                         331  2.079\n",
      "Super 95 (Particulate Filter)                        268  1.684\n",
      "Super 95 / Super E10 95                              131  0.823\n",
      "Regular/Benzine 91 (Particulate Filter)              100  0.628\n",
      "Super 95 / Super Plus 98                              85  0.534\n",
      "Gasoline (Particulate Filter)                         77  0.484\n",
      "Super 95 / Super Plus 98 / Super E10 95 / Super...    40  0.251\n",
      "Super E10 95 / Super 95                               38  0.239\n",
      "CNG                                                   33  0.207\n",
      "Super 95 / Super E10 95 (Particulate Filter)          25  0.157\n",
      "Super E10 95 / Super 95 / Super Plus 98 / Super...    19  0.119\n",
      "LPG                                                   16  0.101\n",
      "Super 95 / Super Plus 98 (Particulate Filter)         14  0.088\n",
      "Regular/Benzine 91 / Super 95 / Super Plus 98 /...    13  0.082\n",
      "Regular/Benzine E10 91                                11  0.069\n",
      "Liquid petroleum gas (LPG)                            10  0.063\n",
      "Super 95 / Super Plus 98 / Super E10 95                8  0.050\n",
      "Regular/Benzine 91 / Regular/Benzine E10 91            7  0.044\n",
      "Super 95 / Regular/Benzine 91 / Super Plus 98 /...     7  0.044\n",
      "Super Plus 98                                          7  0.044\n",
      "Super E10 95 (Particulate Filter)                      7  0.044\n",
      "Super 95 / Super Plus 98 / Super Plus E10 98 / ...     5  0.031\n",
      "Others                                                 5  0.031\n",
      "Super E10 95 / Super Plus E10 98                       4  0.025\n",
      "Electric/Gasoline                                      4  0.025\n",
      "Super 95 / Super Plus 98 / Super E10 95 / Super...     4  0.025\n",
      "Super 95 / Super E10 95 / Super Plus E10 98 / S...     4  0.025\n",
      "Regular/Benzine 91 / Super 95 / Super Plus 98 /...     4  0.025\n",
      "CNG (Particulate Filter)                               3  0.019\n",
      "Super E10 95 / Super 95 / Super Plus 98 / Super...     3  0.019\n",
      "Super E10 95 / Super 95 / Super Plus 98                3  0.019\n",
      "Super E10 95 / Regular/Benzine 91                      2  0.013\n",
      "Super 95 / Regular/Benzine 91 / Super Plus 98          2  0.013\n",
      "Regular/Benzine 91 / Super 95 / Super Plus 98 /...     2  0.013\n",
      "Regular/Benzine 91 / Super 95 / Super E10 95           1  0.006\n",
      "Electric                                               1  0.006\n",
      "Regular/Benzine 91 / Super 95 / Super E10 95 / ...     1  0.006\n",
      "Super 95 / Super E10 95 / Super Plus E10 98            1  0.006\n",
      "Super 95 / Super E10 95 / Super Plus 98                1  0.006\n",
      "Regular/Benzine 91 / Super 95 / Super Plus E10 ...     1  0.006\n",
      "Super 95 / Super Plus 98 / Regular/Benzine E10 ...     1  0.006\n",
      "Super 95 / Regular/Benzine E10 91                      1  0.006\n",
      "Super E10 95 / Regular/Benzine 91 / Regular/Ben...     1  0.006\n",
      "Super Plus 98 / Regular/Benzine 91                     1  0.006\n",
      "Super 95 / Regular/Benzine 91 / Super E10 95 / ...     1  0.006\n",
      "Super 95 / Super Plus 98 / Super Plus E10 98           1  0.006\n",
      "Super 95 / Regular/Benzine 91 (Particulate Filter)     1  0.006\n",
      "Super 95 / Super E10 95 / Regular/Benzine 91           1  0.006\n",
      "Regular/Benzine 91 / Super 95 / Super E10 95 / ...     1  0.006\n",
      "Super 95 / Regular/Benzine E10 91 / Super E10 95       1  0.006\n",
      "Super 95 / Regular/Benzine 91 / Super Plus 98 /...     1  0.006\n",
      "Regular/Benzine E10 91 / Super E10 95 / Super P...     1  0.006\n",
      "Super 95 / Regular/Benzine 91 / Super E10 95 / ...     1  0.006\n",
      "Others (Particulate Filter)                            1  0.006\n",
      "Biogas                                                 1  0.006\n",
      "Super 95 / Biodiesel                                   1  0.006\n",
      "Regular/Benzine 91 / Super 95 / Super Plus 98 /...     1  0.006\n",
      "Regular/Benzine 91 / Super 95 / Super Plus 98          1  0.006\n",
      "Regular/Benzine 91 / Super 95                          1  0.006\n",
      "Regular/Benzine E10 91 / Regular/Benzine 91 / S...     1  0.006\n",
      "Domestic gas H                                         1  0.006\n",
      "Super E10 95 / Regular/Benzine 91 / Super 95 / ...     1  0.006\n",
      "Super Plus E10 98 / Super 95 / Super Plus 98 / ...     1  0.006\n",
      "Super 95 / Regular/Benzine 91 / Super E10 95 / ...     1  0.006\n",
      "Super Plus 98 / Super 95 / Super E10 95                1  0.006\n",
      "Super Plus E10 98                                      1  0.006\n",
      "Regular/Benzine 91 / Super 95 / Regular/Benzine...     1  0.006\n",
      "Super Plus 98 / Super E10 95                           1  0.006\n",
      "Regular/Benzine 91 / Super 95 / Regular/Benzine...     1  0.006\n",
      "Regular/Benzine 91 / Super Plus 98 / Regular/Be...     1  0.006\n",
      "Super Plus 98 / Super 95 / Super Plus E10 98           1  0.006\n",
      "########################################\n",
      "Number_of_Nulls   :  0\n"
     ]
    }
   ],
   "source": [
    "summary(df,\"Fuel\")"
   ]
  },
  {
   "cell_type": "code",
   "execution_count": 222,
   "id": "e4a78419",
   "metadata": {},
   "outputs": [],
   "source": [
    "## çok fazla değer var bunları ayırmalıyız."
   ]
  },
  {
   "cell_type": "code",
   "execution_count": 223,
   "id": "11d63f14",
   "metadata": {},
   "outputs": [],
   "source": [
    "benzine = [\"Gasoline\", \"Super 95\", \"Regular\",\"Super E10 95\",\"Super Plus 98\",\"Super Plus E10 98\", \"Others\"]\n",
    "diesel = [\"Biodiesel\",\"Diesel\"]\n",
    "lpg = [\"Biogas\", \"CNG\", \"Domestic gas H\", \"LPG\",\"Liquid petroleum gas\"]\n",
    "hybride = ['Electric', 'Electric/Gasoline']\n"
   ]
  },
  {
   "cell_type": "code",
   "execution_count": 224,
   "id": "fefaafba",
   "metadata": {},
   "outputs": [
    {
     "data": {
      "text/plain": [
       "Hybride    9062\n",
       "Benzine    6857\n",
       "Name: Fuel, dtype: int64"
      ]
     },
     "execution_count": 224,
     "metadata": {},
     "output_type": "execute_result"
    }
   ],
   "source": [
    "def fueltypee(x):\n",
    "    if x in benzine:\n",
    "        return \"Benzine\"\n",
    "    elif x in \"diesel\":\n",
    "        return \"Diesel\"\n",
    "    elif x in \"lpg\":\n",
    "        return \"LPG/CNG\"\n",
    "    else:\n",
    "        return \"Hybride\"\n",
    "    \n",
    "df[\"Fuel\"].apply(fueltypee).value_counts(dropna=False)                     ### bu istediğimiz gibi çalışmadı."
   ]
  },
  {
   "cell_type": "code",
   "execution_count": 225,
   "id": "2f25c63c",
   "metadata": {},
   "outputs": [
    {
     "data": {
      "text/plain": [
       "Benzine    8551\n",
       "Diesel     7299\n",
       "LPG/CNG      64\n",
       "Hybride       5\n",
       "Name: Fuel, dtype: int64"
      ]
     },
     "execution_count": 225,
     "metadata": {},
     "output_type": "execute_result"
    }
   ],
   "source": [
    "def fueltype(x):\n",
    "    if any(i in x for i in hybride):\n",
    "        return \"Hybride\"\n",
    "    elif any(i in x for i in lpg):\n",
    "        return \"LPG/CNG\"\n",
    "    elif any(i in x for i in benzine):\n",
    "        return \"Benzine\"\n",
    "    elif any(i in x for i in diesel):\n",
    "        return \"Diesel\"\n",
    "\n",
    "    else:\n",
    "        return x\n",
    "    \n",
    "    \n",
    "df[\"Fuel\"].apply(fueltype).value_counts(dropna=False)"
   ]
  },
  {
   "cell_type": "code",
   "execution_count": 229,
   "id": "27f68e3b",
   "metadata": {},
   "outputs": [],
   "source": [
    "df[\"Fuel\"]= df[\"Fuel\"].apply(fueltype)"
   ]
  },
  {
   "cell_type": "markdown",
   "id": "4dece3c3",
   "metadata": {},
   "source": [
    "### Comfort & Convenience"
   ]
  },
  {
   "cell_type": "code",
   "execution_count": 233,
   "id": "215abc69",
   "metadata": {},
   "outputs": [],
   "source": [
    "df.rename({\"Comfort & Convenience\":\"comfort_convenience\"},axis=1,inplace=True)"
   ]
  },
  {
   "cell_type": "code",
   "execution_count": 234,
   "id": "a0bcde1e",
   "metadata": {},
   "outputs": [
    {
     "name": "stdout",
     "output_type": "stream",
     "text": [
      "                                                    comfort_convenience  oran\n",
      "NaN                                                                 920 5.779\n",
      "Air conditioning,Electrical side mirrors,Hill H...                  216 1.357\n",
      "Air conditioning,Electrical side mirrors,Power ...                  134 0.842\n",
      "Air conditioning,Power windows                                      130 0.817\n",
      "Air conditioning,Armrest,Automatic climate cont...                  105 0.660\n",
      "...                                                                 ...   ...\n",
      "Air conditioning,Cruise control,Electrical side...                    1 0.006\n",
      "Air conditioning,Armrest,Automatic climate cont...                    1 0.006\n",
      "Air conditioning,Armrest,Cruise control,Electri...                    1 0.006\n",
      "Air conditioning,Automatic climate control,Crui...                    1 0.006\n",
      "Air conditioning,Automatic climate control,Crui...                    1 0.006\n",
      "\n",
      "[6199 rows x 2 columns]\n",
      "########################################\n",
      "Number_of_Nulls   :  920\n"
     ]
    }
   ],
   "source": [
    "summary(df,\"comfort_convenience\")"
   ]
  },
  {
   "cell_type": "markdown",
   "id": "b6b7c39f",
   "metadata": {},
   "source": [
    "###  Entertainment & Media"
   ]
  },
  {
   "cell_type": "code",
   "execution_count": 235,
   "id": "a09f9a3a",
   "metadata": {},
   "outputs": [],
   "source": [
    "df.rename({\"Entertainment & Media\":\"entertainment_media\"},axis=1,inplace=True)"
   ]
  },
  {
   "cell_type": "code",
   "execution_count": 236,
   "id": "50aaccd3",
   "metadata": {},
   "outputs": [
    {
     "name": "stdout",
     "output_type": "stream",
     "text": [
      "                                                    entertainment_media  oran\n",
      "NaN                                                                1374 8.631\n",
      "Bluetooth,Hands-free equipment,On-board compute...                 1282 8.053\n",
      "Bluetooth,Hands-free equipment,MP3,On-board com...                  982 6.169\n",
      "Bluetooth,CD player,Hands-free equipment,MP3,On...                  783 4.919\n",
      "On-board computer,Radio                                             487 3.059\n",
      "...                                                                 ...   ...\n",
      "Bluetooth,CD player,Digital radio,Hands-free eq...                    1 0.006\n",
      "CD player,Hands-free equipment,MP3,Radio,USB                          1 0.006\n",
      "MP3,Radio,Sound system,USB                                            1 0.006\n",
      "Bluetooth,MP3,On-board computer,Radio,Televisio...                    1 0.006\n",
      "Bluetooth,CD player,Hands-free equipment,MP3,On...                    1 0.006\n",
      "\n",
      "[347 rows x 2 columns]\n",
      "########################################\n",
      "Number_of_Nulls   :  1374\n"
     ]
    }
   ],
   "source": [
    "summary(df,\"entertainment_media\")"
   ]
  },
  {
   "cell_type": "markdown",
   "id": "80b7e357",
   "metadata": {},
   "source": [
    "### Extras"
   ]
  },
  {
   "cell_type": "code",
   "execution_count": 237,
   "id": "f8db15fe",
   "metadata": {},
   "outputs": [
    {
     "name": "stdout",
     "output_type": "stream",
     "text": [
      "                                                    Extras   oran\n",
      "Alloy wheels                                          3245 20.384\n",
      "NaN                                                   2962 18.607\n",
      "Alloy wheels,Touch screen                              697  4.378\n",
      "Alloy wheels,Voice Control                             577  3.625\n",
      "Alloy wheels,Touch screen,Voice Control                541  3.398\n",
      "...                                                    ...    ...\n",
      "Alloy wheels,Catalytic Converter,Shift paddles,...       1  0.006\n",
      "Alloy wheels,Catalytic Converter,Roof rack,Spor...       1  0.006\n",
      "Alloy wheels,Catalytic Converter,Ski bag,Sport ...       1  0.006\n",
      "Catalytic Converter,Roof rack,Sport seats,Sport...       1  0.006\n",
      "Alloy wheels,Shift paddles,Ski bag,Sport seats,...       1  0.006\n",
      "\n",
      "[660 rows x 2 columns]\n",
      "########################################\n",
      "Number_of_Nulls   :  2962\n"
     ]
    }
   ],
   "source": [
    "summary(df,\"Extras\")"
   ]
  },
  {
   "cell_type": "markdown",
   "id": "b7b8b1ed",
   "metadata": {},
   "source": [
    "### Safety & Security"
   ]
  },
  {
   "cell_type": "code",
   "execution_count": 238,
   "id": "3cd92411",
   "metadata": {},
   "outputs": [],
   "source": [
    "df.rename({\"Safety & Security\":\"safety_security\"},axis=1,inplace=True)"
   ]
  },
  {
   "cell_type": "code",
   "execution_count": 239,
   "id": "71e244ae",
   "metadata": {},
   "outputs": [
    {
     "name": "stdout",
     "output_type": "stream",
     "text": [
      "                                                    safety_security  oran\n",
      "NaN                                                             982 6.169\n",
      "ABS,Central door lock,Daytime running lights,Dr...              538 3.380\n",
      "ABS,Central door lock,Daytime running lights,Dr...              480 3.015\n",
      "ABS,Central door lock,Daytime running lights,Dr...              275 1.727\n",
      "ABS,Central door lock,Daytime running lights,Dr...              272 1.709\n",
      "...                                                             ...   ...\n",
      "ABS,Central door lock,Electronic stability cont...                1 0.006\n",
      "ABS,Adaptive Cruise Control,Central door lock,D...                1 0.006\n",
      "ABS,Adaptive Cruise Control,Alarm system,Centra...                1 0.006\n",
      "ABS,Adaptive Cruise Control,Central door lock,D...                1 0.006\n",
      "ABS,Adaptive Cruise Control,Central door lock,D...                1 0.006\n",
      "\n",
      "[4444 rows x 2 columns]\n",
      "########################################\n",
      "Number_of_Nulls   :  982\n"
     ]
    }
   ],
   "source": [
    "summary(df,\"safety_security\")"
   ]
  },
  {
   "cell_type": "markdown",
   "id": "2cef67f2",
   "metadata": {},
   "source": [
    "### price ------> target feature"
   ]
  },
  {
   "cell_type": "code",
   "execution_count": 240,
   "id": "e1a97617",
   "metadata": {},
   "outputs": [
    {
     "name": "stdout",
     "output_type": "stream",
     "text": [
      "       price  oran\n",
      "14990    154 0.967\n",
      "15990    151 0.949\n",
      "10990    139 0.873\n",
      "15900    106 0.666\n",
      "17990    102 0.641\n",
      "...      ...   ...\n",
      "17559      1 0.006\n",
      "17560      1 0.006\n",
      "17570      1 0.006\n",
      "17575      1 0.006\n",
      "39875      1 0.006\n",
      "\n",
      "[2956 rows x 2 columns]\n",
      "########################################\n",
      "Number_of_Nulls   :  0\n"
     ]
    }
   ],
   "source": [
    "summary(df,\"price\")"
   ]
  },
  {
   "cell_type": "code",
   "execution_count": 241,
   "id": "f71ca6b1",
   "metadata": {},
   "outputs": [
    {
     "data": {
      "text/plain": [
       "dtype('int64')"
      ]
     },
     "execution_count": 241,
     "metadata": {},
     "output_type": "execute_result"
    }
   ],
   "source": [
    "df.price.dtypes"
   ]
  },
  {
   "cell_type": "code",
   "execution_count": 242,
   "id": "1628a17a",
   "metadata": {},
   "outputs": [],
   "source": [
    "df[\"price\"] = df.price.astype(float)"
   ]
  },
  {
   "cell_type": "code",
   "execution_count": 243,
   "id": "a87b3f5b",
   "metadata": {},
   "outputs": [
    {
     "data": {
      "image/png": "[encoded data removed]",
      "text/plain": [
       "<Figure size 720x432 with 1 Axes>"
      ]
     },
     "metadata": {},
     "output_type": "display_data"
    }
   ],
   "source": [
    "sns.distplot(df.price);"
   ]
  },
  {
   "cell_type": "code",
   "execution_count": 244,
   "id": "2725c7ce",
   "metadata": {
    "scrolled": true
   },
   "outputs": [
    {
     "data": {
      "text/plain": [
       "(15919, 43)"
      ]
     },
     "execution_count": 244,
     "metadata": {},
     "output_type": "execute_result"
    }
   ],
   "source": [
    "df.shape"
   ]
  },
  {
   "cell_type": "code",
   "execution_count": 245,
   "id": "92c8a74a",
   "metadata": {},
   "outputs": [],
   "source": [
    "df.to_csv(\"clean_scout.csv\", index=False)"
   ]
  },
  {
   "cell_type": "code",
   "execution_count": 246,
   "id": "f328b3d8",
   "metadata": {},
   "outputs": [
    {
     "data": {
      "text/html": [
       "<div>\n",
       "<style scoped>\n",
       "    .dataframe tbody tr th:only-of-type {\n",
       "        vertical-align: middle;\n",
       "    }\n",
       "\n",
       "    .dataframe tbody tr th {\n",
       "        vertical-align: top;\n",
       "    }\n",
       "\n",
       "    .dataframe thead th {\n",
       "        text-align: right;\n",
       "    }\n",
       "</style>\n",
       "<table border=\"1\" class=\"dataframe\">\n",
       "  <thead>\n",
       "    <tr style=\"text-align: right;\">\n",
       "      <th></th>\n",
       "      <th>make_model</th>\n",
       "      <th>short_description</th>\n",
       "      <th>body_type</th>\n",
       "      <th>price</th>\n",
       "      <th>vat</th>\n",
       "      <th>km</th>\n",
       "      <th>prev_owner</th>\n",
       "      <th>Type</th>\n",
       "      <th>Previous Owners</th>\n",
       "      <th>next_inspection</th>\n",
       "      <th>inspection_new</th>\n",
       "      <th>Warranty</th>\n",
       "      <th>full_service</th>\n",
       "      <th>non_smoking_vehicle</th>\n",
       "      <th>body_color</th>\n",
       "      <th>paint_type</th>\n",
       "      <th>body_color_orig</th>\n",
       "      <th>number_of_doors</th>\n",
       "      <th>number_of_seats</th>\n",
       "      <th>gearing_type</th>\n",
       "      <th>Cylinders</th>\n",
       "      <th>drive_chain</th>\n",
       "      <th>Fuel</th>\n",
       "      <th>co2_emission</th>\n",
       "      <th>emission_class</th>\n",
       "      <th>comfort_convenience</th>\n",
       "      <th>entertainment_media</th>\n",
       "      <th>Extras</th>\n",
       "      <th>safety_security</th>\n",
       "      <th>description</th>\n",
       "      <th>emission_label</th>\n",
       "      <th>Gears</th>\n",
       "      <th>age</th>\n",
       "      <th>hp_kw</th>\n",
       "      <th>Type_</th>\n",
       "      <th>warranty_month</th>\n",
       "      <th>upholstery_type</th>\n",
       "      <th>upholstery_color</th>\n",
       "      <th>displacement_cc</th>\n",
       "      <th>weight_kg</th>\n",
       "      <th>Consumption_comb</th>\n",
       "      <th>Consumption_city</th>\n",
       "      <th>Consumption_country</th>\n",
       "    </tr>\n",
       "  </thead>\n",
       "  <tbody>\n",
       "    <tr>\n",
       "      <th>0</th>\n",
       "      <td>Audi A1</td>\n",
       "      <td>Sportback 1.4 TDI S-tronic Xenon Navi Klima</td>\n",
       "      <td>Sedans</td>\n",
       "      <td>15770.000</td>\n",
       "      <td>VAT deductible</td>\n",
       "      <td>56013.000</td>\n",
       "      <td>2.000</td>\n",
       "      <td>Used,,Diesel (Particulate Filter)</td>\n",
       "      <td>2</td>\n",
       "      <td>06/2021,99 g CO2/km (comb)</td>\n",
       "      <td>Yes,Euro 6</td>\n",
       "      <td>4 (Green)</td>\n",
       "      <td>NaN</td>\n",
       "      <td>NaN</td>\n",
       "      <td>Black</td>\n",
       "      <td>Metallic</td>\n",
       "      <td>Mythosschwarz</td>\n",
       "      <td>5.000</td>\n",
       "      <td>5.000</td>\n",
       "      <td>Automatic</td>\n",
       "      <td>3.000</td>\n",
       "      <td>front</td>\n",
       "      <td>Diesel</td>\n",
       "      <td>99.000</td>\n",
       "      <td>Euro 6</td>\n",
       "      <td>Air conditioning,Armrest,Automatic climate con...</td>\n",
       "      <td>Bluetooth,Hands-free equipment,On-board comput...</td>\n",
       "      <td>Alloy wheels,Catalytic Converter,Voice Control</td>\n",
       "      <td>ABS,Central door lock,Daytime running lights,D...</td>\n",
       "      <td>Sicherheit:, ,Deaktivierung für Beifahrer-Airb...</td>\n",
       "      <td>NaN</td>\n",
       "      <td>NaN</td>\n",
       "      <td>3.000</td>\n",
       "      <td>66.000</td>\n",
       "      <td>Used</td>\n",
       "      <td>NaN</td>\n",
       "      <td>Cloth</td>\n",
       "      <td>Black</td>\n",
       "      <td>1422.000</td>\n",
       "      <td>1220.000</td>\n",
       "      <td>3.800</td>\n",
       "      <td>3.500</td>\n",
       "      <td>3.500</td>\n",
       "    </tr>\n",
       "    <tr>\n",
       "      <th>1</th>\n",
       "      <td>Audi A1</td>\n",
       "      <td>1.8 TFSI sport</td>\n",
       "      <td>Sedans</td>\n",
       "      <td>14500.000</td>\n",
       "      <td>Price negotiable</td>\n",
       "      <td>80000.000</td>\n",
       "      <td>NaN</td>\n",
       "      <td>Used,,Gasoline</td>\n",
       "      <td>NaN</td>\n",
       "      <td>NaN</td>\n",
       "      <td>NaN</td>\n",
       "      <td>NaN</td>\n",
       "      <td>NaN</td>\n",
       "      <td>NaN</td>\n",
       "      <td>Red</td>\n",
       "      <td>NaN</td>\n",
       "      <td>NaN</td>\n",
       "      <td>3.000</td>\n",
       "      <td>4.000</td>\n",
       "      <td>Automatic</td>\n",
       "      <td>4.000</td>\n",
       "      <td>front</td>\n",
       "      <td>Benzine</td>\n",
       "      <td>129.000</td>\n",
       "      <td>Euro 6</td>\n",
       "      <td>Air conditioning,Automatic climate control,Hil...</td>\n",
       "      <td>Bluetooth,Hands-free equipment,On-board comput...</td>\n",
       "      <td>Alloy wheels,Sport seats,Sport suspension,Voic...</td>\n",
       "      <td>ABS,Central door lock,Central door lock with r...</td>\n",
       "      <td>Langstreckenfahrzeug daher die hohe Kilometerl...</td>\n",
       "      <td>4 (Green)</td>\n",
       "      <td>7.000</td>\n",
       "      <td>2.000</td>\n",
       "      <td>141.000</td>\n",
       "      <td>Used</td>\n",
       "      <td>NaN</td>\n",
       "      <td>Cloth</td>\n",
       "      <td>Grey</td>\n",
       "      <td>1798.000</td>\n",
       "      <td>1255.000</td>\n",
       "      <td>5.600</td>\n",
       "      <td>4.700</td>\n",
       "      <td>4.700</td>\n",
       "    </tr>\n",
       "  </tbody>\n",
       "</table>\n",
       "</div>"
      ],
      "text/plain": [
       "  make_model                            short_description body_type     price  \\\n",
       "0    Audi A1  Sportback 1.4 TDI S-tronic Xenon Navi Klima    Sedans 15770.000   \n",
       "1    Audi A1                               1.8 TFSI sport    Sedans 14500.000   \n",
       "\n",
       "                vat        km  prev_owner                               Type  \\\n",
       "0    VAT deductible 56013.000       2.000  Used,,Diesel (Particulate Filter)   \n",
       "1  Price negotiable 80000.000         NaN                     Used,,Gasoline   \n",
       "\n",
       "  Previous Owners             next_inspection inspection_new   Warranty  \\\n",
       "0               2  06/2021,99 g CO2/km (comb)     Yes,Euro 6  4 (Green)   \n",
       "1             NaN                         NaN            NaN        NaN   \n",
       "\n",
       "  full_service non_smoking_vehicle body_color paint_type body_color_orig  \\\n",
       "0          NaN                 NaN      Black   Metallic   Mythosschwarz   \n",
       "1          NaN                 NaN        Red        NaN             NaN   \n",
       "\n",
       "   number_of_doors  number_of_seats gearing_type  Cylinders drive_chain  \\\n",
       "0            5.000            5.000    Automatic      3.000       front   \n",
       "1            3.000            4.000    Automatic      4.000       front   \n",
       "\n",
       "      Fuel  co2_emission emission_class  \\\n",
       "0   Diesel        99.000         Euro 6   \n",
       "1  Benzine       129.000         Euro 6   \n",
       "\n",
       "                                 comfort_convenience  \\\n",
       "0  Air conditioning,Armrest,Automatic climate con...   \n",
       "1  Air conditioning,Automatic climate control,Hil...   \n",
       "\n",
       "                                 entertainment_media  \\\n",
       "0  Bluetooth,Hands-free equipment,On-board comput...   \n",
       "1  Bluetooth,Hands-free equipment,On-board comput...   \n",
       "\n",
       "                                              Extras  \\\n",
       "0     Alloy wheels,Catalytic Converter,Voice Control   \n",
       "1  Alloy wheels,Sport seats,Sport suspension,Voic...   \n",
       "\n",
       "                                     safety_security  \\\n",
       "0  ABS,Central door lock,Daytime running lights,D...   \n",
       "1  ABS,Central door lock,Central door lock with r...   \n",
       "\n",
       "                                         description emission_label  Gears  \\\n",
       "0  Sicherheit:, ,Deaktivierung für Beifahrer-Airb...            NaN    NaN   \n",
       "1  Langstreckenfahrzeug daher die hohe Kilometerl...      4 (Green)  7.000   \n",
       "\n",
       "    age   hp_kw Type_  warranty_month upholstery_type upholstery_color  \\\n",
       "0 3.000  66.000  Used             NaN           Cloth            Black   \n",
       "1 2.000 141.000  Used             NaN           Cloth             Grey   \n",
       "\n",
       "   displacement_cc  weight_kg  Consumption_comb  Consumption_city  \\\n",
       "0         1422.000   1220.000             3.800             3.500   \n",
       "1         1798.000   1255.000             5.600             4.700   \n",
       "\n",
       "   Consumption_country  \n",
       "0                3.500  \n",
       "1                4.700  "
      ]
     },
     "execution_count": 246,
     "metadata": {},
     "output_type": "execute_result"
    }
   ],
   "source": [
    "pd.read_csv(\"clean_scout.csv\").head(2)"
   ]
  },
  {
   "cell_type": "code",
   "execution_count": null,
   "id": "f154c388",
   "metadata": {},
   "outputs": [],
   "source": []
  }
 ],
 "metadata": {
  "kernelspec": {
   "display_name": "Python 3 (ipykernel)",
   "language": "python",
   "name": "python3"
  },
  "language_info": {
   "codemirror_mode": {
    "name": "ipython",
    "version": 3
   },
   "file_extension": ".py",
   "mimetype": "text/x-python",
   "name": "python",
   "nbconvert_exporter": "python",
   "pygments_lexer": "ipython3",
   "version": "3.9.7"
  }
 },
 "nbformat": 4,
 "nbformat_minor": 5
}
